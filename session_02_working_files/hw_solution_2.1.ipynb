{
 "cells": [
  {
   "cell_type": "code",
   "execution_count": 1,
   "metadata": {},
   "outputs": [
    {
     "data": {
      "text/plain": [
       "'\\n solution_2.1.py -- SQL to CSV\\n \\n Author: Rafael Vargas (rmv235@nyu.edu)\\n Last Revised: 6/18/2022\\n'"
      ]
     },
     "execution_count": 1,
     "metadata": {},
     "output_type": "execute_result"
    }
   ],
   "source": [
    "\"\"\"\n",
    " solution_2.1.py -- SQL to CSV\n",
    " \n",
    " Author: Rafael Vargas (rmv235@nyu.edu)\n",
    " Last Revised: 6/18/2022\n",
    "\"\"\""
   ]
  },
  {
   "cell_type": "code",
   "execution_count": 2,
   "metadata": {},
   "outputs": [],
   "source": [
    "import sqlite3\n",
    "import csv\n",
    "\n",
    "db_name = 'session_2.db'\n",
    "table_name = 'revenue'\n",
    "csv_filename = 'revenue_from_db.csv'"
   ]
  },
  {
   "cell_type": "code",
   "execution_count": 3,
   "metadata": {},
   "outputs": [],
   "source": [
    "def sql_to_csv(db_name, table_name, csv_filename):\n",
    "   conn = sqlite3.connect(db_name)\n",
    "   cursor = conn.cursor()\n",
    "   cursor.execute(f'SELECT * FROM {table_name}')\n",
    "   db_result = cursor.fetchall()\n",
    "   \n",
    "   fh = open(csv_filename,\"w\")\n",
    "   writer = csv.writer(fh)\n",
    "\n",
    "   write_headers = [x[0] for x in cursor.description]\n",
    "   writer.writerow(write_headers)\n",
    "\n",
    "   for company_stats in db_result:\n",
    "      writer.writerow(company_stats)\n",
    "\n",
    "   fh.close()\n",
    "   conn.close()"
   ]
  },
  {
   "cell_type": "code",
   "execution_count": 4,
   "metadata": {},
   "outputs": [],
   "source": [
    "sql_to_csv(db_name,table_name, csv_filename)"
   ]
  }
 ],
 "metadata": {
  "kernelspec": {
   "display_name": "Python 3.10.4 ('advanced-python-8Ba9e6pY-py3.10')",
   "language": "python",
   "name": "python3"
  },
  "language_info": {
   "codemirror_mode": {
    "name": "ipython",
    "version": 3
   },
   "file_extension": ".py",
   "mimetype": "text/x-python",
   "name": "python",
   "nbconvert_exporter": "python",
   "pygments_lexer": "ipython3",
   "version": "3.10.4"
  },
  "orig_nbformat": 4,
  "vscode": {
   "interpreter": {
    "hash": "5deea3c14a40c38470cc15028802a4125b0f91bc744977c3432a5175c03eb7e4"
   }
  }
 },
 "nbformat": 4,
 "nbformat_minor": 2
}
