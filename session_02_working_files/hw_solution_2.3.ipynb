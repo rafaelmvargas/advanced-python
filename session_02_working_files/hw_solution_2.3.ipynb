{
 "cells": [
  {
   "cell_type": "code",
   "execution_count": null,
   "metadata": {},
   "outputs": [],
   "source": [
    "\"\"\"\n",
    " solution_2.3.py -- CSV to SQL\n",
    " \n",
    " Author: Rafael Vargas (rmv235@nyu.edu)\n",
    " Last Revised: 6/20/2022\n",
    "\"\"\""
   ]
  },
  {
   "cell_type": "code",
   "execution_count": null,
   "metadata": {},
   "outputs": [],
   "source": [
    "import sqlite3\n",
    "\n",
    "db_name = 'session_2.db'\n",
    "table_name = 'weather_newyork'\n",
    "csv_file = ''\n",
    "\n",
    "conn = sqlite3.connect(db_name)\n",
    "cursor = conn.cursor()\n",
    "cursor.execute('DROP TABLE IF EXISTS weather_newyork')\n",
    "cursor.execute('CREATE TABLE weather_newyork (date TEXT, mean_temp INT, precip FLOAT, events TEXT)')\n",
    "conn.commit()\n",
    "\n",
    "\n",
    "\n",
    "conn.close()"
   ]
  }
 ],
 "metadata": {
  "language_info": {
   "name": "python"
  },
  "orig_nbformat": 4
 },
 "nbformat": 4,
 "nbformat_minor": 2
}
