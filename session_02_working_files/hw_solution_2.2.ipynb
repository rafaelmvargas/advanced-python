{
 "cells": [
  {
   "cell_type": "code",
   "execution_count": 5,
   "metadata": {},
   "outputs": [
    {
     "data": {
      "text/plain": [
       "'\\n solution_2.2.py -- SQL to CSV\\n \\n Author: Rafael Vargas (rmv235@nyu.edu)\\n Last Revised: 6/18/2022\\n'"
      ]
     },
     "execution_count": 5,
     "metadata": {},
     "output_type": "execute_result"
    }
   ],
   "source": [
    "\"\"\"\n",
    " solution_2.2.py -- CREATE TABLE / DROP TABLE\n",
    " \n",
    " Author: Rafael Vargas (rmv235@nyu.edu)\n",
    " Last Revised: 6/18/2022\n",
    "\"\"\""
   ]
  },
  {
   "cell_type": "code",
   "execution_count": 6,
   "metadata": {},
   "outputs": [
    {
     "name": "stdout",
     "output_type": "stream",
     "text": [
      "tables:  ['ad_companies', 'ad_buys', 'students', 'revenue', 'student_status', 'user', 'user_classes', 'companyrev', 'planets', 'weather_newyork']\n"
     ]
    }
   ],
   "source": [
    "import sqlite3\n",
    "\n",
    "db_name = 'session_2.db'\n",
    "table_name = 'weather_newyork'\n",
    "\n",
    "conn = sqlite3.connect(db_name)\n",
    "cursor = conn.cursor()\n",
    "cursor.execute('DROP TABLE IF EXISTS weather_newyork')\n",
    "cursor.execute('CREATE TABLE weather_newyork (date TEXT, mean_temp INT, precip FLOAT, events TEXT)')\n",
    "conn.commit()\n",
    "\n",
    "\n",
    "conn.close()"
   ]
  }
 ],
 "metadata": {
  "kernelspec": {
   "display_name": "Python 3.10.4 64-bit",
   "language": "python",
   "name": "python3"
  },
  "language_info": {
   "codemirror_mode": {
    "name": "ipython",
    "version": 3
   },
   "file_extension": ".py",
   "mimetype": "text/x-python",
   "name": "python",
   "nbconvert_exporter": "python",
   "pygments_lexer": "ipython3",
   "version": "3.10.4"
  },
  "orig_nbformat": 4,
  "vscode": {
   "interpreter": {
    "hash": "e7370f93d1d0cde622a1f8e1c04877d8463912d04d973331ad4851f04de6915a"
   }
  }
 },
 "nbformat": 4,
 "nbformat_minor": 2
}
