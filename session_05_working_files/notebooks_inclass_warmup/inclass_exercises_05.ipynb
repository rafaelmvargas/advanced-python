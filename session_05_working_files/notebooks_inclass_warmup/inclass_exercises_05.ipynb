{
 "cells": [
  {
   "cell_type": "markdown",
   "id": "f8bd71af",
   "metadata": {},
   "source": [
    "# In-Class Exercises, Session 5"
   ]
  },
  {
   "cell_type": "markdown",
   "id": "faaec676",
   "metadata": {},
   "source": [
    "<U>Notes if you are using Jupyter Notebook</U>:  to call <B>exit()</B> from a notebook, please use <B>sys.exit()</B> (requires <B>import sys</B>).\n",
    "\n",
    "If a strange error occurs, it may be because Jupyter retains variables from all executed cells.  To reset the notebook, click 'Restart Kernel' (the circular arrow) -- this will not undo any changes made."
   ]
  },
  {
   "cell_type": "markdown",
   "id": "38cd45ff",
   "metadata": {},
   "source": [
    " "
   ]
  },
  {
   "cell_type": "markdown",
   "id": "354a4ff5",
   "metadata": {},
   "source": [
    "FUNCTIONS WITH KEYWORD ARGUMENTS"
   ]
  },
  {
   "cell_type": "markdown",
   "id": "14902201",
   "metadata": {},
   "source": [
    "<B>5.1:  Write a function multiply() that takes one positional argument (an expected integer value) and one keyword argument (an optional multiplier called <B>mul=</B>).  Make the default for <B>mul=</B> the value <B>2</B>.  Call as shown.</B>"
   ]
  },
  {
   "cell_type": "code",
   "execution_count": null,
   "id": "d56b3b4d",
   "metadata": {},
   "outputs": [],
   "source": [
    "# your code here\n",
    "\n",
    "\n",
    "x = multiply(5, mul=3)\n",
    "print(x)                  # 15\n",
    "\n",
    "y = multiply(5)\n",
    "print(y)                  # 10"
   ]
  },
  {
   "cell_type": "markdown",
   "id": "eaeea7e8",
   "metadata": {},
   "source": [
    " "
   ]
  },
  {
   "cell_type": "markdown",
   "id": "e2b284f1",
   "metadata": {},
   "source": [
    "<B>5.2:  Write a function greet() with one positional argument (a first name) and one keyword argument (an optional last name).  Make the default for <B>last=</B> the value <B>None</B>.  Call as shown.  </B>"
   ]
  },
  {
   "cell_type": "code",
   "execution_count": null,
   "id": "0969b0ad",
   "metadata": {},
   "outputs": [],
   "source": [
    "# your code here\n",
    "\n",
    "\n",
    "x = greet('Joe')\n",
    "print(x)                 # Hi, Joe!\n",
    "\n",
    "y = greet('Joe', last='Wilson')\n",
    "print(y)                 # Hi, Joe Wilson!"
   ]
  },
  {
   "cell_type": "markdown",
   "id": "9c06ea59",
   "metadata": {},
   "source": [
    " "
   ]
  },
  {
   "cell_type": "markdown",
   "id": "fa1d8784",
   "metadata": {},
   "source": [
    "OBJECT REFERENCES"
   ]
  },
  {
   "cell_type": "markdown",
   "id": "f371c4cc",
   "metadata": {},
   "source": [
    "<B>5.3:  One list or two?  How can we test?  </B>"
   ]
  },
  {
   "cell_type": "code",
   "execution_count": null,
   "id": "bdf525e8",
   "metadata": {},
   "outputs": [],
   "source": [
    "x = ['a', 'b', 'c']\n",
    "\n",
    "y = x"
   ]
  },
  {
   "cell_type": "markdown",
   "id": "1d941b9f",
   "metadata": {},
   "source": [
    " "
   ]
  },
  {
   "cell_type": "markdown",
   "id": "32a208a6",
   "metadata": {},
   "source": [
    "<B>5.4:  Two lists or three?  Is the list in the last item of y a duplicate list?  How can we test?  </B>"
   ]
  },
  {
   "cell_type": "code",
   "execution_count": null,
   "id": "6ff0ebda",
   "metadata": {},
   "outputs": [],
   "source": [
    "x = ['a', 'b', 'c']\n",
    "\n",
    "y = [1, 2, 3, x]"
   ]
  },
  {
   "cell_type": "markdown",
   "id": "877876a2",
   "metadata": {},
   "source": [
    " "
   ]
  },
  {
   "cell_type": "markdown",
   "id": "723d82a3",
   "metadata": {},
   "source": [
    "REFERENCES PASSED TO FUNCTIONS"
   ]
  },
  {
   "cell_type": "markdown",
   "id": "fd335691",
   "metadata": {},
   "source": [
    "<B>5.5:  One list or two?  Is the list in <B>appendme()</B> a new list?  How can we test?  </B>"
   ]
  },
  {
   "cell_type": "code",
   "execution_count": null,
   "id": "1a3fdf7b",
   "metadata": {},
   "outputs": [],
   "source": [
    "def appendme(arg):\n",
    "    arg.append('d')\n",
    "\n",
    "x = ['a', 'b', 'c']\n",
    "\n",
    "appendme(x)\n"
   ]
  },
  {
   "cell_type": "markdown",
   "id": "69b92c38",
   "metadata": {},
   "source": [
    " "
   ]
  },
  {
   "cell_type": "markdown",
   "id": "450b36ba",
   "metadata": {},
   "source": [
    "<B>5.6:  <B>greet()</B> has been assigned to <B>y</B>.  Call the function through variable <B>y</B>.</B>"
   ]
  },
  {
   "cell_type": "code",
   "execution_count": null,
   "id": "d5aaeae8",
   "metadata": {},
   "outputs": [],
   "source": [
    "def greet():\n",
    "    print('hello, world')\n",
    "\n",
    "y = greet"
   ]
  },
  {
   "cell_type": "markdown",
   "id": "94d0b771",
   "metadata": {},
   "source": [
    " "
   ]
  },
  {
   "cell_type": "markdown",
   "id": "cd7fcf9d",
   "metadata": {},
   "source": [
    "<B>5.7:  Call <B>callit(), passing <B>greet</B> as argument, then inside <B>callit()</B>, call the function through the argument (do not call <B>greet()</B>).</B>"
   ]
  },
  {
   "cell_type": "code",
   "execution_count": null,
   "id": "4472970b",
   "metadata": {},
   "outputs": [],
   "source": [
    "def callit(func):\n",
    "    # your code here\n",
    "\n",
    "def greet():\n",
    "    print('hello, world!')\n",
    "\n",
    "\n",
    "# your code also here"
   ]
  },
  {
   "cell_type": "markdown",
   "id": "95a7fac0",
   "metadata": {},
   "source": [
    " "
   ]
  },
  {
   "cell_type": "markdown",
   "id": "d4e28146",
   "metadata": {},
   "source": [
    "SORTING"
   ]
  },
  {
   "cell_type": "markdown",
   "id": "c4bce59d",
   "metadata": {},
   "source": [
    "<B>5.8:  Given the below code, sort the list in reverse numeric order and print it.  </B>"
   ]
  },
  {
   "cell_type": "code",
   "execution_count": null,
   "id": "5bc7b7c5",
   "metadata": {},
   "outputs": [],
   "source": [
    "numlist = [1, 13, 23, 3, 9, 16]\n",
    "\n",
    "# your code here\n"
   ]
  },
  {
   "cell_type": "markdown",
   "id": "a7a631d2",
   "metadata": {},
   "source": [
    "<U>Expected Output</U>:  "
   ]
  },
  {
   "cell_type": "markdown",
   "id": "e650fcb4",
   "metadata": {},
   "source": [
    "<pre style=\"margin: 0; padding=0\"><DIV style=\"font-family: Courier; border: 1px solid #dbdbdb; padding: 7px\">[23, 16, 13, 9, 3, 1]</DIV></pre>"
   ]
  },
  {
   "cell_type": "markdown",
   "id": "a9fe0030",
   "metadata": {},
   "source": [
    " "
   ]
  },
  {
   "cell_type": "markdown",
   "id": "c0efe474",
   "metadata": {},
   "source": [
    "<B>5.9:  Given the below code, sort the list in alphabetic order and print it.</B>"
   ]
  },
  {
   "cell_type": "code",
   "execution_count": null,
   "id": "b0018966",
   "metadata": {},
   "outputs": [],
   "source": [
    "charlist = ['a', 'z', 'b', 'c', 'd', 'f']\n",
    "\n",
    "# your code here\n"
   ]
  },
  {
   "cell_type": "markdown",
   "id": "07b2db0d",
   "metadata": {},
   "source": [
    "<U>Expected Output</U>:  "
   ]
  },
  {
   "cell_type": "markdown",
   "id": "a73e3964",
   "metadata": {},
   "source": [
    "<pre style=\"margin: 0; padding=0\"><DIV style=\"font-family: Courier; border: 1px solid #dbdbdb; padding: 7px\">['a', 'b', 'c', 'd', 'f', 'z']</DIV></pre>"
   ]
  },
  {
   "cell_type": "markdown",
   "id": "9e3f5901",
   "metadata": {},
   "source": [
    " "
   ]
  },
  {
   "cell_type": "markdown",
   "id": "5aa6e3aa",
   "metadata": {},
   "source": [
    "<B>5.10:  Given the below code, sort the list using standard sort and print it (note the output below).  </B>"
   ]
  },
  {
   "cell_type": "code",
   "execution_count": null,
   "id": "b47d6cb3",
   "metadata": {},
   "outputs": [],
   "source": [
    "charlist = ['F', 'e', 'c', 'a', 'B', 'D']\n",
    "\n",
    "# your code here\n"
   ]
  },
  {
   "cell_type": "markdown",
   "id": "129c3699",
   "metadata": {},
   "source": [
    "<U>Expected Output</U>:  "
   ]
  },
  {
   "cell_type": "markdown",
   "id": "2d047c70",
   "metadata": {},
   "source": [
    "<pre style=\"margin: 0; padding=0\"><DIV style=\"font-family: Courier; border: 1px solid #dbdbdb; padding: 7px\">['B', 'D', 'F', 'a', 'c', 'e']</DIV></pre>"
   ]
  },
  {
   "cell_type": "markdown",
   "id": "5481f548",
   "metadata": {},
   "source": [
    " "
   ]
  },
  {
   "cell_type": "markdown",
   "id": "6945d213",
   "metadata": {},
   "source": [
    "COMPLEX SORTING"
   ]
  },
  {
   "cell_type": "markdown",
   "id": "c8944954",
   "metadata": {},
   "source": [
    "<B>5.11:  Given your understanding that the key= argument to sorted() will in a sense process each element through whatever function we pass to it, sort the below list in alphabetical order and print it.  </B>"
   ]
  },
  {
   "cell_type": "markdown",
   "id": "e83c80c2",
   "metadata": {},
   "source": [
    "(Hint:  this list will not sort alphabetically by default.  We need a key= function that can modify each element in the list, and make them all the same case.  The string upper() method or lower() method can do the job.  To refer to this method, you can say str.upper or str.lower.  However, make sure not to actually call the method (which is done with the parentheses).  Instead, you simply refer to the method, i.e., mention the method without using the parentheses.)\n"
   ]
  },
  {
   "cell_type": "code",
   "execution_count": null,
   "id": "fb99a38e",
   "metadata": {},
   "outputs": [],
   "source": [
    "charlist = ['F', 'e', 'c', 'a', 'B', 'D']\n",
    "\n",
    "# your code here\n"
   ]
  },
  {
   "cell_type": "markdown",
   "id": "06cbb14b",
   "metadata": {},
   "source": [
    "<U>Expected Output</U>:  "
   ]
  },
  {
   "cell_type": "markdown",
   "id": "83280889",
   "metadata": {},
   "source": [
    "<pre style=\"margin: 0; padding=0\"><DIV style=\"font-family: Courier; border: 1px solid #dbdbdb; padding: 7px\">['a', 'B', 'c', 'D', 'e', 'F']</DIV></pre>"
   ]
  },
  {
   "cell_type": "markdown",
   "id": "65597dbe",
   "metadata": {},
   "source": [
    "If you see this message:\n"
   ]
  },
  {
   "cell_type": "markdown",
   "id": "2877e59f",
   "metadata": {},
   "source": [
    "<pre style=\"margin: 0; padding=0\"><DIV style=\"font-family: Courier; border: 1px solid #dbdbdb; padding: 7px\">TypeError: descriptor 'upper' of 'str' object needs an argument</DIV></pre>"
   ]
  },
  {
   "cell_type": "markdown",
   "id": "cc395066",
   "metadata": {},
   "source": [
    "it means that you added parentheses and attempted to call the str.upper or str.lower method.  Keep in mind that we don't call this method -- we give it to the sorted() function to call.  We're doing this because sorted() will use whatever function we wish, to modify each element for the purposes of sorting.  If we give it str.upper it will sort 'a' as 'A' and 'B' as 'B' and 'c' as 'C' -- this should indicate to you how we are able to use it for alphabetic sorting with mixed-case strings."
   ]
  },
  {
   "cell_type": "markdown",
   "id": "e8c31ffa",
   "metadata": {},
   "source": [
    " "
   ]
  },
  {
   "cell_type": "markdown",
   "id": "d6132aac",
   "metadata": {},
   "source": [
    "<B>5.12:  Given your understanding that the key= argument to sorted() will in a sense process each element through whatever function we pass to it, sort these strings by their length, and print the sorted list.  </B>"
   ]
  },
  {
   "cell_type": "code",
   "execution_count": null,
   "id": "b3a61c8d",
   "metadata": {},
   "outputs": [],
   "source": [
    "mystrs = ['I', 'was', 'hanging', 'on', 'a', 'rock']\n",
    "\n",
    "# your code here\n"
   ]
  },
  {
   "cell_type": "markdown",
   "id": "43be31d9",
   "metadata": {},
   "source": [
    "<U>Expected Output</U>:  "
   ]
  },
  {
   "cell_type": "markdown",
   "id": "fd1d7dec",
   "metadata": {},
   "source": [
    "<pre style=\"margin: 0; padding=0\"><DIV style=\"font-family: Courier; border: 1px solid #dbdbdb; padding: 7px\">['I', 'a', 'on', 'was', 'rock', 'hanging']</DIV></pre>"
   ]
  },
  {
   "cell_type": "markdown",
   "id": "555e04d6",
   "metadata": {},
   "source": [
    "If you see this message:\n"
   ]
  },
  {
   "cell_type": "markdown",
   "id": "3a7984d7",
   "metadata": {},
   "source": [
    "<pre style=\"margin: 0; padding=0\"><DIV style=\"font-family: Courier; border: 1px solid #dbdbdb; padding: 7px\">TypeError: len() takes exactly one argument (0 given)</DIV></pre>"
   ]
  },
  {
   "cell_type": "markdown",
   "id": "ced1a80b",
   "metadata": {},
   "source": [
    "it means that you added parentheses and thus attempted to call the len function.  Keep in mind that we don't call this method -- we give it to the sorted() function to call.  We're doing this because sorted() will use whatever function we wish, to modify each element for the purposes of sorting.  If we give it len it will sort 'I' as 1, 'was' as 3, 'hanging' as 7, etc -- perfect for our purposes."
   ]
  },
  {
   "cell_type": "markdown",
   "id": "d22540e9",
   "metadata": {},
   "source": [
    " "
   ]
  },
  {
   "cell_type": "markdown",
   "id": "1a3a1d2e",
   "metadata": {},
   "source": [
    "<B>5.13:  Given the following numbers, which were retrieved from a file as strings, sort the strings numerically without creating a new list.  (Hint:  based on your understanding that the key= argument to sorted() will in a sense process each element through whatever function we pass to it, use a function that converts numeric strings to integers.  </B>"
   ]
  },
  {
   "cell_type": "markdown",
   "id": "c0df2aac",
   "metadata": {},
   "source": [
    "If you see a message similar to the one mentioned in the previous exercise, it means you've done something similar to the issue mentioned there.  Remember that key= references a function, it does not call it (thus we will not use parentheses).\n"
   ]
  },
  {
   "cell_type": "code",
   "execution_count": null,
   "id": "8eec3bf7",
   "metadata": {},
   "outputs": [],
   "source": [
    "mynums = ['5', '101', '10', '1', '3']\n",
    "\n",
    "# your code here\n"
   ]
  },
  {
   "cell_type": "markdown",
   "id": "8f3294a0",
   "metadata": {},
   "source": [
    "<U>Expected Output</U>:  "
   ]
  },
  {
   "cell_type": "markdown",
   "id": "cc25b361",
   "metadata": {},
   "source": [
    "<pre style=\"margin: 0; padding=0\"><DIV style=\"font-family: Courier; border: 1px solid #dbdbdb; padding: 7px\">['1', '3', '5', '10', '101']</DIV></pre>"
   ]
  },
  {
   "cell_type": "markdown",
   "id": "d1fac403",
   "metadata": {},
   "source": [
    " "
   ]
  },
  {
   "cell_type": "markdown",
   "id": "ad34b3ff",
   "metadata": {},
   "source": [
    "<B>5.14:  Experiential exercise.  Please run the following code:</B>"
   ]
  },
  {
   "cell_type": "code",
   "execution_count": null,
   "id": "8da22104",
   "metadata": {},
   "outputs": [],
   "source": [
    "def my_element_modifier(arg):\n",
    "    lower_arg = arg.lower()\n",
    "    print(f'sorting element \"{arg}\" by value \"{lower_arg}\"')\n",
    "    return lower_arg\n",
    "\n",
    "sorted_list = sorted(['e', 'c', 'D', 'B', 'a'],\n",
    "                     key=my_element_modifier)\n",
    "print(sorted_list)"
   ]
  },
  {
   "cell_type": "markdown",
   "id": "f2d6ebf0",
   "metadata": {},
   "source": [
    "Note the output:\n"
   ]
  },
  {
   "cell_type": "markdown",
   "id": "a0baa995",
   "metadata": {},
   "source": [
    "<pre style=\"margin: 0; padding=0\"><DIV style=\"font-family: Courier; border: 1px solid #dbdbdb; padding: 7px\">sorting element \"e\" by value \"e\"\n",
    "sorting element \"c\" by value \"c\"\n",
    "sorting element \"D\" by value \"d\"\n",
    "sorting element \"B\" by value \"b\"\n",
    "sorting element \"a\" by value \"a\"\n",
    "\n",
    "['a', 'B', 'c', 'D', 'e']</DIV></pre>"
   ]
  },
  {
   "cell_type": "markdown",
   "id": "e7641f99",
   "metadata": {},
   "source": [
    "This exercise demonstrates that my\\_element\\_modifier() was called once for every element, in this case 5 times.  arg is assigned each element in turn.  And the value returned from my\\_element\\_modifier() is the value by which each element is sorted -- so 'a' is sorted by the value 'a', 'B' is sorted by the value 'b', 'c' by 'c', 'D' by 'd'.  This facilitates the alphabetic sorting of these values.  The values themselves don't change, but Python sorts according to the value returned from the function.\n",
    "\n",
    "If this makes sense to you, please go back to the previous examples and link this understanding to the other functions and methods we've used before -- using int, len, str.upper, etc.  They are all passing a function to be applied to each element, and Python is sorting by the value returned from the function or method."
   ]
  },
  {
   "cell_type": "markdown",
   "id": "e60fb407",
   "metadata": {},
   "source": [
    " "
   ]
  },
  {
   "cell_type": "markdown",
   "id": "7149b340",
   "metadata": {},
   "source": [
    "<B>5.15:  Given the below list, sort line\\_list by the number at the end of each line.  Loop through and print the sorted list.  (Hint:  call sorted() on line\\_list, and make your key= value the name of a custom function that takes the line as an argument and returns the value of the number at the end of the line.  Your custom function will simply take an arg (that will be a string, the line from the file), split the line into elements, and return the last element as an integer.  </B>"
   ]
  },
  {
   "cell_type": "code",
   "execution_count": null,
   "id": "7165ca27",
   "metadata": {},
   "outputs": [],
   "source": [
    "line_list = [\n",
    "   'the value 3',\n",
    "   'this value 1',\n",
    "   'that value is 4',\n",
    "   'the value here is 2'\n",
    "]\n",
    "\n",
    "# your code here\n"
   ]
  },
  {
   "cell_type": "markdown",
   "id": "51770a47",
   "metadata": {},
   "source": [
    "<U>Expected Output</U>:  "
   ]
  },
  {
   "cell_type": "markdown",
   "id": "407739c9",
   "metadata": {},
   "source": [
    "<pre style=\"margin: 0; padding=0\"><DIV style=\"font-family: Courier; border: 1px solid #dbdbdb; padding: 7px\">line_list = [\n",
    "   'this value 1',\n",
    "   'the value here is 2',\n",
    "   'the value 3',\n",
    "   'that value is 4'\n",
    "]</DIV></pre>"
   ]
  },
  {
   "cell_type": "markdown",
   "id": "8f029985",
   "metadata": {},
   "source": [
    " "
   ]
  },
  {
   "cell_type": "markdown",
   "id": "7efba03f",
   "metadata": {},
   "source": [
    "<B>5.16:  Sort the lines of the file pyku.txt by the number of words on each line.  (Hint:  write a custom sort function that takes a single line of text, splits the line into a list, and returns the length of the list.  Pass the readlines() of the file to the sorted() function.)  Also here I am using rstrip() to strip each line before printing.  </B>"
   ]
  },
  {
   "cell_type": "code",
   "execution_count": null,
   "id": "7dbd5c46",
   "metadata": {},
   "outputs": [],
   "source": [
    "fh = open('../pyku.txt')\n",
    "\n",
    "lines = fh.readlines()\n",
    "\n",
    "# your code here\n"
   ]
  },
  {
   "cell_type": "markdown",
   "id": "21d4c1d1",
   "metadata": {},
   "source": [
    "<U>Expected Output</U>:  "
   ]
  },
  {
   "cell_type": "markdown",
   "id": "2b7c6888",
   "metadata": {},
   "source": [
    "<pre style=\"margin: 0; padding=0\"><DIV style=\"font-family: Courier; border: 1px solid #dbdbdb; padding: 7px\">We're out of gouda.\n",
    "Spam, spam, spam, spam, spam.\n",
    "This parrot has ceased to be.</DIV></pre>"
   ]
  },
  {
   "cell_type": "markdown",
   "id": "8ea42a3a",
   "metadata": {},
   "source": [
    " "
   ]
  },
  {
   "cell_type": "markdown",
   "id": "1a2db93c",
   "metadata": {},
   "source": [
    "<B>5.17:  Sort the lines of revenue.csv by the numeric value in the last field by passing the list of lines returned from readlines() of the file to sorted() and using a custom sort sub similar to an earlier exercise.  (I am also rstrip()ping each line before printing it.)</B>"
   ]
  },
  {
   "cell_type": "code",
   "execution_count": null,
   "id": "56721ed7",
   "metadata": {},
   "outputs": [],
   "source": [
    "fh = open('../revenue.csv')\n",
    "\n",
    "lines = fh.readlines()\n",
    "\n",
    "\n",
    "# your code here\n"
   ]
  },
  {
   "cell_type": "markdown",
   "id": "73d075ca",
   "metadata": {},
   "source": [
    "<U>Expected Output</U>:  "
   ]
  },
  {
   "cell_type": "markdown",
   "id": "df3c015b",
   "metadata": {},
   "source": [
    "<pre style=\"margin: 0; padding=0\"><DIV style=\"font-family: Courier; border: 1px solid #dbdbdb; padding: 7px\">Dothraki Fashions,NY,5.98\n",
    "Hipster's,NY,11.98\n",
    "Awful's,PA,23.95\n",
    "Westfield,NJ,53.90\n",
    "The Clothiers,NY,115.20\n",
    "The Store,NJ,211.50\n",
    "Haddad's,PA,239.50</DIV></pre>"
   ]
  },
  {
   "cell_type": "markdown",
   "id": "26ae8c56",
   "metadata": {},
   "source": [
    " "
   ]
  },
  {
   "cell_type": "markdown",
   "id": "3ee9dde0",
   "metadata": {},
   "source": [
    "SORTING WITH LAMBDA FUNCTIONS"
   ]
  },
  {
   "cell_type": "markdown",
   "id": "e4a67fa7",
   "metadata": {},
   "source": [
    "<B>5.18:  <U>Convert a function to lambda</U>.  </B>"
   ]
  },
  {
   "cell_type": "markdown",
   "id": "1655ed7a",
   "metadata": {},
   "source": [
    "The following function takes one argument and returns the value doubled.  Convert to lambda and use in the <B>map()</B> function.\n"
   ]
  },
  {
   "cell_type": "code",
   "execution_count": null,
   "id": "4af0e0f0",
   "metadata": {},
   "outputs": [],
   "source": [
    "def doubleit(arg):\n",
    "    return arg * 2\n",
    "\n",
    "seq = [1, 2, 3, 4]\n",
    "\n",
    "seq2 = map(doubleit, seq)   # replace doubleit with a lambda here\n",
    "\n",
    "print(list(seq2))           # [2, 4, 6, 8]"
   ]
  },
  {
   "cell_type": "markdown",
   "id": "0e13a2f7",
   "metadata": {},
   "source": [
    " "
   ]
  },
  {
   "cell_type": "markdown",
   "id": "47429702",
   "metadata": {},
   "source": [
    "<B>5.19:  <U>Convert another function to lambda</U>.  </B>"
   ]
  },
  {
   "cell_type": "markdown",
   "id": "cb291845",
   "metadata": {},
   "source": [
    "The below function <B>by\\_last\\_float()</B> takes a string argument and returns a portion of that string (converted to float) as return value.  Replace this function with a lambda.\n"
   ]
  },
  {
   "cell_type": "code",
   "execution_count": null,
   "id": "61f279e6",
   "metadata": {},
   "outputs": [],
   "source": [
    "revenue = '../revenue.csv'\n",
    "\n",
    "def by_last_float(line):\n",
    "    words = line.split(',')\n",
    "    return float(words[-1])\n",
    "\n",
    "fh = open(revenue)\n",
    "lines = fh.readlines()\n",
    "for line in sorted(lines, key= # your lambda function here):\n",
    "    line = line.rstrip()\n",
    "    print line"
   ]
  },
  {
   "cell_type": "markdown",
   "id": "3a1c49fb",
   "metadata": {},
   "source": [
    " "
   ]
  },
  {
   "cell_type": "markdown",
   "id": "57d1783d",
   "metadata": {},
   "source": [
    "<B>5.20:  Use a lambda to sort strings as floats.</B>"
   ]
  },
  {
   "cell_type": "markdown",
   "id": "8b5c68fb",
   "metadata": {},
   "source": [
    "Given the below list of strings that have float values, write a lambda to sort these values by their float equivalents.\n",
    "\n",
    "(Although this is possible without using a custom function or lambda, we would like to practice lambdas here.)\n"
   ]
  },
  {
   "cell_type": "code",
   "execution_count": null,
   "id": "0332c41c",
   "metadata": {},
   "outputs": [],
   "source": [
    "fvals = ['39.5', '3.0', '300.3', '2.002', '20.95',\n",
    "         '200.1', '21.3', '20.03']\n",
    "\n",
    "\n",
    "svals = sorted(fvals, # your lambda here)\n",
    "\n",
    "print(svals)     # ['2.002', '20.03', '29.95', '21.3',\n",
    "                 #  '200.1', '3.0', '39.5', '300.3']"
   ]
  },
  {
   "cell_type": "markdown",
   "id": "5829c3c1",
   "metadata": {},
   "source": [
    " "
   ]
  },
  {
   "cell_type": "markdown",
   "id": "95236418",
   "metadata": {},
   "source": [
    "<B>5.21:  <U>Use a lambda to sort a dict by value</U>.  </B>"
   ]
  },
  {
   "cell_type": "markdown",
   "id": "0fbc4495",
   "metadata": {},
   "source": [
    "As you know, sorting a dict means sorting its keys.  Write a lambda that expects a dict key as argument, and returns the value for that key as return value.\n"
   ]
  },
  {
   "cell_type": "code",
   "execution_count": null,
   "id": "4286be39",
   "metadata": {},
   "outputs": [],
   "source": [
    "d = {'a': 10, 'b': 2, 'c': 5}\n",
    "\n",
    "skeys = sorted(d, key=# your lambda function here)\n",
    "\n",
    "print(skeys)        # ['b', 'c', 'a'] (in order of value, low-to-high)\n"
   ]
  },
  {
   "cell_type": "markdown",
   "id": "13dfa34c",
   "metadata": {},
   "source": [
    " "
   ]
  },
  {
   "cell_type": "markdown",
   "id": "88dad538",
   "metadata": {},
   "source": [
    "SORTING COMPLEX STRUCTURES"
   ]
  },
  {
   "cell_type": "markdown",
   "id": "a1806ce4",
   "metadata": {},
   "source": [
    "<B>5.22:  Given the following list of dicts, sort the dicts by each dict's last name.  Loop through and print each dict.  </B>"
   ]
  },
  {
   "cell_type": "code",
   "execution_count": null,
   "id": "568dfe4e",
   "metadata": {},
   "outputs": [],
   "source": [
    "people = [\n",
    "    { 'id':     '12345',\n",
    "      'fname':  'Joe',\n",
    "      'lname':  'Wilson',\n",
    "      'addr':   '12345 Main Street' },\n",
    "\n",
    "    { 'id':     '00355',\n",
    "      'fname':  'Marie',\n",
    "      'lname':  'Adams',\n",
    "      'addr':   '888 Elm Street' },\n",
    "\n",
    "    { 'id':     '98973',\n",
    "      'fname':  'Alex',\n",
    "      'lname':  'Wilson',\n",
    "      'addr':   '23 Marsh Avenue' }\n",
    "]\n",
    "\n",
    "# your code here"
   ]
  },
  {
   "cell_type": "markdown",
   "id": "07a4af1f",
   "metadata": {},
   "source": [
    " "
   ]
  },
  {
   "cell_type": "markdown",
   "id": "65105595",
   "metadata": {},
   "source": [
    "<B>5.23:  Given the following dict of dicts, sort the dict keys by the last name.  Loop through and print each key.  </B>"
   ]
  },
  {
   "cell_type": "code",
   "execution_count": null,
   "id": "2c601a8e",
   "metadata": {},
   "outputs": [],
   "source": [
    "people = {  '12345': { 'fname':  'Joe',\n",
    "                       'lname':  'Wilson',\n",
    "                       'addr':   '12345 Main Street' },\n",
    "\n",
    "            '00355': { 'fname':  'Marie',\n",
    "                       'lname':  'Adams',\n",
    "                       'addr':   '888 Elm Street' },\n",
    "\n",
    "            '98973': { 'fname':  'Alex',\n",
    "                       'lname':  'Wilson',\n",
    "                       'addr':   '23 Marsh Avenue' }\n",
    "}\n",
    "\n",
    "# your code here"
   ]
  },
  {
   "cell_type": "markdown",
   "id": "3cb5d21e",
   "metadata": {},
   "source": [
    " "
   ]
  },
  {
   "cell_type": "markdown",
   "id": "8758af05",
   "metadata": {},
   "source": [
    "HIGHER ORDER FUNCTIONS"
   ]
  },
  {
   "cell_type": "markdown",
   "id": "37cfd4f4",
   "metadata": {},
   "source": [
    "<B>5.24:  map() and filter() functions:  call below functions to see result.  Play with return value of functions to see altered result.  </B>"
   ]
  },
  {
   "cell_type": "code",
   "execution_count": null,
   "id": "db6ab95c",
   "metadata": {},
   "outputs": [],
   "source": [
    "def doubleit(arg):\n",
    "    return arg * 2\n",
    "\n",
    "def is_positive(arg):\n",
    "    if arg > 0:\n",
    "        return True\n",
    "    else:\n",
    "        return False\n",
    "\n",
    "proclist = [-3, -2, -1, 0, 1, 2, 3]\n",
    "\n",
    "transformed_list = map(doubleit, proclist)\n",
    "\n",
    "filtered_list = filter(is_positive, proclist)\n",
    "\n",
    "print('* mapped list *')\n",
    "print(transformed_list)\n",
    "\n",
    "print()\n",
    "\n",
    "print('* filtered list *')\n",
    "print(filtered_list)"
   ]
  },
  {
   "cell_type": "markdown",
   "id": "52c276b0",
   "metadata": {},
   "source": [
    " "
   ]
  },
  {
   "cell_type": "markdown",
   "id": "0f27a847",
   "metadata": {},
   "source": [
    "<B>5.25:  <B>greet</B> has been assigned to <B>callit</B>.  Call <B>greet</B> inside the function.</B>"
   ]
  },
  {
   "cell_type": "code",
   "execution_count": null,
   "id": "be1034af",
   "metadata": {},
   "outputs": [],
   "source": [
    "def callit(arg):\n",
    "    # your code here\n",
    "\n",
    "def greet():\n",
    "    print('hello, world')\n",
    "\n",
    "callit(greet)"
   ]
  },
  {
   "cell_type": "markdown",
   "id": "878536fd",
   "metadata": {},
   "source": [
    " "
   ]
  },
  {
   "cell_type": "markdown",
   "id": "8e16ddb8",
   "metadata": {},
   "source": [
    "<B>5.26:  <B>greet</B> has been returned from <B>returnit</B>.  Call <B>greet</B> outside the function.</B>"
   ]
  },
  {
   "cell_type": "code",
   "execution_count": null,
   "id": "03afe9ed",
   "metadata": {},
   "outputs": [],
   "source": [
    "def returnit():\n",
    "    def greet():\n",
    "        print('hello, world')\n",
    "    return greet\n",
    "\n",
    "x = returnit()"
   ]
  },
  {
   "cell_type": "markdown",
   "id": "1709154a",
   "metadata": {},
   "source": [
    " "
   ]
  },
  {
   "cell_type": "markdown",
   "id": "90ce6fd8",
   "metadata": {},
   "source": [
    "<B>5.27:  Demo:  a \"decorator\" function -- a function that both takes a function as argument and returns a function as return value.  Use the prior concepts (regarding passing a function reference to another function and returning a function reference from a function) to understand what is happening here.  </B>"
   ]
  },
  {
   "cell_type": "code",
   "execution_count": null,
   "id": "da64e8ca",
   "metadata": {},
   "outputs": [],
   "source": [
    "def my_decorator(func):    # func: function, 'whoop'\n",
    "\n",
    "    def wrapper():\n",
    "        print(\"Something is happening before whoop() is called.\")\n",
    "\n",
    "        func()             # calls 'whoop'\n",
    "\n",
    "        print(\"Something is happening after whoop() is called.\")\n",
    "\n",
    "    return wrapper         # return function 'wrapper'\n",
    "\n",
    "\n",
    "def whoop():\n",
    "    print(\"Wheee!\")\n",
    "\n",
    "\n",
    "# now the same name points to a replacement function\n",
    "whoop = my_decorator(whoop)          # function 'wrapper'\n",
    "\n",
    "# calling the replacement function\n",
    "whoop()                              # (calls function wrapper)\n"
   ]
  },
  {
   "cell_type": "markdown",
   "id": "56a019a6",
   "metadata": {},
   "source": [
    " "
   ]
  },
  {
   "cell_type": "markdown",
   "id": "95a92a16",
   "metadata": {},
   "source": [
    "<B>5.28:  Same function as last time -- this time use @ (\"pie syntax\") to produce a \"true\" Python decorator.  Place the decorator just above the function def for <B>this\\_function</B>, and remove the call to <B>my\\_decorator()</B>.  </B>"
   ]
  },
  {
   "cell_type": "code",
   "execution_count": null,
   "id": "9fd5078f",
   "metadata": {},
   "outputs": [],
   "source": [
    "def my_decorator(func):        # func:  function, 'whoop'\n",
    "\n",
    "    def wrapper():\n",
    "        print(\"Something is happening before whoop() is called.\")\n",
    "\n",
    "        func()                 # calls whoop()\n",
    "\n",
    "        print(\"Something is happening after whoop() is called.\")\n",
    "\n",
    "    return wrapper             # return function 'wrapper'\n",
    "\n",
    "@my_decorator\n",
    "def this_function():\n",
    "    print(\"Wheee!\")\n",
    "\n",
    "\n",
    "# calling the replacement function\n",
    "this_function()                # (calls function wrapper)"
   ]
  },
  {
   "cell_type": "markdown",
   "id": "76bc50d3",
   "metadata": {},
   "source": [
    " "
   ]
  },
  {
   "cell_type": "markdown",
   "id": "587445b5",
   "metadata": {},
   "source": [
    "<B>5.29:  Understanding *args and **kwargs:  the below function has 2 positional arguments and 2 keyword arguments, and prints the arguments inside the function.  Call the function as shown, and see the the arguments printed.  Now replace the arguments in the signature with <B>*args</B> and <B>**kwargs</B> and print the variables <B>args</B> and <B>kwargs</B> inside the function. </B>"
   ]
  },
  {
   "cell_type": "code",
   "execution_count": null,
   "id": "b3a61e14",
   "metadata": {},
   "outputs": [],
   "source": [
    "def printargs(w, x, y=0, z=None):\n",
    "\n",
    "    print(w, x, y, z)\n",
    "\n",
    "\n",
    "printargs(5, 10, y=100, z='Hello!')"
   ]
  },
  {
   "cell_type": "markdown",
   "id": "839dd603",
   "metadata": {},
   "source": [
    " "
   ]
  },
  {
   "cell_type": "markdown",
   "id": "6a9304dd",
   "metadata": {},
   "source": [
    "<B>5.30:  Same decorator function as last time -- <B>this\\_function()</B> has been defined to take two positional arguments and two keyword arguments, printing these arguments inside <B>this\\_function()</B>).  Inside <B>wrapper()</B>, we accept these arguments and pass them to <B>myfunc()</B> (which is <B>this\\_function()</B>.  Run this program to see that it works.  Now replace the positional arguments with <B>*args</B> and the keyword arguments with <B>**kwargs</B> and see that it works in the same way.  </B>"
   ]
  },
  {
   "cell_type": "code",
   "execution_count": null,
   "id": "e2882aae",
   "metadata": {},
   "outputs": [],
   "source": [
    "def my_decorator(func):             # func:  function, 'whoop'\n",
    "\n",
    "    def wrapper(*args, **kwargs):   # args: tuple, (5, 10); kwargs: dict, {'x': 99, 'y': 'hey!'}\n",
    "        print(\"Something is happening before whoop() is called.\")\n",
    "\n",
    "        func(*args, **kwargs)       # calling whoop(5, 10, x=99, y='hey!')\n",
    "\n",
    "        print(\"Something is happening after whoop() is called.\")\n",
    "\n",
    "    return wrapper                  # return function 'wrapper'\n",
    "\n",
    "@my_decorator                       # replacing whoop with wrapper\n",
    "def whoop(a, b, x=None, y=None):\n",
    "    print(f\"Wheee!:  {a}, {b}, {x}, {y}\")\n",
    "\n",
    "\n",
    "# calling the replacement function\n",
    "whoop(5, 10, x=99, y='hey!')        # calling wrapper(5, 10, x=99, y='hey!')"
   ]
  },
  {
   "cell_type": "markdown",
   "id": "65fe354e",
   "metadata": {},
   "source": [
    " "
   ]
  }
 ],
 "metadata": {},
 "nbformat": 4,
 "nbformat_minor": 5
}
