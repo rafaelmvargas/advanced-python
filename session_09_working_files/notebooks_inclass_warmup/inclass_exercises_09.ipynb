{
 "cells": [
  {
   "cell_type": "markdown",
   "id": "8852c3e6",
   "metadata": {},
   "source": [
    "# In-Class Exercises, Session 9"
   ]
  },
  {
   "cell_type": "markdown",
   "id": "6eeba098",
   "metadata": {},
   "source": [
    "<U>Notes if you are using Jupyter Notebook</U>:  to call <B>exit()</B> from a notebook, please use <B>sys.exit()</B> (requires <B>import sys</B>).\n",
    "\n",
    "If a strange error occurs, it may be because Jupyter retains variables from all executed cells.  To reset the notebook, click 'Restart Kernel' (the circular arrow) -- this will not undo any changes made.\n",
    "\n",
    "<B>Also note</B> that files are located in the parent directory.  This means that you must prepend <B>../</B> to each filename to find it."
   ]
  },
  {
   "cell_type": "markdown",
   "id": "6aa7e865",
   "metadata": {},
   "source": [
    " "
   ]
  },
  {
   "cell_type": "markdown",
   "id": "2589ea97",
   "metadata": {},
   "source": [
    "SERIES AND DATAFRAME DTYPES"
   ]
  },
  {
   "cell_type": "markdown",
   "id": "0df2a416",
   "metadata": {},
   "source": [
    "<B>9.1:  <U>Review:  check the <B>.dtypes</B> of a DataFrame and <B>.dtype</B> of a Series</U>.  </B>"
   ]
  },
  {
   "cell_type": "code",
   "execution_count": null,
   "id": "a7f3fa56",
   "metadata": {},
   "outputs": [],
   "source": [
    "import pandas as pd\n",
    "\n",
    "dol = {  'a': [1, 2, 3],\n",
    "         'b': [2.9, 3.5, 4.9],\n",
    "         'c': ['yourstr', 'mystr', 'theirstr']  }\n",
    "\n",
    "df = pd.DataFrame(dol, index=['w', 'x', 'y'])\n"
   ]
  },
  {
   "cell_type": "markdown",
   "id": "6a79b2a7",
   "metadata": {},
   "source": [
    " "
   ]
  },
  {
   "cell_type": "markdown",
   "id": "77307caa",
   "metadata": {},
   "source": [
    "<B>9.2:  <U>Use Series <B>.astype()</B>.  Change the 'a' column to np.float64, and 'b' column to str; check dtypes before and after the operation.  </B>"
   ]
  },
  {
   "cell_type": "code",
   "execution_count": null,
   "id": "0c475aa0",
   "metadata": {},
   "outputs": [],
   "source": [
    "import pandas as pd\n",
    "import numpy as np\n",
    "\n",
    "dol = {  'a': [1, 2, 3],\n",
    "         'b': [2.9, 3.5, 4.9],\n",
    "         'c': ['yourstr', 'mystr', 'theirstr']  }\n",
    "\n",
    "df = pd.DataFrame(dol, index=['w', 'x', 'y'])\n",
    "\n"
   ]
  },
  {
   "cell_type": "markdown",
   "id": "d1d7e9b6",
   "metadata": {},
   "source": [
    " "
   ]
  },
  {
   "cell_type": "markdown",
   "id": "11f0131c",
   "metadata": {},
   "source": [
    "<B>9.3:  <U>use pd.to\\_numeric</U>.  Change the 'a' and 'b' columns to a numeric type, and show dtypes afterwards.  </B>"
   ]
  },
  {
   "cell_type": "code",
   "execution_count": null,
   "id": "48437371",
   "metadata": {},
   "outputs": [],
   "source": [
    "import pandas as pd\n",
    "\n",
    "dol = {  'a': ['1', '2', '3'],\n",
    "         'b': ['2.9', '3.5', '4.9'],\n",
    "         'c': ['yourstr', 'mystr', 'theirstr']  }\n",
    "\n",
    "df = pd.DataFrame(dol, index=['w', 'x', 'y'])\n",
    "\n"
   ]
  },
  {
   "cell_type": "markdown",
   "id": "c2599b4f",
   "metadata": {},
   "source": [
    " "
   ]
  },
  {
   "cell_type": "markdown",
   "id": "77be9649",
   "metadata": {},
   "source": [
    "REVIEW OF LAMBDA FUNCTIONS"
   ]
  },
  {
   "cell_type": "markdown",
   "id": "cd4d1a69",
   "metadata": {},
   "source": [
    "<B>9.4:  <U>Convert a function to lambda</B>.  The following function takes one argument and returns the value doubled.  Convert to lambda and use in the <B>map()</B> function.  </B>"
   ]
  },
  {
   "cell_type": "code",
   "execution_count": null,
   "id": "b699afbb",
   "metadata": {},
   "outputs": [],
   "source": [
    "def doubleit(arg):\n",
    "    return arg * 2\n",
    "\n",
    "seq = [1, 2, 3, 4]\n",
    "\n",
    "seq2 = map(doubleit, seq)\n",
    "\n",
    "print(list(seq2))           # [2, 4, 6, 8]\n"
   ]
  },
  {
   "cell_type": "markdown",
   "id": "bb446820",
   "metadata": {},
   "source": [
    " "
   ]
  },
  {
   "cell_type": "markdown",
   "id": "94536730",
   "metadata": {},
   "source": [
    "<B>9.5:  <U>Convert another function to lambda</B>.  The following function takes a dict key and returns the value.  Convert to a lambda for use in the <B>sorted()</B> function.   </B>"
   ]
  },
  {
   "cell_type": "code",
   "execution_count": null,
   "id": "2aadc79f",
   "metadata": {},
   "outputs": [],
   "source": [
    "d = {'a': 10, 'b': 2, 'c': 5}\n",
    "\n",
    "def byvalue(arg):\n",
    "    return d[arg]\n",
    "\n",
    "skeys = sorted(d, key=byvalue)\n",
    "\n",
    "print(skeys)        # ['b', 'c', 'a'] (in order of value, low-to-high)\n"
   ]
  },
  {
   "cell_type": "markdown",
   "id": "34ba0540",
   "metadata": {},
   "source": [
    " "
   ]
  },
  {
   "cell_type": "markdown",
   "id": "89c3f6ce",
   "metadata": {},
   "source": [
    "DATAFRAME .apply()"
   ]
  },
  {
   "cell_type": "markdown",
   "id": "f8babe86",
   "metadata": {},
   "source": [
    " "
   ]
  },
  {
   "cell_type": "markdown",
   "id": "e9d021ae",
   "metadata": {},
   "source": [
    "<B>9.6:  <U>Apply a function to each item in a Series column</U>.  Create new column 'd' that is the value of 'b' * 100, by using <B>.apply()</B> with the <B>centify</B> function (defined below).  'd' column values should be 290.0, 350.0, 490.0.  When correct, replace the function with a lambda.  </B>"
   ]
  },
  {
   "cell_type": "code",
   "execution_count": null,
   "id": "16c0f091",
   "metadata": {},
   "outputs": [],
   "source": [
    "import pandas as pd\n",
    "\n",
    "def centify(arg):\n",
    "    return arg * 100\n",
    "\n",
    "dol = {  'a': [1, 2, 3],\n",
    "         'b': [2.9, 3.5, 4.9],\n",
    "         'c': [0.1, 0.2, 0.3]  }\n",
    "\n",
    "df = pd.DataFrame(dol, index=['w', 'x', 'y'])\n",
    "\n",
    "df['d'] = df.b.apply(# your code here)\n",
    "\n",
    "print(df)"
   ]
  },
  {
   "cell_type": "markdown",
   "id": "b8efb78c",
   "metadata": {},
   "source": [
    " "
   ]
  },
  {
   "cell_type": "markdown",
   "id": "f4c211cf",
   "metadata": {},
   "source": [
    "<B>9.7:  <U>Apply a function to each item in a Series row</U>.  Create new row 'xc' that is the value of 'x' * 100, by using <B>.apply()</B> with the <B>centify</B> function (defined below).  'xc' row values should be <B>20.0, 35000.0, 200</B>.  When correct, replace the function with a lambda.  </B>"
   ]
  },
  {
   "cell_type": "code",
   "execution_count": null,
   "id": "1c85fe70",
   "metadata": {},
   "outputs": [],
   "source": [
    "import pandas as pd\n",
    "\n",
    "def centify(arg):\n",
    "    return arg * 100\n",
    "\n",
    "dol = {  'a': [1, 2, 3],\n",
    "         'b': [290.0, 350.0, 490.0],\n",
    "         'c': [0.1, 0.2, 0.3]  }\n",
    "\n",
    "df = pd.DataFrame(dol, index=['w', 'x', 'y'])\n",
    "\n",
    "df.loc['xc'] = df.loc['x'].apply(# your code here)\n",
    "\n",
    "print(df)"
   ]
  },
  {
   "cell_type": "markdown",
   "id": "359c5378",
   "metadata": {},
   "source": [
    " "
   ]
  },
  {
   "cell_type": "markdown",
   "id": "8e32c9d8",
   "metadata": {},
   "source": [
    "<B>9.8:  <U>Apply a function to each Series column in a DataFrame</U>.  Call <B>.apply()</B> on the DataFrame, which will pass each column <B>Series</B> to the function in turn.  Inside the function, sum up the column values and create a new 'z' row with the sum of values.  </B>"
   ]
  },
  {
   "cell_type": "code",
   "execution_count": null,
   "id": "18624c3d",
   "metadata": {},
   "outputs": [],
   "source": [
    "import pandas as pd\n",
    "\n",
    "def sum_col(series_column):\n",
    "    # set new 'z' row value in this series column\n",
    "    # to the sum of the values in the column\n",
    "    # make sure to return the changed series\n",
    "\n",
    "dol = {  'a': [1, 2, 3],\n",
    "         'b': [290.0, 350.0, 490.0],\n",
    "         'c': [0.1, 0.2, 0.3]  }\n",
    "\n",
    "df = pd.DataFrame(dol, index=['w', 'x', 'y'])\n",
    "\n",
    "df = df.apply(sum_col)\n",
    "\n",
    "print(df)"
   ]
  },
  {
   "cell_type": "markdown",
   "id": "de3a3bb9",
   "metadata": {},
   "source": [
    " "
   ]
  },
  {
   "cell_type": "markdown",
   "id": "9a0d5606",
   "metadata": {},
   "source": [
    "<B>9.9:  <U>Apply a function to each Series row in a DataFrame</U>.  Call <B>.apply()</B> on the DataFrame with <B>axis=1</B>, which will pass each row <B>Series</B> to the function in turn.  Sum up the row values and create a new 'd' row with the sum of values.  </B>"
   ]
  },
  {
   "cell_type": "code",
   "execution_count": null,
   "id": "8697aac5",
   "metadata": {},
   "outputs": [],
   "source": [
    "import pandas as pd\n",
    "\n",
    "def sum_row(series_row):\n",
    "    # set new 'd' column value in this series row\n",
    "    # to the sum of the values in the row\n",
    "\n",
    "dol = {  'a': [1, 2, 3],\n",
    "         'b': [290.0, 350.0, 490.0],\n",
    "         'c': [0.1, 0.2, 0.3]  }\n",
    "\n",
    "df = pd.DataFrame(dol, index=['w', 'x', 'y'])\n",
    "\n",
    "df = df.apply(sum_row, axis=1)\n",
    "\n",
    "print(df)"
   ]
  },
  {
   "cell_type": "markdown",
   "id": "9d99f62f",
   "metadata": {},
   "source": [
    " "
   ]
  },
  {
   "cell_type": "markdown",
   "id": "b77a6147",
   "metadata": {},
   "source": [
    "GROUP BY"
   ]
  },
  {
   "cell_type": "markdown",
   "id": "e91bf7dc",
   "metadata": {},
   "source": [
    "Please run this cell to view the <B>sales-funnel</B> spreadsheet again:"
   ]
  },
  {
   "cell_type": "code",
   "execution_count": null,
   "id": "ed4eda6e",
   "metadata": {},
   "outputs": [],
   "source": [
    "import pandas as pd\n",
    "\n",
    "df = pd.read_excel(\"../sales-funnel.xlsx\")\n",
    "\n",
    "df          # in PyCharm, use print(df)"
   ]
  },
  {
   "cell_type": "markdown",
   "id": "a3157ed0",
   "metadata": {},
   "source": [
    " "
   ]
  },
  {
   "cell_type": "markdown",
   "id": "a8b120a9",
   "metadata": {},
   "source": [
    "<B>9.10:  <U><B>.groupby()</B>:  single-column aggregation</U>.  First, view the DataFrame.  Then use <B>.groupby()</B> to show sum of 'SaleAmount' grouped by 'SalesRep'.  </B>"
   ]
  },
  {
   "cell_type": "code",
   "execution_count": null,
   "id": "113bbd8c",
   "metadata": {},
   "outputs": [],
   "source": [
    "import pandas as pd\n",
    "\n",
    "df = pd.read_excel(\"../sales-funnel.xlsx\")\n",
    "\n",
    "df.groupby(# your code here) # and here"
   ]
  },
  {
   "cell_type": "markdown",
   "id": "2cec84e6",
   "metadata": {},
   "source": [
    " "
   ]
  },
  {
   "cell_type": "markdown",
   "id": "c4cd8319",
   "metadata": {},
   "source": [
    "<B>9.11:  <U><B>.groupby()</B>:  dual-column aggregation</U>.  Use <B>.groupby()</B> to show sum of 'SaleAmount' grouped by 'SalesRep' and by 'Product'.  </B>"
   ]
  },
  {
   "cell_type": "code",
   "execution_count": null,
   "id": "d98d368e",
   "metadata": {},
   "outputs": [],
   "source": [
    "import pandas as pd\n",
    "\n",
    "df = pd.read_excel(\"../sales-funnel.xlsx\")\n",
    "\n",
    "df.groupby(# your code here) # and here"
   ]
  },
  {
   "cell_type": "markdown",
   "id": "b160bb75",
   "metadata": {},
   "source": [
    " "
   ]
  },
  {
   "cell_type": "markdown",
   "id": "4b0730ff",
   "metadata": {},
   "source": [
    "<B>9.12:  <U><B>.groupby()</B>:  custom 'summary' function using <B>.apply()</B></U>.  Group rows by 'SalesRep' and use <B>.apply()</B> with a function that expects a <B>DataFrame</B> of grouped rows and returns the sum of 'SaleAmount' from the DataFrame.  (In other words, this replicates what <B>.groupby().sum()</B> does).  </B>"
   ]
  },
  {
   "cell_type": "code",
   "execution_count": null,
   "id": "ae73a093",
   "metadata": {},
   "outputs": [],
   "source": [
    "import pandas as pd\n",
    "\n",
    "def price_sum(this_df):\n",
    "    return # your code here\n",
    "\n",
    "df = pd.read_excel(\"../sales-funnel.xlsx\")\n",
    "\n",
    "print(df.groupby('SalesRep').apply(price_sum))\n"
   ]
  },
  {
   "cell_type": "markdown",
   "id": "7999d43a",
   "metadata": {},
   "source": [
    " "
   ]
  },
  {
   "cell_type": "markdown",
   "id": "7ca6ca73",
   "metadata": {},
   "source": [
    "<B>9.13:  <U><B>.groupby()</B>:  custom 'summary' function using <B>.apply()</B></U>.  Building on the previous solution, customize the function to sum SaleAmount but reduce 'CPU' values by 20% in the sum (because of the overhead cost of CPU handling).  </B>"
   ]
  },
  {
   "cell_type": "code",
   "execution_count": null,
   "id": "7fc54c2a",
   "metadata": {},
   "outputs": [],
   "source": [
    "import pandas as pd\n",
    "\n",
    "def price_sum(this_df):\n",
    "    return # your code here\n",
    "\n",
    "df = pd.read_excel(\"../sales-funnel.xlsx\")"
   ]
  },
  {
   "cell_type": "markdown",
   "id": "05182e1e",
   "metadata": {},
   "source": [
    "<U>Expected Output</U>:\n",
    "<PRE>SalesRep\n",
    "Cedric Moss       91000\n",
    "Craig Booker      67000\n",
    "Daniel Hilton     94000\n",
    "John Smith        33000\n",
    "Wendy Yule       143000\n",
    "dtype: int64</PRE>"
   ]
  },
  {
   "cell_type": "markdown",
   "id": "0781d8da",
   "metadata": {},
   "source": [
    " "
   ]
  },
  {
   "cell_type": "markdown",
   "id": "176e5d7c",
   "metadata": {},
   "source": [
    "<B>9.14:  <U><B>.groupby()</B>:  custom 'grouping' function</U>.  Pass a function to <B>groupby()</B> that identifies 2 groups using the 'Product' column:  if the value is 'CPU' or 'Monitor', return 'hardware'; otherwise, return 'software'.  Count the number of rows in each group with <B>.count()</b>.  </B>"
   ]
  },
  {
   "cell_type": "code",
   "execution_count": null,
   "id": "c19d7087",
   "metadata": {},
   "outputs": [],
   "source": [
    "import pandas as pd\n",
    "\n",
    "def grouper(row_idx):\n",
    "    row = df.loc[row_idx]\n",
    "    # your code here - identify the 'Product' value in the row and return 'software' or 'hardware'\n",
    "\n",
    "df = pd.read_excel(\"../sales-funnel.xlsx\")\n",
    "\n",
    "print(df.groupby(grouper).count())"
   ]
  },
  {
   "cell_type": "markdown",
   "id": "cd27518f",
   "metadata": {},
   "source": [
    "The function receives a row index which you can use with <B>.loc[]</B> to find the row being grouped.  Have the function return 'Software' if the 'Product' value is 'Software' or 'Maintenance', and 'Hardware' if the Product is 'CPU'."
   ]
  },
  {
   "cell_type": "markdown",
   "id": "39491c94",
   "metadata": {},
   "source": [
    " "
   ]
  },
  {
   "cell_type": "markdown",
   "id": "a14a7fe7",
   "metadata": {},
   "source": [
    "PIVOT TABLE"
   ]
  },
  {
   "cell_type": "markdown",
   "id": "1987674b",
   "metadata": {},
   "source": [
    "Please run this cell to view the <B>sales-funnel</B> spreadsheet again:"
   ]
  },
  {
   "cell_type": "code",
   "execution_count": null,
   "id": "56248eb5",
   "metadata": {},
   "outputs": [],
   "source": [
    "import pandas as pd\n",
    "import numpy as np\n",
    "\n",
    "df = pd.read_excel(\"../sales-funnel.xlsx\")\n",
    "\n",
    "df          # in PyCharm, use print(df)"
   ]
  },
  {
   "cell_type": "markdown",
   "id": "9fc5e049",
   "metadata": {},
   "source": [
    " "
   ]
  },
  {
   "cell_type": "markdown",
   "id": "e3483cae",
   "metadata": {},
   "source": [
    "<B>9.15:  <U><B>pd.pivot\\_table()</B>:  single-column aggregation</U>.  First, view the DataFrame above.  Then use <B>.pivot\\_table(df)</B> to aggregate by 'SalesRep', using the <B>index=</B> parameter.  </B>"
   ]
  },
  {
   "cell_type": "code",
   "execution_count": null,
   "id": "f5e5eb5f",
   "metadata": {},
   "outputs": [],
   "source": [
    "import pandas as pd\n",
    "import numpy as np\n",
    "\n",
    "df = pd.read_excel(\"../sales-funnel.xlsx\")\n",
    "\n",
    "print(pd.pivot_table(df, # your code here))"
   ]
  },
  {
   "cell_type": "markdown",
   "id": "4efe02ce",
   "metadata": {},
   "source": [
    "The default summary method is average (i.e., <B>.mean()</B>)"
   ]
  },
  {
   "cell_type": "markdown",
   "id": "ecf6106c",
   "metadata": {},
   "source": [
    " "
   ]
  },
  {
   "cell_type": "markdown",
   "id": "0356c043",
   "metadata": {},
   "source": [
    "<B>9.16:  <U><B>pd.pivot\\_table()</B> specifying a summary function</U>.  Perform the same pivot as previous, but use the <B>aggfunc=</B> parameter to specify a sum (use <B>np.sum</B>).  </B>"
   ]
  },
  {
   "cell_type": "code",
   "execution_count": null,
   "id": "f5306932",
   "metadata": {},
   "outputs": [],
   "source": [
    "import pandas as pd\n",
    "import numpy as np\n",
    "\n",
    "df = pd.read_excel(\"../sales-funnel.xlsx\")\n",
    "\n",
    "print(pd.pivot_table(df, index='SalesRep' # your code here))"
   ]
  },
  {
   "cell_type": "markdown",
   "id": "d72ec119",
   "metadata": {},
   "source": [
    " "
   ]
  },
  {
   "cell_type": "markdown",
   "id": "a06f1827",
   "metadata": {},
   "source": [
    "<B>9.17:  <U><B>pd.pivot\\_table()</B>:  dual-column aggregation</U>.  Perform the same pivot as previous, but group by by both 'SalesRep' and 'Product'.  </B>"
   ]
  },
  {
   "cell_type": "code",
   "execution_count": null,
   "id": "564dc3b3",
   "metadata": {},
   "outputs": [],
   "source": [
    "import pandas as pd\n",
    "import numpy as np\n",
    "\n",
    "df = pd.read_excel(\"../sales-funnel.xlsx\")\n",
    "\n",
    "print(pd.pivot_table(df, index='SalesRep', aggfunc=np.sum))"
   ]
  },
  {
   "cell_type": "markdown",
   "id": "e8c086f2",
   "metadata": {},
   "source": [
    " "
   ]
  },
  {
   "cell_type": "markdown",
   "id": "be359d8f",
   "metadata": {},
   "source": [
    "<B>9.18:  <U><B>pd.pivot\\_table()</B>:  specifying values to summarize</U>.  Perform the same pivot as previous, but use <B>values=</B> with a list to specify 'SaleAmount' and 'Quantity'.  </B>"
   ]
  },
  {
   "cell_type": "code",
   "execution_count": null,
   "id": "1e0ab633",
   "metadata": {},
   "outputs": [],
   "source": [
    "import pandas as pd\n",
    "import numpy as np\n",
    "\n",
    "df = pd.read_excel(\"../sales-funnel.xlsx\")\n",
    "\n",
    "print(pd.pivot_table(df, index=['SalesRep', 'Product'], aggfunc=np.sum # your code here))"
   ]
  },
  {
   "cell_type": "markdown",
   "id": "4063b1ff",
   "metadata": {},
   "source": [
    " "
   ]
  },
  {
   "cell_type": "markdown",
   "id": "a2c49bc2",
   "metadata": {},
   "source": [
    "<B>9.19:  <U><B>pd.pivot\\_table()</B>:  further agg by secondary value</U>.  Perform the above pivot on just 'SalesRep', but use <B>columns=</B> with a list to show the results broken down by 'Product'.  </B>"
   ]
  },
  {
   "cell_type": "code",
   "execution_count": null,
   "id": "afe35ce1",
   "metadata": {},
   "outputs": [],
   "source": [
    "import pandas as pd\n",
    "import numpy as np\n",
    "\n",
    "df = pd.read_excel(\"../sales-funnel.xlsx\")\n",
    "\n",
    "print(pd.pivot_table(df, index='SalesRep',\n",
    "                         aggfunc=np.sum,\n",
    "                         values=['SaleAmount', 'Quantity']\n",
    "                         # your code here))\n"
   ]
  },
  {
   "cell_type": "markdown",
   "id": "fda7e49b",
   "metadata": {},
   "source": [
    " "
   ]
  },
  {
   "cell_type": "markdown",
   "id": "a1ae67a4",
   "metadata": {},
   "source": [
    "MULTIINDEX"
   ]
  },
  {
   "cell_type": "markdown",
   "id": "c7e7016b",
   "metadata": {},
   "source": [
    "Please begin by noting the multi-level index that is produced by the below multi-column aggregation.\n"
   ]
  },
  {
   "cell_type": "code",
   "execution_count": null,
   "id": "195680fb",
   "metadata": {},
   "outputs": [],
   "source": [
    "import pandas as pd\n",
    "import numpy as np\n",
    "\n",
    "df = pd.read_excel(\"../sales-funnel.xlsx\")\n",
    "\n",
    "table = pd.pivot_table(df, index=['Manager', 'SalesRep'],\n",
    "                           aggfunc=np.sum)\n",
    "\n",
    "print(table)"
   ]
  },
  {
   "cell_type": "markdown",
   "id": "21dc5e1c",
   "metadata": {},
   "source": [
    " "
   ]
  },
  {
   "cell_type": "markdown",
   "id": "967901db",
   "metadata": {},
   "source": [
    "<B>9.20:  <U><B>MultiIndex</B>:  slicing at top level</U>.  Slice the multi-index to show just 'Account' and 'Quantity', and just for Manager 'Debra Henley'.  </B>"
   ]
  },
  {
   "cell_type": "code",
   "execution_count": null,
   "id": "af42000b",
   "metadata": {},
   "outputs": [],
   "source": [
    "import pandas as pd\n",
    "import numpy as np\n",
    "\n",
    "df = pd.read_excel(\"../sales-funnel.xlsx\")\n",
    "\n",
    "table = pd.pivot_table(df, index=['Manager', 'SalesRep'],\n",
    "                           aggfunc=np.sum)\n",
    "\n",
    "print(table)"
   ]
  },
  {
   "cell_type": "markdown",
   "id": "b1f6b921",
   "metadata": {},
   "source": [
    " "
   ]
  },
  {
   "cell_type": "markdown",
   "id": "47218ed6",
   "metadata": {},
   "source": [
    "<B>9.21:  <U><B>MultiIndex</B>:  slicing at 2nd level</U>.  Use a 2-item tuple (first-level label, second-level label) to slice for just 'Debra Henley' at the first level and 'Craig Booker' at the 2nd level.  </B>"
   ]
  },
  {
   "cell_type": "code",
   "execution_count": null,
   "id": "e019045f",
   "metadata": {},
   "outputs": [],
   "source": [
    "import pandas as pd\n",
    "import numpy as np\n",
    "\n",
    "df = pd.read_excel(\"../sales-funnel.xlsx\")\n",
    "\n",
    "table = pd.pivot_table(df, index=['Manager', 'SalesRep'],\n",
    "                           aggfunc=np.sum)\n",
    "\n",
    "print(table)"
   ]
  },
  {
   "cell_type": "markdown",
   "id": "9de1d8de",
   "metadata": {},
   "source": [
    " "
   ]
  },
  {
   "cell_type": "markdown",
   "id": "59664568",
   "metadata": {},
   "source": [
    "<B>9.22:  <U><B>MultiIndex</B>:  \"cross section\" slicing</U>.  Use the <B>.xs()</B> method with <B>level=1</B> to show rows just for 'Craig Booker'.  </B>"
   ]
  },
  {
   "cell_type": "code",
   "execution_count": null,
   "id": "678d8fc8",
   "metadata": {},
   "outputs": [],
   "source": [
    "import pandas as pd\n",
    "import numpy as np\n",
    "\n",
    "df = pd.read_excel(\"../sales-funnel.xlsx\")\n",
    "\n",
    "table = pd.pivot_table(df, index=['Manager', 'SalesRep'],\n",
    "                           aggfunc=np.sum)\n",
    "\n",
    "print(table)"
   ]
  },
  {
   "cell_type": "markdown",
   "id": "68fc1904",
   "metadata": {},
   "source": [
    " "
   ]
  },
  {
   "cell_type": "markdown",
   "id": "f76b8bfc",
   "metadata": {},
   "source": [
    "<B>9.23:  <U><B>MultiIndex</B>:  use <B>.query('Manager == \"Debra Henley\"')</B> to select rows</U>.  </B>"
   ]
  },
  {
   "cell_type": "code",
   "execution_count": null,
   "id": "46a1ca57",
   "metadata": {},
   "outputs": [],
   "source": [
    "import pandas as pd\n",
    "import numpy as np\n",
    "\n",
    "df = pd.read_excel(\"../sales-funnel.xlsx\")\n",
    "\n",
    "table = pd.pivot_table(df, index=['Manager', 'SalesRep'],\n",
    "                           aggfunc=np.sum)\n",
    "\n",
    "print(table.query(# your code here))"
   ]
  },
  {
   "cell_type": "markdown",
   "id": "46b5579a",
   "metadata": {},
   "source": [
    " "
   ]
  },
  {
   "cell_type": "markdown",
   "id": "fdcb1e1a",
   "metadata": {},
   "source": [
    "<B>9.24:  <U><B>MultiIndex</B>:  First review the below DataFrame; then use <B>.query('Status in [\"pending\", \"won\"]')</B> to select rows</U>.  </B>"
   ]
  },
  {
   "cell_type": "code",
   "execution_count": null,
   "id": "91927c1b",
   "metadata": {},
   "outputs": [],
   "source": [
    "import pandas as pd\n",
    "\n",
    "df = pd.read_excel(\"../sales-funnel.xlsx\")\n",
    "\n",
    "df.query(# your code here)"
   ]
  },
  {
   "cell_type": "markdown",
   "id": "2112084c",
   "metadata": {},
   "source": [
    " "
   ]
  },
  {
   "cell_type": "markdown",
   "id": "88f45603",
   "metadata": {},
   "source": [
    "<B>9.25:  <U><B>MultiIndex</B>:  use <B>.loc[]</B> with a 1- or 2-item tuple to select rows</U>.  Keep in mind that a 1-item tuple must have a comma after the item, for example <B>('Manager',)</B></B>"
   ]
  },
  {
   "cell_type": "code",
   "execution_count": null,
   "id": "46192f8d",
   "metadata": {},
   "outputs": [],
   "source": [
    "import pandas as pd\n",
    "import numpy as np\n",
    "\n",
    "df = pd.read_excel(\"../sales-funnel.xlsx\")\n",
    "\n",
    "table = pd.pivot_table(df, index=['Manager', 'SalesRep'],\n",
    "                           aggfunc=np.sum)\n",
    "\n",
    "print(table)"
   ]
  },
  {
   "cell_type": "markdown",
   "id": "19df1b8b",
   "metadata": {},
   "source": [
    " "
   ]
  },
  {
   "cell_type": "markdown",
   "id": "b6170bf0",
   "metadata": {},
   "source": [
    "TIMESERIES"
   ]
  },
  {
   "cell_type": "markdown",
   "id": "3d15f7b9",
   "metadata": {},
   "source": [
    "<B>9.26:  <U>Create a <B>pd.Timestamp</B> object by passing any string that represents a date</U>.  Print the object's type and value.  </B>"
   ]
  },
  {
   "cell_type": "code",
   "execution_count": null,
   "id": "f8603d01",
   "metadata": {},
   "outputs": [],
   "source": [
    "import pandas as pd\n",
    "\n",
    "ts = pd.Timestamp(# your code here)\n"
   ]
  },
  {
   "cell_type": "markdown",
   "id": "04d02332",
   "metadata": {},
   "source": [
    " "
   ]
  },
  {
   "cell_type": "markdown",
   "id": "e90a39d8",
   "metadata": {},
   "source": [
    "<B>9.27:  <U>Create a <B>pd.Timedelta</B> interval object</U> for one day (use the <B>days=1</B> argument).  Add it to the <B>Timestamp</B> object to produce a new Timestamp object with the advanced date.  Print the object to see the new date.  </B>"
   ]
  },
  {
   "cell_type": "code",
   "execution_count": null,
   "id": "4e438e06",
   "metadata": {},
   "outputs": [],
   "source": [
    "import pandas as pd\n",
    "\n",
    "ts = pd.Timestamp('3/3/2020')\n",
    "\n",
    "td = pd.Timedelta(# your code here)\n",
    "\n",
    "# add the Timestamp to the Timedelta"
   ]
  },
  {
   "cell_type": "markdown",
   "id": "68eb8a90",
   "metadata": {},
   "source": [
    " "
   ]
  },
  {
   "cell_type": "markdown",
   "id": "25a87e91",
   "metadata": {},
   "source": [
    "<B>9.28:  <U>Create a <B>pd.Timedelta</B> interval object</U> by subtracting one date from another.  Print the object's value and its type.  </B>"
   ]
  },
  {
   "cell_type": "code",
   "execution_count": null,
   "id": "fc8d001a",
   "metadata": {},
   "outputs": [],
   "source": [
    "import pandas as pd\n",
    "\n",
    "ts1 = pd.Timestamp('3/3/2020')\n",
    "ts2 = pd.Timestamp('3/5/2020')\n",
    "\n",
    "# subtract one from the other; print result"
   ]
  },
  {
   "cell_type": "markdown",
   "id": "a1c6cad5",
   "metadata": {},
   "source": [
    " "
   ]
  },
  {
   "cell_type": "markdown",
   "id": "fb9f7835",
   "metadata": {},
   "source": [
    "<B>9.29:  <U>Generate a date range</U>.  Use the <B>pd.date\\_range()</B> function with a start date, end date and <B>freq=</B> parameter indicating the frequency of dates ('D' for day, 'M' for end of month, 'MS' for start of month, 'B' for business day, etc.)  Print the object to see its contents and type.  </B>"
   ]
  },
  {
   "cell_type": "code",
   "execution_count": null,
   "id": "2b757c18",
   "metadata": {},
   "outputs": [],
   "source": [
    "import pandas as pd\n",
    "\n",
    "dr = pd.date_range(# your code here)\n",
    "\n",
    "print(dr)"
   ]
  },
  {
   "cell_type": "markdown",
   "id": "87dfb648",
   "metadata": {},
   "source": [
    " "
   ]
  },
  {
   "cell_type": "markdown",
   "id": "d1fcda4e",
   "metadata": {},
   "source": [
    "<B>9.30:  <U>Converting a DataFrame column/index to <B>Timestamp</B></U>.  View the below dataframe and note the date column EST.  Use <B>pd.to\\_datetime()</B> to convert the 'EST' series to Timestamps, then use <B>.set\\_index()</B> with the column name and <B>drop=True</B> to set the column as the index.  Check the dtype of the index.  </B>"
   ]
  },
  {
   "cell_type": "code",
   "execution_count": null,
   "id": "510c33e6",
   "metadata": {},
   "outputs": [],
   "source": [
    "import pandas as pd\n",
    "\n",
    "df = pd.read_csv('../weather_newyork_2016_2018.csv')\n",
    "\n"
   ]
  },
  {
   "cell_type": "markdown",
   "id": "d59f90f9",
   "metadata": {},
   "source": [
    " "
   ]
  },
  {
   "cell_type": "markdown",
   "id": "222559cc",
   "metadata": {},
   "source": [
    "<B>9.31:  <U>Select rows based on partial date</U>.  Given the below DataFrame, select rows <I>with a straight subscript</I> for the following:  </B>"
   ]
  },
  {
   "cell_type": "markdown",
   "id": "a2f89868",
   "metadata": {},
   "source": [
    "<UL>\n",
    "  <LI>single date (put the date in any format)</LI>\n",
    "  <LI>single year-month (for example, '2016-03')</LI>\n",
    "  <LI>single year</LI>\n",
    "  <LI>date range as a slice (for example, '2016-03-03': '2016-05-02')\n",
    "</UL>"
   ]
  },
  {
   "cell_type": "code",
   "execution_count": null,
   "id": "61de2e9f",
   "metadata": {},
   "outputs": [],
   "source": [
    "import pandas as pd\n",
    "\n",
    "df = pd.read_csv('../weather_newyork_2016_2018.csv')\n",
    "\n",
    "df.EST = pd.to_datetime(df.EST)\n",
    "\n",
    "df = df.set_index('EST', drop=True)\n"
   ]
  },
  {
   "cell_type": "markdown",
   "id": "98140c16",
   "metadata": {},
   "source": [
    " "
   ]
  }
 ],
 "metadata": {},
 "nbformat": 4,
 "nbformat_minor": 5
}
