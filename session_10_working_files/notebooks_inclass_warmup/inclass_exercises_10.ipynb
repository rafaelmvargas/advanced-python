{
 "cells": [
  {
   "cell_type": "markdown",
   "id": "d490d373",
   "metadata": {},
   "source": [
    "# In-Class Exercises, Session 10"
   ]
  },
  {
   "cell_type": "markdown",
   "id": "c06bd700",
   "metadata": {},
   "source": [
    "No exercises this week!"
   ]
  },
  {
   "cell_type": "markdown",
   "id": "88625651",
   "metadata": {},
   "source": [
    " "
   ]
  }
 ],
 "metadata": {},
 "nbformat": 4,
 "nbformat_minor": 5
}
