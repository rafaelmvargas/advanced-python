{
 "cells": [
  {
   "cell_type": "markdown",
   "id": "dae70043",
   "metadata": {},
   "source": [
    "# In-Class Exercises, Session 3"
   ]
  },
  {
   "cell_type": "markdown",
   "id": "f0b51ce3",
   "metadata": {},
   "source": [
    "<U>Notes if you are using Jupyter Notebook</U>:  to call <B>exit()</B> from a notebook, please use <B>sys.exit()</B> (requires <B>import sys</B>).\n",
    "\n",
    "If a strange error occurs, it may be because Jupyter retains variables from all executed cells.  To reset the notebook, click 'Restart Kernel' (the circular arrow) -- this will reset variables, but will not undo any changes made."
   ]
  },
  {
   "cell_type": "markdown",
   "id": "5ba40915",
   "metadata": {},
   "source": [
    " "
   ]
  },
  {
   "cell_type": "markdown",
   "id": "b68f5fa1",
   "metadata": {},
   "source": [
    "REQUESTS:  VIEWING RESPONSE"
   ]
  },
  {
   "cell_type": "markdown",
   "id": "5f0bd000",
   "metadata": {},
   "source": [
    "<B>3.1:  <U>Issue a GET request, view response text with .text</U>.  Use <B>requests.get()</B> with a url to retrieve a response from the weather service.  Print the <B>.text</B> attribute to see the body of the response.  </B>"
   ]
  },
  {
   "cell_type": "code",
   "execution_count": null,
   "id": "ffd37b0b",
   "metadata": {},
   "outputs": [],
   "source": [
    "import requests\n",
    "\n",
    "url = 'https://forecast.weather.gov/product.php?site=NWS&issuedby=CTP&product=AFD'\n",
    "\n",
    "response = requests.get()\n"
   ]
  },
  {
   "cell_type": "markdown",
   "id": "9f4e0d8c",
   "metadata": {},
   "source": [
    " "
   ]
  },
  {
   "cell_type": "markdown",
   "id": "44f314ba",
   "metadata": {},
   "source": [
    "<B>3.2:  <U>Issue a GET request, view headers</U>.  Print the <B>.headers</B> attribute of the response to see the headers sent back by the weather server.  </B>"
   ]
  },
  {
   "cell_type": "markdown",
   "id": "29afb9ae",
   "metadata": {},
   "source": [
    "You can also loop through the dict-like <B>response.headers</B> to see each key/value pair clearly."
   ]
  },
  {
   "cell_type": "code",
   "execution_count": null,
   "id": "56a4d999",
   "metadata": {},
   "outputs": [],
   "source": [
    "import requests\n",
    "\n",
    "url = 'https://forecast.weather.gov/product.php?site=NWS&issuedby=CTP&product=AFD'\n",
    "\n",
    "response = requests.get(url)\n",
    "print(response.text)"
   ]
  },
  {
   "cell_type": "markdown",
   "id": "0f759d15",
   "metadata": {},
   "source": [
    " "
   ]
  },
  {
   "cell_type": "markdown",
   "id": "7e4250b6",
   "metadata": {},
   "source": [
    "<B>3.3:  <U>Issue a GET request, view status code</U>.  Print the <B>.status\\_code</B> attribute from the response, </B>"
   ]
  },
  {
   "cell_type": "markdown",
   "id": "4017525e",
   "metadata": {},
   "source": [
    "Next, change one of the parameters to see how the code changes; also, change the spelling of the word 'product'.\n",
    "\n",
    "In addition, use <B>requests.status\\_codes.\\_codes[response.status\\_code]</B> with the status code to see the meaning of the response code.\n"
   ]
  },
  {
   "cell_type": "code",
   "execution_count": null,
   "id": "064f8d9d",
   "metadata": {},
   "outputs": [],
   "source": [
    "import requests\n",
    "\n",
    "url = 'https://forecast.weather.gov/product.php?site=NWS&issuedby=CTP&product=AFD'\n",
    "\n",
    "response = requests.get(url)\n",
    "\n",
    "\n",
    "# print(response.status_codes._codes[])"
   ]
  },
  {
   "cell_type": "markdown",
   "id": "99c1974c",
   "metadata": {},
   "source": [
    " "
   ]
  },
  {
   "cell_type": "markdown",
   "id": "2c37a543",
   "metadata": {},
   "source": [
    "REQUESTS:  ENCODED (text) and UNENCODED (bytes) RESPONSE"
   ]
  },
  {
   "cell_type": "markdown",
   "id": "93cbf237",
   "metadata": {},
   "source": [
    " "
   ]
  },
  {
   "cell_type": "markdown",
   "id": "123bb039",
   "metadata": {},
   "source": [
    "<B>3.4:  <U>Issue a web request, view response.text (decoded) and response.content (undecoded)</U>.</B>"
   ]
  },
  {
   "cell_type": "markdown",
   "id": "3c1432ba",
   "metadata": {},
   "source": [
    "With the first URL, check the type of <B>response.text</B> and the type of <B>response.content</B>.  Each contains the response content, but one is <I>decoded</I> as a string and the other is <I>encoded</I> as bytes.\n",
    "\n",
    "Next, check the value of <B>response.encoding</B> to see what encoding the yahoo page uses.  The check the same with the Microsoft English page and the Microsoft French page."
   ]
  },
  {
   "cell_type": "code",
   "execution_count": null,
   "id": "ab90e303",
   "metadata": {},
   "outputs": [],
   "source": [
    "import requests\n",
    "\n",
    "url = 'http://www.yahoo.com'\n",
    "\n",
    "# url = 'https://www.microsoft.com/en-us/'      # Microsoft in English\n",
    "# url = 'https://www.microsoft.com/fr-fr/'      # Microsoft in French\n",
    "\n",
    "response = requests.get(url)\n",
    "\n"
   ]
  },
  {
   "cell_type": "markdown",
   "id": "2296f145",
   "metadata": {},
   "source": [
    " "
   ]
  },
  {
   "cell_type": "markdown",
   "id": "c317974a",
   "metadata": {},
   "source": [
    "<B>3.5:  <U>Saving an image, sound or zip file</U>.  Issue the below web request, open a local file with 'wb' (meaning, \"write as bytes\") and write the unencoded text to the file.  (To access unencoded text, use <B>response.content</B> instead of <B>reponse.text</B>)</U>.</B>"
   ]
  },
  {
   "cell_type": "code",
   "execution_count": null,
   "id": "bea7a424",
   "metadata": {},
   "outputs": [],
   "source": [
    "import requests\n",
    "\n",
    "url = 'https://davidbpython.com/advanced_python/supplementary/python.png'   # a URL to an image\n",
    "\n",
    "response = requests.get(url)\n"
   ]
  },
  {
   "cell_type": "markdown",
   "id": "247aa743",
   "metadata": {},
   "source": [
    "Check the folder where this script or notebook is located; you should find the image file there."
   ]
  },
  {
   "cell_type": "markdown",
   "id": "2a30d96b",
   "metadata": {},
   "source": [
    " "
   ]
  },
  {
   "cell_type": "markdown",
   "id": "d4371bf8",
   "metadata": {},
   "source": [
    "LAB"
   ]
  },
  {
   "cell_type": "markdown",
   "id": "f6d69816",
   "metadata": {},
   "source": [
    "<div style=\"background-color: #ccffcc; padding: 10px; border: 2px solid green\"><B>3.6:  <U>Retrieve a page and save to disk</U>.  </B></div>"
   ]
  },
  {
   "cell_type": "markdown",
   "id": "30a1f757",
   "metadata": {},
   "source": [
    "Download the following page and save to disk in a new file (write <B>response.text</B> to the file).  Make sure to close the file.\n",
    "\n",
    "After writing the file, please open the file in a browser (use your browser's <B>File > Open File</B> menu command).\n",
    "\n",
    "In another tab on your browser, open the url directly.  Compate the two pages.\n",
    "\n",
    "(The locally saved file will not have correct formatting or colors - this is because these are supplied by a separate CSS file that was not downloaded.)"
   ]
  },
  {
   "cell_type": "code",
   "execution_count": null,
   "id": "9bacec2b",
   "metadata": {},
   "outputs": [],
   "source": [
    "import requests\n",
    "\n",
    "url = 'https://pycoders.com/'\n"
   ]
  },
  {
   "cell_type": "markdown",
   "id": "8decdb9c",
   "metadata": {},
   "source": [
    " "
   ]
  },
  {
   "cell_type": "markdown",
   "id": "e9f1bf67",
   "metadata": {},
   "source": [
    "<div style=\"background-color: #ccffcc; padding: 10px; border: 2px solid green\"><B>3.7:  <U>View response status code</U>.  </B></div>"
   ]
  },
  {
   "cell_type": "markdown",
   "id": "72518d63",
   "metadata": {},
   "source": [
    "Continuing the previous exercise, use the <B>.status\\_code</B> attribute to view the response status.  Now change the URL to something you wouldn't expect to be correct, run and view the status code."
   ]
  },
  {
   "cell_type": "markdown",
   "id": "72fdbbf0",
   "metadata": {},
   "source": [
    " "
   ]
  },
  {
   "cell_type": "markdown",
   "id": "d0801ebc",
   "metadata": {},
   "source": [
    "<div style=\"background-color: #ccffcc; padding: 10px; border: 2px solid green\"><B>3.8:  <U>View response headers</U>.  </B></div>"
   ]
  },
  {
   "cell_type": "markdown",
   "id": "c6aae7bd",
   "metadata": {},
   "source": [
    "Continuing the previous exercise, use the <B>.headers</B> attribute to retrieve the headers coming back as a dict from the response.  Loop through and print each key/value pair in the dict."
   ]
  },
  {
   "cell_type": "markdown",
   "id": "49ddde7d",
   "metadata": {},
   "source": [
    " "
   ]
  },
  {
   "cell_type": "markdown",
   "id": "8dcc43d1",
   "metadata": {},
   "source": [
    "<div style=\"background-color: #ccffcc; padding: 10px; border: 2px solid green\"><B>3.9:  <U>Retrieve and save an image</U>.  </B></div>"
   ]
  },
  {
   "cell_type": "markdown",
   "id": "b0e78c75",
   "metadata": {},
   "source": [
    "Use the below URL to retrieve an image from the internet, and save it locally to a filename of your choice (make sure it has a <B>.jpg</B> file extension so it is recognized properly by your image viewer).\n",
    "\n",
    "The data must be read and written as binary data (i.e., not plaintext).  Therefore when writing, use 'wb' (write binary) instead of 'w'.\n"
   ]
  },
  {
   "cell_type": "code",
   "execution_count": null,
   "id": "1b38d8f8",
   "metadata": {},
   "outputs": [],
   "source": [
    "import requests\n",
    "\n",
    "url = 'https://cdn.vox-cdn.com/uploads/chorus_image/image/32167377/monty-python-3by2.0.jpg'\n"
   ]
  },
  {
   "cell_type": "markdown",
   "id": "defc3c2c",
   "metadata": {},
   "source": [
    " "
   ]
  },
  {
   "cell_type": "markdown",
   "id": "4ee6a052",
   "metadata": {},
   "source": [
    "REQUESTS:  CONFIGURING THE REQUEST"
   ]
  },
  {
   "cell_type": "markdown",
   "id": "6ccd1723",
   "metadata": {},
   "source": [
    "<B>3.10:  <U>Demo exercise:  issue a request and view elements of the request</U>.</B>"
   ]
  },
  {
   "cell_type": "markdown",
   "id": "7f78ced4",
   "metadata": {},
   "source": [
    "First, issue the following request and view the headers reflected back.\n",
    "\n",
    "Next, uncomment the 'headers' lines to see how http\\_reflect \"sees\" you (i.e., what browser and platform it thinks you are requesting from).\n",
    "\n",
    "Finally, change 'text/plain' to 'text/html' and see http\\_reflect respond with HTML instead of plain text."
   ]
  },
  {
   "cell_type": "code",
   "execution_count": null,
   "id": "dd1a510e",
   "metadata": {},
   "outputs": [],
   "source": [
    "import requests\n",
    "\n",
    "spoof_android = \"Mozilla/5.0 (Linux; U; Android 2.3.5; en-in; HTC_DesireS_S510e Build/GRJ90) AppleWebKit/533.1 (KHTML, like Gecko) Version/4.0 Mobile Safari/533.1\"\n",
    "\n",
    "response = requests.get('http://davidbpython.com/cgi-bin/http_reflect'\n",
    "                        #, headers={\n",
    "                        #         'User-Agent':  spoof_android,\n",
    "                        #         'Accept':      'text/plain',\n",
    "                        #         }\n",
    "                        )\n",
    "\n",
    "print(response.text)"
   ]
  },
  {
   "cell_type": "markdown",
   "id": "1b1a16b9",
   "metadata": {},
   "source": [
    " "
   ]
  },
  {
   "cell_type": "markdown",
   "id": "9f3e474d",
   "metadata": {},
   "source": [
    "<B>3.11:  <U>Demo exercise:  issue a request and send parameters with .get()</U>.</B>"
   ]
  },
  {
   "cell_type": "markdown",
   "id": "0efc37f0",
   "metadata": {},
   "source": [
    "In the below program, add the <B>params=</B> argument with the dict 'my\\_params' to send key/value pairs to the <B>http\\_reflect</B> service as part of the query string.  In the response, find the parameters you sent.\n"
   ]
  },
  {
   "cell_type": "code",
   "execution_count": null,
   "id": "e27ceb7e",
   "metadata": {},
   "outputs": [],
   "source": [
    "import requests\n",
    "\n",
    "my_params = {'a': 1, 'b': 'hello'}\n",
    "\n",
    "response = requests.get('http://davidbpython.com/cgi-bin/http_reflect')\n",
    "\n",
    "print(response.text)"
   ]
  },
  {
   "cell_type": "markdown",
   "id": "493d06e7",
   "metadata": {},
   "source": [
    " "
   ]
  },
  {
   "cell_type": "markdown",
   "id": "67c16075",
   "metadata": {},
   "source": [
    "<B>3.12:  <U>Issue a request and send parameters with .post()</U>.</B>"
   ]
  },
  {
   "cell_type": "markdown",
   "id": "977e0e66",
   "metadata": {},
   "source": [
    "In the below program, add the <B>data=</B> argument with the dict 'my\\_data' to send key/value pairs to the <B>http\\_reflect</B> service as part of the body of the request.  In the response, find the parameters you sent.\n"
   ]
  },
  {
   "cell_type": "code",
   "execution_count": null,
   "id": "c1e79ed1",
   "metadata": {},
   "outputs": [],
   "source": [
    "import requests\n",
    "\n",
    "my_data = {'a': 1, 'b': 'hello'}\n",
    "\n",
    "response = requests.post('http://davidbpython.com/cgi-bin/http_reflect')\n",
    "\n",
    "print(response.text)"
   ]
  },
  {
   "cell_type": "markdown",
   "id": "807bbf39",
   "metadata": {},
   "source": [
    " "
   ]
  },
  {
   "cell_type": "markdown",
   "id": "baa69155",
   "metadata": {},
   "source": [
    "REQUESTS:  UPLOADING A FILE"
   ]
  },
  {
   "cell_type": "markdown",
   "id": "ad9754ba",
   "metadata": {},
   "source": [
    "<B>3.13:  <U>Upload a file to a server program</U>.  Add the <B>files=</B> parameter to <B>.post()</B> to upload the below file.</B>"
   ]
  },
  {
   "cell_type": "markdown",
   "id": "9626813d",
   "metadata": {},
   "source": [
    "Note that the file has been opened with 'rb', which stands for 'read binary':  we are uploading encoded bytes."
   ]
  },
  {
   "cell_type": "code",
   "execution_count": null,
   "id": "2d828f00",
   "metadata": {},
   "outputs": [],
   "source": [
    "import requests\n",
    "\n",
    "# open file for reading without decoding (returns a bytestring)\n",
    "file_bytes = open('../test_file.txt', 'rb')\n",
    "\n",
    "file_dict = { 'file':  ('test_file.txt', file_bytes,\n",
    "                        'text/plain') }\n",
    "\n",
    "response = requests.post('https://davidbpython.com/cgi-bin/http_reflect')\n",
    "\n",
    "print(response.text)"
   ]
  },
  {
   "cell_type": "markdown",
   "id": "0cb66339",
   "metadata": {},
   "source": [
    " "
   ]
  },
  {
   "cell_type": "markdown",
   "id": "30f19945",
   "metadata": {},
   "source": [
    "LAB"
   ]
  },
  {
   "cell_type": "markdown",
   "id": "427a8ff9",
   "metadata": {},
   "source": [
    "<div style=\"background-color: #ccffcc; padding: 10px; border: 2px solid green\"><B>3.14:  <U>Demo exercise:  issue request with headers, parameters and data</U>.</B></div>"
   ]
  },
  {
   "cell_type": "markdown",
   "id": "aa2e3978",
   "metadata": {},
   "source": [
    "Please note below the approach for setting <B>headers</B>, <B>parameters</B> and <B>data</B> in a request, and note that each have been successfully sent to (and reflected back from) the server."
   ]
  },
  {
   "cell_type": "code",
   "execution_count": null,
   "id": "abc9a9d3",
   "metadata": {},
   "outputs": [],
   "source": [
    "import requests\n",
    "\n",
    "# link to my reflection program\n",
    "url = 'http://davidbpython.com/cgi-bin/http_reflect'\n",
    "\n",
    "div_bar = '=' * 10\n",
    "\n",
    "\n",
    "# headers, parameters and message data to be passed to request\n",
    "# change to 'text/html' for an HTML response\n",
    "header_dict =  { 'Accept': 'text/plain' }\n",
    "param_dict =   { 'key1': 'val1', 'key2': 'val2' }\n",
    "data_dict =    { 'text1': \"We're all out of gouda.\" }\n",
    "\n",
    "\n",
    "# a GET request (change to .post for a POST request)\n",
    "response = requests.get(url, headers=header_dict,\n",
    "                             params=param_dict,\n",
    "                             data = data_dict)\n",
    "\n",
    "\n",
    "# status of the response (OK, Not Found, etc.)\n",
    "response_status = response.status_code\n",
    "\n",
    "# headers sent by the server\n",
    "response_headers = response.headers\n",
    "\n",
    "# body sent by server\n",
    "response_text = response.text\n",
    "\n",
    "\n",
    "# outputting response elements (status, headers, body)\n",
    "\n",
    "# response status\n",
    "print(f'{div_bar} response status {div_bar}\\n')\n",
    "print(response_status)\n",
    "print(); print()\n",
    "\n",
    "# response headers\n",
    "print(f'{div_bar} response headers {div_bar}\\n')\n",
    "for key in response_headers:\n",
    "    print(f'{key}:  {response_headers[key]}\\n')\n",
    "print()\n",
    "\n",
    "# response body\n",
    "print(f'{div_bar} response body {div_bar}\\n')\n",
    "print(response_text)"
   ]
  },
  {
   "cell_type": "markdown",
   "id": "47b14f1c",
   "metadata": {},
   "source": [
    " "
   ]
  },
  {
   "cell_type": "markdown",
   "id": "9858d5cf",
   "metadata": {},
   "source": [
    "<div style=\"background-color: #ccffcc; padding: 10px; border: 2px solid green\"><B>3.15:  <U>Use a parameter to configure a web API request</U>.  </B></div>"
   ]
  },
  {
   "cell_type": "markdown",
   "id": "5f333c54",
   "metadata": {},
   "source": [
    "Complete a request from the below URL by using the parameter <B>term</B> with a value that is a term you would like to search on <B>urbandictionary.com</B>.\n",
    "\n",
    "(<U>Warning</U>:  <B>urbandictionary.com</B> definitions can use offensive language.  For a \"clean\" set of definitions, try the defition for <B>squee</B> as shown below.)\n",
    "\n",
    "Read and save the resulting JSON text to a file."
   ]
  },
  {
   "cell_type": "code",
   "execution_count": null,
   "id": "327e42ca",
   "metadata": {},
   "outputs": [],
   "source": [
    "import requests\n",
    "\n",
    "url = 'http://api.urbandictionary.com/v0/define'\n",
    "\n"
   ]
  },
  {
   "cell_type": "markdown",
   "id": "cb158ee7",
   "metadata": {},
   "source": [
    " "
   ]
  },
  {
   "cell_type": "markdown",
   "id": "a0ad6a81",
   "metadata": {},
   "source": [
    "<div style=\"background-color: #ccffcc; padding: 10px; border: 2px solid green\"><B>3.16:  <U>Read and parse JSON data</U>.  </B></div>"
   ]
  },
  {
   "cell_type": "markdown",
   "id": "b14f843c",
   "metadata": {},
   "source": [
    "Continue the previous program by using the <B>.json()</B> method of the <B>response</B> object to read the data as a JSON object.\n",
    "\n",
    "You should find that the object is a <B>dict</B>, that it has one key <B>list</B> with a value that is a list, and that if you loop through this list of dicts, the key <B>author</B> is the author's name, and <B>definition</B> is the definition."
   ]
  },
  {
   "cell_type": "markdown",
   "id": "8ed70e04",
   "metadata": {},
   "source": [
    " "
   ]
  },
  {
   "cell_type": "markdown",
   "id": "bb838404",
   "metadata": {},
   "source": [
    "<div style=\"background-color: #ccffcc; padding: 10px; border: 2px solid green\"><B>3.17:  <U>Read and parse CSV data</U>.  </B></div>"
   ]
  },
  {
   "cell_type": "markdown",
   "id": "890d616a",
   "metadata": {},
   "source": [
    "Request the following data and retrieve as text.  Load the text as a <B>csv.reader</B> object, then read line-by-line and print out each parsed line.\n",
    "\n",
    "(Hint:  to load the data into text into <B>csv.reader</B>, split the text using <B>.splitlines()</B> first, and pass this list to <B>csv.reader()</B>.)\n"
   ]
  },
  {
   "cell_type": "code",
   "execution_count": null,
   "id": "b3221f30",
   "metadata": {},
   "outputs": [],
   "source": [
    "import csv\n",
    "import requests\n",
    "\n",
    "url = 'http://davidbpython.com/advanced_python/supplementary/dated_file.csv'\n",
    "\n"
   ]
  },
  {
   "cell_type": "markdown",
   "id": "8cc8d2fa",
   "metadata": {},
   "source": [
    " "
   ]
  },
  {
   "cell_type": "markdown",
   "id": "d21d0d30",
   "metadata": {},
   "source": [
    "WEB SCRAPING"
   ]
  },
  {
   "cell_type": "markdown",
   "id": "c3c3b1e8",
   "metadata": {},
   "source": [
    "<B>3.18:  <U>BeautifulSoup object</U>:  the below code reads a string read from an html file and parses the file and its tags into a <B>BeautifulSoup</B> object.  </B>"
   ]
  },
  {
   "cell_type": "markdown",
   "id": "fc59582c",
   "metadata": {},
   "source": [
    "Explore the following attributes of the object named 'soup':\n",
    "<UL>\n",
    "  <LI> print the type of the object</LI>\n",
    "  <LI> print the object itself</LI>\n",
    "  <LI> print the <B>.text</B> attribute</LI>\n",
    "</UL>"
   ]
  },
  {
   "cell_type": "code",
   "execution_count": null,
   "id": "d2808520",
   "metadata": {},
   "outputs": [],
   "source": [
    "from bs4 import BeautifulSoup\n",
    "\n",
    "scrapee = '../dormouse.html'\n",
    "\n",
    "text = open(scrapee).read()\n",
    "soup = BeautifulSoup(text, 'html.parser')\n",
    "\n",
    "print(type(soup))\n",
    "print(soup)\n",
    "print(soup.text)\n",
    "\n"
   ]
  },
  {
   "cell_type": "markdown",
   "id": "228d9db8",
   "metadata": {},
   "source": [
    "Note that you may occasionally encounter a <B>UnicodeDecodeError</B> when you attempt to read a file from the internet.  In these cases you should tell Python which encoding to use:"
   ]
  },
  {
   "cell_type": "code",
   "execution_count": null,
   "id": "9edc3acb",
   "metadata": {},
   "outputs": [],
   "source": [
    "text = open(scrapee, encoding='utf-8')"
   ]
  },
  {
   "cell_type": "markdown",
   "id": "21434a9b",
   "metadata": {},
   "source": [
    " "
   ]
  },
  {
   "cell_type": "markdown",
   "id": "2a89cc5f",
   "metadata": {},
   "source": [
    "<B>3.19:  <U>\"first tag\" attribute access; <B>.text</B> attribute</U>:  access the object for <B>soup.title</B>, <B>soup.body</B>, <B>soup.p</B>, <B>soup.meta</B>.  </B>"
   ]
  },
  {
   "cell_type": "markdown",
   "id": "698db210",
   "metadata": {},
   "source": [
    "Print the type of 1 of these objects.\n",
    "\n",
    "Print the .text attribute of each of these objects.\n"
   ]
  },
  {
   "cell_type": "code",
   "execution_count": null,
   "id": "14307deb",
   "metadata": {},
   "outputs": [],
   "source": [
    "from bs4 import BeautifulSoup\n",
    "\n",
    "scrapee = '../dormouse.html'\n",
    "\n",
    "text = open(scrapee).read()\n",
    "\n",
    "soup = BeautifulSoup(text, 'html.parser')\n",
    "\n",
    "print(soup.body)\n",
    "print(soup.body.text)"
   ]
  },
  {
   "cell_type": "markdown",
   "id": "bcd97d96",
   "metadata": {},
   "source": [
    " "
   ]
  },
  {
   "cell_type": "markdown",
   "id": "c4fe5148",
   "metadata": {},
   "source": [
    "<B>3.20:  <U>Access tag by parameter using a dict</U>.  Use a dict with <B>.find()</B> to specify a 'class' parameter value (e.g. <B>{'class': 'story\\_title'}</B>)</B>"
   ]
  },
  {
   "cell_type": "code",
   "execution_count": null,
   "id": "3c52cc4c",
   "metadata": {},
   "outputs": [],
   "source": [
    "from bs4 import BeautifulSoup\n",
    "\n",
    "scrapee = '../dormouse.html'\n",
    "\n",
    "text = open(scrapee).read()\n",
    "\n",
    "soup = BeautifulSoup(text, 'html.parser')\n",
    "\n",
    "story_title = soup.find(\"p\", attrs={\"class\":\"story_title\"})\n",
    "\n",
    "print(story_title.text)\n"
   ]
  },
  {
   "cell_type": "markdown",
   "id": "3177ac58",
   "metadata": {},
   "source": [
    " "
   ]
  },
  {
   "cell_type": "markdown",
   "id": "7591ac19",
   "metadata": {},
   "source": [
    "<B>3.21:  <U>individual parameter values</U>:  for a tag that has them, use a subscript to access parameter values of a tag (e.g. <B>tag['value']</b> for the first meta tag)</B>"
   ]
  },
  {
   "cell_type": "code",
   "execution_count": 9,
   "id": "ec3083c0",
   "metadata": {},
   "outputs": [
    {
     "name": "stdout",
     "output_type": "stream",
     "text": [
      "timestamp\n",
      "2019-08-06 12:23:07\n"
     ]
    }
   ],
   "source": [
    "from bs4 import BeautifulSoup\n",
    "\n",
    "scrapee = '../dormouse.html'\n",
    "\n",
    "text = open(scrapee).read()\n",
    "\n",
    "soup = BeautifulSoup(text, 'html.parser')\n",
    "\n",
    "first_meta = soup.find(\"meta\")\n",
    "\n",
    "print(first_meta['name'])\n",
    "print(first_meta['value'])\n",
    "\n"
   ]
  },
  {
   "cell_type": "markdown",
   "id": "b486d7d7",
   "metadata": {},
   "source": [
    " "
   ]
  },
  {
   "cell_type": "markdown",
   "id": "9b9555f0",
   "metadata": {},
   "source": [
    "<B>3.22:  <U>Find all parameter values</U>:  for those tags that have them, use <B>.find\\_all()</B> to access multiple tags with the same criteria.  </B>"
   ]
  },
  {
   "cell_type": "code",
   "execution_count": 13,
   "id": "8517422c",
   "metadata": {},
   "outputs": [
    {
     "name": "stdout",
     "output_type": "stream",
     "text": [
      "[]\n"
     ]
    }
   ],
   "source": [
    "from bs4 import BeautifulSoup\n",
    "\n",
    "scrapee = '../dormouse.html'\n",
    "\n",
    "text = open(scrapee).read()\n",
    "\n",
    "soup = BeautifulSoup(text, 'html.parser')\n",
    "\n",
    "param_values = soup.find_all('',attrs={'name':''})\n",
    "print(param_values)"
   ]
  },
  {
   "cell_type": "markdown",
   "id": "f4f233d5",
   "metadata": {},
   "source": [
    " "
   ]
  },
  {
   "cell_type": "markdown",
   "id": "7ba18422",
   "metadata": {},
   "source": [
    "LAB"
   ]
  },
  {
   "cell_type": "markdown",
   "id": "aedd6cdc",
   "metadata": {},
   "source": [
    "The following exercises will parse the <B>test\\_scrape.html</B> page in this week's session folder.\n"
   ]
  },
  {
   "cell_type": "markdown",
   "id": "e6ab461b",
   "metadata": {},
   "source": [
    "<pre style=\"margin: 0; padding=0\"><DIV style=\"font-family: Courier; border: 1px solid #dbdbdb; padding: 7px\">&lt;html&gt;\n",
    "  &lt;head&gt;\n",
    "    &lt;title&gt;This is a page title.&lt;/title&gt;\n",
    "  &lt;/head&gt;\n",
    "  &lt;body&gt;\n",
    "    &lt;h3 class=\"heading\"&gt;This is a page heading.&lt;/h3&gt;\n",
    "    &lt;p&gt;This is some text.&lt;/p&gt;\n",
    "    &lt;p&gt;This is some more text.&lt;/p&gt;\n",
    "    &lt;h3 class=\"midpage\"&gt;This is a midpage heading.&lt;/h3&gt;\n",
    "    &lt;p&gt;This is even more text.&lt;/p&gt;\n",
    "    &lt;div content=\"Some div parameter content we want!\"&gt;\n",
    "    Some div text!\n",
    "    &lt;/div&gt;\n",
    "  &lt;/body&gt;\n",
    "&lt;/html&gt;</DIV></pre>"
   ]
  },
  {
   "cell_type": "markdown",
   "id": "87eca444",
   "metadata": {},
   "source": [
    " "
   ]
  },
  {
   "cell_type": "markdown",
   "id": "861008e0",
   "metadata": {},
   "source": [
    "<div style=\"background-color: #ccffcc; padding: 10px; border: 2px solid green\"><B>3.23:  In <B>test\\_scrape.html</B>, scrape the page title (the title within the &lt;title&gt; tags) and print it.</B></div>"
   ]
  },
  {
   "cell_type": "code",
   "execution_count": null,
   "id": "e4ec60ea",
   "metadata": {},
   "outputs": [],
   "source": [
    "from bs4 import BeautifulSoup\n",
    "\n",
    "fname = '../test_scrape.html'\n",
    "\n",
    "fh = open(fname)\n",
    "text = fh.read()\n",
    "\n",
    "soup = BeautifulSoup(text, 'html.parser')"
   ]
  },
  {
   "cell_type": "markdown",
   "id": "dfe04f99",
   "metadata": {},
   "source": [
    "<U>Expected output</U>:"
   ]
  },
  {
   "cell_type": "code",
   "execution_count": null,
   "id": "ebf53e70",
   "metadata": {},
   "outputs": [],
   "source": [
    "This is a page title."
   ]
  },
  {
   "cell_type": "markdown",
   "id": "dce32aee",
   "metadata": {},
   "source": [
    "Note that you may occasionally encounter a <B>UnicodeDecodeError</B> when you attempt to read a file from the internet.  In these cases you should tell Python which encoding to use:"
   ]
  },
  {
   "cell_type": "code",
   "execution_count": null,
   "id": "c1b0d685",
   "metadata": {},
   "outputs": [],
   "source": [
    "text = open(scrapee, encoding='utf-8')"
   ]
  },
  {
   "cell_type": "markdown",
   "id": "0a90edf7",
   "metadata": {},
   "source": [
    " "
   ]
  },
  {
   "cell_type": "markdown",
   "id": "2c624cf9",
   "metadata": {},
   "source": [
    "<div style=\"background-color: #ccffcc; padding: 10px; border: 2px solid green\"><B>3.24:  Scrape and print the &lt;h3&gt; tag in the middle of the page (not the first <B>&lt;h3&gt;</B> tag)</B></div>"
   ]
  },
  {
   "cell_type": "code",
   "execution_count": null,
   "id": "30593aff",
   "metadata": {},
   "outputs": [],
   "source": [
    "from bs4 import BeautifulSoup\n",
    "\n",
    "fname = '../test_scrape.html'\n",
    "\n",
    "fh = open(fname)\n",
    "text = fh.read()\n",
    "\n",
    "soup = BeautifulSoup(text, 'html.parser')"
   ]
  },
  {
   "cell_type": "markdown",
   "id": "47298180",
   "metadata": {},
   "source": [
    "<U>Expected Output</U>:"
   ]
  },
  {
   "cell_type": "markdown",
   "id": "5bce10a4",
   "metadata": {},
   "source": [
    "<pre style=\"margin: 0; padding=0\"><DIV style=\"font-family: Courier; border: 1px solid #dbdbdb; padding: 7px\">This is a midpage heading.</DIV></pre>"
   ]
  },
  {
   "cell_type": "markdown",
   "id": "41abbb48",
   "metadata": {},
   "source": [
    " "
   ]
  },
  {
   "cell_type": "markdown",
   "id": "af42e493",
   "metadata": {},
   "source": [
    "<div style=\"background-color: #ccffcc; padding: 10px; border: 2px solid green\"><B>3.25:  Scrape and print the &lt;div&gt; text as well as the <B>\"content\"</B> parameter value.  </B></div>"
   ]
  },
  {
   "cell_type": "code",
   "execution_count": null,
   "id": "e59d551d",
   "metadata": {},
   "outputs": [],
   "source": [
    "from bs4 import BeautifulSoup\n",
    "\n",
    "fname = '../test_scrape.html'\n",
    "\n",
    "fh = open(fname)\n",
    "text = fh.read()\n",
    "\n",
    "soup = BeautifulSoup(text, 'html.parser')"
   ]
  },
  {
   "cell_type": "markdown",
   "id": "1dde6d86",
   "metadata": {},
   "source": [
    "<U>Expected Output</U>:"
   ]
  },
  {
   "cell_type": "markdown",
   "id": "48f83416",
   "metadata": {},
   "source": [
    "<pre style=\"margin: 0; padding=0\"><DIV style=\"font-family: Courier; border: 1px solid #dbdbdb; padding: 7px\">Some div parameter content we want!\n",
    "\n",
    "    Some div text!\n",
    "</DIV></pre>"
   ]
  },
  {
   "cell_type": "markdown",
   "id": "c131b909",
   "metadata": {},
   "source": [
    " "
   ]
  },
  {
   "cell_type": "markdown",
   "id": "0a355804",
   "metadata": {},
   "source": [
    "<div style=\"background-color: #ccffcc; padding: 10px; border: 2px solid green\"><B>3.26:  Scrape and print each of the &lt;p&gt; tag texts.  </B></div>"
   ]
  },
  {
   "cell_type": "code",
   "execution_count": null,
   "id": "16dc1d8e",
   "metadata": {},
   "outputs": [],
   "source": [
    "from bs4 import BeautifulSoup\n",
    "\n",
    "fname = '../test_scrape.html'\n",
    "\n",
    "fh = open(fname)\n",
    "text = fh.read()\n",
    "\n",
    "soup = BeautifulSoup(text, 'html.parser')"
   ]
  },
  {
   "cell_type": "markdown",
   "id": "e900f174",
   "metadata": {},
   "source": [
    "<U>Expected Output</U>:"
   ]
  },
  {
   "cell_type": "markdown",
   "id": "49fd51b5",
   "metadata": {},
   "source": [
    "<pre style=\"margin: 0; padding=0\"><DIV style=\"font-family: Courier; border: 1px solid #dbdbdb; padding: 7px\">This is some text.\n",
    "This is some more text.\n",
    "This is even more text.</DIV></pre>"
   ]
  },
  {
   "cell_type": "markdown",
   "id": "2cf4b89d",
   "metadata": {},
   "source": [
    " "
   ]
  },
  {
   "cell_type": "markdown",
   "id": "6c793c0c",
   "metadata": {},
   "source": [
    "WORKING WITH ENCODINGS AND UNICODE"
   ]
  },
  {
   "cell_type": "markdown",
   "id": "bdaeee8e",
   "metadata": {},
   "source": [
    "<B>3.27:  <U>Use ord() and chr() to encode characters to integers and decode integers to characters</U>.</B>"
   ]
  },
  {
   "cell_type": "markdown",
   "id": "a5e7ad1a",
   "metadata": {},
   "source": [
    "Use the <B>ord()</B> function to convert this character to an integer; then use the <B>chr()</B> function to convert back from integer to character."
   ]
  },
  {
   "cell_type": "code",
   "execution_count": null,
   "id": "b44322b2",
   "metadata": {},
   "outputs": [],
   "source": [
    "char = 'A'\n",
    "\n"
   ]
  },
  {
   "cell_type": "markdown",
   "id": "a65ffdb8",
   "metadata": {},
   "source": [
    " "
   ]
  },
  {
   "cell_type": "markdown",
   "id": "520f350e",
   "metadata": {},
   "source": [
    "<B>3.28:  <U>Demonstratin:  note how you can use integers to retrieve characters</U>.  </B>"
   ]
  },
  {
   "cell_type": "markdown",
   "id": "dd2cb1aa",
   "metadata": {},
   "source": [
    "You can use integers to retrieve characters.  Run the following program:"
   ]
  },
  {
   "cell_type": "code",
   "execution_count": null,
   "id": "aa0bdaf8",
   "metadata": {},
   "outputs": [],
   "source": [
    "for idx in range(65, 70):\n",
    "    print(chr(idx))\n"
   ]
  },
  {
   "cell_type": "markdown",
   "id": "fc71364f",
   "metadata": {},
   "source": [
    " "
   ]
  },
  {
   "cell_type": "markdown",
   "id": "169590e3",
   "metadata": {},
   "source": [
    "<B>3.29:  <U>Use str.encode() and bytes.decode() to convert a string to a bytestring and back to string</U>.</B>"
   ]
  },
  {
   "cell_type": "markdown",
   "id": "81795e0b",
   "metadata": {},
   "source": [
    "<B>greet.encode()</B> should include an encoding ('ascii', 'latin-1' or 'utf-8'):"
   ]
  },
  {
   "cell_type": "code",
   "execution_count": null,
   "id": "4b93f865",
   "metadata": {},
   "outputs": [],
   "source": [
    "greet = 'Hello, world!'\n",
    "\n",
    "bytestr = greet.encode(# add encoding here)\n",
    "print(bytestr)\n",
    "\n",
    "# subscript the bytestring to see individual characters\n",
    "\n",
    "\n",
    "\n",
    "# now call bytestr.decode() with the same encoding to see the string again\n"
   ]
  },
  {
   "cell_type": "markdown",
   "id": "e18b21a9",
   "metadata": {},
   "source": [
    " "
   ]
  },
  {
   "cell_type": "markdown",
   "id": "b1440602",
   "metadata": {},
   "source": [
    "<B>3.30:  <U>Encode a latin-1 string to bytes and back to string, then try to encode as ascii</U></B>"
   ]
  },
  {
   "cell_type": "markdown",
   "id": "a75bdfa0",
   "metadata": {},
   "source": [
    "The below string contains a non-ascii character.  Encode into the following encodings:  'latin-1', 'utf-8' and 'ascii'.\n"
   ]
  },
  {
   "cell_type": "code",
   "execution_count": null,
   "id": "edf65a72",
   "metadata": {},
   "outputs": [],
   "source": [
    "string = 'voilà'\n",
    "\n",
    "bytestr = string.encode(# add encoding here)\n",
    "\n",
    "print(bytestr)"
   ]
  },
  {
   "cell_type": "markdown",
   "id": "20695aae",
   "metadata": {},
   "source": [
    " "
   ]
  },
  {
   "cell_type": "markdown",
   "id": "59f26770",
   "metadata": {},
   "source": [
    "<B>3.31:  <U>Open a file in various encodings</U>.  The text of the following file is French, and we are opening it in utf-8 (Python's default).  Try to open the file with <B>encoding='latin-1'</B> and <B>encoding='ascii'</B>.  </B>"
   ]
  },
  {
   "cell_type": "code",
   "execution_count": null,
   "id": "76e2245c",
   "metadata": {},
   "outputs": [],
   "source": [
    "filename = '../la_vie.txt'\n",
    "\n",
    "fh = open(filename, encoding='utf-8')\n",
    "\n",
    "print(fh.read())"
   ]
  },
  {
   "cell_type": "markdown",
   "id": "7d72f34f",
   "metadata": {},
   "source": [
    " "
   ]
  },
  {
   "cell_type": "markdown",
   "id": "ca99af53",
   "metadata": {},
   "source": [
    "<B>3.32:  <U>Use the <B>chardet</B> library to \"sniff\" an encoding</U>.  Given the below strings, use <B>chardet.detect()</B> with each of the two bytestring to get Python's best guess as to its encoding.  Print the resulting dict from <B>.detect()</B>.  </B>"
   ]
  },
  {
   "cell_type": "code",
   "execution_count": null,
   "id": "4e4fc2d8",
   "metadata": {},
   "outputs": [],
   "source": [
    "import chardet\n",
    "\n",
    "bytestr1 = 'voilà'.encode('utf-8')\n",
    "\n",
    "bytestr2 = 'hello'.encode('utf-8')\n",
    "\n"
   ]
  },
  {
   "cell_type": "markdown",
   "id": "e54023fd",
   "metadata": {},
   "source": [
    " "
   ]
  },
  {
   "cell_type": "markdown",
   "id": "1c3aac29",
   "metadata": {},
   "source": [
    "optional:  FLASK"
   ]
  },
  {
   "cell_type": "markdown",
   "id": "a839260d",
   "metadata": {},
   "source": [
    " "
   ]
  },
  {
   "cell_type": "markdown",
   "id": "522e3ce2",
   "metadata": {},
   "source": [
    "In these exercises, we'll re-create a Flask application that takes form input and displays an image.\n",
    "\n",
    "You can supplement these instructions with your own application idea -- one that uses user input to choose and display images."
   ]
  },
  {
   "cell_type": "markdown",
   "id": "981705ff",
   "metadata": {},
   "source": [
    " "
   ]
  },
  {
   "cell_type": "markdown",
   "id": "610d76fd",
   "metadata": {},
   "source": [
    "<B>3.33:  Create a simple Flask 'hello world' app that greets the user, and start the application.</B>"
   ]
  },
  {
   "cell_type": "markdown",
   "id": "5eaa4a8f",
   "metadata": {},
   "source": [
    "Use the basic <B>hello\\_flask.py</B> example.\n",
    "\n",
    "Start the application by running it from the command line (the Terminal or Command Prompt window).\n",
    "\n",
    "<U>Expected Output</U>:"
   ]
  },
  {
   "cell_type": "markdown",
   "id": "89646a2c",
   "metadata": {},
   "source": [
    "<pre style=\"margin: 0; padding=0\"><DIV style=\"font-family: Courier; border: 1px solid #dbdbdb; padding: 7px\">$ ./hello.py\n",
    " * Running on http://127.0.0.1:5000/ (Press CTRL+C to quit)\n",
    " * Restarting with stat\n",
    " * Debugger is active!\n",
    " * Debugger PIN: 323-629-461</DIV></pre>"
   ]
  },
  {
   "cell_type": "markdown",
   "id": "ff254488",
   "metadata": {},
   "source": [
    " "
   ]
  },
  {
   "cell_type": "markdown",
   "id": "9c63e1f3",
   "metadata": {},
   "source": [
    "<B>3.34:  Call the application from a browser.</B>"
   ]
  },
  {
   "cell_type": "markdown",
   "id": "277facba",
   "metadata": {},
   "source": [
    "Call the application from a browser with the following URL; you should see \"Hello, World!\" displayed in the browser.\n"
   ]
  },
  {
   "cell_type": "markdown",
   "id": "bfb55566",
   "metadata": {},
   "source": [
    "<pre style=\"margin: 0; padding=0\"><DIV style=\"font-family: Courier; border: 1px solid #dbdbdb; padding: 7px\">http://localhost:5000/hello</DIV></pre>"
   ]
  },
  {
   "cell_type": "markdown",
   "id": "0dd81edf",
   "metadata": {},
   "source": [
    "<U>Expected Output</U>:"
   ]
  },
  {
   "cell_type": "markdown",
   "id": "e832454a",
   "metadata": {},
   "source": [
    "<pre style=\"margin: 0; padding=0\"><DIV style=\"font-family: Courier; border: 1px solid #dbdbdb; padding: 7px\">Hello, world!</DIV></pre>"
   ]
  },
  {
   "cell_type": "markdown",
   "id": "4569a2fd",
   "metadata": {},
   "source": [
    " "
   ]
  },
  {
   "cell_type": "markdown",
   "id": "8e13a9c5",
   "metadata": {},
   "source": [
    "<B>3.35:  (Exploratory exercise):  view log messages at command line.  </B>"
   ]
  },
  {
   "cell_type": "markdown",
   "id": "dfcbd005",
   "metadata": {},
   "source": [
    "The sample code from the <B>hello world</B> app contains a <B>print()</B> statement.  Look in the Terminal or Command Prompt window to see the print output displayed.\n",
    "\n",
    "Refresh the page several times so you can see that the log message is displayed.\n",
    "<U>Sample program run</U>:"
   ]
  },
  {
   "cell_type": "markdown",
   "id": "0f8990dd",
   "metadata": {},
   "source": [
    "<pre style=\"margin: 0; padding=0\"><DIV style=\"font-family: Courier; border: 1px solid #dbdbdb; padding: 7px\">*** DEBUG:  inside hello_world() ***\n",
    "127.0.0.1 - - [24/Mar/2018 13:45:59] \"GET /hello HTTP/1.1\" 200 -\n",
    "*** DEBUG:  inside hello_world() ***\n",
    "127.0.0.1 - - [24/Mar/2018 13:45:59] \"GET /hello HTTP/1.1\" 200 -\n",
    "*** DEBUG:  inside hello_world() ***\n",
    "127.0.0.1 - - [24/Mar/2018 13:46:00] \"GET /hello HTTP/1.1\" 200 -</DIV></pre>"
   ]
  },
  {
   "cell_type": "markdown",
   "id": "8c4a2437",
   "metadata": {},
   "source": [
    " "
   ]
  },
  {
   "cell_type": "markdown",
   "id": "a6dc95db",
   "metadata": {},
   "source": [
    "<B>3.36:  Add another <B>@app.route()</B> function. </B>"
   ]
  },
  {
   "cell_type": "markdown",
   "id": "b6a7f174",
   "metadata": {},
   "source": [
    "Add another <B>@app.route()</B> function that says \"Goodbye, now!  Come on back, y'hear?\".  This function should be called when the user adds <B>/goodbye</B> to the URL.\n",
    "\n",
    "Call the new URL:"
   ]
  },
  {
   "cell_type": "markdown",
   "id": "ec8671c7",
   "metadata": {},
   "source": [
    "<pre style=\"margin: 0; padding=0\"><DIV style=\"font-family: Courier; border: 1px solid #dbdbdb; padding: 7px\">http://localhost:5000/goodbye</DIV></pre>"
   ]
  },
  {
   "cell_type": "markdown",
   "id": "60ce79cf",
   "metadata": {},
   "source": [
    "<U>Expected Output</U>:"
   ]
  },
  {
   "cell_type": "markdown",
   "id": "3e4001e2",
   "metadata": {},
   "source": [
    "<pre style=\"margin: 0; padding=0\"><DIV style=\"font-family: Courier; border: 1px solid #dbdbdb; padding: 7px\">Goodbye, now!  Come on back, y'hear?</DIV></pre>"
   ]
  },
  {
   "cell_type": "markdown",
   "id": "428da233",
   "metadata": {},
   "source": [
    " "
   ]
  },
  {
   "cell_type": "markdown",
   "id": "3abbddc8",
   "metadata": {},
   "source": [
    "<B>3.37:  Add templates for <B>/hello</B> and <B>/goodbye</B> so that when the user visits, it returns a template rather than a string.  </B>"
   ]
  },
  {
   "cell_type": "markdown",
   "id": "f8f8b1a2",
   "metadata": {},
   "source": [
    "The templates must be placed within a folder called <B>template/</B> that is in the same directory as the script.\n",
    "\n",
    "Here is the template to add for hello (<B>hello.html</B>, included in this session's files):"
   ]
  },
  {
   "cell_type": "markdown",
   "id": "304b809f",
   "metadata": {},
   "source": [
    "<pre style=\"margin: 0; padding=0\"><DIV style=\"font-family: Courier; border: 1px solid #dbdbdb; padding: 7px\">&lt;html&gt;\n",
    "  &lt;head&gt;&lt;title&gt;A Greeting&lt;/title&gt;&lt;/head&gt;\n",
    "  &lt;body&gt;\n",
    "      &lt;h1&gt;Hello, Template!&lt;/h1&gt;\n",
    "  &lt;/body&gt;\n",
    "&lt;/html&gt;</DIV></pre>"
   ]
  },
  {
   "cell_type": "markdown",
   "id": "a9642765",
   "metadata": {},
   "source": [
    "<U>Expected Output</U>:"
   ]
  },
  {
   "cell_type": "markdown",
   "id": "b28aeb4e",
   "metadata": {},
   "source": [
    "<pre style=\"margin: 0; padding=0\"><DIV style=\"font-family: Courier; border: 1px solid #dbdbdb; padding: 7px\">Hello, Template!</DIV></pre>"
   ]
  },
  {
   "cell_type": "markdown",
   "id": "55236909",
   "metadata": {},
   "source": [
    "Here is the template to add for goodbye (<B>goodbye.html</B>, included in this session's files):"
   ]
  },
  {
   "cell_type": "markdown",
   "id": "6aa44856",
   "metadata": {},
   "source": [
    "<pre style=\"margin: 0; padding=0\"><DIV style=\"font-family: Courier; border: 1px solid #dbdbdb; padding: 7px\">&lt;html&gt;\n",
    "  &lt;head&gt;&lt;title&gt;A Farewell&lt;/title&gt;&lt;/head&gt;\n",
    "  &lt;body&gt;\n",
    "      &lt;h1&gt;Goodbye, now!  Come on back, y'hear?!&lt;/h1&gt;\n",
    "  &lt;/body&gt;\n",
    "&lt;/html&gt;</DIV></pre>"
   ]
  },
  {
   "cell_type": "markdown",
   "id": "de1a9989",
   "metadata": {},
   "source": [
    "<U>Expected Output</U>:"
   ]
  },
  {
   "cell_type": "markdown",
   "id": "7db58717",
   "metadata": {},
   "source": [
    "<pre style=\"margin: 0; padding=0\"><DIV style=\"font-family: Courier; border: 1px solid #dbdbdb; padding: 7px\">Goodbye, now!  Come on back, y'hear?!</DIV></pre>"
   ]
  },
  {
   "cell_type": "markdown",
   "id": "0fb8aab9",
   "metadata": {},
   "source": [
    " "
   ]
  },
  {
   "cell_type": "markdown",
   "id": "8d902e05",
   "metadata": {},
   "source": [
    "<B>3.38:  Add a \"static\" HTML page with a link that calls the <B>hello/</B> function, and another link that calls the <B>goodbye/</B> function.  </B>"
   ]
  },
  {
   "cell_type": "markdown",
   "id": "217124ed",
   "metadata": {},
   "source": [
    "This page has been added as <B>launch.html</B>, also in the <B>templates/</B> directory.\n"
   ]
  },
  {
   "cell_type": "markdown",
   "id": "b3735e5d",
   "metadata": {},
   "source": [
    "<pre style=\"margin: 0; padding=0\"><DIV style=\"font-family: Courier; border: 1px solid #dbdbdb; padding: 7px\">&lt;html&gt;\n",
    "  &lt;head&gt;&lt;title&gt;Launch&lt;/title&gt;&lt;/head&gt;\n",
    "  &lt;body&gt;\n",
    "    &lt;h1&gt;Launch!&lt;/h1&gt;\n",
    "    &lt;A HREF=\"http://localhost:5000/hello\"&gt;say hello&lt;/A&gt;&lt;br&gt;&lt;br&gt;\n",
    "    &lt;A HREF=\"http://localhost:5000/goodbye\"&gt;say goodbye&lt;/A&gt;\n",
    "  &lt;/body&gt;\n",
    "&lt;/html&gt;</DIV></pre>"
   ]
  },
  {
   "cell_type": "markdown",
   "id": "6c7a774c",
   "metadata": {},
   "source": [
    "As you can see, each link points to another place in the app.\n",
    "\n",
    "After saving this page as <B>launch.html</B>, use your browser's <B>File > Open File...</B> to navigate to the page and display it.  You'll see the two links displayed.\n",
    "\n",
    "<U>Expected output</U>:\n",
    "Click on each one to see that the page calls the Flask app and displays the proper template."
   ]
  },
  {
   "cell_type": "markdown",
   "id": "beedf3c0",
   "metadata": {},
   "source": [
    " "
   ]
  },
  {
   "cell_type": "markdown",
   "id": "bc9742a1",
   "metadata": {},
   "source": [
    "<B>3.39:  Add a link on the <B>hello/</B> page that calls the <B>goodbye/</B> page, and one on the <B>goodbye/</B> page that calls the <B>hello/</B> page.</B>"
   ]
  },
  {
   "cell_type": "markdown",
   "id": "48553829",
   "metadata": {},
   "source": [
    "However, don't use the <B>&lt;A HREF=</B> URL as was done in the launch page.  Instead, use the <B>flask.url\\_for()</B> function and allow Flask to build the URL for you:"
   ]
  },
  {
   "cell_type": "markdown",
   "id": "7ec107ea",
   "metadata": {},
   "source": [
    "<pre style=\"margin: 0; padding=0\"><DIV style=\"font-family: Courier; border: 1px solid #dbdbdb; padding: 7px\">&lt;A HREF=\"{{ url_for('hello_world') }}\"&gt;say goodbye&lt;/A&gt;</DIV></pre>"
   ]
  },
  {
   "cell_type": "markdown",
   "id": "aae647be",
   "metadata": {},
   "source": [
    "Also make special note that the argument to <B>url\\_for()</B> is <I>the name of the function</I>, not the <B>@app.route()</B> URL string.\n",
    "\n",
    "<U>Expected output</U>:\n",
    "You should be able to click back and forth between one page and another by clicking the link on each page."
   ]
  },
  {
   "cell_type": "markdown",
   "id": "027d726e",
   "metadata": {},
   "source": [
    " "
   ]
  },
  {
   "cell_type": "markdown",
   "id": "6dbd7792",
   "metadata": {},
   "source": [
    "<B>3.40:  Add the following form to the <B>hello.html</B> template, which features a <B>&lt;select&gt;</B> dropdown and and an <B>&lt;input&gt;</B> field.  Call the app through the form by submitting the form.  </B>"
   ]
  },
  {
   "cell_type": "markdown",
   "id": "079c0dca",
   "metadata": {},
   "source": [
    "<pre style=\"margin: 0; padding=0\"><DIV style=\"font-family: Courier; border: 1px solid #dbdbdb; padding: 7px\">    &lt;form action=\"<B>http://localhost:5000/goodbye</B>\"&gt;\n",
    "\n",
    "    Please enter a caption:  &lt;input type=\"text\" name=\"caption\"&gt;\n",
    "    &lt;br&gt;\n",
    "\n",
    "    Please select a mood:\n",
    "    &lt;select name=\"mood\"&gt;\n",
    "        &lt;option&gt;happy&lt;/option&gt;\n",
    "        &lt;option&gt;sad&lt;/option&gt;\n",
    "    &lt;/select&gt;\n",
    "    &lt;br&gt;\n",
    "\n",
    "        &lt;input type=\"submit\"&gt;\n",
    "    &lt;/form&gt;</DIV></pre>"
   ]
  },
  {
   "cell_type": "markdown",
   "id": "bea3f36f",
   "metadata": {},
   "source": [
    " "
   ]
  },
  {
   "cell_type": "markdown",
   "id": "4d287170",
   "metadata": {},
   "source": [
    "<B>3.41:  Read the <B>caption</B> and <B>mood</B> field values and include them in the <B>goodbye.html</B> template.  </B>"
   ]
  },
  {
   "cell_type": "markdown",
   "id": "1a8cd403",
   "metadata": {},
   "source": [
    "The form sends field values for \"caption\" and \"mood\" to the app when it calls the <B>goodbye/</B> URL; retrieve these values using <B>flask.request.args.get('caption')</B> and <B>flask.request.args.get('mood')</B>.\n",
    "\n",
    "Use the <B>{{ [token name] }}</B> token (where <B>[token\\_name]</B> is the token name) to insert a value into the template.  Add parameter arguments (for example <B>caption=[caption variable]</B>, where <B>[caption variable]</B> is whatever variable you used to retrieve the value from the form) to <B>render\\_template()</B> to insert the value.\n",
    "\n",
    "<U>Expected Output</U>:"
   ]
  },
  {
   "cell_type": "markdown",
   "id": "3a843b9f",
   "metadata": {},
   "source": [
    "<pre style=\"margin: 0; padding=0\"><DIV style=\"font-family: Courier; border: 1px solid #dbdbdb; padding: 7px\">Goodbye, now! Come on back, y'hear?!\n",
    "\n",
    "caption: Hi there (or whatever you typed into form)\n",
    "mood: happy (or whichever mood you chose)\n",
    "say hello</DIV></pre>"
   ]
  },
  {
   "cell_type": "markdown",
   "id": "3721d825",
   "metadata": {},
   "source": [
    "Note that <B>Hi there</B> and <B>happy</B> are values that I entered into the form when I submitted it."
   ]
  },
  {
   "cell_type": "markdown",
   "id": "3d80ac70",
   "metadata": {},
   "source": [
    " "
   ]
  },
  {
   "cell_type": "markdown",
   "id": "74fb1dc8",
   "metadata": {},
   "source": [
    "<B>3.42:  Add an image to the <B>goodbye</B> page.  </B>"
   ]
  },
  {
   "cell_type": "markdown",
   "id": "3667f958",
   "metadata": {},
   "source": [
    "Add the <B>happup.jpg</B> image to the <B>goodbye.html</B> template.\n",
    "\n",
    "In order to reference images in an HTML page served by flask, we must put the images in <B>static/images</B> and reference them using <B>&lt;IMG SRC=\"{{ url\\_for('static', filename='images/[name of image file]') }}\"&gt;</B>.\n",
    "\n",
    "<U>Expected Output</U>:\n",
    "You should see the <B>happup.jpg</B> image along with the form input values"
   ]
  },
  {
   "cell_type": "markdown",
   "id": "ea2c80e7",
   "metadata": {},
   "source": [
    " "
   ]
  },
  {
   "cell_type": "markdown",
   "id": "1c995e72",
   "metadata": {},
   "source": [
    "<B>3.43:  Choose an image based on the user's dropdown choice.  </B>"
   ]
  },
  {
   "cell_type": "markdown",
   "id": "c52d379f",
   "metadata": {},
   "source": [
    "Now add the <B>sadpup.jpg</B> image to the <B>static/images/</B> directory and modify the script so that it sends either image name to the template based on the user's \"mood\" choice.\n",
    "\n",
    "Use the <B>{% if [varname] == [value] %}  {% else %}  {% endif %}</B> construct to have the template show either the <B>happup.jpg</B> or <B>sadpup.jpg</B> image.\n",
    "\n",
    "Also, place the <B>caption</B> string beneath the image.\n",
    "\n",
    "<U>Expected Output</U>:\n",
    "You should see the <B>happup.jpg</B> or <B>sadpup.jpg</B> image displayed along with a caption beneath."
   ]
  },
  {
   "cell_type": "markdown",
   "id": "6b7bcfb9",
   "metadata": {},
   "source": [
    " "
   ]
  }
 ],
 "metadata": {
  "kernelspec": {
   "display_name": "Python 3.10.4 ('advanced-python-8Ba9e6pY-py3.10')",
   "language": "python",
   "name": "python3"
  },
  "language_info": {
   "codemirror_mode": {
    "name": "ipython",
    "version": 3
   },
   "file_extension": ".py",
   "mimetype": "text/x-python",
   "name": "python",
   "nbconvert_exporter": "python",
   "pygments_lexer": "ipython3",
   "version": "3.10.4"
  },
  "vscode": {
   "interpreter": {
    "hash": "5deea3c14a40c38470cc15028802a4125b0f91bc744977c3432a5175c03eb7e4"
   }
  }
 },
 "nbformat": 4,
 "nbformat_minor": 5
}
