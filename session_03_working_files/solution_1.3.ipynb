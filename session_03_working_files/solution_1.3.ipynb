{
 "cells": [
  {
   "cell_type": "code",
   "execution_count": 1,
   "metadata": {},
   "outputs": [],
   "source": [
    "import requests\n",
    "import bs4\n",
    "\n",
    "url ='https://www.washingtonpost.com/technology/2022/06/21/nasa-sls-moon-rocket-space-launch-system/'\n",
    "\n",
    "response = requests.get(url)\n",
    "\n",
    "html_text = response.text\n",
    "\n",
    "soup = bs4.BeautifulSoup(html_text,'html.parser')"
   ]
  },
  {
   "cell_type": "code",
   "execution_count": 29,
   "metadata": {},
   "outputs": [
    {
     "name": "stdout",
     "output_type": "stream",
     "text": [
      "Title: NASA finally fuels moon rocket, but first launch remains a question\n"
     ]
    }
   ],
   "source": [
    "# the title (please find it in a <meta> tag)\n",
    "title_meta = soup.find('meta',attrs={'property':'og:title'})\n",
    "\n",
    "print(f'Title: {title_meta.get(\"content\")}')\n"
   ]
  },
  {
   "cell_type": "code",
   "execution_count": 30,
   "metadata": {},
   "outputs": [
    {
     "name": "stdout",
     "output_type": "stream",
     "text": [
      "Byline: Christian Davenport\n"
     ]
    }
   ],
   "source": [
    "#the author name(s) (please find it in a <meta> tag)\n",
    "author_name = soup.find('a', attrs={'data-qa':'author-name'})\n",
    "print(f'Byline: {author_name.text}')"
   ]
  },
  {
   "cell_type": "code",
   "execution_count": 33,
   "metadata": {},
   "outputs": [
    {
     "name": "stdout",
     "output_type": "stream",
     "text": [
      "Date: 2022-06-21\n"
     ]
    }
   ],
   "source": [
    "#the date (please find it in a <meta> tag, then reformat as desired)\n",
    "publish_date = soup.find('meta',attrs={'property':'article:published_time'})\n",
    "formated_date = publish_date.get('content')[:10]\n",
    "print(f'Date: {formated_date}')"
   ]
  },
  {
   "cell_type": "code",
   "execution_count": 34,
   "metadata": {},
   "outputs": [
    {
     "name": "stdout",
     "output_type": "stream",
     "text": [
      "NASA finally fully fueled its massive moon rocket on Monday, but a hydrogen leak forced the agency to cut short a simulated countdown, and it is not clear when the agency might attempt to launch the rocket for the first time. \n",
      "\n",
      "Despite the leak, NASA officials on Tuesday hailed the test — its fourth attempt — as a success that will put it on a path to launch the Orion spacecraft to the moon later this year as part of its Artemis lunar campaign. \n",
      "\n",
      "“It was a great day,” Charlie Blackwell-Thompson, the Artemis launch director, told reporters during a briefing. “It was a very successful day, and we accomplished a majority of the objectives that we had not completed in the prior” tests. \n",
      "\n",
      "The earlier attempts were cut short because of various problems, including a faulty valve in the rocket’s second stage in a line supplying liquid hydrogen; problems with temperature readings of propellant; and the malfunctioning of fans used to pressurize the mobile launch tower. NASA had to roll the rocket back to its assembly building at the Kennedy Space Center to make repairs before rolling it back out for the latest attempt. \n",
      "\n",
      "NASA officials said they needed to look at the data before making a decision about whether to attempt a fifth test, known as a “wet dress rehearsal,” or to proceed to a launch attempt. \n",
      "\n",
      "The launch would be the first step in NASA’s Artemis program, a plan to return astronauts to the surface of the moon by 2025. NASA is working toward the first launch, known as Artemis I, which would send the Orion spacecraft, without any astronauts onboard, in orbit around the moon. NASA was hoping that flight could come as soon as late August, but now the schedule is uncertain. \n",
      "\n",
      "On the second flight, Artemis II, four astronauts would fly in Orion to orbit, but not land on, the moon. A landing by two astronauts would come in 2025. But the entire schedule is subject to change, as NASA works out kinks in the rocket, which is more than $1 billion over budget and years behind schedule. The Space Launch System (SLS) rocket has been derided as the “Senate Launch System” by critics who say it is more suited to creating jobs in key congressional districts than to exploration. \n",
      "\n",
      "Just this month, the NASA inspector general issued a scathing report saying that the rocket’s mobile launch tower cost $668.7 million alone and that a new one, needed for an upgraded version of the SLS, will cost at least $1 billion. \n",
      "\n",
      "During Monday’s test, NASA was able, for the first time, to fully load the rocket’s two stages with more than 700,000 gallons of super-cold liquid oxygen and liquid hydrogen — a significant milestone, NASA officials said. \n",
      "\n",
      "After loading the rocket, NASA proceeded with a simulated countdown that was “extremely smooth,” Blackwell-Thompson said. But the count was terminated with 29 seconds to go after the countdown was handed off to the rocket’s onboard computers, which sensed the leak. \n",
      "\n",
      "“We’re going to take a little bit of time and look and see what all that means moving forward,” said Mike Sarafin, the Artemis I mission manager. “But we had a very, very successful test.” \n",
      "\n"
     ]
    }
   ],
   "source": [
    "#the paragraphs of the article\n",
    "paragraphs = soup.find_all('p',attrs={'data-qa':'drop-cap-letter'})\n",
    "\n",
    "for paragraph in paragraphs:\n",
    "    print(paragraph.text,'\\n')"
   ]
  },
  {
   "cell_type": "code",
   "execution_count": null,
   "metadata": {},
   "outputs": [],
   "source": []
  }
 ],
 "metadata": {
  "kernelspec": {
   "display_name": "Python 3.10.4 ('advanced-python-8Ba9e6pY-py3.10')",
   "language": "python",
   "name": "python3"
  },
  "language_info": {
   "codemirror_mode": {
    "name": "ipython",
    "version": 3
   },
   "file_extension": ".py",
   "mimetype": "text/x-python",
   "name": "python",
   "nbconvert_exporter": "python",
   "pygments_lexer": "ipython3",
   "version": "3.10.4"
  },
  "orig_nbformat": 4,
  "vscode": {
   "interpreter": {
    "hash": "5deea3c14a40c38470cc15028802a4125b0f91bc744977c3432a5175c03eb7e4"
   }
  }
 },
 "nbformat": 4,
 "nbformat_minor": 2
}
