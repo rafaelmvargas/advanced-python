{
 "cells": [
  {
   "cell_type": "markdown",
   "id": "d47a6eef",
   "metadata": {},
   "source": [
    "# In-Class Exercises, Session 8"
   ]
  },
  {
   "cell_type": "markdown",
   "id": "f4f2589a",
   "metadata": {},
   "source": [
    "<U>Notes if you are using Jupyter Notebook</U>:  to call <B>exit()</B> from a notebook, please use <B>sys.exit()</B> (requires <B>import sys</B>).\n",
    "\n",
    "If a strange error occurs, it may be because Jupyter retains variables from all executed cells.  To reset the notebook, click 'Restart Kernel' (the circular arrow) -- this will not undo any changes made.\n",
    "\n",
    "<B>Also note</B> that files are located in the parent directory.  This means that you must prepend <B>../</B> to each filename to find it."
   ]
  },
  {
   "cell_type": "markdown",
   "id": "35b6ab4c",
   "metadata": {},
   "source": [
    " "
   ]
  },
  {
   "cell_type": "markdown",
   "id": "926d682b",
   "metadata": {},
   "source": [
    "IMPORTING PANDAS AND NUMPY"
   ]
  },
  {
   "cell_type": "markdown",
   "id": "706ae1eb",
   "metadata": {},
   "source": [
    "<B>8.1:  Import pandas and numpy.  Check the .\\_\\_version\\_\\_ attribute of the pandas module.  </B>"
   ]
  },
  {
   "cell_type": "markdown",
   "id": "3407f58a",
   "metadata": {},
   "source": [
    "NOTE:  It's recommended to use Jupyter Notebooks for these exercises, mostly because it displays DataFrames clearly.  In the next Session we'll be using a charting library, and Notebook will be required.\n"
   ]
  },
  {
   "cell_type": "code",
   "execution_count": null,
   "id": "cb927141",
   "metadata": {},
   "outputs": [],
   "source": []
  },
  {
   "cell_type": "markdown",
   "id": "d868125d",
   "metadata": {},
   "source": [
    " "
   ]
  },
  {
   "cell_type": "markdown",
   "id": "bcaa85ed",
   "metadata": {},
   "source": [
    "INITIALIZING A DATAFRAME"
   ]
  },
  {
   "cell_type": "markdown",
   "id": "416303f3",
   "metadata": {},
   "source": [
    "<B>8.2:  Create an empty DataFrame by calling <B>DataFrame()</B>.  Check the type of the resulting object.  </B>"
   ]
  },
  {
   "cell_type": "code",
   "execution_count": null,
   "id": "8af4319b",
   "metadata": {},
   "outputs": [],
   "source": [
    "import pandas as pd\n",
    "\n"
   ]
  },
  {
   "cell_type": "markdown",
   "id": "15414924",
   "metadata": {},
   "source": [
    " "
   ]
  },
  {
   "cell_type": "markdown",
   "id": "2c3ac809",
   "metadata": {},
   "source": [
    "<B>8.3:  Use this dict of lists to build a DataFrame.  Add a keyword argument <B>index=[]</B> to the call to DataFrame() to populate the list with row labels <B>'x', 'y'</B> and <B>'z'</B>.  Print the DataFrame.  </B>"
   ]
  },
  {
   "cell_type": "code",
   "execution_count": null,
   "id": "cb994385",
   "metadata": {},
   "outputs": [],
   "source": [
    "import pandas as pd\n",
    "\n",
    "dol = {  'a': [1, 2, 3],\n",
    "         'b': [2.9, 3.5, 4.9],\n",
    "         'c': ['yourstr', 'mystr', 'theirstr']  }"
   ]
  },
  {
   "cell_type": "markdown",
   "id": "7733b729",
   "metadata": {},
   "source": [
    " "
   ]
  },
  {
   "cell_type": "markdown",
   "id": "9ef85ac8",
   "metadata": {},
   "source": [
    "<B>8.4:  Use dir() to explore the attributes of the pandas module and a DataFrame; use help() to see the help text on pd.read\\_csv()</B>"
   ]
  },
  {
   "cell_type": "code",
   "execution_count": null,
   "id": "7672afd0",
   "metadata": {},
   "outputs": [],
   "source": [
    "import pandas as pd\n",
    "\n",
    "dol = {  'a': [1, 2, 3],\n",
    "         'b': [2.9, 3.5, 4.9],\n",
    "         'c': ['yourstr', 'mystr', 'theirstr']  }\n",
    "\n",
    "df = pd.DataFrame(dol, index=['x', 'y', 'z'])"
   ]
  },
  {
   "cell_type": "markdown",
   "id": "6f9a2f02",
   "metadata": {},
   "source": [
    " "
   ]
  },
  {
   "cell_type": "markdown",
   "id": "5c1fd932",
   "metadata": {},
   "source": [
    "QUICK APPRAISAL OF DATAFRAME"
   ]
  },
  {
   "cell_type": "markdown",
   "id": "51d86875",
   "metadata": {},
   "source": [
    "<B>8.5:  Use <B>len()</B> with the DataFrame and <B>len()</B> with <B>.columns</B> to see how many rows and columns are in the DataFrame.  </B>"
   ]
  },
  {
   "cell_type": "code",
   "execution_count": null,
   "id": "a2162191",
   "metadata": {},
   "outputs": [],
   "source": [
    "import pandas as pd\n",
    "\n",
    "dol = {  'a': [1, 2, 3, 4],\n",
    "         'b': [2.9, 3.5, 4.9, 5.3],\n",
    "         'c': ['yourstr', 'mystr', 'theirstr', 'ourstr']  }\n",
    "\n",
    "df = pd.DataFrame(dol, index=['w', 'x', 'y', 'z'])"
   ]
  },
  {
   "cell_type": "markdown",
   "id": "c4d8db6c",
   "metadata": {},
   "source": [
    " "
   ]
  },
  {
   "cell_type": "markdown",
   "id": "259ebedd",
   "metadata": {},
   "source": [
    "<B>8.6:  Use <B>.columns</B> and <B>.index</B> attributes to see the names of column and row labels in the DataFrame.</B>"
   ]
  },
  {
   "cell_type": "code",
   "execution_count": null,
   "id": "47c58f41",
   "metadata": {},
   "outputs": [],
   "source": [
    "import pandas as pd\n",
    "\n",
    "dol = {  'a': [1, 2, 3],\n",
    "         'b': [2.9, 3.5, 4.9],\n",
    "         'c': ['yourstr', 'mystr', 'theirstr']  }\n",
    "\n",
    "df = pd.DataFrame(dol)"
   ]
  },
  {
   "cell_type": "markdown",
   "id": "46b5142e",
   "metadata": {},
   "source": [
    " "
   ]
  },
  {
   "cell_type": "markdown",
   "id": "9a5ad71b",
   "metadata": {},
   "source": [
    "<B>8.7:  Use the <B>.head()</B> and <B>.tail()</B> methods to examine the DataFrame rows at the top and bottom of this DataFrame.  </B>"
   ]
  },
  {
   "cell_type": "code",
   "execution_count": null,
   "id": "0a142d26",
   "metadata": {},
   "outputs": [],
   "source": [
    "import pandas as pd\n",
    "\n",
    "df = pd.read_csv('../FF_abbreviated.txt', sep='\\s+')\n",
    "\n"
   ]
  },
  {
   "cell_type": "markdown",
   "id": "dc15f47b",
   "metadata": {},
   "source": [
    " "
   ]
  },
  {
   "cell_type": "markdown",
   "id": "b033e244",
   "metadata": {},
   "source": [
    "<B>8.8:  Use simple numeric slicing to see the 50th through 53rd rows from this large DataFrame.  </B>"
   ]
  },
  {
   "cell_type": "code",
   "execution_count": null,
   "id": "005a279f",
   "metadata": {},
   "outputs": [],
   "source": [
    "import pandas as pd\n",
    "\n",
    "df = pd.read_csv('../F-F_Research_Data_Factors_daily.txt', sep='\\s+',\n",
    "                 header=3, skipfooter=2, engine='python')\n",
    "\n"
   ]
  },
  {
   "cell_type": "markdown",
   "id": "5c913976",
   "metadata": {},
   "source": [
    " "
   ]
  },
  {
   "cell_type": "markdown",
   "id": "7d2538d4",
   "metadata": {},
   "source": [
    "<B>8.9:  Use the <B>.dtypes</B> attribute to see what types pandas has assigned to each column.  </B>"
   ]
  },
  {
   "cell_type": "code",
   "execution_count": null,
   "id": "a7714eb9",
   "metadata": {},
   "outputs": [],
   "source": [
    "import pandas as pd\n",
    "\n",
    "dol = {  'a': [1, 2, 3],\n",
    "         'b': [2.9, 3.5, 4.9],\n",
    "         'c': ['yourstr', 'mystr', 'theirstr']  }\n",
    "\n",
    "df = pd.DataFrame(dol, index=['x', 'y', 'z'])"
   ]
  },
  {
   "cell_type": "markdown",
   "id": "22cdb8a8",
   "metadata": {},
   "source": [
    " "
   ]
  },
  {
   "cell_type": "markdown",
   "id": "a0d7dbdf",
   "metadata": {},
   "source": [
    "<B>8.10:  Use the <B>.describe()</B> and <B>.info()</B>methods to see statistics on your DataFrame's data.</B>"
   ]
  },
  {
   "cell_type": "code",
   "execution_count": null,
   "id": "b5c58b0a",
   "metadata": {},
   "outputs": [],
   "source": [
    "import pandas as pd\n",
    "\n",
    "dol = {  'a': [1, 2, 3],\n",
    "         'b': [2.9, 3.5, 4.9],\n",
    "         'c': ['yourstr', 'mystr', 'theirstr']  }\n",
    "\n",
    "df = pd.DataFrame(dol, index=['x', 'y', 'z'])"
   ]
  },
  {
   "cell_type": "markdown",
   "id": "64c82c95",
   "metadata": {},
   "source": [
    " "
   ]
  },
  {
   "cell_type": "markdown",
   "id": "22ac13f7",
   "metadata": {},
   "source": [
    "DATAFRAME BASIC ELEMENTS:  Series, Index, columns"
   ]
  },
  {
   "cell_type": "markdown",
   "id": "9308615b",
   "metadata": {},
   "source": [
    " "
   ]
  },
  {
   "cell_type": "markdown",
   "id": "3603e1d5",
   "metadata": {},
   "source": [
    "<B>8.11:  Explore the .index and .columns attributes of a DataFrame.  Print the resulting objects.  </B>"
   ]
  },
  {
   "cell_type": "code",
   "execution_count": null,
   "id": "d8ebc4c5",
   "metadata": {},
   "outputs": [],
   "source": [
    "import pandas as pd\n",
    "\n",
    "dol = {  'a': [1, 2, 3],\n",
    "         'b': [2.9, 3.5, 4.9],\n",
    "         'c': ['yourstr', 'mystr', 'theirstr']  }\n",
    "\n",
    "df = pd.DataFrame(dol, index=['x', 'y', 'z'])\n"
   ]
  },
  {
   "cell_type": "markdown",
   "id": "e9eb6b1b",
   "metadata": {},
   "source": [
    " "
   ]
  },
  {
   "cell_type": "markdown",
   "id": "6556a05e",
   "metadata": {},
   "source": [
    "<B>8.12:  View the 'a' column using subscript syntax (df['a']), and the same column using attribute syntax (df.a).  Print the type of this object.  </B>"
   ]
  },
  {
   "cell_type": "code",
   "execution_count": null,
   "id": "1230ff4f",
   "metadata": {},
   "outputs": [],
   "source": [
    "import pandas as pd\n",
    "\n",
    "dol = {  'a': [1, 2, 3],\n",
    "         'b': [2.9, 3.5, 4.9],\n",
    "         'c': ['yourstr', 'mystr', 'theirstr']  }\n",
    "\n",
    "df = pd.DataFrame(dol, index=['x', 'y', 'z'])\n"
   ]
  },
  {
   "cell_type": "markdown",
   "id": "be82c1cd",
   "metadata": {},
   "source": [
    " "
   ]
  },
  {
   "cell_type": "markdown",
   "id": "9b36d93b",
   "metadata": {},
   "source": [
    "<B>8.13:  View the 'y' row using .loc[] and do the same with .iloc[] indexing.  Print the type of this object.  </B>"
   ]
  },
  {
   "cell_type": "code",
   "execution_count": null,
   "id": "8b13982e",
   "metadata": {},
   "outputs": [],
   "source": [
    "import pandas as pd\n",
    "\n",
    "dol = {  'a': [1, 2, 3],\n",
    "         'b': [2.9, 3.5, 4.9],\n",
    "         'c': ['yourstr', 'mystr', 'theirstr']  }\n",
    "\n",
    "df = pd.DataFrame(dol, index=['x', 'y', 'z'])\n"
   ]
  },
  {
   "cell_type": "markdown",
   "id": "266d40a5",
   "metadata": {},
   "source": [
    " "
   ]
  },
  {
   "cell_type": "markdown",
   "id": "691c5470",
   "metadata": {},
   "source": [
    "DATAFRAME READ FROM DATA SOURCE"
   ]
  },
  {
   "cell_type": "markdown",
   "id": "8b357cde",
   "metadata": {},
   "source": [
    "<B>8.14:  Read and then view a DataFrame from <B>student\\_db\\_names.csv</B> </B>"
   ]
  },
  {
   "cell_type": "markdown",
   "id": "1e7ae5ca",
   "metadata": {},
   "source": [
    "Use <B>../</B> in front of the name to specify the parent directory.\n"
   ]
  },
  {
   "cell_type": "code",
   "execution_count": null,
   "id": "f5cf8de7",
   "metadata": {},
   "outputs": [],
   "source": [
    "import pandas as pd\n",
    "\n"
   ]
  },
  {
   "cell_type": "markdown",
   "id": "49a643f6",
   "metadata": {},
   "source": [
    " "
   ]
  },
  {
   "cell_type": "markdown",
   "id": "24ed2271",
   "metadata": {},
   "source": [
    "<B>8.15:  Reading the same <B>student\\_db\\_names.csv</B> file, use the <B>index\\_col=</B> parameter argument to set the id column for the student DataFrame as the index.</B>"
   ]
  },
  {
   "cell_type": "code",
   "execution_count": null,
   "id": "1fdb6878",
   "metadata": {},
   "outputs": [],
   "source": [
    "import pandas as pd\n",
    "\n",
    "df = pd.read_csv('../student_db_names.csv')\n"
   ]
  },
  {
   "cell_type": "markdown",
   "id": "71e0817f",
   "metadata": {},
   "source": [
    " "
   ]
  },
  {
   "cell_type": "markdown",
   "id": "b3963e78",
   "metadata": {},
   "source": [
    "<B>8.16:  Use <B>pd.read\\_csv()</B> to read a DataFrame from <B>FF\\_abbreviated.txt</B>.  Note that the separator is whitespace -- separator (<B>sep=</b> argument) must be '\\s+' (a regex for \"one or more spaces\").  After creating the DataFrame, use the <B>.columns</B> attribute to set column labels:  <B>date</B>, <B>Mkt-RF</B>, <B>SMB</B>, <B>HML</B>, <B>RF</B>.  </B>"
   ]
  },
  {
   "cell_type": "code",
   "execution_count": null,
   "id": "7470a4d2",
   "metadata": {},
   "outputs": [],
   "source": [
    "import pandas as pd\n",
    "\n",
    "df = pd.read_csv('../FF_abbreviated.txt')\n"
   ]
  },
  {
   "cell_type": "markdown",
   "id": "f6e6dbbc",
   "metadata": {},
   "source": [
    " "
   ]
  },
  {
   "cell_type": "markdown",
   "id": "6cbbcfbb",
   "metadata": {},
   "source": [
    "<B>8.17:  Now use <B>read\\_csv()</b> to read <B>F-F\\_Research\\_Data\\_Factors\\_daily.txt</B>, using the <B>skiprows=</B> and <B>skipfooter=</B> arguments to omit the 4 header lines and 2 footer lines.  (Note that using these latter arguments require you also add <B>engine='python'</B> to suppress a warning.)</B>"
   ]
  },
  {
   "cell_type": "code",
   "execution_count": null,
   "id": "47d7bcc1",
   "metadata": {},
   "outputs": [],
   "source": [
    "import pandas as pd\n",
    "\n",
    "df = pd.read_csv('../FF_Research_Data_Factors_daily.txt', sep='\\s+')\n"
   ]
  },
  {
   "cell_type": "markdown",
   "id": "03026ba5",
   "metadata": {},
   "source": [
    "Note that skipping 4 lines asks pandas to start reading on the 5th line, where the table headers are -- these are automatically set as the headers for the table.  The date is set as the index."
   ]
  },
  {
   "cell_type": "markdown",
   "id": "ebca011e",
   "metadata": {},
   "source": [
    " "
   ]
  },
  {
   "cell_type": "markdown",
   "id": "6d710225",
   "metadata": {},
   "source": [
    "<B>8.18:  When <B>read\\_csv()</b> reads <B>F-F\\_Research\\_Data\\_Factors\\_daily.txt</B>, it notes that the 1st column of 10-digit dates are all digits, so it automatically makes it the index and converts the column to integer.  After reading the CSV, check the dtype of the index with <B>df.index.dtype</B>.  Then use <B>df.index.astype('str')</B> to ask pandas to read the index as a string.</B>"
   ]
  },
  {
   "cell_type": "code",
   "execution_count": null,
   "id": "768a17d8",
   "metadata": {},
   "outputs": [],
   "source": [
    "import pandas as pd\n",
    "\n",
    "df = pd.read_csv('../F-F_Research_Data_Factors_daily.txt', sep='\\s+',\n",
    "                 header=3, skipfooter=2, engine='python')\n"
   ]
  },
  {
   "cell_type": "markdown",
   "id": "7285afce",
   "metadata": {},
   "source": [
    " "
   ]
  },
  {
   "cell_type": "markdown",
   "id": "2628e5ba",
   "metadata": {},
   "source": [
    "<B>8.19:  <U>Read a DataFrame from an excel file</U>.  </B>"
   ]
  },
  {
   "cell_type": "markdown",
   "id": "7560b496",
   "metadata": {},
   "source": [
    "Use <B>pd.read\\_excel()</B> to read <B>bond\\_feed\\_tiny.xls</B>.  Use <B>../</B> in front of the name to specify the parent directory.\n"
   ]
  },
  {
   "cell_type": "code",
   "execution_count": null,
   "id": "636c6356",
   "metadata": {},
   "outputs": [],
   "source": [
    "import pandas as pd\n",
    "\n"
   ]
  },
  {
   "cell_type": "markdown",
   "id": "bcd55a64",
   "metadata": {},
   "source": [
    " "
   ]
  },
  {
   "cell_type": "markdown",
   "id": "895025e2",
   "metadata": {},
   "source": [
    "<B>8.20:  Read a DataFrame from a json file.  The weather data has been saved as a list of dicts and a dict of dicts.  Read each file using <B>.read\\_json()</B> and the correct <B>orient</B> parameter.  </B>"
   ]
  },
  {
   "cell_type": "markdown",
   "id": "a74553b2",
   "metadata": {},
   "source": [
    "For a list of dicts, correct <B>orient=</B> parameter is 'records'.\n",
    "\n",
    "For a dict of dicts, correct <B>orient=</B> parameter is 'index'.\n",
    "\n",
    "List of dicts (weather\\_newyork\\_lod.json):"
   ]
  },
  {
   "cell_type": "code",
   "execution_count": null,
   "id": "0614cf4a",
   "metadata": {},
   "outputs": [],
   "source": [
    "import pandas as pd\n",
    "\n",
    "fh = open('../weather_newyork_lod.json')\n"
   ]
  },
  {
   "cell_type": "markdown",
   "id": "1c6180b7",
   "metadata": {},
   "source": [
    "Dict of dicts (weather\\_newyork\\_dod.json):"
   ]
  },
  {
   "cell_type": "code",
   "execution_count": null,
   "id": "9400559f",
   "metadata": {},
   "outputs": [],
   "source": [
    "import pandas as pd\n",
    "\n",
    "fh = open('../weather_newyork_dod.json')\n"
   ]
  },
  {
   "cell_type": "markdown",
   "id": "20f9497d",
   "metadata": {},
   "source": [
    " "
   ]
  },
  {
   "cell_type": "markdown",
   "id": "eb50e700",
   "metadata": {},
   "source": [
    "<B>8.21:  Read a DataFrame from <B>sqlite\\_sample.db</B> using a database connection and the below query.  </B>"
   ]
  },
  {
   "cell_type": "code",
   "execution_count": null,
   "id": "e05ce0df",
   "metadata": {},
   "outputs": [],
   "source": [
    "import pandas as pd\n",
    "import sqlite3\n",
    "\n",
    "conn = sqlite3.connect('../sqlite_sample.db')\n",
    "\n",
    "query = 'SELECT * FROM planets'"
   ]
  },
  {
   "cell_type": "markdown",
   "id": "d834905e",
   "metadata": {},
   "source": [
    " "
   ]
  },
  {
   "cell_type": "markdown",
   "id": "59fb8421",
   "metadata": {},
   "source": [
    "<B>8.22:  Open the <B>weather\\_newyork.html</B> page in a browser, and use your mouse pointer to select and copy just the first 5 rows of the data, excluding the headers.  Use <B>pd.read\\_clipboard()</B> to read the copied data into a DataFrame.  </B>"
   ]
  },
  {
   "cell_type": "code",
   "execution_count": null,
   "id": "e94a1bc8",
   "metadata": {},
   "outputs": [],
   "source": [
    "import pandas as pd\n"
   ]
  },
  {
   "cell_type": "markdown",
   "id": "6dede9ce",
   "metadata": {},
   "source": [
    " "
   ]
  },
  {
   "cell_type": "markdown",
   "id": "4030cea9",
   "metadata": {},
   "source": [
    "<B>8.23:  Reading the below data, use <B>df.to\\_clipboard()</B> to write the DataFrame data to clipboard.  Open a new Excel file and paste the data directly into the spreadsheet.  </B>"
   ]
  },
  {
   "cell_type": "code",
   "execution_count": null,
   "id": "f4209405",
   "metadata": {},
   "outputs": [],
   "source": [
    "import pandas as pd\n",
    "\n",
    "fh = open('../weather_newyork_dod.json')\n",
    "\n",
    "df = pd.read_json(fh, orient='index')\n",
    "\n",
    "df = df.set_index('date')"
   ]
  },
  {
   "cell_type": "markdown",
   "id": "2c26e61a",
   "metadata": {},
   "source": [
    " "
   ]
  },
  {
   "cell_type": "markdown",
   "id": "e4fb7e36",
   "metadata": {},
   "source": [
    "MANIPULATING THE INDEX"
   ]
  },
  {
   "cell_type": "markdown",
   "id": "ede5272c",
   "metadata": {},
   "source": [
    "<B>8.24:  Print the .index and .columns attributes on this DataFrame</B>"
   ]
  },
  {
   "cell_type": "code",
   "execution_count": null,
   "id": "f691342a",
   "metadata": {},
   "outputs": [],
   "source": [
    "import pandas as pd\n",
    "\n",
    "df = pd.DataFrame({ 'a': [1, 2, 3],\n",
    "                    'b': [2.9, 3.5, 4.9],\n",
    "                    'c': ['yourstr', 'mystr', 'theirstr']  },\n",
    "                    index=['r1', 'r2', 'r3'])\n"
   ]
  },
  {
   "cell_type": "markdown",
   "id": "660dd96b",
   "metadata": {},
   "source": [
    " "
   ]
  },
  {
   "cell_type": "markdown",
   "id": "04d7ca4e",
   "metadata": {},
   "source": [
    "<B>8.25:  Using <B>.rename()</B>, rename column label 'a' to 'A' and row label 'r1' to 'R1'.  (<B>.rename()</B> returns the new, modified DataFrame)</B>"
   ]
  },
  {
   "cell_type": "code",
   "execution_count": null,
   "id": "95e5852b",
   "metadata": {},
   "outputs": [],
   "source": [
    "import pandas as pd\n",
    "\n",
    "dol = {  'a': [1, 2, 3],\n",
    "         'b': [2.9, 3.5, 4.9],\n",
    "         'c': ['yourstr', 'mystr', 'theirstr']  }\n",
    "\n",
    "df = pd.DataFrame(dol, index=['r1', 'r2', 'r3'])\n"
   ]
  },
  {
   "cell_type": "markdown",
   "id": "a2e47249",
   "metadata": {},
   "source": [
    " "
   ]
  },
  {
   "cell_type": "markdown",
   "id": "b8bcbdc6",
   "metadata": {},
   "source": [
    "<B>8.26:  Reorder the index on the DataFrame to 'r2', 'r1', 'r3' using .reindex().  (This method also returns the new, modified DataFrame.)</B>"
   ]
  },
  {
   "cell_type": "code",
   "execution_count": null,
   "id": "c9c21f75",
   "metadata": {},
   "outputs": [],
   "source": [
    "import pandas as pd\n",
    "\n",
    "df = pd.DataFrame({ 'a': [1, 2, 3],\n",
    "                    'b': [2.9, 3.5, 4.9],\n",
    "                    'c': ['yourstr', 'mystr', 'theirstr']  },\n",
    "                    index=['r1', 'r2', 'r3'])\n"
   ]
  },
  {
   "cell_type": "markdown",
   "id": "5624ea52",
   "metadata": {},
   "source": [
    " "
   ]
  },
  {
   "cell_type": "markdown",
   "id": "64dc6631",
   "metadata": {},
   "source": [
    "<B>8.27:  Reorder the columns on the DataFrame to 'b', 'a', 'c' using .reindex().  (Hint:  use <B>axis=1</B> to reorder columns.)</B>"
   ]
  },
  {
   "cell_type": "code",
   "execution_count": null,
   "id": "541cfa58",
   "metadata": {},
   "outputs": [],
   "source": [
    "import pandas as pd\n",
    "\n",
    "df = pd.DataFrame({ 'a': [1, 2, 3],\n",
    "                    'b': [2.9, 3.5, 4.9],\n",
    "                    'c': ['yourstr', 'mystr', 'theirstr']  },\n",
    "                    index=['r1', 'r2', 'r3'])\n"
   ]
  },
  {
   "cell_type": "markdown",
   "id": "0d3942e6",
   "metadata": {},
   "source": [
    " "
   ]
  },
  {
   "cell_type": "markdown",
   "id": "92b87641",
   "metadata": {},
   "source": [
    "<B>8.28:  Reorder the columns on the DataFrame to 'a', 'b', 'x' using .reindex().  Note that the 'x' column springs into existence with empty values.  </B>"
   ]
  },
  {
   "cell_type": "code",
   "execution_count": null,
   "id": "75a71a60",
   "metadata": {},
   "outputs": [],
   "source": [
    "import pandas as pd\n",
    "\n",
    "df = pd.DataFrame({ 'a': [1, 2, 3],\n",
    "                    'b': [2.9, 3.5, 4.9],\n",
    "                    'c': ['yourstr', 'mystr', 'theirstr']  },\n",
    "                    index=['r1', 'r2', 'r3'])\n"
   ]
  },
  {
   "cell_type": "markdown",
   "id": "8fdc3f2c",
   "metadata": {},
   "source": [
    " "
   ]
  },
  {
   "cell_type": "markdown",
   "id": "a7372005",
   "metadata": {},
   "source": [
    "<B>8.29:  Use <B>.set\\_index()</B> to set the <B>a</B> column for the student DataFrame as the index for the DataFrame.   (This method returns the new, modified DataFrame.)</B>"
   ]
  },
  {
   "cell_type": "code",
   "execution_count": null,
   "id": "d3c37bd3",
   "metadata": {},
   "outputs": [],
   "source": [
    "import pandas as pd\n",
    "\n",
    "df = pd.DataFrame({ 'a': [1, 2, 3],\n",
    "                    'b': [2.9, 3.5, 4.9],\n",
    "                    'c': ['yourstr', 'mystr', 'theirstr']  },\n",
    "                    index=['r1', 'r2', 'r3'])\n"
   ]
  },
  {
   "cell_type": "markdown",
   "id": "5119889f",
   "metadata": {},
   "source": [
    " "
   ]
  },
  {
   "cell_type": "markdown",
   "id": "7d7e56ec",
   "metadata": {},
   "source": [
    "<B>8.30:  First, view the below DataFrame.  Note the <B>index\\_col='id'</b> parameter set the index to the <B>'id'</B> column.  Next, use <B>.reset\\_index()</B> to reset the index to the default (integers), while moving the index to a new column.  Lastly, add the <B>drop=True</B> parameter argument to drop the index entirely, and note that the old index has been dropped.  </B>"
   ]
  },
  {
   "cell_type": "code",
   "execution_count": null,
   "id": "b7719e9a",
   "metadata": {},
   "outputs": [],
   "source": [
    "import pandas as pd\n",
    "\n",
    "df = pd.read_csv('../student_db_names.csv', index_col='id')\n"
   ]
  },
  {
   "cell_type": "markdown",
   "id": "68021322",
   "metadata": {},
   "source": [
    " "
   ]
  },
  {
   "cell_type": "markdown",
   "id": "4e6c3200",
   "metadata": {},
   "source": [
    "DATAFRAME SUBSCRIPTING and SLICING"
   ]
  },
  {
   "cell_type": "markdown",
   "id": "84374cf2",
   "metadata": {},
   "source": [
    " "
   ]
  },
  {
   "cell_type": "markdown",
   "id": "824d0d33",
   "metadata": {},
   "source": [
    "<B>8.31:  Subscript the <B>'HML'</B> column of the DataFrame using subscript syntax (you may also try attribute syntax, i.e. <B>df.HML</B>.)  If you need to see the other column headings, use <B>df.columns</B> or <B>df.head()</B></B>"
   ]
  },
  {
   "cell_type": "code",
   "execution_count": null,
   "id": "b825ff97",
   "metadata": {},
   "outputs": [],
   "source": [
    "import pandas as pd\n",
    "\n",
    "df = pd.read_csv('../F-F_Research_Data_Factors_daily.txt', sep='\\s+',\n",
    "                  skiprows=4, skipfooter=2, engine='python')\n",
    "\n"
   ]
  },
  {
   "cell_type": "markdown",
   "id": "f2bc431f",
   "metadata": {},
   "source": [
    " "
   ]
  },
  {
   "cell_type": "markdown",
   "id": "be7948d4",
   "metadata": {},
   "source": [
    "<B>8.32:  Subscript the <B>19260701</B> row of the DataFrame using <B>.loc[]</B>. If you need to see the other row labels, use <B>df.index</B> or <B>df.head()</B>  (Note that the index values have been read as integers, not strings, so your index must be an integer.)</B>"
   ]
  },
  {
   "cell_type": "code",
   "execution_count": null,
   "id": "8b01faba",
   "metadata": {},
   "outputs": [],
   "source": [
    "import pandas as pd\n",
    "\n",
    "df = pd.read_csv('../F-F_Research_Data_Factors_daily.txt', sep='\\s+',\n",
    "                    header=3, skipfooter=2, engine='python')\n",
    "\n"
   ]
  },
  {
   "cell_type": "markdown",
   "id": "5dcd0da7",
   "metadata": {},
   "source": [
    " "
   ]
  },
  {
   "cell_type": "markdown",
   "id": "376382ab",
   "metadata": {},
   "source": [
    "<B>8.33:  Slice the 'Mkt-RF' and 'SMB' columns of the FF DataFrame using subscript syntax with a list of column names.  </B>"
   ]
  },
  {
   "cell_type": "code",
   "execution_count": null,
   "id": "80871f3a",
   "metadata": {},
   "outputs": [],
   "source": [
    "import pandas as pd\n",
    "\n",
    "df = pd.read_csv('../F-F_Research_Data_Factors_daily.txt', sep='\\s+',\n",
    "                    header=3, skipfooter=2, engine='python')\n"
   ]
  },
  {
   "cell_type": "markdown",
   "id": "f6d2990e",
   "metadata": {},
   "source": [
    "This type of slicing is done for read-only purposes (use .loc[] if you intend to write to the slice)."
   ]
  },
  {
   "cell_type": "markdown",
   "id": "42be4ecf",
   "metadata": {},
   "source": [
    " "
   ]
  },
  {
   "cell_type": "markdown",
   "id": "b4409560",
   "metadata": {},
   "source": [
    "<B>8.34:  Slice the first 3 rows of the FF DataFrame using standard slice syntax with integers (i.e., <B>0:3</B>.  </B>"
   ]
  },
  {
   "cell_type": "code",
   "execution_count": null,
   "id": "f6cb95ff",
   "metadata": {},
   "outputs": [],
   "source": [
    "import pandas as pd\n",
    "\n",
    "df = pd.read_csv('../F-F_Research_Data_Factors_daily.txt', sep='\\s+',\n",
    "                    header=3, skipfooter=2, engine='python')\n"
   ]
  },
  {
   "cell_type": "markdown",
   "id": "e6ea4d76",
   "metadata": {},
   "source": [
    "This type of slicing is done for read-only purposes (use .loc[] if you intend to write to the slice)."
   ]
  },
  {
   "cell_type": "markdown",
   "id": "175b68b4",
   "metadata": {},
   "source": [
    " "
   ]
  },
  {
   "cell_type": "markdown",
   "id": "047ae339",
   "metadata": {},
   "source": [
    "<B>8.35:  Use .loc[] indexing with a list to select the first 3 rows (19270701, 19270702 and 19270706) of the DataFrame.  (Note that these have been read into the DataFrame as integers.)  Do this first by passing a list of the 3 index values, then by passing a slice starting with <B>19270701</B> and ending with <B>19270706</B>.  </B>"
   ]
  },
  {
   "cell_type": "code",
   "execution_count": null,
   "id": "479b32d9",
   "metadata": {},
   "outputs": [],
   "source": [
    "import pandas as pd\n",
    "\n",
    "df = pd.read_csv('../F-F_Research_Data_Factors_daily.txt', sep='\\s+',\n",
    "                    header=3, skipfooter=2, engine='python')\n"
   ]
  },
  {
   "cell_type": "markdown",
   "id": "cbb35a4a",
   "metadata": {},
   "source": [
    " "
   ]
  },
  {
   "cell_type": "markdown",
   "id": "00aa293c",
   "metadata": {},
   "source": [
    "<B>8.36:  Use .loc[] indexing to select the <B>Mkt-RF</B> and <B>SMB</B> columns of the DataFrame.  Indicate \"all rows\" by using the empty slice <B>:</B> in the rows position.  Use <B>.head()</B> on the resulting DataFrame slice to see its first rows.  </B>"
   ]
  },
  {
   "cell_type": "code",
   "execution_count": null,
   "id": "631137f4",
   "metadata": {},
   "outputs": [],
   "source": [
    "import pandas as pd\n",
    "\n",
    "df = pd.read_csv('../F-F_Research_Data_Factors_daily.txt', sep='\\s+',\n",
    "                    header=3, skipfooter=2, engine='python')\n"
   ]
  },
  {
   "cell_type": "markdown",
   "id": "4b69081f",
   "metadata": {},
   "source": [
    " "
   ]
  },
  {
   "cell_type": "markdown",
   "id": "01381f5a",
   "metadata": {},
   "source": [
    "<B>8.37:  Use <B>.loc[]</B> indexing to select a 2-dimensional slice of the first 3 rows (use a range between <B>19270701</B> and <B>19270706</B>) and <B>SMB</B> and <B>HML</B> columns of the DataFrame.  </B>"
   ]
  },
  {
   "cell_type": "code",
   "execution_count": null,
   "id": "95b4b8a0",
   "metadata": {},
   "outputs": [],
   "source": [
    "import pandas as pd\n",
    "\n",
    "df = pd.read_csv('../F-F_Research_Data_Factors_daily.txt', sep='\\s+',\n",
    "                    header=3, skipfooter=2, engine='python')\n"
   ]
  },
  {
   "cell_type": "markdown",
   "id": "528d88f4",
   "metadata": {},
   "source": [
    " "
   ]
  },
  {
   "cell_type": "markdown",
   "id": "711643b1",
   "metadata": {},
   "source": [
    "<B>8.38:  Use <B>.iloc[]</B> indexing to select the 1st 5 rows and 1st 2 columns of the DataFrame.  </B>"
   ]
  },
  {
   "cell_type": "code",
   "execution_count": null,
   "id": "545d2d9a",
   "metadata": {},
   "outputs": [],
   "source": [
    "import pandas as pd\n",
    "\n",
    "df = pd.read_csv('../F-F_Research_Data_Factors_daily.txt', sep='\\s+',\n",
    "                    header=3, skipfooter=2, engine='python')\n"
   ]
  },
  {
   "cell_type": "markdown",
   "id": "bbfaa0f8",
   "metadata": {},
   "source": [
    " "
   ]
  },
  {
   "cell_type": "markdown",
   "id": "2d201592",
   "metadata": {},
   "source": [
    "CONDITIONAL SLICING"
   ]
  },
  {
   "cell_type": "markdown",
   "id": "e5772a90",
   "metadata": {},
   "source": [
    "<B>8.39:  Use a conditional (boolean test) in a subscript to select only those rows in the FF DataFrame that have a Mkt-RF value > 0.  Use <B>.head()</B> on the resulting DataFrame slice to see its first rows.  </B>"
   ]
  },
  {
   "cell_type": "code",
   "execution_count": null,
   "id": "028c4350",
   "metadata": {},
   "outputs": [],
   "source": [
    "import pandas as pd\n",
    "\n",
    "df = pd.read_csv('../F-F_Research_Data_Factors_daily.txt', sep='\\s+',\n",
    "                    header=3, skipfooter=2, engine='python')\n"
   ]
  },
  {
   "cell_type": "markdown",
   "id": "b235de91",
   "metadata": {},
   "source": [
    "This type of slicing is done for read-only purposes (use .loc[] if you intend to write to the slice)."
   ]
  },
  {
   "cell_type": "markdown",
   "id": "627618a4",
   "metadata": {},
   "source": [
    " "
   ]
  },
  {
   "cell_type": "markdown",
   "id": "74e3c94c",
   "metadata": {},
   "source": [
    "<B>8.40:  Use .loc[] indexing with a conditional (boolean test) to select only those rows with a 0.0 value in the Mkt-RF column.  Use <B>.head()</B> on the resulting DataFrame slice to see its first rows.  </B>"
   ]
  },
  {
   "cell_type": "code",
   "execution_count": null,
   "id": "6d6cd823",
   "metadata": {},
   "outputs": [],
   "source": [
    "import pandas as pd\n",
    "\n",
    "df = pd.read_csv('../F-F_Research_Data_Factors_daily.txt', sep='\\s+',\n",
    "                    header=3, skipfooter=2, engine='python')\n"
   ]
  },
  {
   "cell_type": "markdown",
   "id": "0e4a3297",
   "metadata": {},
   "source": [
    " "
   ]
  },
  {
   "cell_type": "markdown",
   "id": "85ce21b4",
   "metadata": {},
   "source": [
    "<B>8.41:  Use <B>.isin()</B> (with the Series as argument) in a filter to show only those rows where the 'c' value is 'yourstr' or 'mystr'.</B>"
   ]
  },
  {
   "cell_type": "code",
   "execution_count": null,
   "id": "d55b2134",
   "metadata": {},
   "outputs": [],
   "source": [
    "import pandas as pd\n",
    "\n",
    "df = pd.DataFrame({ 'a': [1, 2, 3],\n",
    "                    'b': [2.9, 3.5, 4.9],\n",
    "                    'c': ['yourstr', 'mystr', 'theirstr']  },\n",
    "                    index=['r1', 'r2', 'r3'])\n"
   ]
  },
  {
   "cell_type": "markdown",
   "id": "00118bd4",
   "metadata": {},
   "source": [
    " "
   ]
  },
  {
   "cell_type": "markdown",
   "id": "03e9a964",
   "metadata": {},
   "source": [
    "<B>8.42:  Use <B>~</B> (the tilde character) to reverse the above test so that we show only rows that are NOT 'yourstr' or 'mystr'.</B>"
   ]
  },
  {
   "cell_type": "code",
   "execution_count": null,
   "id": "4078f7fe",
   "metadata": {},
   "outputs": [],
   "source": [
    "import pandas as pd\n",
    "\n",
    "df = pd.DataFrame({ 'a': [1, 2, 3],\n",
    "                    'b': [2.9, 3.5, 4.9],\n",
    "                    'c': ['yourstr', 'mystr', 'theirstr']  },\n",
    "                    index=['r1', 'r2', 'r3'])\n",
    "\n",
    "df2 = df.loc[ df.c.isin(['yourstr', 'mystr']) ]\n",
    "print(df2)"
   ]
  },
  {
   "cell_type": "markdown",
   "id": "0379caea",
   "metadata": {},
   "source": [
    " "
   ]
  },
  {
   "cell_type": "markdown",
   "id": "6f35a4d5",
   "metadata": {},
   "source": [
    "VECTORIZED OPERATIONS"
   ]
  },
  {
   "cell_type": "markdown",
   "id": "9177ef77",
   "metadata": {},
   "source": [
    "<B>8.43:  Add a new column 'd', set to 0.</B>"
   ]
  },
  {
   "cell_type": "code",
   "execution_count": null,
   "id": "265860e6",
   "metadata": {},
   "outputs": [],
   "source": [
    "import pandas as pd\n",
    "\n",
    "df = pd.DataFrame({ 'a': [1, 2, 3],\n",
    "                    'b': [2.9, 3.5, 4.9],\n",
    "                    'c': ['yourstr', 'mystr', 'theirstr']  },\n",
    "                    index=['r1', 'r2', 'r3'])"
   ]
  },
  {
   "cell_type": "markdown",
   "id": "f77d97e9",
   "metadata": {},
   "source": [
    " "
   ]
  },
  {
   "cell_type": "markdown",
   "id": "0912be6c",
   "metadata": {},
   "source": [
    "<B>8.44:  Add a new column 'd', set to the value of column 'b' * 2</B>"
   ]
  },
  {
   "cell_type": "code",
   "execution_count": null,
   "id": "19a8c994",
   "metadata": {},
   "outputs": [],
   "source": [
    "import pandas as pd\n",
    "\n",
    "df = pd.DataFrame({ 'a': [1, 2, 3],\n",
    "                    'b': [2.9, 3.5, 4.9],\n",
    "                    'c': ['yourstr', 'mystr', 'theirstr']  },\n",
    "                    index=['r1', 'r2', 'r3'])"
   ]
  },
  {
   "cell_type": "markdown",
   "id": "747f5f0a",
   "metadata": {},
   "source": [
    " "
   ]
  },
  {
   "cell_type": "markdown",
   "id": "7b7570bc",
   "metadata": {},
   "source": [
    "<B>8.45:  Add a new column 'd', set to the sum of <B>a + b</B>.</B>"
   ]
  },
  {
   "cell_type": "code",
   "execution_count": null,
   "id": "0f3a83f9",
   "metadata": {},
   "outputs": [],
   "source": [
    "import pandas as pd\n",
    "\n",
    "df = pd.DataFrame({ 'a': [1, 2, 3],\n",
    "                    'b': [2.9, 3.5, 4.9],\n",
    "                    'c': ['yourstr', 'mystr', 'theirstr']  },\n",
    "                    index=['r1', 'r2', 'r3'])"
   ]
  },
  {
   "cell_type": "markdown",
   "id": "47cbfd82",
   "metadata": {},
   "source": [
    " "
   ]
  },
  {
   "cell_type": "markdown",
   "id": "b5b3e3d1",
   "metadata": {},
   "source": [
    "<B>8.46:  Set 'a' to 0 for all 'CA' rows.  </B>"
   ]
  },
  {
   "cell_type": "code",
   "execution_count": null,
   "id": "a050a347",
   "metadata": {},
   "outputs": [],
   "source": [
    "import pandas as pd\n",
    "\n",
    "df = pd.DataFrame({ 'a': [1, 2, 3, 4, 5, 6, 7],\n",
    "                    'b': [1.0, 2.9, 3.5, 4.9, 5.6, 6.8, 7.1],\n",
    "                    'c': ['CA', 'CA', 'NY', 'NY', 'NJ', 'NJ', 'NV'] },\n",
    "                    index=['r1', 'r2', 'r3', 'r4', 'r5', 'r6', 'r7'])\n"
   ]
  },
  {
   "cell_type": "markdown",
   "id": "26e1c538",
   "metadata": {},
   "source": [
    " "
   ]
  },
  {
   "cell_type": "markdown",
   "id": "33f3a6ef",
   "metadata": {},
   "source": [
    "<B>8.47:  Set new column 'd' to a + b for all non-'CA' rows; for 'CA' rows, 'd' should be 0.  </B>"
   ]
  },
  {
   "cell_type": "markdown",
   "id": "610b11e9",
   "metadata": {},
   "source": [
    "To do this, first establish column 'd' with 0 for all rows, then apply the conditional."
   ]
  },
  {
   "cell_type": "code",
   "execution_count": null,
   "id": "69d7400a",
   "metadata": {},
   "outputs": [],
   "source": [
    "import pandas as pd\n",
    "\n",
    "df = pd.DataFrame({ 'a': [1, 2, 3, 4, 5, 6, 7],\n",
    "                    'b': [1.0, 2.9, 3.5, 4.9, 5.6, 6.8, 7.1],\n",
    "                    'c': ['CA', 'CA', 'NY', 'NY', 'NJ', 'NJ', 'NV'] },\n",
    "                    index=['r1', 'r2', 'r3', 'r4', 'r5', 'r6', 'r7'])\n"
   ]
  },
  {
   "cell_type": "markdown",
   "id": "c8854a2e",
   "metadata": {},
   "source": [
    " "
   ]
  },
  {
   "cell_type": "markdown",
   "id": "2bc7d945",
   "metadata": {},
   "source": [
    "SUMMARY METHODS ON SERIES"
   ]
  },
  {
   "cell_type": "markdown",
   "id": "d4984dbb",
   "metadata": {},
   "source": [
    "<B>8.48:  Sum up the 'a' column.</B>"
   ]
  },
  {
   "cell_type": "code",
   "execution_count": null,
   "id": "8777e9b8",
   "metadata": {},
   "outputs": [],
   "source": [
    "import pandas as pd\n",
    "\n",
    "df = pd.DataFrame({ 'a': [1, 2, 3, 4, 5, 6],\n",
    "                    'b': [2.9, 3.5, 4.9, 4.1, 2.1, 3.0],\n",
    "                    'c': ['CA', 'CA', 'OR', 'OR', 'WA', 'WA']  },\n",
    "                    index=['r1', 'r2', 'r3', 'r4', 'r5', 'r6'])"
   ]
  },
  {
   "cell_type": "markdown",
   "id": "1872214f",
   "metadata": {},
   "source": [
    " "
   ]
  },
  {
   "cell_type": "markdown",
   "id": "734359d4",
   "metadata": {},
   "source": [
    "<B>8.49:  Calculate the average of the 'b' column.</B>"
   ]
  },
  {
   "cell_type": "code",
   "execution_count": null,
   "id": "cb773254",
   "metadata": {},
   "outputs": [],
   "source": [
    "import pandas as pd\n",
    "\n",
    "df = pd.DataFrame({ 'a': [1, 2, 3, 4, 5, 6],\n",
    "                    'b': [2.9, 3.5, 4.9, 4.1, 2.1, 3.0],\n",
    "                    'c': ['CA', 'CA', 'OR', 'OR', 'WA', 'WA']  },\n",
    "                    index=['r1', 'r2', 'r3', 'r4', 'r5', 'r6'])"
   ]
  },
  {
   "cell_type": "markdown",
   "id": "83e35058",
   "metadata": {},
   "source": [
    " "
   ]
  },
  {
   "cell_type": "markdown",
   "id": "0985ba6e",
   "metadata": {},
   "source": [
    "<B>8.50:  Show the standard deviation of the 'b' column, then show for the 'a' column.  </B>"
   ]
  },
  {
   "cell_type": "code",
   "execution_count": null,
   "id": "496220ee",
   "metadata": {},
   "outputs": [],
   "source": [
    "import pandas as pd\n",
    "\n",
    "df = pd.DataFrame({ 'a': [1, 2, 3, 4, 5, 6],\n",
    "                    'b': [2.9, 3.5, 4.9, 4.1, 2.1, 3.0],\n",
    "                    'c': ['CA', 'CA', 'OR', 'OR', 'WA', 'WA']  },\n",
    "                    index=['r1', 'r2', 'r3', 'r4', 'r5', 'r6'])"
   ]
  },
  {
   "cell_type": "markdown",
   "id": "fd2a4a13",
   "metadata": {},
   "source": [
    " "
   ]
  },
  {
   "cell_type": "markdown",
   "id": "dab0a2af",
   "metadata": {},
   "source": [
    "<B>8.51:  Show the average of the 'b' column, but only for those rows with 'WA' in the 'c' column.  </B>"
   ]
  },
  {
   "cell_type": "code",
   "execution_count": null,
   "id": "bec91f61",
   "metadata": {},
   "outputs": [],
   "source": [
    "import pandas as pd\n",
    "\n",
    "df = pd.DataFrame({ 'a': [1, 2, 3, 4, 5, 6],\n",
    "                    'b': [2.9, 3.5, 4.9, 4.1, 2.1, 3.0],\n",
    "                    'c': ['CA', 'CA', 'OR', 'OR', 'WA', 'WA']  },\n",
    "                    index=['r1', 'r2', 'r3', 'r4', 'r5', 'r6'])"
   ]
  },
  {
   "cell_type": "markdown",
   "id": "d22fe14a",
   "metadata": {},
   "source": [
    " "
   ]
  },
  {
   "cell_type": "markdown",
   "id": "9b3cf6b5",
   "metadata": {},
   "source": [
    "SORTING"
   ]
  },
  {
   "cell_type": "markdown",
   "id": "c964db81",
   "metadata": {},
   "source": [
    "<B>8.52:  Use <B>.sort\\_index()</B> to sort the DataFrame by index.</B>"
   ]
  },
  {
   "cell_type": "code",
   "execution_count": null,
   "id": "918ac745",
   "metadata": {},
   "outputs": [],
   "source": [
    "import pandas as pd\n",
    "\n",
    "df = pd.DataFrame({ 'g': [7, 5, 1],\n",
    "                    'x': [2.9, 3.5, 4.9],\n",
    "                    'b': ['yourstr', 'mystr', 'theirstr']  },\n",
    "                    index=['r9', 'r1', 'r5'])\n"
   ]
  },
  {
   "cell_type": "markdown",
   "id": "73171d45",
   "metadata": {},
   "source": [
    " "
   ]
  },
  {
   "cell_type": "markdown",
   "id": "35d9e5a6",
   "metadata": {},
   "source": [
    "<B>8.53:  Use <B>.sort\\_values()</B> to sort the DataFrame by the 'x' value.  Use <B>ascending=False</B> to reverse the sort.  </B>"
   ]
  },
  {
   "cell_type": "code",
   "execution_count": null,
   "id": "97e3af63",
   "metadata": {},
   "outputs": [],
   "source": [
    "import pandas as pd\n",
    "\n",
    "df = pd.DataFrame({ 'g': [7, 5, 1, 8],\n",
    "                    'x': [2.9, 4.9, 3.5, 0],\n",
    "                    'b': ['yourstr', 'mystr', 'theirstr', 'mystr']  },\n",
    "                    index=['r9', 'r5', 'r1', 'r3'])\n"
   ]
  },
  {
   "cell_type": "markdown",
   "id": "e4e9b7a1",
   "metadata": {},
   "source": [
    " "
   ]
  },
  {
   "cell_type": "markdown",
   "id": "76ed30eb",
   "metadata": {},
   "source": [
    "<B>8.54:  Use <B>axis=1</B> to <B>.sort\\_index()</B> to sort the DataFrame by its columns.  </B>"
   ]
  },
  {
   "cell_type": "code",
   "execution_count": null,
   "id": "63280702",
   "metadata": {},
   "outputs": [],
   "source": [
    "import pandas as pd\n",
    "\n",
    "df = pd.DataFrame({ 'g': [7, 5, 1],\n",
    "                    'x': [2.9, 3.5, 4.9],\n",
    "                    'b': ['yourstr', 'mystr', 'theirstr']  },\n",
    "                    index=['r9', 'r5', 'r1'])\n"
   ]
  },
  {
   "cell_type": "markdown",
   "id": "6254f825",
   "metadata": {},
   "source": [
    " "
   ]
  },
  {
   "cell_type": "markdown",
   "id": "26e05f17",
   "metadata": {},
   "source": [
    "CONCATENATING / APPENDING"
   ]
  },
  {
   "cell_type": "markdown",
   "id": "1b335eca",
   "metadata": {},
   "source": [
    "<B>8.55:  First view, then concatenate the two DataFrames vertically.  </B>"
   ]
  },
  {
   "cell_type": "code",
   "execution_count": null,
   "id": "5d878e85",
   "metadata": {},
   "outputs": [],
   "source": [
    "import pandas as pd\n",
    "\n",
    "df = pd.DataFrame({ 'a': [1, 2, 3],\n",
    "                    'b': [2.9, 3.5, 4.9],\n",
    "                    'c': ['yourstr', 'mystr', 'theirstr']  },\n",
    "                    index=['r1', 'r2', 'r3'])\n",
    "\n",
    "df2 = pd.DataFrame({ 'b': [4, 5, 6],\n",
    "                     'c': [7.8, 8.2, 9.1],\n",
    "                     'd': ['thingy', 'thatty', 'flunky']  },\n",
    "                     index=['r2', 'r3', 'r4'])\n",
    "\n",
    "\n"
   ]
  },
  {
   "cell_type": "markdown",
   "id": "2d32c27c",
   "metadata": {},
   "source": [
    "Note that the indices are repeated - this can be changed using index manipulation (<B>.rename()</B>, <B>.reindex()</B>, <B>.set\\_index()</B>."
   ]
  },
  {
   "cell_type": "markdown",
   "id": "e12a5c29",
   "metadata": {},
   "source": [
    " "
   ]
  },
  {
   "cell_type": "markdown",
   "id": "34d411aa",
   "metadata": {},
   "source": [
    "<B>8.56:  First view, then concatenate the two DataFrames horizontally.  </B>"
   ]
  },
  {
   "cell_type": "code",
   "execution_count": null,
   "id": "7706c4a9",
   "metadata": {},
   "outputs": [],
   "source": [
    "import pandas as pd\n",
    "\n",
    "df = pd.DataFrame({ 'a': [1, 2, 3],\n",
    "                    'b': [2.9, 3.5, 4.9],\n",
    "                    'c': ['yourstr', 'mystr', 'theirstr']  },\n",
    "                    index=['r1', 'r2', 'r3'])\n",
    "\n",
    "df2 = pd.DataFrame({ 'd': ['xylo', 'yellow', 'zello'],\n",
    "                     'e': [0, 0, 0],\n",
    "                     'f': [1.1, 1.1, 1.2]  },\n",
    "                     index=['r1', 'r2', 'r3'])\n"
   ]
  },
  {
   "cell_type": "markdown",
   "id": "5ddb3b89",
   "metadata": {},
   "source": [
    " "
   ]
  },
  {
   "cell_type": "markdown",
   "id": "6c07c71c",
   "metadata": {},
   "source": [
    "<B>8.57:  Read <B>weather\\_newyork.csv</B> into a DataFrame.  Use <B>.reindex()</B> to select just the EST, Max TemperatureF and Min TemperatureF columns (with all rows).  Use <B>.rename()</B> to rename these columns as <B>'date', 'max\\_temp' and 'min\\_temp'</B>.  Now add an additional column 'diff\\_temp' showing the difference between max and min.  Sort the DataFrame by this value, highest to lowest.</B>"
   ]
  },
  {
   "cell_type": "code",
   "execution_count": null,
   "id": "aeb46dcf",
   "metadata": {},
   "outputs": [],
   "source": [
    "import pandas as pd\n",
    "\n",
    "df = pd.read_csv('../weather_newyork.csv')\n",
    "\n",
    "dfs = df.reindex(['EST', 'Max TemperatureF', 'Min TemperatureF'], axis=1)\n",
    "\n",
    "dfs = dfs.rename(columns={ 'EST': 'date',\n",
    "                            'Max TemperatureF': 'max_temp',\n",
    "                            'Min TemperatureF': 'min_temp' })\n"
   ]
  },
  {
   "cell_type": "markdown",
   "id": "263005c3",
   "metadata": {},
   "source": [
    " "
   ]
  },
  {
   "cell_type": "markdown",
   "id": "636df279",
   "metadata": {},
   "source": [
    "Please unzip the baby\\_names.zip file into a folder called 'baby\\_names'.  (For Windows users, please make sure to 'Extract All' so you can see a folder named 'baby\\_names' in your data folder -- otherwise, you may only be looking at a 'view' of an unzipped folder)"
   ]
  },
  {
   "cell_type": "markdown",
   "id": "515b0e1b",
   "metadata": {},
   "source": [
    " "
   ]
  },
  {
   "cell_type": "markdown",
   "id": "8a0c6bea",
   "metadata": {},
   "source": [
    "<B>8.58:  Use <B>pd.read\\_csv()</B> to read <B>baby\\_names/yob2018.txt</B> and  <B>baby\\_names/yob2017.txt</B> into DataFrames (use <B>names=</B> to pass a list of column names <B>'name', 'gender' and 'count'</B>).  Add a year column to each DataFrame to indicate the year for that DataFrame.  Then concatenate vertically into one DataFrame.  Use <B>.head()</B> and <B>.tail()</B> to see the start and end.  </B>"
   ]
  },
  {
   "cell_type": "code",
   "execution_count": null,
   "id": "33321393",
   "metadata": {},
   "outputs": [],
   "source": []
  },
  {
   "cell_type": "markdown",
   "id": "4dc1623d",
   "metadata": {},
   "source": [
    " "
   ]
  },
  {
   "cell_type": "markdown",
   "id": "2203a4fe",
   "metadata": {},
   "source": [
    "MERGE / JOIN"
   ]
  },
  {
   "cell_type": "markdown",
   "id": "ee51e669",
   "metadata": {},
   "source": [
    "<B>8.59:  View the two below DataFrames.  Then use <B>pd.merge()</B> to join the <B>student\\_db\\_grades.csv</B> and <B>student\\_db\\_names.csv</B> files into a single DataFrame, joining on the id (use <B>on='id'</B>).  Compare \"how='outer'\" (19 rows, including missing data at the end) to \"how='inner'\" (only 15 rows, with ids common to both tables) to effect an outer join.   </B>"
   ]
  },
  {
   "cell_type": "code",
   "execution_count": null,
   "id": "f3f8d496",
   "metadata": {},
   "outputs": [],
   "source": [
    "import pandas as pd\n",
    "\n",
    "sgrades = pd.read_csv('../student_db_grades.csv', sep=':')\n",
    "snames = pd.read_csv('../student_db_names.csv')\n"
   ]
  },
  {
   "cell_type": "markdown",
   "id": "ff3c45d3",
   "metadata": {},
   "source": [
    " "
   ]
  },
  {
   "cell_type": "markdown",
   "id": "34359936",
   "metadata": {},
   "source": [
    "<B>8.60:  Reading the same files but setting the 'id' column to the indexes of each DataFrame, use <B>df.join()</B> (the same operation as <B>pd.merge()</B>) to perform the above joins.  </B>"
   ]
  },
  {
   "cell_type": "code",
   "execution_count": null,
   "id": "7199ba57",
   "metadata": {},
   "outputs": [],
   "source": [
    "import pandas as pd\n",
    "\n",
    "sgrades = pd.read_csv('../student_db_grades.csv', sep=':', index_col='id')\n",
    "snames = pd.read_csv('../student_db_names.csv', index_col='id')\n"
   ]
  },
  {
   "cell_type": "markdown",
   "id": "6ff7b46d",
   "metadata": {},
   "source": [
    " "
   ]
  },
  {
   "cell_type": "markdown",
   "id": "b90ff534",
   "metadata": {},
   "source": [
    "WORKING WITH MISSING DATA"
   ]
  },
  {
   "cell_type": "markdown",
   "id": "a4d4ea0a",
   "metadata": {},
   "source": [
    "<B>8.61:  Using the joined student tables, check to see if any null values can be found in the 'course' column.  </B>"
   ]
  },
  {
   "cell_type": "code",
   "execution_count": null,
   "id": "bfda4e76",
   "metadata": {},
   "outputs": [],
   "source": [
    "import pandas as pd\n",
    "\n",
    "sgrades = pd.read_csv('../student_db_grades.csv', sep=':')\n",
    "snames = pd.read_csv('../student_db_names.csv')\n",
    "\n",
    "sj = pd.merge(sgrades, snames, on='id', how='outer')\n"
   ]
  },
  {
   "cell_type": "markdown",
   "id": "a5fddfc7",
   "metadata": {},
   "source": [
    " "
   ]
  },
  {
   "cell_type": "markdown",
   "id": "2535ef68",
   "metadata": {},
   "source": [
    "<B>8.62:  Open <B>df0.csv</B> and fill empty cells in just the 'a' column with 0.  </B>"
   ]
  },
  {
   "cell_type": "code",
   "execution_count": null,
   "id": "66c83a46",
   "metadata": {},
   "outputs": [],
   "source": [
    "import pandas as pd\n",
    "\n",
    "df = pd.read_csv('../df0.csv', index_col=0)"
   ]
  },
  {
   "cell_type": "markdown",
   "id": "d04bcf30",
   "metadata": {},
   "source": [
    " "
   ]
  },
  {
   "cell_type": "markdown",
   "id": "fb523d99",
   "metadata": {},
   "source": [
    "AGGREGATIONS WITH groupby()"
   ]
  },
  {
   "cell_type": "markdown",
   "id": "64e03a62",
   "metadata": {},
   "source": [
    " "
   ]
  },
  {
   "cell_type": "markdown",
   "id": "5e166c93",
   "metadata": {},
   "source": [
    "<B>8.63:  Group the count of students by state.  Subscript to just show the <B>'id'</B> column.  Sort by value, descending (<B>ascending=False</B>)</B>"
   ]
  },
  {
   "cell_type": "code",
   "execution_count": null,
   "id": "e81062e2",
   "metadata": {},
   "outputs": [],
   "source": [
    "import pandas as pd\n",
    "\n",
    "df = pd.read_csv('../student_db_names.csv')"
   ]
  },
  {
   "cell_type": "markdown",
   "id": "bb206134",
   "metadata": {},
   "source": [
    " "
   ]
  },
  {
   "cell_type": "markdown",
   "id": "0a6b8c41",
   "metadata": {},
   "source": [
    "<B>8.64:  Review the below <B>baby names</B> concatenated DataFrame, then group the baby names by gender, then sort the resulting dataframe by this value, descending.  </B>"
   ]
  },
  {
   "cell_type": "code",
   "execution_count": null,
   "id": "4df245df",
   "metadata": {},
   "outputs": [],
   "source": [
    "import pandas as pd\n",
    "\n",
    "df18 = pd.read_csv('../baby_names/yob2018.txt',\n",
    "                   names=['name', 'gender', 'count'])\n",
    "df18['year'] = '2018'\n",
    "\n",
    "df17 = pd.read_csv('../baby_names/yob2017.txt',\n",
    "                   names=['name', 'gender', 'count'])\n",
    "df17['year'] = '2017'\n",
    "\n",
    "df = pd.concat([df18, df17])"
   ]
  },
  {
   "cell_type": "markdown",
   "id": "4bd9bb22",
   "metadata": {},
   "source": [
    " "
   ]
  }
 ],
 "metadata": {
  "kernelspec": {
   "display_name": "Python 3 (ipykernel)",
   "language": "python",
   "name": "python3"
  },
  "language_info": {
   "codemirror_mode": {
    "name": "ipython",
    "version": 3
   },
   "file_extension": ".py",
   "mimetype": "text/x-python",
   "name": "python",
   "nbconvert_exporter": "python",
   "pygments_lexer": "ipython3",
   "version": "3.10.4"
  }
 },
 "nbformat": 4,
 "nbformat_minor": 5
}
