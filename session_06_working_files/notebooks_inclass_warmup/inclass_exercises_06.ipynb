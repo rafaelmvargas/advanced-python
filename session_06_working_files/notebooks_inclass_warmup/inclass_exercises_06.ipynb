{
 "cells": [
  {
   "cell_type": "markdown",
   "id": "8d1e9119",
   "metadata": {},
   "source": [
    "# In-Class Exercises, Session 6"
   ]
  },
  {
   "cell_type": "markdown",
   "id": "8698e50d",
   "metadata": {},
   "source": [
    "<U>Notes if you are using Jupyter Notebook</U>:  to call <B>exit()</B> from a notebook, please use <B>sys.exit()</B> (requires <B>import sys</B>).\n",
    "\n",
    "If a strange error occurs, it may be because Jupyter retains variables from all executed cells.  To reset the notebook, click 'Restart Kernel' (the circular arrow) -- this will not undo any changes made."
   ]
  },
  {
   "cell_type": "markdown",
   "id": "7f4229a1",
   "metadata": {},
   "source": [
    " "
   ]
  },
  {
   "cell_type": "markdown",
   "id": "56a882df",
   "metadata": {},
   "source": [
    "CLASSES - INSTANCES AND METHODS"
   ]
  },
  {
   "cell_type": "markdown",
   "id": "1c5b92b0",
   "metadata": {},
   "source": [
    "<B>6.1:  <U>Define a class</U>.  </B>"
   ]
  },
  {
   "cell_type": "markdown",
   "id": "33e94e3b",
   "metadata": {},
   "source": [
    "Use the <B>class</B> statement with name <B>MyClass</B> (or you may substitute a name of your own choice).  To fill the otherwise empty block, use the <B>pass</B> statement.\n",
    "\n",
    "Initialize an instance of the class and print its type to show that it is an instance of the class.\n"
   ]
  },
  {
   "cell_type": "code",
   "execution_count": null,
   "id": "e1247cdc",
   "metadata": {},
   "outputs": [],
   "source": []
  },
  {
   "cell_type": "markdown",
   "id": "afb91fc7",
   "metadata": {},
   "source": [
    "<U>Expected Output</U>:  "
   ]
  },
  {
   "cell_type": "markdown",
   "id": "e8610a58",
   "metadata": {},
   "source": [
    "<pre style=\"margin: 0; padding=0\"><DIV style=\"font-family: Courier; border: 1px solid #dbdbdb; padding: 7px\"><class '__main__.MyClass'></DIV></pre>"
   ]
  },
  {
   "cell_type": "markdown",
   "id": "b774cb71",
   "metadata": {},
   "source": [
    " "
   ]
  },
  {
   "cell_type": "markdown",
   "id": "8a1f6fa2",
   "metadata": {},
   "source": [
    "<B>6.2:  <U>Create an 'instance' method</U>.</B>"
   ]
  },
  {
   "cell_type": "markdown",
   "id": "34f7781c",
   "metadata": {},
   "source": [
    "Add to the class <B>Hola</B> below a new method, <B>saludar()</B>, that prints \"bienvenidos a todos\" (or whatever greeting you'd prefer) when it is called.\n"
   ]
  },
  {
   "cell_type": "code",
   "execution_count": null,
   "id": "f0c5d3d8",
   "metadata": {},
   "outputs": [],
   "source": [
    "class Hola:\n",
    "    \"\"\" una clase que is amigable \"\"\"\n",
    "\n",
    "    # your code here\n",
    "\n",
    "\n",
    "yo = Hola()\n",
    "\n",
    "yo.saludar()     # should print the greeting"
   ]
  },
  {
   "cell_type": "markdown",
   "id": "0156bac8",
   "metadata": {},
   "source": [
    "<U>Expected Output</U>:  "
   ]
  },
  {
   "cell_type": "markdown",
   "id": "e7985149",
   "metadata": {},
   "source": [
    "<pre style=\"margin: 0; padding=0\"><DIV style=\"font-family: Courier; border: 1px solid #dbdbdb; padding: 7px\">bienvenidos a todos</DIV></pre>"
   ]
  },
  {
   "cell_type": "markdown",
   "id": "e3bbf70a",
   "metadata": {},
   "source": [
    " "
   ]
  },
  {
   "cell_type": "markdown",
   "id": "aaf104a4",
   "metadata": {},
   "source": [
    "<B>6.3:  <U>Add argument and return value to method</U>.  </B>"
   ]
  },
  {
   "cell_type": "markdown",
   "id": "e51df947",
   "metadata": {},
   "source": [
    "Add the method <B>doubleit()</B> below, that doubles the value passed to it.\n"
   ]
  },
  {
   "cell_type": "code",
   "execution_count": null,
   "id": "8016ee33",
   "metadata": {},
   "outputs": [],
   "source": [
    "class Numbers:\n",
    "    \"\"\" various number methods \"\"\"\n",
    "\n",
    "\n",
    "num = Numbers()\n",
    "val = num.doubleit(5)\n",
    "print(val)               # 10\n",
    "\n",
    "val2 = num.doubleit(100)\n",
    "print(val2)              # 200"
   ]
  },
  {
   "cell_type": "markdown",
   "id": "c0519259",
   "metadata": {},
   "source": [
    "<U>Expected Output</U>:  "
   ]
  },
  {
   "cell_type": "markdown",
   "id": "489a0652",
   "metadata": {},
   "source": [
    "<pre style=\"margin: 0; padding=0\"><DIV style=\"font-family: Courier; border: 1px solid #dbdbdb; padding: 7px\">10\n",
    "200</DIV></pre>"
   ]
  },
  {
   "cell_type": "markdown",
   "id": "d20067a6",
   "metadata": {},
   "source": [
    " "
   ]
  },
  {
   "cell_type": "markdown",
   "id": "6770ad88",
   "metadata": {},
   "source": [
    "LAB 1"
   ]
  },
  {
   "cell_type": "markdown",
   "id": "8fbe09c8",
   "metadata": {},
   "source": [
    "<div style=\"background-color: #ccffcc; padding: 10px; border: 2px solid green\"><B>6.4:  Create a class <B>Time</B> that has a method <B>get\\_time()</B> that returns the current time.  Call as shown.  </B></div>"
   ]
  },
  {
   "cell_type": "markdown",
   "id": "3584a9ce",
   "metadata": {},
   "source": [
    "(A string showing the current time can be obtained from the <B>time</B> module using <B>time.ctime()</B>.)\n"
   ]
  },
  {
   "cell_type": "code",
   "execution_count": null,
   "id": "af658064",
   "metadata": {},
   "outputs": [],
   "source": [
    "import time\n",
    "\n",
    "# your code here\n",
    "\n",
    "\n",
    "obj = Time()\n",
    "print(obj.get_time())  # should show the current time"
   ]
  },
  {
   "cell_type": "markdown",
   "id": "8fda28dd",
   "metadata": {},
   "source": [
    "<U>Expected Output</U>:  "
   ]
  },
  {
   "cell_type": "markdown",
   "id": "acbfb65d",
   "metadata": {},
   "source": [
    "<pre style=\"margin: 0; padding=0\"><DIV style=\"font-family: Courier; border: 1px solid #dbdbdb; padding: 7px\">Sat Oct 17 18:41:34 2020    (as your specific date and time)</DIV></pre>"
   ]
  },
  {
   "cell_type": "markdown",
   "id": "5307234a",
   "metadata": {},
   "source": [
    " "
   ]
  },
  {
   "cell_type": "markdown",
   "id": "a0180533",
   "metadata": {},
   "source": [
    "<div style=\"background-color: #ccffcc; padding: 10px; border: 2px solid green\"><B>6.5:  Create a class <B>Random</B> that has a method <B>get\\_rand(val)</B> that returns a random number from 1 to the specified value.  Call as shown.  </B></div>"
   ]
  },
  {
   "cell_type": "markdown",
   "id": "15f14e93",
   "metadata": {},
   "source": [
    "(A random number can be generated with <B>random.randint(x, y)</b> where <B>x</B> and <B>y</B> are the minimum and maximum values.)\n"
   ]
  },
  {
   "cell_type": "code",
   "execution_count": null,
   "id": "22333d6c",
   "metadata": {},
   "outputs": [],
   "source": [
    "import random\n",
    "\n",
    "# your code here\n",
    "\n",
    "\n",
    "\n",
    "\n",
    "obj = Random()\n",
    "\n",
    "val = obj.get_rand(5)     # random number from 1-5\n",
    "print(val)\n",
    "\n",
    "val2 = obj.get_rand(18)   # random number from 1-18\n",
    "print(val2)"
   ]
  },
  {
   "cell_type": "markdown",
   "id": "1974cda8",
   "metadata": {},
   "source": [
    "<U>Expected Output</U>:  "
   ]
  },
  {
   "cell_type": "markdown",
   "id": "1fe3c159",
   "metadata": {},
   "source": [
    "<pre style=\"margin: 0; padding=0\"><DIV style=\"font-family: Courier; border: 1px solid #dbdbdb; padding: 7px\">4\n",
    "3</DIV></pre>"
   ]
  },
  {
   "cell_type": "markdown",
   "id": "4946ac19",
   "metadata": {},
   "source": [
    " "
   ]
  },
  {
   "cell_type": "markdown",
   "id": "a6692944",
   "metadata": {},
   "source": [
    "<div style=\"background-color: #ccffcc; padding: 10px; border: 2px solid green\"><B>6.6:  Create a class <B>Math</B> with method <B>add()</B> that takes two integer arguments and returns the values summed.  </B></div>"
   ]
  },
  {
   "cell_type": "code",
   "execution_count": null,
   "id": "330d1bcf",
   "metadata": {},
   "outputs": [],
   "source": [
    "# your code here\n",
    "\n",
    "\n",
    "\n",
    "obj = Math()\n",
    "\n",
    "mysum = obj.add(5, 10)        # 15\n",
    "print(mysum)\n",
    "\n",
    "mysum2 = obj.add(100, 150)    # 250\n",
    "print(mysum2)"
   ]
  },
  {
   "cell_type": "markdown",
   "id": "ac077879",
   "metadata": {},
   "source": [
    "<U>Expected Output</U>:  "
   ]
  },
  {
   "cell_type": "markdown",
   "id": "df7e07f1",
   "metadata": {},
   "source": [
    "<pre style=\"margin: 0; padding=0\"><DIV style=\"font-family: Courier; border: 1px solid #dbdbdb; padding: 7px\">15\n",
    "250</DIV></pre>"
   ]
  },
  {
   "cell_type": "markdown",
   "id": "f3b00af5",
   "metadata": {},
   "source": [
    " "
   ]
  },
  {
   "cell_type": "markdown",
   "id": "93e35235",
   "metadata": {},
   "source": [
    "CLASSES - CONSTRUCTOR, CLASS ATTRIBUTES AND METHODS"
   ]
  },
  {
   "cell_type": "markdown",
   "id": "6b782123",
   "metadata": {},
   "source": [
    "<B>6.7:  <U>Demonstration:  note the unique identifier of <B>self</B> and an instance from a class</U>.  </B>"
   ]
  },
  {
   "cell_type": "markdown",
   "id": "763e13c7",
   "metadata": {},
   "source": [
    "At the bottom of the code below, print <B>obj</B>, then call <B>obj.something()</B>, noting that this method prints <B>self</B>.  Compare the hex codes that identify the instance.\n",
    "\n",
    "Use a <B>print()</B> statement to create a blank line.\n",
    "\n",
    "Next, print <B>obj2</B> and call <B>obj2.something()</B>, and note the output, particularly the hex codes.\n"
   ]
  },
  {
   "cell_type": "code",
   "execution_count": null,
   "id": "930a74d9",
   "metadata": {},
   "outputs": [],
   "source": [
    "class Do:\n",
    "    def something(self):\n",
    "        print(self)\n",
    "\n",
    "\n",
    "obj = Do()\n",
    "obj2 = Do()\n",
    "\n",
    "# your code here"
   ]
  },
  {
   "cell_type": "markdown",
   "id": "88e6e9a1",
   "metadata": {},
   "source": [
    "<U>Expected Output</U>:  "
   ]
  },
  {
   "cell_type": "markdown",
   "id": "1219899c",
   "metadata": {},
   "source": [
    "<pre style=\"margin: 0; padding=0\"><DIV style=\"font-family: Courier; border: 1px solid #dbdbdb; padding: 7px\"><__main__.Do object at 0x10d648350>\n",
    "<__main__.Do object at 0x10d648350>\n",
    "\n",
    "<__main__.Do object at 0x10d648390>\n",
    "<__main__.Do object at 0x10d648390></DIV></pre>"
   ]
  },
  {
   "cell_type": "markdown",
   "id": "9d54f942",
   "metadata": {},
   "source": [
    " "
   ]
  },
  {
   "cell_type": "markdown",
   "id": "27de3759",
   "metadata": {},
   "source": [
    "<B>6.8:  <U>Create an \\_\\_init\\_\\_() method</U>.  </B>"
   ]
  },
  {
   "cell_type": "markdown",
   "id": "c083234a",
   "metadata": {},
   "source": [
    "Add a method to the below class, <B>\\_\\_init\\_\\_(self)</B> that inside the function announces and prints the argument <B>self</B>, i.e. <B>print(f'self:    {self}')</B>.\n",
    "\n",
    "Construct 2 new instances, and then print each instance.  Put a blank line between each instance.\n"
   ]
  },
  {
   "cell_type": "code",
   "execution_count": null,
   "id": "eaeea3f7",
   "metadata": {},
   "outputs": [],
   "source": [
    "class Be:\n",
    "    \"\"\" this class is something! \"\"\"\n",
    "\n",
    "\n",
    "obj1 = Be()\n",
    "print(f'object:  {obj1}')\n",
    "\n",
    "print()\n",
    "\n",
    "obj2 = Be()\n",
    "print(f'object:  {obj2}')"
   ]
  },
  {
   "cell_type": "markdown",
   "id": "938c473b",
   "metadata": {},
   "source": [
    "<U>Expected Output</U>:  "
   ]
  },
  {
   "cell_type": "markdown",
   "id": "0cd554f6",
   "metadata": {},
   "source": [
    "<pre style=\"margin: 0; padding=0\"><DIV style=\"font-family: Courier; border: 1px solid #dbdbdb; padding: 7px\">object:  <__main__.Be object at 0x10d648250>\n",
    "self:    <__main__.Be object at 0x10d648250>\n",
    "\n",
    "object:  <__main__.Be object at 0x10d648a50>\n",
    "self:    <__main__.Be object at 0x10d648a50></DIV></pre>"
   ]
  },
  {
   "cell_type": "markdown",
   "id": "db35d029",
   "metadata": {},
   "source": [
    "(Note that the above <B>0x</B> hex codes will not be the same as mine, but the values in each pair should match.)"
   ]
  },
  {
   "cell_type": "markdown",
   "id": "541b8eb6",
   "metadata": {},
   "source": [
    " "
   ]
  },
  {
   "cell_type": "markdown",
   "id": "6cd17ee9",
   "metadata": {},
   "source": [
    "<B>6.9:  <U>Set an instance attribute in \\_\\_init\\_\\_()</U>.  </B>"
   ]
  },
  {
   "cell_type": "markdown",
   "id": "01761d51",
   "metadata": {},
   "source": [
    "Create a method <B>\\_\\_init\\_\\_(self, num)</B> that sets <B>num</B>in <B>self</B> as a <B>.value</B> attribute.  At bottom, print <B>obj.value</B> to see the value.\n"
   ]
  },
  {
   "cell_type": "code",
   "execution_count": null,
   "id": "59378b83",
   "metadata": {},
   "outputs": [],
   "source": [
    "class Live:\n",
    "    \"\"\" a class that just wants to live \"\"\"\n",
    "    # your __init__() code here\n",
    "\n",
    "\n",
    "obj = Live(5)\n",
    "\n",
    "# print obj.value here"
   ]
  },
  {
   "cell_type": "markdown",
   "id": "efdc5b82",
   "metadata": {},
   "source": [
    "<U>Expected Output</U>:  "
   ]
  },
  {
   "cell_type": "markdown",
   "id": "be2db3a4",
   "metadata": {},
   "source": [
    "<pre style=\"margin: 0; padding=0\"><DIV style=\"font-family: Courier; border: 1px solid #dbdbdb; padding: 7px\">5</DIV></pre>"
   ]
  },
  {
   "cell_type": "markdown",
   "id": "f21f2559",
   "metadata": {},
   "source": [
    " "
   ]
  },
  {
   "cell_type": "markdown",
   "id": "676d41a3",
   "metadata": {},
   "source": [
    "<B>6.10:  <U>Create a \"getter\" method</U>.  </B>"
   ]
  },
  {
   "cell_type": "markdown",
   "id": "80b0bbac",
   "metadata": {},
   "source": [
    "Create a method <B>get\\_value()</B> that returns the <B>.value</B> attribute from the instance.\n"
   ]
  },
  {
   "cell_type": "code",
   "execution_count": null,
   "id": "4c6cd090",
   "metadata": {},
   "outputs": [],
   "source": [
    "class Say:\n",
    "    def __init__(self, val):\n",
    "        self.thisval = val\n",
    "\n",
    "    # your code here\n",
    "\n",
    "\n",
    "obj = Say(100)\n",
    "\n",
    "vl = obj.get_value()\n",
    "print(vl)                # 100"
   ]
  },
  {
   "cell_type": "markdown",
   "id": "fb8b6a12",
   "metadata": {},
   "source": [
    "<U>Expected Output</U>:  "
   ]
  },
  {
   "cell_type": "markdown",
   "id": "2666c008",
   "metadata": {},
   "source": [
    "<pre style=\"margin: 0; padding=0\"><DIV style=\"font-family: Courier; border: 1px solid #dbdbdb; padding: 7px\">100</DIV></pre>"
   ]
  },
  {
   "cell_type": "markdown",
   "id": "9c8cbde8",
   "metadata": {},
   "source": [
    " "
   ]
  },
  {
   "cell_type": "markdown",
   "id": "0e154448",
   "metadata": {},
   "source": [
    "<B>6.11:  <U>Demonstrate class attributes</U>.  </B>"
   ]
  },
  {
   "cell_type": "markdown",
   "id": "a90d12a9",
   "metadata": {},
   "source": [
    "In the class below, set a class variable <B>cvar</B> to value <B>1000</B>.\n",
    "\n",
    "Print the value of <B>cvar</B> in three places:  1) instance <B>a</B> (<B>a.cvar</B>); 2) instance <B>b</B> (<B>b.cvar</B>); 3) the class itself (<B>Something.cvar</B>)\n",
    "\n",
    "Also print the <B>.attr</B> attribute from each of the two instances.\n"
   ]
  },
  {
   "cell_type": "code",
   "execution_count": null,
   "id": "8a50cae8",
   "metadata": {},
   "outputs": [],
   "source": [
    "class Something:\n",
    "    # your class variable here\n",
    "\n",
    "    def __init__(self, xx):\n",
    "        self.attr = xx\n",
    "\n",
    "a = Something('hi')\n",
    "b = Something('there')\n",
    "\n",
    "\n",
    "# print cvar in 3 places here\n",
    "\n",
    "# print .attr from each of the two instances here"
   ]
  },
  {
   "cell_type": "markdown",
   "id": "1626777f",
   "metadata": {},
   "source": [
    "<U>Expected Output</U>:  "
   ]
  },
  {
   "cell_type": "markdown",
   "id": "3abec1db",
   "metadata": {},
   "source": [
    "<pre style=\"margin: 0; padding=0\"><DIV style=\"font-family: Courier; border: 1px solid #dbdbdb; padding: 7px\">1000\n",
    "1000\n",
    "1000\n",
    "hi\n",
    "there</DIV></pre>"
   ]
  },
  {
   "cell_type": "markdown",
   "id": "dd1ff946",
   "metadata": {},
   "source": [
    " "
   ]
  },
  {
   "cell_type": "markdown",
   "id": "abfd14a0",
   "metadata": {},
   "source": [
    "<B>6.12:  <U>Create a class method</U>.</B>"
   ]
  },
  {
   "cell_type": "markdown",
   "id": "36377452",
   "metadata": {},
   "source": [
    "Add a class method <B>classincrement(cls)</B> that uses its <B>cls</B> argument to increment the <B>cattr</B> class variable (<B>cattr</B> will be found to be an attribute of <B>cls</B>.\n",
    "\n",
    "Call <B>classincrement()</B> through the instance <B>obj</B> as well as through the class <B>MyClass</B>.\n",
    "\n",
    "The values printed below should both be <B>1</B>.\n",
    "\n",
    "Before this can work as shown, however, you must decorate <B>classincrement()</B> with <B>@classmethod</B>.\n"
   ]
  },
  {
   "cell_type": "code",
   "execution_count": null,
   "id": "95870efa",
   "metadata": {},
   "outputs": [],
   "source": [
    "class MyClass:\n",
    "    cattr = 0\n",
    "\n",
    "    # your classincrement(cls) method here\n",
    "\n",
    "\n",
    "obj = MyClass()\n",
    "\n",
    "\n",
    "obj.classincrement()\n",
    "\n",
    "print(obj.cattr)          # should be 1\n",
    "print(MyClass.cattr)      # should be 1"
   ]
  },
  {
   "cell_type": "markdown",
   "id": "a4e84cbc",
   "metadata": {},
   "source": [
    "<U>Expected Output</U>:  "
   ]
  },
  {
   "cell_type": "markdown",
   "id": "eabed689",
   "metadata": {},
   "source": [
    "<pre style=\"margin: 0; padding=0\"><DIV style=\"font-family: Courier; border: 1px solid #dbdbdb; padding: 7px\">1\n",
    "1</DIV></pre>"
   ]
  },
  {
   "cell_type": "markdown",
   "id": "b0e8c496",
   "metadata": {},
   "source": [
    " "
   ]
  },
  {
   "cell_type": "markdown",
   "id": "bfcd3865",
   "metadata": {},
   "source": [
    "<B>6.13:  <U>Create a static method</U>.</B>"
   ]
  },
  {
   "cell_type": "markdown",
   "id": "c0058d8e",
   "metadata": {},
   "source": [
    "To the below class add the static method <B>ftoc(temp)</B> which converts a temperature in Fahrenheit to Celsius.\n",
    "\n",
    "The formula is <B>(temp - 32) * 5 / 9</B>\n",
    "\n",
    "To be a static method, the method must not take <B>self</B> as an argument, and must be decorated with <B>@staticmethod</B>.\n"
   ]
  },
  {
   "cell_type": "code",
   "execution_count": null,
   "id": "a52c48b4",
   "metadata": {},
   "outputs": [],
   "source": [
    "class Forecast:\n",
    "\n",
    "    def __init__(self, forecast, high=0, low=0):\n",
    "        self.text = forecast\n",
    "        self.hightemp = high\n",
    "        self.lowtemp = low\n",
    "\n",
    "    # your ftoc(temp) static methood here\n",
    "\n",
    "\n",
    "\n",
    "t = Forecast('Light rain', high=62, low=48)\n",
    "\n",
    "\n",
    "print(t.ftoc(32))       # 0.0\n",
    "print(t.ftoc(212))      # 100.0"
   ]
  },
  {
   "cell_type": "markdown",
   "id": "d93471f2",
   "metadata": {},
   "source": [
    "<U>Expected Output</U>:  "
   ]
  },
  {
   "cell_type": "markdown",
   "id": "d69693f6",
   "metadata": {},
   "source": [
    "<pre style=\"margin: 0; padding=0\"><DIV style=\"font-family: Courier; border: 1px solid #dbdbdb; padding: 7px\">0.0\n",
    "100.0</DIV></pre>"
   ]
  },
  {
   "cell_type": "markdown",
   "id": "37da75c3",
   "metadata": {},
   "source": [
    " "
   ]
  },
  {
   "cell_type": "markdown",
   "id": "0de414e8",
   "metadata": {},
   "source": [
    "LAB 2"
   ]
  },
  {
   "cell_type": "markdown",
   "id": "17522bd7",
   "metadata": {},
   "source": [
    "<div style=\"background-color: #ccffcc; padding: 10px; border: 2px solid green\"><B>6.14:  Create class <B>Counter</B>, initialized with an integer as shown below.  Set the attribute <B>.counterval</B> in \\_\\_init\\_\\_ so that it is available in the instance.  </B></div>"
   ]
  },
  {
   "cell_type": "code",
   "execution_count": null,
   "id": "fb5e1add",
   "metadata": {},
   "outputs": [],
   "source": [
    "# your code here\n",
    "\n",
    "\n",
    "c = Counter(5)\n",
    "\n",
    "print(c.counterval)    # 5"
   ]
  },
  {
   "cell_type": "markdown",
   "id": "7345b970",
   "metadata": {},
   "source": [
    "<U>Expected Output</U>:  "
   ]
  },
  {
   "cell_type": "markdown",
   "id": "94410e82",
   "metadata": {},
   "source": [
    "<pre style=\"margin: 0; padding=0\"><DIV style=\"font-family: Courier; border: 1px solid #dbdbdb; padding: 7px\">5</DIV></pre>"
   ]
  },
  {
   "cell_type": "markdown",
   "id": "1d8603ef",
   "metadata": {},
   "source": [
    " "
   ]
  },
  {
   "cell_type": "markdown",
   "id": "5b5214f9",
   "metadata": {},
   "source": [
    "<div style=\"background-color: #ccffcc; padding: 10px; border: 2px solid green\"><B>6.15:  Update <B>Counter</B> with an <B>.increment()</B> method that increments the attribute value each time it is called.  Call <B>.increment()</B> twice, then print the value of <B>.counterval</B> through the instance.  </B></div>"
   ]
  },
  {
   "cell_type": "code",
   "execution_count": null,
   "id": "1e228cc5",
   "metadata": {},
   "outputs": [],
   "source": [
    "class Counter:\n",
    "    def __init__(self, val):\n",
    "        self.counterval = val\n",
    "\n",
    "    # your code here\n",
    "\n",
    "\n",
    "c = Counter(5)\n",
    "\n",
    "c.increment()\n",
    "c.increment()\n",
    "\n",
    "print(c.counterval)    # 7"
   ]
  },
  {
   "cell_type": "markdown",
   "id": "e78189af",
   "metadata": {},
   "source": [
    "<U>Expected Output</U>:  "
   ]
  },
  {
   "cell_type": "markdown",
   "id": "339c444c",
   "metadata": {},
   "source": [
    "<pre style=\"margin: 0; padding=0\"><DIV style=\"font-family: Courier; border: 1px solid #dbdbdb; padding: 7px\">7</DIV></pre>"
   ]
  },
  {
   "cell_type": "markdown",
   "id": "c0291097",
   "metadata": {},
   "source": [
    " "
   ]
  },
  {
   "cell_type": "markdown",
   "id": "dd53bd9b",
   "metadata": {},
   "source": [
    "<div style=\"background-color: #ccffcc; padding: 10px; border: 2px solid green\"><B>6.16:  Update Counter with a show\\_value() method that returns the attribute value.  </B></div>"
   ]
  },
  {
   "cell_type": "code",
   "execution_count": null,
   "id": "ff89fcc3",
   "metadata": {},
   "outputs": [],
   "source": [
    "class Counter:\n",
    "    def __init__(self, val):\n",
    "        self.counterval = val\n",
    "\n",
    "    def increment(self):\n",
    "        self.counterval = self.counterval + 1\n",
    "\n",
    "    # your code here\n",
    "\n",
    "\n",
    "c = Counter(5)\n",
    "\n",
    "c.increment()\n",
    "c.increment()\n",
    "\n",
    "print(c.show_value())    # 7\n"
   ]
  },
  {
   "cell_type": "markdown",
   "id": "9c97c6c0",
   "metadata": {},
   "source": [
    "<U>Expected Output</U>:  "
   ]
  },
  {
   "cell_type": "markdown",
   "id": "1a15eceb",
   "metadata": {},
   "source": [
    "<pre style=\"margin: 0; padding=0\"><DIV style=\"font-family: Courier; border: 1px solid #dbdbdb; padding: 7px\">7</DIV></pre>"
   ]
  },
  {
   "cell_type": "markdown",
   "id": "9c58df2f",
   "metadata": {},
   "source": [
    " "
   ]
  },
  {
   "cell_type": "markdown",
   "id": "8be35e14",
   "metadata": {},
   "source": [
    "<div style=\"background-color: #ccffcc; padding: 10px; border: 2px solid green\"><B>6.17:  Set a class variable, 'increment\\_value' to 3 - this will specify how much the <B>increment()</B> method should increase the attribute.  Add this value to the <B>.counterval</B> attribute in <B>increment()</B>.  </B></div>"
   ]
  },
  {
   "cell_type": "code",
   "execution_count": null,
   "id": "20f37a2c",
   "metadata": {},
   "outputs": [],
   "source": [
    "class Counter:\n",
    "    # your class variable here\n",
    "\n",
    "    def __init__(self, val):\n",
    "        self.counterval = val\n",
    "\n",
    "    def increment(self):\n",
    "        # increment .counterval here\n",
    "\n",
    "c = Counter(5)\n",
    "\n",
    "c.increment()\n",
    "c.increment()\n",
    "\n",
    "print(c.counterval)    # 11 (5 + 3 + 3)"
   ]
  },
  {
   "cell_type": "markdown",
   "id": "91402e4b",
   "metadata": {},
   "source": [
    "<U>Expected Output</U>:  "
   ]
  },
  {
   "cell_type": "markdown",
   "id": "243835bb",
   "metadata": {},
   "source": [
    "<pre style=\"margin: 0; padding=0\"><DIV style=\"font-family: Courier; border: 1px solid #dbdbdb; padding: 7px\">7</DIV></pre>"
   ]
  },
  {
   "cell_type": "markdown",
   "id": "48828357",
   "metadata": {},
   "source": [
    " "
   ]
  },
  {
   "cell_type": "markdown",
   "id": "aa2301c6",
   "metadata": {},
   "source": [
    "MODULES"
   ]
  },
  {
   "cell_type": "markdown",
   "id": "cbd51973",
   "metadata": {},
   "source": [
    "<B>6.18:  <U>Create a module that holds a function</U>.  </B>"
   ]
  },
  {
   "cell_type": "markdown",
   "id": "9937e2e0",
   "metadata": {},
   "source": [
    "Create a new file, <B>temputils.py</B>, that has the below functions <B>def ctof()</B> and <B>def ftoc()</B>.  Place this file in the same folder as this exercise file (<B>inclass\\_exercises</B> if this is a <B>.py</B> file; <B>notebooks\\_inclass\\_challege</B> if this is a Jupyter notebook).\n"
   ]
  },
  {
   "cell_type": "markdown",
   "id": "0451c69b",
   "metadata": {},
   "source": [
    "Contents of <B>temputils.py</B>:"
   ]
  },
  {
   "cell_type": "markdown",
   "id": "a6b3a424",
   "metadata": {},
   "source": [
    "<pre style=\"margin: 0; padding=0\"><DIV style=\"font-family: Courier; border: 1px solid #dbdbdb; padding: 7px\">def ctof(temp):\n",
    "    \"\"\" function to convert celsius to fahrenheit \"\"\"\n",
    "    if not isinstance(temp, (int,float)):\n",
    "        raise TypeError('must be an int or float')\n",
    "    return (temp * 9 / 5) + 32\n",
    "\n",
    "\n",
    "def ftoc(temp):\n",
    "    \"\"\" function to convert fahrenheit to celsius \"\"\"\n",
    "    if not isinstance(temp, (int,float)):\n",
    "        raise TypeError('must be an int or float')\n",
    "    return (temp - 32) * 5 / 9</DIV></pre>"
   ]
  },
  {
   "cell_type": "code",
   "execution_count": null,
   "id": "b1be2f04",
   "metadata": {},
   "outputs": [],
   "source": [
    "import temputils as tu\n",
    "\n",
    "val = tu.ftoc(212)\n",
    "print(val)             # 100.0\n",
    "\n",
    "val2 = tu.ctof(0)\n",
    "print(val2)            # 32.0\n"
   ]
  },
  {
   "cell_type": "markdown",
   "id": "918007b7",
   "metadata": {},
   "source": [
    "<U>Expected Output</U>:  "
   ]
  },
  {
   "cell_type": "markdown",
   "id": "09ee4ec8",
   "metadata": {},
   "source": [
    "<pre style=\"margin: 0; padding=0\"><DIV style=\"font-family: Courier; border: 1px solid #dbdbdb; padding: 7px\">100.0\n",
    "32.0</DIV></pre>"
   ]
  },
  {
   "cell_type": "markdown",
   "id": "5706be7e",
   "metadata": {},
   "source": [
    " "
   ]
  },
  {
   "cell_type": "markdown",
   "id": "e1e25d88",
   "metadata": {},
   "source": [
    "<B>6.19:  <U>Set PYTHONPATH environment variable to make <B>utils.py</B> importable from any directory.  </B>"
   ]
  },
  {
   "cell_type": "markdown",
   "id": "477541ac",
   "metadata": {},
   "source": [
    "Move (don't copy) <B>temputils.py</B> to your Desktop.  This can be done through the PyCharm file view or your Finder or Windows Explorer windows.\n",
    "\n",
    "If you are using Jupyter Notebook, for this exercise you must first restart the kernel.  Click the circular arrow in the menu bar, or <B>Kernel -> Restart</B> (no outputs will be cleared from your notebook).\n",
    "\n",
    "Run the below exercise and note the <B>ModuleNotFoundError</B>, which indicates that the module can no longer be located.  This is because it is not in the same directory as this exercise file.\n"
   ]
  },
  {
   "cell_type": "code",
   "execution_count": null,
   "id": "af3b594e",
   "metadata": {},
   "outputs": [],
   "source": [
    "import temputils as tu\n",
    "\n",
    "val = tu.ftoc(212)\n",
    "print(val)             # 100.0\n",
    "\n",
    "val2 = tu.ctof(0)\n",
    "print(val2)            # 32.0\n"
   ]
  },
  {
   "cell_type": "markdown",
   "id": "bafded0b",
   "metadata": {},
   "source": [
    "Now follow the directions under the slide <B>Setting the PYTHONPATH Environment Variable</B> to set or add your Desktop path there:\n",
    "\n",
    "The most common locations for <B>Desktop</B> are:\n",
    "\n",
    "<U>Windows</U>:  <B>C:\\Users\\<I>username</I>\\Desktop</B>\n",
    "<U>Mac</U>:  <B>/Users/<I>username</I>/Desktop</B>\n",
    "\n",
    "Where <I>username</I> is the name of your home directory.\n",
    "\n",
    "Finally, run the code again and see that the module was found in its new location.\n"
   ]
  },
  {
   "cell_type": "markdown",
   "id": "8b5907e4",
   "metadata": {},
   "source": [
    "<U>Expected Output</U>:  "
   ]
  },
  {
   "cell_type": "markdown",
   "id": "75a7fdbf",
   "metadata": {},
   "source": [
    "<pre style=\"margin: 0; padding=0\"><DIV style=\"font-family: Courier; border: 1px solid #dbdbdb; padding: 7px\">100.0\n",
    "32.0</DIV></pre>"
   ]
  },
  {
   "cell_type": "markdown",
   "id": "0b6e5292",
   "metadata": {},
   "source": [
    " "
   ]
  },
  {
   "cell_type": "markdown",
   "id": "db3fd7cf",
   "metadata": {},
   "source": [
    "<B>6.20:  <U>Create a module that holds a class</U>.</B>"
   ]
  },
  {
   "cell_type": "markdown",
   "id": "fb3790ae",
   "metadata": {},
   "source": [
    "Add the below class to <B>temputils.py</B>.\n"
   ]
  },
  {
   "cell_type": "markdown",
   "id": "82cbb93e",
   "metadata": {},
   "source": [
    "<pre style=\"margin: 0; padding=0\"><DIV style=\"font-family: Courier; border: 1px solid #dbdbdb; padding: 7px\">class TempConvert:\n",
    "\n",
    "    def __init__(self, temp, scale='F'):\n",
    "        self.itemp = temp\n",
    "        self.scale = scale\n",
    "\n",
    "    def as_fahrenheit(self):\n",
    "        \"\"\" function to convert celsius to fahrenheit \"\"\"\n",
    "        if self.scale == 'F':\n",
    "            return self.itemp\n",
    "        return (self.itemp * 9 / 5) + 32\n",
    "\n",
    "    def as_celsius(self):\n",
    "        \"\"\" function to convert fahrenheit to celsius \"\"\"\n",
    "        if self.scale == 'C':\n",
    "            return self.itemp\n",
    "        return (self.itemp - 32) * 5 / 9\n",
    "</DIV></pre>"
   ]
  },
  {
   "cell_type": "markdown",
   "id": "a22c8f67",
   "metadata": {},
   "source": [
    "Then import the class and use it as indicated below.\n"
   ]
  },
  {
   "cell_type": "code",
   "execution_count": null,
   "id": "e99f74ad",
   "metadata": {},
   "outputs": [],
   "source": [
    "import temputils as tu\n",
    "\n",
    "\n",
    "# construct a TempConvert object as 32 degrees Fahrenheit\n",
    "\n",
    "# call .as_celsius() to see the value 0\n",
    "\n",
    "\n",
    "# construct a Tempconvert object as 100 degrees Celsius\n",
    "\n",
    "# call .as_fahrenheit() to see the value 212\n"
   ]
  },
  {
   "cell_type": "markdown",
   "id": "de8415ff",
   "metadata": {},
   "source": [
    "<U>Expected Output</U>:  "
   ]
  },
  {
   "cell_type": "markdown",
   "id": "0463d07c",
   "metadata": {},
   "source": [
    "<pre style=\"margin: 0; padding=0\"><DIV style=\"font-family: Courier; border: 1px solid #dbdbdb; padding: 7px\">0.0\n",
    "212.0</DIV></pre>"
   ]
  },
  {
   "cell_type": "markdown",
   "id": "e992f104",
   "metadata": {},
   "source": [
    " "
   ]
  }
 ],
 "metadata": {},
 "nbformat": 4,
 "nbformat_minor": 5
}
