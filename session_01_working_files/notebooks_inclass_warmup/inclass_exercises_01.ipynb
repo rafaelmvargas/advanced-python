{
 "cells": [
  {
   "cell_type": "markdown",
   "id": "8fc290af",
   "metadata": {},
   "source": [
    "# In-Class Exercises, Session 1"
   ]
  },
  {
   "cell_type": "markdown",
   "id": "b5a62418",
   "metadata": {},
   "source": [
    "COMMAND LINE AND ZIP FILE"
   ]
  },
  {
   "cell_type": "markdown",
   "id": "198914df",
   "metadata": {},
   "source": [
    "<B>1.1:  Open a Anaconda Prompt (Windows) or a Terminal window (Mac).  (To reach the Anaconda prompt, do a search for <B>Anaconda</B> and click <B>Anaconda Prompt</B>.)</B>"
   ]
  },
  {
   "cell_type": "markdown",
   "id": "f9d8daf5",
   "metadata": {},
   "source": [
    "<UL>\n",
    "  <LI> (Unix only) Use <B>pwd</B> to see the \"present working directory\"</LI>\n",
    "  <LI> Use <B>ls</B> (Mac) or <B>dir</B> (Windows) to see a listing of the files and directories in this directory</LI>\n",
    "  <LI> Use <B>cd</B> to move into a directory you see listed in the present working directory (for example <B>cd Downloads</B>)</LI>\n",
    "  <LI> Use <B>cd ..</B> to move into the \"parent\" directory of the one you are in (this will take you back to the parent of <B>Downlaods</B></LI>\n",
    "  <LI> Use <B>cd /Users/[yourhomedir]/Desktop</B> to move into the <B>Desktop</B> directory</LI>\n",
    "  <LI> Use <B>cd ../Downloads</B> to move from the <B>Desktop</B> directory to the <B>Downloads</B> directory</LI>\n",
    "  <LI> Use <B>cd</B> (Mac) or <B>cd %HOMEPATH%</B> (Windows) to move back into the home directory</LI>\n",
    "</UL>"
   ]
  },
  {
   "cell_type": "markdown",
   "id": "4f58ed46",
   "metadata": {},
   "source": [
    " "
   ]
  },
  {
   "cell_type": "markdown",
   "id": "924fb6d1",
   "metadata": {},
   "source": [
    "FILE PARSING"
   ]
  },
  {
   "cell_type": "markdown",
   "id": "a6abf038",
   "metadata": {},
   "source": [
    "NOTE THAT the data files read from these exercises is located in the \"parent\" directory.  Thus any filename in these exercises should be preceded with <B>../</B>.  (If you create a script in the same directory as the data file, this would not be necessary.)"
   ]
  },
  {
   "cell_type": "markdown",
   "id": "86f93b73",
   "metadata": {},
   "source": [
    " "
   ]
  },
  {
   "cell_type": "markdown",
   "id": "90d45a22",
   "metadata": {},
   "source": [
    "<B>1.2:  <U>Loop through a file and count lines</U>.  Take the following steps, running the program and verifying the result after each step:</B>"
   ]
  },
  {
   "cell_type": "markdown",
   "id": "f0e23e90",
   "metadata": {},
   "source": [
    "<OL>\n",
    "  <LI>Loop through the file <B>pyku.txt</B> (located in the parent directory) and print each line.</LI>\n",
    "  <LI>Add an integer counter to count the lines, reporting the count at the end (3).</LI>\n",
    "</OL>\n"
   ]
  },
  {
   "cell_type": "code",
   "execution_count": null,
   "id": "91cb7d29",
   "metadata": {},
   "outputs": [],
   "source": [
    "fname = '../pyku.txt'\n",
    "\n"
   ]
  },
  {
   "cell_type": "markdown",
   "id": "1254865d",
   "metadata": {},
   "source": [
    " "
   ]
  },
  {
   "cell_type": "markdown",
   "id": "404d1f8d",
   "metadata": {},
   "source": [
    "<B>1.3:  <U>Loop through a file, split out a column and add to a sum</U>.  Take the following steps, running the program and verifying the result after each step:</B>"
   ]
  },
  {
   "cell_type": "markdown",
   "id": "9f12775f",
   "metadata": {},
   "source": [
    "<OL>\n",
    "  <LI>Loop through the file <B>revenue.csv</B> and print each line.  Note that there is an extra blank line after each printed line (this is the newline character)</LI>\n",
    "  <LI>Before printing, use <B>.rstrip()</B> to strip the line of its newline character.  Print the line to see that the blank line has been omitted.</LI>\n",
    "  <LI>Split each line on a comma, and print the resulting list.</LI>\n",
    "  <LI>Subscript each list for the float value, and print the value from each line.</LI>\n",
    "  <LI>Set a float variable to 0 before the loop begins, and add each split value to the float variable (make sure to convert to float first).</LI>\n",
    "  <LI>Print the resulting sum.</LI>\n",
    "</OL>\n",
    "\n",
    "The result should be <B>662.0100000000001</B> --\n",
    "your remainder may be slightly different.\n"
   ]
  },
  {
   "cell_type": "code",
   "execution_count": null,
   "id": "163b74c5",
   "metadata": {},
   "outputs": [],
   "source": [
    "fname = '../revenue.csv'\n",
    "\n",
    "fh = open(fname)\n",
    "\n",
    "for line in fh:\n",
    "    line = line.rstrip()\n",
    "    # your loop code here\n",
    "\n"
   ]
  },
  {
   "cell_type": "markdown",
   "id": "f4d387aa",
   "metadata": {},
   "source": [
    "(Note:  use the <B>next()</B> function with the filehandle to advance the file pointer past the first row, which are headers)"
   ]
  },
  {
   "cell_type": "markdown",
   "id": "46b0bb85",
   "metadata": {},
   "source": [
    " "
   ]
  },
  {
   "cell_type": "markdown",
   "id": "783d7a66",
   "metadata": {},
   "source": [
    "<B>1.4:  <U>Loop through a file, split out a column and append to a list</U>.  Before the loop begins, initialize an empty list.  Perform the same operations as in previous, but add each <B>id</B> value (the first field value in each line) to the list.  </B>"
   ]
  },
  {
   "cell_type": "code",
   "execution_count": null,
   "id": "1407da83",
   "metadata": {},
   "outputs": [],
   "source": [
    "fname = '../student_db.txt'\n",
    "\n",
    "fh = open(fname)\n",
    "headers = next(fh)             # retrieve next (first) line from file\n",
    "\n",
    "for line in fh:\n",
    "    line = line.rstrip()\n",
    "    items = line.split(':')\n",
    "\n"
   ]
  },
  {
   "cell_type": "markdown",
   "id": "f9e7ad38",
   "metadata": {},
   "source": [
    " "
   ]
  },
  {
   "cell_type": "markdown",
   "id": "96f5abe9",
   "metadata": {},
   "source": [
    "<B>1.5:  <U>Loop through a file, split out a column and add to a set</U>.  Similar to previous, use a <B>set</B> to collect a unique collection of states found in <B>revenue.csv</B></B>"
   ]
  },
  {
   "cell_type": "code",
   "execution_count": null,
   "id": "517eaaf1",
   "metadata": {},
   "outputs": [],
   "source": [
    "fname = '../revenue.csv'\n",
    "\n",
    "fh = open(fname)\n",
    "\n",
    "for line in fh:\n",
    "    line = line.rstrip()\n",
    "    items = line.split(',')\n",
    "\n"
   ]
  },
  {
   "cell_type": "markdown",
   "id": "a94dfaa8",
   "metadata": {},
   "source": [
    " "
   ]
  },
  {
   "cell_type": "markdown",
   "id": "13aa5dc7",
   "metadata": {},
   "source": [
    "<B>1.6:  <U>Use a dict to build a lookup table</U>.  Perform the following steps, testing as you go:</B>"
   ]
  },
  {
   "cell_type": "markdown",
   "id": "e4dd0134",
   "metadata": {},
   "source": [
    "<OL>\n",
    "  <LI>split the line on a comma</LI>\n",
    "  <LI>from the split list, retrieve the 1st (student id) and 4th (state) values</LI>\n",
    "  <LI>initialize a dict before the loop begins</LI>\n",
    "  <LI>subscript the line for student id and state</LI>\n",
    "  <LI>add student id and state to dict as key/value pair</LI>\n",
    "  <LI>when the loop is complete, print the completed dict</LI>\n",
    "  <LI>take user input for an id (for example, <B>ap172</B>); use the <B>in</B> operator to test to see if the id is a key in the dict; if it is, print the value for that key</LI>\n",
    "</OL>\n"
   ]
  },
  {
   "cell_type": "code",
   "execution_count": null,
   "id": "c481a8fe",
   "metadata": {},
   "outputs": [],
   "source": [
    "fh = open('../student_db.txt')\n",
    "next(fh)                        # skip next (first) line in file\n",
    "\n",
    "for line in fh:\n",
    "    items = line.split(':')\n",
    "    stu_id = items[0]\n",
    "    state = items[3]\n"
   ]
  },
  {
   "cell_type": "markdown",
   "id": "e40a1931",
   "metadata": {},
   "source": [
    " "
   ]
  },
  {
   "cell_type": "markdown",
   "id": "d50eb22e",
   "metadata": {},
   "source": [
    "<B>1.7:  <U>Use a dict to build an aggregation (count or sum)</U>.  Use a dict to count the number of occurrences of each state in <B>revenue.csv</B>.  </B>"
   ]
  },
  {
   "cell_type": "code",
   "execution_count": null,
   "id": "b953789a",
   "metadata": {},
   "outputs": [],
   "source": [
    "fh = open('../revenue.csv')\n",
    "\n",
    "for row in fh:\n",
    "    print(row)\n",
    "\n"
   ]
  },
  {
   "cell_type": "markdown",
   "id": "0c438d93",
   "metadata": {},
   "source": [
    " "
   ]
  },
  {
   "cell_type": "markdown",
   "id": "885a9e19",
   "metadata": {},
   "source": [
    "<B>1.8:  <U>Process individual words from a file</U>.  Take the following steps, testing as you go:</B>"
   ]
  },
  {
   "cell_type": "markdown",
   "id": "1bace9be",
   "metadata": {},
   "source": [
    "<OL>\n",
    "  <LI>Use file <B>.read()</B> to read <B>pyku.txt</B> as a whole</LI>\n",
    "  <LI>Use string <B>.split()</B> to divide the file into words</LI>\n",
    "  <LI>Loop through each word</LI>\n",
    "  <LI>As you loop, lowercase each word and strip of punctuation</LI>\n",
    "  <LI>Initialize a set() at the top, and <B>.add()</B> each word to the set to build a set of unique words.  </LI>\n",
    "</OL>"
   ]
  },
  {
   "cell_type": "code",
   "execution_count": null,
   "id": "d3c11851",
   "metadata": {},
   "outputs": [],
   "source": [
    "fh = open('../pyku.txt')\n",
    "\n"
   ]
  },
  {
   "cell_type": "markdown",
   "id": "f2569e4e",
   "metadata": {},
   "source": [
    " "
   ]
  },
  {
   "cell_type": "markdown",
   "id": "fe9c1468",
   "metadata": {},
   "source": [
    "LAB EXERCISES 1"
   ]
  },
  {
   "cell_type": "markdown",
   "id": "1971c9f0",
   "metadata": {},
   "source": [
    "<U>Please remember</U> that to open files from this location (the location of these exercise files) you must prepend <B>'../'</B> to each data filename, since they are located in the parent directory of this location."
   ]
  },
  {
   "cell_type": "markdown",
   "id": "d7072be8",
   "metadata": {},
   "source": [
    " "
   ]
  },
  {
   "cell_type": "markdown",
   "id": "d3be404d",
   "metadata": {},
   "source": [
    "<div style=\"background-color: #ccffcc; padding: 10px; border: 2px solid green\"><B>1.9:  <U>Use a 'for' loop to count lines in a file</U>.  Using an integer counter with a for loop, count and print the number of data lines in <B>ad\\_buys.csv</B> (hint:  use <B>next()</B> to skip the header line).  </B></div>"
   ]
  },
  {
   "cell_type": "code",
   "execution_count": null,
   "id": "e5bfb000",
   "metadata": {},
   "outputs": [],
   "source": [
    "\n",
    "\n"
   ]
  },
  {
   "cell_type": "markdown",
   "id": "5c4ad3b1",
   "metadata": {},
   "source": [
    "<U>Expected Output</U>:  "
   ]
  },
  {
   "cell_type": "markdown",
   "id": "6ed5dc91",
   "metadata": {},
   "source": [
    "<pre style=\"margin: 0; padding=0\"><DIV style=\"font-family: Courier; border: 1px solid #dbdbdb; padding: 7px\">15</DIV></pre>"
   ]
  },
  {
   "cell_type": "markdown",
   "id": "cc4c2555",
   "metadata": {},
   "source": [
    " "
   ]
  },
  {
   "cell_type": "markdown",
   "id": "4941788a",
   "metadata": {},
   "source": [
    "<div style=\"background-color: #ccffcc; padding: 10px; border: 2px solid green\"><B>1.10:  <U>Use a 'for' loop to print selected lines</U>.  Loop through <B>ad\\_companies.csv</B> and print out only those lines with a state of <B>AZ</B>.  </B></div>"
   ]
  },
  {
   "cell_type": "code",
   "execution_count": null,
   "id": "c79cb4ef",
   "metadata": {},
   "outputs": [],
   "source": [
    "\n"
   ]
  },
  {
   "cell_type": "markdown",
   "id": "c8a5483c",
   "metadata": {},
   "source": [
    "<U>Expected Output</U>:  "
   ]
  },
  {
   "cell_type": "markdown",
   "id": "7c9c314f",
   "metadata": {},
   "source": [
    "<pre style=\"margin: 0; padding=0\"><DIV style=\"font-family: Courier; border: 1px solid #dbdbdb; padding: 7px\">3,Omni Media,Phoenix,AZ\n",
    "5,Addy Ads,Tempe,AZ</DIV></pre>"
   ]
  },
  {
   "cell_type": "markdown",
   "id": "5c861617",
   "metadata": {},
   "source": [
    "Please note that there is no blank line printed after each line."
   ]
  },
  {
   "cell_type": "markdown",
   "id": "a9f3c683",
   "metadata": {},
   "source": [
    " "
   ]
  },
  {
   "cell_type": "markdown",
   "id": "22346a71",
   "metadata": {},
   "source": [
    "<div style=\"background-color: #ccffcc; padding: 10px; border: 2px solid green\"><B>1.11:  <U>Use a 'for' loop to print first word from each line in a file</U>.  Loop through and print just the first word from the file <B>pyku.txt</B>.  </B></div>"
   ]
  },
  {
   "cell_type": "code",
   "execution_count": null,
   "id": "c53ceb4f",
   "metadata": {},
   "outputs": [],
   "source": [
    "\n"
   ]
  },
  {
   "cell_type": "markdown",
   "id": "244c3864",
   "metadata": {},
   "source": [
    "<U>Expected Output</U>:  "
   ]
  },
  {
   "cell_type": "markdown",
   "id": "94032f41",
   "metadata": {},
   "source": [
    "<pre style=\"margin: 0; padding=0\"><DIV style=\"font-family: Courier; border: 1px solid #dbdbdb; padding: 7px\">We're\n",
    "This\n",
    "Spam</DIV></pre>"
   ]
  },
  {
   "cell_type": "markdown",
   "id": "e55bc162",
   "metadata": {},
   "source": [
    "Please note that there is no comma after the word 'Spam'"
   ]
  },
  {
   "cell_type": "markdown",
   "id": "e13ecdb9",
   "metadata": {},
   "source": [
    " "
   ]
  },
  {
   "cell_type": "markdown",
   "id": "dd44f913",
   "metadata": {},
   "source": [
    "<div style=\"background-color: #ccffcc; padding: 10px; border: 2px solid green\"><B>1.12:  <U>Use a 'for' loop to sum up int/float values in a file</U>.  Sum up the 'volume' values in the file <B>ad\\_buys.csv</B>.  </B></div>"
   ]
  },
  {
   "cell_type": "code",
   "execution_count": null,
   "id": "48c4d8dc",
   "metadata": {},
   "outputs": [],
   "source": [
    "\n"
   ]
  },
  {
   "cell_type": "markdown",
   "id": "300e0da1",
   "metadata": {},
   "source": [
    "<U>Expected Output</U>:  "
   ]
  },
  {
   "cell_type": "markdown",
   "id": "9dd951b3",
   "metadata": {},
   "source": [
    "<pre style=\"margin: 0; padding=0\"><DIV style=\"font-family: Courier; border: 1px solid #dbdbdb; padding: 7px\">150</DIV></pre>"
   ]
  },
  {
   "cell_type": "markdown",
   "id": "20e03387",
   "metadata": {},
   "source": [
    " "
   ]
  },
  {
   "cell_type": "markdown",
   "id": "f9237620",
   "metadata": {},
   "source": [
    "<div style=\"background-color: #ccffcc; padding: 10px; border: 2px solid green\"><B>1.13:  <U>Use a 'for' loop to collect a value from each line in a file</U>.  Collect a list of states from <B>ad\\_companies.csv</B>.  </B></div>"
   ]
  },
  {
   "cell_type": "code",
   "execution_count": null,
   "id": "714ee828",
   "metadata": {},
   "outputs": [],
   "source": [
    "\n"
   ]
  },
  {
   "cell_type": "markdown",
   "id": "6292da8e",
   "metadata": {},
   "source": [
    "Keep in mind that since the state value is the last on each line, we must <B>.rstrip()</B> the line the remove the newline so that it doesn't remain attached to the state value.\n"
   ]
  },
  {
   "cell_type": "markdown",
   "id": "27d213f3",
   "metadata": {},
   "source": [
    "<U>Expected Output</U>:  "
   ]
  },
  {
   "cell_type": "markdown",
   "id": "987a9e7f",
   "metadata": {},
   "source": [
    "<pre style=\"margin: 0; padding=0\"><DIV style=\"font-family: Courier; border: 1px solid #dbdbdb; padding: 7px\">['OR', 'OR', 'AZ', 'PA', 'AZ']</DIV></pre>"
   ]
  },
  {
   "cell_type": "markdown",
   "id": "168958bc",
   "metadata": {},
   "source": [
    " "
   ]
  },
  {
   "cell_type": "markdown",
   "id": "4612f1d6",
   "metadata": {},
   "source": [
    "<div style=\"background-color: #ccffcc; padding: 10px; border: 2px solid green\"><B>1.14:  <U>Evaluate each word in a file</U>.  Split <B>pyku.txt</B> into words, then use a 'for' loop to print each word that has more than 4 letters (after stripping punctuation)</U>.  </B></div>"
   ]
  },
  {
   "cell_type": "code",
   "execution_count": null,
   "id": "6c0782e6",
   "metadata": {},
   "outputs": [],
   "source": [
    "\n"
   ]
  },
  {
   "cell_type": "markdown",
   "id": "83f80406",
   "metadata": {},
   "source": [
    "<U>Expected Output</U>:  "
   ]
  },
  {
   "cell_type": "markdown",
   "id": "6ae97cbf",
   "metadata": {},
   "source": [
    "<pre style=\"margin: 0; padding=0\"><DIV style=\"font-family: Courier; border: 1px solid #dbdbdb; padding: 7px\">We're\n",
    "gouda\n",
    "parrot\n",
    "ceased</DIV></pre>"
   ]
  },
  {
   "cell_type": "markdown",
   "id": "1d7580ad",
   "metadata": {},
   "source": [
    " "
   ]
  },
  {
   "cell_type": "markdown",
   "id": "49c27485",
   "metadata": {},
   "source": [
    "SUMMARY STATISTICS FROM LIST OF VALUES"
   ]
  },
  {
   "cell_type": "markdown",
   "id": "7124b845",
   "metadata": {},
   "source": [
    "<B>1.15:  <U>Derive statistical information from a list of values</U>.  Given the list of revenue values, use functions to calculate count (7), sum of values (662.01), maximum and minimum values (239.5, 5.98) in the list.  </B>"
   ]
  },
  {
   "cell_type": "code",
   "execution_count": null,
   "id": "cf28621e",
   "metadata": {},
   "outputs": [],
   "source": [
    "vals = [239.5, 53.9, 211.5, 11.98, 5.98, 23.95, 115.2]\n",
    "\n"
   ]
  },
  {
   "cell_type": "markdown",
   "id": "0b0de701",
   "metadata": {},
   "source": [
    " "
   ]
  },
  {
   "cell_type": "markdown",
   "id": "488b6723",
   "metadata": {},
   "source": [
    "<B>1.16:  <U>Evaluate objects in a boolean context</U>.  </B>"
   ]
  },
  {
   "cell_type": "markdown",
   "id": "45759cd3",
   "metadata": {},
   "source": [
    "First, run the below code to see how each of the below variables converts to <B>bool()</B>, a function for converting to boolean (True/False) value.\n",
    "\n",
    "Then, uncomment the code to see how each of the variables behaves in an <B>if</B> statement (boolean context, i.e. evaluating as True/False)\n"
   ]
  },
  {
   "cell_type": "code",
   "execution_count": null,
   "id": "8f461174",
   "metadata": {},
   "outputs": [],
   "source": [
    "list_empty = []\n",
    "list_full = [0, 0, 0]\n",
    "\n",
    "dict_empty = {}\n",
    "dict_full = {'a': None, 'b': None}\n",
    "\n",
    "int_empty = 0\n",
    "int_full = -1\n",
    "\n",
    "str_empty = \"\"\n",
    "str_full = '   '      # 3 spaces\n",
    "\n",
    "for item in [list_empty, list_full, dict_empty, dict_full,\n",
    "             int_empty, int_full, str_empty, str_full]:\n",
    "\n",
    "    print(f'{item} in boolean context:  {bool(item)}')\n",
    "    #if item:\n",
    "    #    print(f'{item} resolves to True in an if test')\n",
    "    #else:\n",
    "    #    print(f'{item} resolves to False in an if test')\n",
    "    print()"
   ]
  },
  {
   "cell_type": "markdown",
   "id": "4d615e15",
   "metadata": {},
   "source": [
    " "
   ]
  },
  {
   "cell_type": "markdown",
   "id": "291e4d5e",
   "metadata": {},
   "source": [
    "<B>1.17:  <U>Sort and slice a list to derive a ranking</U>.  Given the list of temperature values, use <B>sorted()</B> to put them in order and list slicing to determine top 3 and bottom 2 values in the list.  </B>"
   ]
  },
  {
   "cell_type": "code",
   "execution_count": null,
   "id": "3017f6fb",
   "metadata": {},
   "outputs": [],
   "source": [
    "temps = [38, 52, 46, 70, 48, 75, 73, 75, 74, 59, 49, 48]\n",
    "\n"
   ]
  },
  {
   "cell_type": "markdown",
   "id": "fa1b2f88",
   "metadata": {},
   "source": [
    " "
   ]
  },
  {
   "cell_type": "markdown",
   "id": "2c52fe53",
   "metadata": {},
   "source": [
    "<B>1.18:  <U>Sort a dict by value</U>.  Given the below dict, sort the keys by value, highest to lowest, and then loop through the sorted keys, printing each value as you go.  (Hint:  use <B>key=valdict.get</B> to sort a key by value.)  </B>"
   ]
  },
  {
   "cell_type": "code",
   "execution_count": null,
   "id": "2ea2f8ba",
   "metadata": {},
   "outputs": [],
   "source": [
    "valdict = {'Acme': 0.09, 'Beta': 1.13, 'Gamma': 4.07, 'Delta': 2.7}\n"
   ]
  },
  {
   "cell_type": "markdown",
   "id": "9a3e9cc7",
   "metadata": {},
   "source": [
    " "
   ]
  },
  {
   "cell_type": "markdown",
   "id": "848cc0a2",
   "metadata": {},
   "source": [
    "CSV MODULE"
   ]
  },
  {
   "cell_type": "markdown",
   "id": "28485f93",
   "metadata": {},
   "source": [
    "<B>1.19:  <U>Use csv module to read a file</U>.  Take the following steps, testing as you go:</B>"
   ]
  },
  {
   "cell_type": "markdown",
   "id": "07f0c650",
   "metadata": {},
   "source": [
    "<OL>\n",
    "  <LI>Open a file and pass the file object to <B>csv.reader()</B></LI>\n",
    "  <LI>Loop through the <B>reader</B> object line by line, printing each line.  Note the type of the object representing each row.</LI>\n",
    "  <LI>Subscript the float value from each list and convert to float.</LI>\n",
    "  <LI>Initialize a float variable <B>0.0</B> at the top and add each float value to it inside the loop, producing a sum.\n",
    "</OL>"
   ]
  },
  {
   "cell_type": "code",
   "execution_count": null,
   "id": "192cb36a",
   "metadata": {},
   "outputs": [],
   "source": [
    "import csv\n",
    "\n",
    "fh = open('../revenue.csv')\n"
   ]
  },
  {
   "cell_type": "markdown",
   "id": "7725823e",
   "metadata": {},
   "source": [
    " "
   ]
  },
  {
   "cell_type": "markdown",
   "id": "743ec584",
   "metadata": {},
   "source": [
    "<B>1.20:  <U>Write individual rows to a CSV file</U>.  Take the following steps, testing as you go:</B>"
   ]
  },
  {
   "cell_type": "markdown",
   "id": "dd436ef7",
   "metadata": {},
   "source": [
    "<OL>\n",
    "  <LI>Open a file for writing and pass the filehandle to <B>csv.writer()</B> (when opening the file for writing, include the <B>newline=''</B> argument to <B>open()</B> so newlines will be written properly).</LI>\n",
    "  <LI>Use <B>.writerow()</B> on the writer object to write each list to the file, starting with the <B>header</B> list.</LI>\n",
    "  <LI>Close the file, then open and view <B>newfile.csv</B> in the session directory.</LI>\n",
    "</OL>"
   ]
  },
  {
   "cell_type": "code",
   "execution_count": null,
   "id": "d50b9eac",
   "metadata": {},
   "outputs": [],
   "source": [
    "import csv\n",
    "\n",
    "header = ['name', 'address', 'state', 'zip']\n",
    "\n",
    "row1 = ['Joe', '123 Main', 'CA', '91603']\n",
    "row2 = ['Marie', '234 Camarino', 'NJ', '92325']\n",
    "\n",
    "fname = '../newfile.csv'     # a new file, or replacing old if exists\n",
    "\n",
    "wfh = open(fname, 'w', newline='')\n"
   ]
  },
  {
   "cell_type": "markdown",
   "id": "e86f83fe",
   "metadata": {},
   "source": [
    " "
   ]
  },
  {
   "cell_type": "markdown",
   "id": "e1aaf826",
   "metadata": {},
   "source": [
    "<B>1.21:  <U>Write multiple rows to a CSV file</U>.  Follow the same steps as above, but use <B>.writerows()</B> to write the entire list of lists to the file.  Close the file, then look for <B>newfile2.csv</B> in the session directory.  </B>"
   ]
  },
  {
   "cell_type": "code",
   "execution_count": null,
   "id": "366bd498",
   "metadata": {},
   "outputs": [],
   "source": [
    "rows = [\n",
    "         [ 'date', 'temp', 'wind' ],\n",
    "         [ '2020-06-13', '78.3', '6' ],\n",
    "         [ '2020-06-14', '77.0', '8' ],\n",
    "       ]\n",
    "\n",
    "fname = '../newfile2.csv'\n",
    "\n",
    "wfh = open(fname, 'w', newline='')\n",
    "\n",
    "writer = csv.writer(wfh)\n",
    "\n"
   ]
  },
  {
   "cell_type": "markdown",
   "id": "44374250",
   "metadata": {},
   "source": [
    " "
   ]
  },
  {
   "cell_type": "markdown",
   "id": "f8e82cbf",
   "metadata": {},
   "source": [
    "<B>1.22:  <U>Selectively write rows to a CSV</U>.  Loop through the list of lists and write only the <B>US</B> rows to the file.  Also write the header as the first row.  Close the file, then look for <B>newfile3.csv</B> in the session directory.  </B>"
   ]
  },
  {
   "cell_type": "code",
   "execution_count": null,
   "id": "fb359e44",
   "metadata": {},
   "outputs": [],
   "source": [
    "rows = [\n",
    "         [ 'company', 'state/province', 'country' ],\n",
    "         [ 'Acme', 'Caliornia', 'US' ],\n",
    "         [ 'Bento', 'Toledo', 'SP' ],\n",
    "         [ 'OuiOui', 'Bourges', 'FR' ],\n",
    "         [ 'Beta', 'New York', 'US' ]\n",
    "       ]\n",
    "\n",
    "fname = '../newfile3.csv'\n",
    "\n",
    "wfh = open(fname, 'w', newline='')\n",
    "writer = csv.writer(wfh)\n",
    "\n"
   ]
  },
  {
   "cell_type": "markdown",
   "id": "7afc4a84",
   "metadata": {},
   "source": [
    " "
   ]
  },
  {
   "cell_type": "markdown",
   "id": "b87168ab",
   "metadata": {},
   "source": [
    "<B>1.23:  <U>Selectively write columns to a CSV</U>.  Loop through the list of lists and write only the <B>company</B> and <B>country</B> columns to the file.  Include the header.  Close the file, then look for <B>newfile4.csv</B> in the session directory.  </B>"
   ]
  },
  {
   "cell_type": "code",
   "execution_count": null,
   "id": "966b96b6",
   "metadata": {},
   "outputs": [],
   "source": [
    "rows = [\n",
    "         [ 'company', 'state/province', 'country' ],\n",
    "         [ 'Acme', 'Caliornia', 'US' ],\n",
    "         [ 'Bento', 'Toledo', 'SP' ],\n",
    "         [ 'OuiOui', 'Bourges', 'FR' ],\n",
    "         [ 'Beta', 'New York', 'US' ]\n",
    "       ]\n",
    "\n",
    "fname = '../newfile4.csv'\n",
    "\n",
    "wfh = open(fname, 'w', newline='')\n",
    "writer = csv.writer(wfh)\n",
    "\n",
    "\n",
    "\n"
   ]
  },
  {
   "cell_type": "markdown",
   "id": "b27e4545",
   "metadata": {},
   "source": [
    " "
   ]
  },
  {
   "cell_type": "markdown",
   "id": "0dc23e35",
   "metadata": {},
   "source": [
    "FUNCTIONS"
   ]
  },
  {
   "cell_type": "markdown",
   "id": "fa7f29e7",
   "metadata": {},
   "source": [
    "<B>1.24:  What is the correct way to call this function?</B>"
   ]
  },
  {
   "cell_type": "code",
   "execution_count": null,
   "id": "dd3a79b8",
   "metadata": {},
   "outputs": [],
   "source": [
    "def do():\n",
    "    print('ok')\n"
   ]
  },
  {
   "cell_type": "markdown",
   "id": "13bd8e9e",
   "metadata": {},
   "source": [
    " "
   ]
  },
  {
   "cell_type": "markdown",
   "id": "78fe470d",
   "metadata": {},
   "source": [
    "<B>1.25:  What is the correct way to call this function?</B>"
   ]
  },
  {
   "cell_type": "code",
   "execution_count": null,
   "id": "0b462978",
   "metadata": {},
   "outputs": [],
   "source": [
    "def do(arg):\n",
    "    print(arg)\n",
    "\n"
   ]
  },
  {
   "cell_type": "markdown",
   "id": "c8114c4e",
   "metadata": {},
   "source": [
    " "
   ]
  },
  {
   "cell_type": "markdown",
   "id": "bd944423",
   "metadata": {},
   "source": [
    "<B>1.26:  What is the correct way to call this function?</B>"
   ]
  },
  {
   "cell_type": "code",
   "execution_count": null,
   "id": "63af5ec8",
   "metadata": {},
   "outputs": [],
   "source": [
    "def do(arg):\n",
    "    darg = arg * 2\n",
    "    return darg\n",
    "\n"
   ]
  },
  {
   "cell_type": "markdown",
   "id": "568059a3",
   "metadata": {},
   "source": [
    " "
   ]
  },
  {
   "cell_type": "markdown",
   "id": "359bda4f",
   "metadata": {},
   "source": [
    "<B>1.27:  What is the correct way to call this function?</B>"
   ]
  },
  {
   "cell_type": "code",
   "execution_count": null,
   "id": "396668e1",
   "metadata": {},
   "outputs": [],
   "source": [
    "import random\n",
    "\n",
    "def do():\n",
    "    num = random.randint(0, 10)\n",
    "    return num\n",
    "\n"
   ]
  },
  {
   "cell_type": "markdown",
   "id": "8ef6105b",
   "metadata": {},
   "source": [
    " "
   ]
  },
  {
   "cell_type": "markdown",
   "id": "456fe4e3",
   "metadata": {},
   "source": [
    "<B>1.28:  What is the correct way to call this function?</B>"
   ]
  },
  {
   "cell_type": "code",
   "execution_count": null,
   "id": "2a4ecf3a",
   "metadata": {},
   "outputs": [],
   "source": [
    "def do(arg, otherarg):\n",
    "    svals = arg + otherarg\n",
    "    return svals\n",
    "\n"
   ]
  },
  {
   "cell_type": "markdown",
   "id": "74cf6e24",
   "metadata": {},
   "source": [
    " "
   ]
  },
  {
   "cell_type": "markdown",
   "id": "f9de368d",
   "metadata": {},
   "source": [
    "<B>1.29:  What is the correct way to call this function?</B>"
   ]
  },
  {
   "cell_type": "code",
   "execution_count": null,
   "id": "c98d28d0",
   "metadata": {},
   "outputs": [],
   "source": [
    "def do(arg, otherarg):\n",
    "    darg = arg * 2\n",
    "    dotherarg = otherarg * 2\n",
    "    return darg, dotherarg\n",
    "\n"
   ]
  },
  {
   "cell_type": "markdown",
   "id": "5e843ca5",
   "metadata": {},
   "source": [
    " "
   ]
  },
  {
   "cell_type": "markdown",
   "id": "bca498f5",
   "metadata": {},
   "source": [
    "<B>1.30:  Write a function callme() that prints \"function called\" every time you call it.  Call the function with the following code:</B>"
   ]
  },
  {
   "cell_type": "code",
   "execution_count": null,
   "id": "9a089aa2",
   "metadata": {},
   "outputs": [],
   "source": [
    "# your code here\n",
    "\n",
    "callme()\n",
    "callme()\n",
    "callme()"
   ]
  },
  {
   "cell_type": "markdown",
   "id": "d34a9278",
   "metadata": {},
   "source": [
    "<U>Expected Output</U>:  "
   ]
  },
  {
   "cell_type": "markdown",
   "id": "df21db56",
   "metadata": {},
   "source": [
    "<pre style=\"margin: 0; padding=0\"><DIV style=\"font-family: Courier; border: 1px solid #dbdbdb; padding: 7px\">function called...\n",
    "function called...\n",
    "function called...</DIV></pre>"
   ]
  },
  {
   "cell_type": "markdown",
   "id": "5ded290a",
   "metadata": {},
   "source": [
    " "
   ]
  },
  {
   "cell_type": "markdown",
   "id": "19dc33b4",
   "metadata": {},
   "source": [
    "<B>1.31:  Write a function printupper() that takes one argument, a string, and prints that string uppercased.  Call it with the following code:</B>"
   ]
  },
  {
   "cell_type": "code",
   "execution_count": null,
   "id": "cb352a53",
   "metadata": {},
   "outputs": [],
   "source": [
    "# your code here\n",
    "\n",
    "printupper('hello')\n",
    "printupper('my you are loud')\n",
    "printupper('I am not loud.  You are.')"
   ]
  },
  {
   "cell_type": "markdown",
   "id": "d4584f40",
   "metadata": {},
   "source": [
    "<U>Expected Output</U>:  "
   ]
  },
  {
   "cell_type": "markdown",
   "id": "77259c38",
   "metadata": {},
   "source": [
    "<pre style=\"margin: 0; padding=0\"><DIV style=\"font-family: Courier; border: 1px solid #dbdbdb; padding: 7px\">HELLO\n",
    "MY YOU ARE LOUD\n",
    "I AM NOT LOUD.  YOU ARE.</DIV></pre>"
   ]
  },
  {
   "cell_type": "markdown",
   "id": "41b323d0",
   "metadata": {},
   "source": [
    " "
   ]
  },
  {
   "cell_type": "markdown",
   "id": "781ddda6",
   "metadata": {},
   "source": [
    "<B>1.32:  Write a function addme() that takes two arguments, adds them together and returns the two arguments added / concatenated.  Call it thusly:</B>"
   ]
  },
  {
   "cell_type": "code",
   "execution_count": null,
   "id": "1113bdb0",
   "metadata": {},
   "outputs": [],
   "source": [
    "# your code here\n",
    "\n",
    "x = addme(4, 5)\n",
    "print(x)\n",
    "\n",
    "y = addme('hey', 'you')\n",
    "print(y)"
   ]
  },
  {
   "cell_type": "markdown",
   "id": "5bad3ae2",
   "metadata": {},
   "source": [
    "<U>Expected Output</U>:  "
   ]
  },
  {
   "cell_type": "markdown",
   "id": "4669f7bb",
   "metadata": {},
   "source": [
    "<pre style=\"margin: 0; padding=0\"><DIV style=\"font-family: Courier; border: 1px solid #dbdbdb; padding: 7px\">9\n",
    "heyyou</DIV></pre>"
   ]
  },
  {
   "cell_type": "markdown",
   "id": "d62e7f4b",
   "metadata": {},
   "source": [
    " "
   ]
  },
  {
   "cell_type": "markdown",
   "id": "5b277244",
   "metadata": {},
   "source": [
    "<B>1.33:  Write a function printlist() that takes a list and loops through and prints each element of the list.  Call it thusly:</B>"
   ]
  },
  {
   "cell_type": "code",
   "execution_count": null,
   "id": "68713474",
   "metadata": {},
   "outputs": [],
   "source": [
    "# your code here\n",
    "\n",
    "printlist([1, 2, 'a', 'b'])\n"
   ]
  },
  {
   "cell_type": "markdown",
   "id": "13313a96",
   "metadata": {},
   "source": [
    "<U>Expected Output</U>:  "
   ]
  },
  {
   "cell_type": "markdown",
   "id": "295f4776",
   "metadata": {},
   "source": [
    "<pre style=\"margin: 0; padding=0\"><DIV style=\"font-family: Courier; border: 1px solid #dbdbdb; padding: 7px\">1\n",
    "2\n",
    "a\n",
    "b</DIV></pre>"
   ]
  },
  {
   "cell_type": "markdown",
   "id": "7341a90b",
   "metadata": {},
   "source": [
    " "
   ]
  },
  {
   "cell_type": "markdown",
   "id": "3c02fd54",
   "metadata": {},
   "source": [
    "LAB EXERCISES 2"
   ]
  },
  {
   "cell_type": "markdown",
   "id": "9cacd5c2",
   "metadata": {},
   "source": [
    "<div style=\"background-color: #ccffcc; padding: 10px; border: 2px solid green\"><B>1.34:  <U>Use <B>csv</B> module to parse a file</U>.  Read the file <B>ad\\_companies.csv</B> and build a set of company names that appear in the file.  Make sure to use the <B>csv</B> module.  </B></div>"
   ]
  },
  {
   "cell_type": "code",
   "execution_count": null,
   "id": "3a2a219d",
   "metadata": {},
   "outputs": [],
   "source": [
    "\n"
   ]
  },
  {
   "cell_type": "markdown",
   "id": "f268e4b7",
   "metadata": {},
   "source": [
    "<U>Expected Output</U>:  "
   ]
  },
  {
   "cell_type": "markdown",
   "id": "64a206b2",
   "metadata": {},
   "source": [
    "<pre style=\"margin: 0; padding=0\"><DIV style=\"font-family: Courier; border: 1px solid #dbdbdb; padding: 7px\">{'Alpha Corp.', \"Mike's Ads\", 'Omni Media', 'Jones Kraft', 'Addy Ads'}</DIV></pre>"
   ]
  },
  {
   "cell_type": "markdown",
   "id": "c5e6bfac",
   "metadata": {},
   "source": [
    "(Order of your set may be different.)"
   ]
  },
  {
   "cell_type": "markdown",
   "id": "20b04634",
   "metadata": {},
   "source": [
    " "
   ]
  },
  {
   "cell_type": "markdown",
   "id": "1d3dd715",
   "metadata": {},
   "source": [
    "<div style=\"background-color: #ccffcc; padding: 10px; border: 2px solid green\"><B>1.35:  <U>Use <B>csv</B> module to parse a file</U>.  Read the file <B>ad\\_buys.csv</B> and build a list of int values from the file:  the 'volume' value.  Make sure they are compiled as integers, not as strings.  </B></div>"
   ]
  },
  {
   "cell_type": "code",
   "execution_count": null,
   "id": "3d3c94ca",
   "metadata": {},
   "outputs": [],
   "source": [
    "\n"
   ]
  },
  {
   "cell_type": "markdown",
   "id": "380ba04b",
   "metadata": {},
   "source": [
    "<U>Expected Output</U>:  "
   ]
  },
  {
   "cell_type": "markdown",
   "id": "ddf78cb2",
   "metadata": {},
   "source": [
    "<pre style=\"margin: 0; padding=0\"><DIV style=\"font-family: Courier; border: 1px solid #dbdbdb; padding: 7px\">[20, 10, 8, 12, 14, 3, 6, 18, 16, 6, 14, 2, 10, 3, 8]</DIV></pre>"
   ]
  },
  {
   "cell_type": "markdown",
   "id": "b9731b01",
   "metadata": {},
   "source": [
    " "
   ]
  },
  {
   "cell_type": "markdown",
   "id": "81180db3",
   "metadata": {},
   "source": [
    "<div style=\"background-color: #ccffcc; padding: 10px; border: 2px solid green\"><B>1.36:  <U>Use the <B>csv</B> module to parse a file and write to a new file</U>.  Open file <B>ad\\_buys.csv</B> for reading and pass to <B>csv.reader()</B>, and new file <B>ad\\_buys\\_totals.csv</B> for writing and pass to <B>csv.writer()</B> (when opening the file for writing, include the <B>newline=''</B> parameter argument to write newlines properly).  As you loop through the read file, multiply the <B>volume</B> value by the <B>price</B> rounded to two places and add a new column, <B>total</B>, writing all columns to the new file.  Make sure to include the headers with the new column label.  </B></div>"
   ]
  },
  {
   "cell_type": "code",
   "execution_count": null,
   "id": "985032db",
   "metadata": {},
   "outputs": [],
   "source": [
    "\n"
   ]
  },
  {
   "cell_type": "markdown",
   "id": "6a014123",
   "metadata": {},
   "source": [
    "<U>Expected Output</U>:  "
   ]
  },
  {
   "cell_type": "markdown",
   "id": "e374b7bd",
   "metadata": {},
   "source": [
    "<pre style=\"margin: 0; padding=0\"><DIV style=\"font-family: Courier; border: 1px solid #dbdbdb; padding: 7px\"># at the end the file should contain:\n",
    "\n",
    "datetime,buyer_id,seller_id,volume,price,total\n",
    "1/14/18 8:33,1,2,20,0.083,1.66\n",
    "1/14/18 8:38,2,4,10,0.083,0.83\n",
    "1/14/18 8:41,1,2,8,0.061,0.49\n",
    "1/14/18 8:48,1,4,12,0.13,1.56\n",
    "1/14/18 8:59,2,1,14,0.072,1.01\n",
    "1/14/18 9:02,4,2,3,0.073,0.22\n",
    "1/14/18 9:06,2,4,6,0.098,0.59\n",
    "1/14/18 9:09,1,4,18,0.14,2.52\n",
    "1/14/18 9:15,4,1,16,0.1,1.6\n",
    "1/14/18 9:18,1,2,6,0.043,0.26\n",
    "1/14/18 9:22,2,1,14,0.033,0.46\n",
    "1/14/18 9:28,6,4,2,0.029,0.06\n",
    "1/14/18 9:38,2,4,10,0.083,0.83\n",
    "1/14/18 9:39,4,2,3,0.073,0.22\n",
    "1/14/18 9:41,1,2,8,0.061,0.49</DIV></pre>"
   ]
  },
  {
   "cell_type": "markdown",
   "id": "6228b521",
   "metadata": {},
   "source": [
    " "
   ]
  },
  {
   "cell_type": "markdown",
   "id": "a0ec3c90",
   "metadata": {},
   "source": [
    "<div style=\"background-color: #ccffcc; padding: 10px; border: 2px solid green\"><B>1.37:  Place the entire \"set of company names\" code (except for the imports, which should be outside the function) into new function <B>get\\_companies(filename)</B> that takes a filename as argument and returns the set of company names.</B></div>"
   ]
  },
  {
   "cell_type": "code",
   "execution_count": null,
   "id": "71066aa4",
   "metadata": {},
   "outputs": [],
   "source": [
    "filename = '../ad_companies.csv'\n",
    "\n",
    "names = get_companies(filename)\n",
    "\n",
    "print(names)"
   ]
  },
  {
   "cell_type": "markdown",
   "id": "bdc1c2e2",
   "metadata": {},
   "source": [
    "<U>Expected Output</U>:  "
   ]
  },
  {
   "cell_type": "markdown",
   "id": "25ce6d5c",
   "metadata": {},
   "source": [
    "<pre style=\"margin: 0; padding=0\"><DIV style=\"font-family: Courier; border: 1px solid #dbdbdb; padding: 7px\">{'Alpha Corp.', \"Mike's Ads\", 'Omni Media', 'Jones Kraft', 'Addy Ads'}</DIV></pre>"
   ]
  },
  {
   "cell_type": "markdown",
   "id": "ad70a5a4",
   "metadata": {},
   "source": [
    "(Order of your set may be different.)"
   ]
  },
  {
   "cell_type": "markdown",
   "id": "bea50b36",
   "metadata": {},
   "source": [
    " "
   ]
  }
 ],
 "metadata": {},
 "nbformat": 4,
 "nbformat_minor": 5
}
