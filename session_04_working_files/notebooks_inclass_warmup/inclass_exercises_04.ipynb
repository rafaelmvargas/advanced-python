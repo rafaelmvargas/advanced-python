{
 "cells": [
  {
   "cell_type": "markdown",
   "id": "15f9bbd6",
   "metadata": {},
   "source": [
    "# In-Class Exercises, Session 4"
   ]
  },
  {
   "cell_type": "markdown",
   "id": "cbd5a086",
   "metadata": {},
   "source": [
    "ANCHORS and BOUNDARY"
   ]
  },
  {
   "cell_type": "markdown",
   "id": "d63fa51b",
   "metadata": {},
   "source": [
    " "
   ]
  },
  {
   "cell_type": "markdown",
   "id": "d7603f61",
   "metadata": {},
   "source": [
    "<B>4.1:  <U>Match a simple character pattern</U>.  </B>"
   ]
  },
  {
   "cell_type": "markdown",
   "id": "d6b669eb",
   "metadata": {},
   "source": [
    "Search for 'Velas', then try 'Benter' and 'Acme'.\n"
   ]
  },
  {
   "cell_type": "code",
   "execution_count": null,
   "id": "7bf1fe66",
   "metadata": {},
   "outputs": [],
   "source": [
    "import re\n",
    "\n",
    "lines = [\n",
    "  'Acme Corporation is heded by CEO Joseph Benter, and ',\n",
    "  'President Maria Velas.  Mr. Benter focuses on R&D ',\n",
    "  'while Ms. Velas provides vision and major deals for ',\n",
    "  'Acme.  ']\n",
    "\n",
    "for line in lines:\n",
    "    if re.search(r'', line):\n",
    "        print(line)"
   ]
  },
  {
   "cell_type": "markdown",
   "id": "b8e0b6b1",
   "metadata": {},
   "source": [
    "<U>Expected Output</U> (for <B>Velas</B>):"
   ]
  },
  {
   "cell_type": "markdown",
   "id": "6e64162b",
   "metadata": {},
   "source": [
    "<pre style=\"margin: 0; padding=0\"><DIV style=\"font-family: Courier; border: 1px solid #dbdbdb; padding: 7px\">President Maria Velas.  Mr. Benter focuses on R&D\n",
    "while Ms. Velas provides vision and major deals for</DIV></pre>"
   ]
  },
  {
   "cell_type": "markdown",
   "id": "7d687f5f",
   "metadata": {},
   "source": [
    " "
   ]
  },
  {
   "cell_type": "markdown",
   "id": "9ed5c84e",
   "metadata": {},
   "source": [
    "<B>4.2:  <U>'not' to negate a search</U>.  Execute previous pattern with 'not' in front of <B>re.search()</B></B>"
   ]
  },
  {
   "cell_type": "code",
   "execution_count": null,
   "id": "46348897",
   "metadata": {},
   "outputs": [],
   "source": [
    "import re\n",
    "\n",
    "lines = [\n",
    "  'Acme Corporation is heded by CEO Joseph Benter, and ',\n",
    "  'President Maria Velas.  Mr. Benter focuses on R&D ',\n",
    "  'while Ms. Velas provides vision and major deals for ',\n",
    "  'Acme.  ']\n",
    "\n",
    "for line in lines:\n",
    "    if re.search(r'Benter', line):\n",
    "        print(line)"
   ]
  },
  {
   "cell_type": "markdown",
   "id": "c0ec51e4",
   "metadata": {},
   "source": [
    "<U>Expected Output</U> (for <B>Benter</B>):"
   ]
  },
  {
   "cell_type": "markdown",
   "id": "8f325ea0",
   "metadata": {},
   "source": [
    "<pre style=\"margin: 0; padding=0\"><DIV style=\"font-family: Courier; border: 1px solid #dbdbdb; padding: 7px\">while Ms. Velas provides vision and major deals for\n",
    "Acme.</DIV></pre>"
   ]
  },
  {
   "cell_type": "markdown",
   "id": "662cd751",
   "metadata": {},
   "source": [
    " "
   ]
  },
  {
   "cell_type": "markdown",
   "id": "64834195",
   "metadata": {},
   "source": [
    "<B>4.3:  <U>Anchors - start of string</U>.  </B>"
   ]
  },
  {
   "cell_type": "markdown",
   "id": "ae00661a",
   "metadata": {},
   "source": [
    "Print only those lines that have 'TEL' at the start:"
   ]
  },
  {
   "cell_type": "code",
   "execution_count": null,
   "id": "9cad6608",
   "metadata": {},
   "outputs": [],
   "source": [
    "import re\n",
    "\n",
    "for text_line in ['AURORA HOTEL',\n",
    "                  'OPEN12:00 AM - 11:59 PM',\n",
    "                  '14200 E ALAMEDA AVE AURORA, CO 80012',\n",
    "                  'TEL (303) 344-9901']:\n",
    "    if re.search(r'', text_line):\n",
    "        print(text_line)"
   ]
  },
  {
   "cell_type": "markdown",
   "id": "5c252114",
   "metadata": {},
   "source": [
    "<U>Expected Output</U>:"
   ]
  },
  {
   "cell_type": "markdown",
   "id": "46256bb6",
   "metadata": {},
   "source": [
    "<pre style=\"margin: 0; padding=0\"><DIV style=\"font-family: Courier; border: 1px solid #dbdbdb; padding: 7px\">TEL (303) 344-9901</DIV></pre>"
   ]
  },
  {
   "cell_type": "markdown",
   "id": "036fb2f0",
   "metadata": {},
   "source": [
    " "
   ]
  },
  {
   "cell_type": "markdown",
   "id": "ea5e4a6c",
   "metadata": {},
   "source": [
    "<B>4.4:  <U>Anchors - end of string</U>.  </B>"
   ]
  },
  {
   "cell_type": "markdown",
   "id": "b14fee40",
   "metadata": {},
   "source": [
    "Print only those files that end in .jpg"
   ]
  },
  {
   "cell_type": "code",
   "execution_count": null,
   "id": "2fc8519e",
   "metadata": {},
   "outputs": [],
   "source": [
    "import re\n",
    "\n",
    "filenames = ['image.jpg', 'image.png', 'filejpg.txt', 'file2.doc',\n",
    "             'file3.pdf', 'image2.gif', 'image3.jpg', 'image4.jpg']\n",
    "\n",
    "for name in filenames:\n",
    "    if re.search(r'', name):\n",
    "        print(name)"
   ]
  },
  {
   "cell_type": "markdown",
   "id": "efa41b59",
   "metadata": {},
   "source": [
    "<U>Expected Output</U>:"
   ]
  },
  {
   "cell_type": "markdown",
   "id": "eec362cc",
   "metadata": {},
   "source": [
    "<pre style=\"margin: 0; padding=0\"><DIV style=\"font-family: Courier; border: 1px solid #dbdbdb; padding: 7px\">image.jpg\n",
    "image3.jpg\n",
    "image4.jpg</DIV></pre>"
   ]
  },
  {
   "cell_type": "markdown",
   "id": "31331cc1",
   "metadata": {},
   "source": [
    " "
   ]
  },
  {
   "cell_type": "markdown",
   "id": "e790cabd",
   "metadata": {},
   "source": [
    "BUILT-IN CHARACTER CLASSES"
   ]
  },
  {
   "cell_type": "markdown",
   "id": "93d63cbe",
   "metadata": {},
   "source": [
    "<B>4.5:  <U>\"Digit\" character class</U>.   </B>"
   ]
  },
  {
   "cell_type": "markdown",
   "id": "07689e1b",
   "metadata": {},
   "source": [
    "Match on each string that has a digit.\n"
   ]
  },
  {
   "cell_type": "code",
   "execution_count": null,
   "id": "9cffb236",
   "metadata": {},
   "outputs": [],
   "source": [
    "import re\n",
    "\n",
    "match_strings = [\n",
    "    'hello world 00',\n",
    "    'goodbye world    ',\n",
    "    ' 23 bonjour',\n",
    "    'wilkommen23  ',\n",
    "    'aloha',\n",
    "    '99',\n",
    "    '00',\n",
    "    '88557799',\n",
    "    'Que 3 Tal!',\n",
    "    'myfile.jpg',\n",
    "    'yourfile.JPG'\n",
    "]\n",
    "\n",
    "count = 0\n",
    "for string in match_strings:\n",
    "    if re.search(r'', string):\n",
    "        print(string)\n",
    "        count += 1\n",
    "print(f'count:  {count}')"
   ]
  },
  {
   "cell_type": "markdown",
   "id": "fc6b73bb",
   "metadata": {},
   "source": [
    "<U>Expected Output</U>:"
   ]
  },
  {
   "cell_type": "markdown",
   "id": "038e1771",
   "metadata": {},
   "source": [
    "<pre style=\"margin: 0; padding=0\"><DIV style=\"font-family: Courier; border: 1px solid #dbdbdb; padding: 7px\">hello world 00\n",
    " 23 bonjour\n",
    "wilkommen23\n",
    "99\n",
    "00\n",
    "88557799\n",
    "Que 3 Tal!\n",
    "count: 7</DIV></pre>"
   ]
  },
  {
   "cell_type": "markdown",
   "id": "aeccc94b",
   "metadata": {},
   "source": [
    " "
   ]
  },
  {
   "cell_type": "markdown",
   "id": "141db566",
   "metadata": {},
   "source": [
    "<B>4.6:  <U>\"Word\" character class</U>.  </B>"
   ]
  },
  {
   "cell_type": "markdown",
   "id": "af389253",
   "metadata": {},
   "source": [
    "Match each string that has a letter, number or underscore.\n"
   ]
  },
  {
   "cell_type": "code",
   "execution_count": null,
   "id": "7d159947",
   "metadata": {},
   "outputs": [],
   "source": [
    "import re\n",
    "\n",
    "match_strings = [\n",
    "    'hello world 00',\n",
    "    'goodbye world    ',\n",
    "    ' 23 bonjour',\n",
    "    'wilkommen23  ',\n",
    "    'aloha',\n",
    "    '99',\n",
    "    '00',\n",
    "    '88557799',\n",
    "    'Que 3 Tal!',\n",
    "    'myfile.jpg',\n",
    "    'yourfile.JPG'\n",
    "]\n",
    "\n",
    "count = 0\n",
    "for string in match_strings:\n",
    "    if re.search(r'', string):\n",
    "        print(string)\n",
    "        count += 1\n",
    "print(f'count:  {count}')\n"
   ]
  },
  {
   "cell_type": "markdown",
   "id": "699f6bbc",
   "metadata": {},
   "source": [
    "<U>Expected Output</U>:"
   ]
  },
  {
   "cell_type": "markdown",
   "id": "93f2e791",
   "metadata": {},
   "source": [
    "<pre style=\"margin: 0; padding=0\"><DIV style=\"font-family: Courier; border: 1px solid #dbdbdb; padding: 7px\"></DIV></pre>"
   ]
  },
  {
   "cell_type": "markdown",
   "id": "8d7096ea",
   "metadata": {},
   "source": [
    " "
   ]
  },
  {
   "cell_type": "markdown",
   "id": "2c01a51c",
   "metadata": {},
   "source": [
    "<B>4.7:  <U>\"Space\" character class</U>.  </B>"
   ]
  },
  {
   "cell_type": "markdown",
   "id": "c359af65",
   "metadata": {},
   "source": [
    "Match on each line that has a space.\n"
   ]
  },
  {
   "cell_type": "code",
   "execution_count": null,
   "id": "224ed3b6",
   "metadata": {},
   "outputs": [],
   "source": [
    "import re\n",
    "\n",
    "match_strings = [\n",
    "    'hello world 00',\n",
    "    'goodbye world    ',\n",
    "    ' 23 bonjour',\n",
    "    'wilkommen23  ',\n",
    "    'aloha',\n",
    "    '99',\n",
    "    '00',\n",
    "    '88557799',\n",
    "    'Que 3 Tal!',\n",
    "    'myfile.jpg',\n",
    "    'yourfile.JPG'\n",
    "]\n",
    "\n",
    "count = 0\n",
    "for string in match_strings:\n",
    "    if re.search(r'', string):\n",
    "        print(string)\n",
    "        count += 1\n",
    "print(f'count:  {count}')"
   ]
  },
  {
   "cell_type": "markdown",
   "id": "2ba318a4",
   "metadata": {},
   "source": [
    "<U>Expected Output</U>:"
   ]
  },
  {
   "cell_type": "markdown",
   "id": "572fbe28",
   "metadata": {},
   "source": [
    "<pre style=\"margin: 0; padding=0\"><DIV style=\"font-family: Courier; border: 1px solid #dbdbdb; padding: 7px\"></DIV></pre>"
   ]
  },
  {
   "cell_type": "markdown",
   "id": "d44c0018",
   "metadata": {},
   "source": [
    " "
   ]
  },
  {
   "cell_type": "markdown",
   "id": "36199652",
   "metadata": {},
   "source": [
    "INVERSE CHARACTER CLASSES"
   ]
  },
  {
   "cell_type": "markdown",
   "id": "6fd76b9e",
   "metadata": {},
   "source": [
    "<B>4.8:  <U>\"Not a digit\" character class</U>.  </B>"
   ]
  },
  {
   "cell_type": "markdown",
   "id": "8b8ec04d",
   "metadata": {},
   "source": [
    "Match on each string that has a character that is not a digit."
   ]
  },
  {
   "cell_type": "code",
   "execution_count": null,
   "id": "5b87a725",
   "metadata": {},
   "outputs": [],
   "source": [
    "import re\n",
    "\n",
    "match_strings = [\n",
    "    'hello world 00',\n",
    "    'goodbye world    ',\n",
    "    ' 23 bonjour',\n",
    "    'wilkommen23  ',\n",
    "    'aloha',\n",
    "    '99',\n",
    "    '00',\n",
    "    '88557799',\n",
    "    'Que 3 Tal!',\n",
    "    'myfile.jpg',\n",
    "    'yourfile.JPG'\n",
    "]\n",
    "\n",
    "count = 0\n",
    "for string in match_strings:\n",
    "    if re.search(r'', string):\n",
    "        print(string)\n",
    "        count += 1\n",
    "print(f'count:  {count}')"
   ]
  },
  {
   "cell_type": "markdown",
   "id": "d7f093a6",
   "metadata": {},
   "source": [
    "<U>Expected Output</U>:"
   ]
  },
  {
   "cell_type": "markdown",
   "id": "417024be",
   "metadata": {},
   "source": [
    "<pre style=\"margin: 0; padding=0\"><DIV style=\"font-family: Courier; border: 1px solid #dbdbdb; padding: 7px\">hello world 00\n",
    "goodbye world\n",
    " 23 bonjour\n",
    "wilkommen23\n",
    "aloha\n",
    "Que 3 Tal!\n",
    "myfile.jpg\n",
    "yourfile.JPG\n",
    "count: 8</DIV></pre>"
   ]
  },
  {
   "cell_type": "markdown",
   "id": "26b037ac",
   "metadata": {},
   "source": [
    " "
   ]
  },
  {
   "cell_type": "markdown",
   "id": "8dc81ced",
   "metadata": {},
   "source": [
    "<B>4.9:  <U>\"Not a space\" character class</U>.  </B>"
   ]
  },
  {
   "cell_type": "markdown",
   "id": "afbd85db",
   "metadata": {},
   "source": [
    "Match on each string that has any non-spaces."
   ]
  },
  {
   "cell_type": "code",
   "execution_count": null,
   "id": "92a35988",
   "metadata": {},
   "outputs": [],
   "source": [
    "import re\n",
    "\n",
    "match_strings = [\n",
    "    'hello world 00',\n",
    "    'goodbye world    ',\n",
    "    ' 23 bonjour',\n",
    "    'wilkommen23  ',\n",
    "    '    ',\n",
    "    'aloha',\n",
    "    '99',\n",
    "    '00',\n",
    "    '88557799',\n",
    "    'Que 3 Tal!',\n",
    "    'myfile.jpg',\n",
    "    'yourfile.JPG'\n",
    "]\n",
    "\n",
    "count = 0\n",
    "for string in match_strings:\n",
    "    if re.search(r'', string):\n",
    "        print(string)\n",
    "        count += 1\n",
    "print(f'count:  {count}')"
   ]
  },
  {
   "cell_type": "markdown",
   "id": "3fea209e",
   "metadata": {},
   "source": [
    "<U>Expected Output</U>:"
   ]
  },
  {
   "cell_type": "markdown",
   "id": "3aa64c71",
   "metadata": {},
   "source": [
    "<pre style=\"margin: 0; padding=0\"><DIV style=\"font-family: Courier; border: 1px solid #dbdbdb; padding: 7px\">hello world 00\n",
    "goodbye world\n",
    " 23 bonjour\n",
    "wilkommen23\n",
    "aloha\n",
    "99\n",
    "00\n",
    "88557799\n",
    "Que 3 Tal!\n",
    "myfile.jpg\n",
    "yourfile.JPG\n",
    "count: 11</DIV></pre>"
   ]
  },
  {
   "cell_type": "markdown",
   "id": "b05edd8a",
   "metadata": {},
   "source": [
    " "
   ]
  },
  {
   "cell_type": "markdown",
   "id": "4425129d",
   "metadata": {},
   "source": [
    "CUSTOM CHARACTER CLASSES"
   ]
  },
  {
   "cell_type": "markdown",
   "id": "c11d01c4",
   "metadata": {},
   "source": [
    "<B>4.10:  <U>Custom character class</U>.  </B>"
   ]
  },
  {
   "cell_type": "markdown",
   "id": "a2ef6fb2",
   "metadata": {},
   "source": [
    "Match on each string that has a capital letter in it.\n"
   ]
  },
  {
   "cell_type": "code",
   "execution_count": null,
   "id": "e4444035",
   "metadata": {},
   "outputs": [],
   "source": [
    "import re\n",
    "\n",
    "match_strings = [\n",
    "    'hello world 00',\n",
    "    'goodbye world    ',\n",
    "    ' 23 bonjour',\n",
    "    'wilkommen23  ',\n",
    "    'aloha',\n",
    "    '99',\n",
    "    '00',\n",
    "    '88557799',\n",
    "    'Que 3 Tal!',\n",
    "    'myfile.jpg',\n",
    "    'yourfile.JPG'\n",
    "]\n",
    "\n",
    "count = 0\n",
    "for string in match_strings:\n",
    "    if re.search(r'', string):\n",
    "        print(string)\n",
    "        count += 1\n",
    "print(f'count:  {count}')"
   ]
  },
  {
   "cell_type": "markdown",
   "id": "53e06168",
   "metadata": {},
   "source": [
    "<U>Expected Output</U>:"
   ]
  },
  {
   "cell_type": "markdown",
   "id": "db866ea3",
   "metadata": {},
   "source": [
    "<pre style=\"margin: 0; padding=0\"><DIV style=\"font-family: Courier; border: 1px solid #dbdbdb; padding: 7px\">Que 3 Tal!\n",
    "yourfile.JPG\n",
    "count: 2</DIV></pre>"
   ]
  },
  {
   "cell_type": "markdown",
   "id": "b56b6367",
   "metadata": {},
   "source": [
    " "
   ]
  },
  {
   "cell_type": "markdown",
   "id": "4f4bb05b",
   "metadata": {},
   "source": [
    "<B>4.11:  <U>Using custom character class with built-in character class</U>.  </B>"
   ]
  },
  {
   "cell_type": "markdown",
   "id": "aa5eb921",
   "metadata": {},
   "source": [
    "Match on each string that has a letter followed by a number.\n"
   ]
  },
  {
   "cell_type": "code",
   "execution_count": null,
   "id": "304447bd",
   "metadata": {},
   "outputs": [],
   "source": [
    "import re\n",
    "\n",
    "match_strings = [\n",
    "    'hello world 00',\n",
    "    'goodbye world    ',\n",
    "    ' 23 bonjour',\n",
    "    'wilkommen23  ',\n",
    "    'aloha',\n",
    "    '99',\n",
    "    '00',\n",
    "    '88557799',\n",
    "    'Que 3 Tal!',\n",
    "    'myfile.jpg',\n",
    "    'yourfile.JPG'\n",
    "]\n",
    "\n",
    "count = 0\n",
    "for string in match_strings:\n",
    "    if re.search(r'', string):\n",
    "        print(string)\n",
    "        count += 1\n",
    "print(f'count:  {count}')"
   ]
  },
  {
   "cell_type": "markdown",
   "id": "8be2a579",
   "metadata": {},
   "source": [
    "<U>Expected Output</U>:"
   ]
  },
  {
   "cell_type": "markdown",
   "id": "726d7d4f",
   "metadata": {},
   "source": [
    "<pre style=\"margin: 0; padding=0\"><DIV style=\"font-family: Courier; border: 1px solid #dbdbdb; padding: 7px\">wilkommen23\n",
    "count: 1</DIV></pre>"
   ]
  },
  {
   "cell_type": "markdown",
   "id": "bbab9319",
   "metadata": {},
   "source": [
    " "
   ]
  },
  {
   "cell_type": "markdown",
   "id": "1b9cb791",
   "metadata": {},
   "source": [
    "INVERSE CUSTOM CHARACTER CLASSES"
   ]
  },
  {
   "cell_type": "markdown",
   "id": "99abba8f",
   "metadata": {},
   "source": [
    "<B>4.12:  <U>Inverse Custom Character Class</U>. Match on each string that has any character that is not a letter.</B>"
   ]
  },
  {
   "cell_type": "code",
   "execution_count": null,
   "id": "64aae7fa",
   "metadata": {},
   "outputs": [],
   "source": [
    "import re\n",
    "\n",
    "match_strings = [\n",
    "    'hello world 00',\n",
    "    'goodbye world    ',\n",
    "    ' 23 bonjour',\n",
    "    'wilkommen23  ',\n",
    "    'aloha',\n",
    "    '99',\n",
    "    '00',\n",
    "    '88557799',\n",
    "    'Que 3 Tal!',\n",
    "    'myfile.jpg',\n",
    "    'yourfile.JPG'\n",
    "]\n",
    "\n",
    "count = 0\n",
    "for string in match_strings:\n",
    "    if re.search(r'', string):\n",
    "        print(string)\n",
    "        count += 1\n",
    "print(f'count:  {count}')"
   ]
  },
  {
   "cell_type": "markdown",
   "id": "81639bab",
   "metadata": {},
   "source": [
    "<U>Expected Output</U>:"
   ]
  },
  {
   "cell_type": "markdown",
   "id": "4cbcee9e",
   "metadata": {},
   "source": [
    "<pre style=\"margin: 0; padding=0\"><DIV style=\"font-family: Courier; border: 1px solid #dbdbdb; padding: 7px\">hello world 00\n",
    "goodbye world\n",
    " 23 bonjour\n",
    "wilkommen23\n",
    "99\n",
    "00\n",
    "88557799\n",
    "Que 3 Tal!\n",
    "myfile.jpg\n",
    "yourfile.JPG\n",
    "count: 10</DIV></pre>"
   ]
  },
  {
   "cell_type": "markdown",
   "id": "8f930c4a",
   "metadata": {},
   "source": [
    " "
   ]
  },
  {
   "cell_type": "markdown",
   "id": "59aaa2ab",
   "metadata": {},
   "source": [
    "THE WILDCARD"
   ]
  },
  {
   "cell_type": "markdown",
   "id": "663ec947",
   "metadata": {},
   "source": [
    "<B>4.13:  Match on each string that ends with a character that is not a digit.</B>"
   ]
  },
  {
   "cell_type": "code",
   "execution_count": null,
   "id": "2a73c3a6",
   "metadata": {},
   "outputs": [],
   "source": [
    "import re\n",
    "\n",
    "match_strings = [\n",
    "    'hello world 00',\n",
    "    'goodbye world    ',\n",
    "    ' 23 bonjour',\n",
    "    'wilkommen23  ',\n",
    "    'aloha',\n",
    "    '99',\n",
    "    '00',\n",
    "    '88557799',\n",
    "    'Que 3 Tal!',\n",
    "    'myfile.jpg',\n",
    "    'yourfile.JPG'\n",
    "]\n",
    "\n",
    "count = 0\n",
    "for string in match_strings:\n",
    "    if re.search(r'', string):\n",
    "        print(string)\n",
    "        count += 1\n",
    "print(f'count:  {count}')"
   ]
  },
  {
   "cell_type": "markdown",
   "id": "98afc46a",
   "metadata": {},
   "source": [
    "<U>Expected Output</U>:"
   ]
  },
  {
   "cell_type": "markdown",
   "id": "a08a7124",
   "metadata": {},
   "source": [
    "<pre style=\"margin: 0; padding=0\"><DIV style=\"font-family: Courier; border: 1px solid #dbdbdb; padding: 7px\">goodbye world\n",
    " 23 bonjour\n",
    "wilkommen23\n",
    "aloha\n",
    "Que 3 Tal!\n",
    "myfile.jpg\n",
    "yourfile.JPG\n",
    "count: 7</DIV></pre>"
   ]
  },
  {
   "cell_type": "markdown",
   "id": "9ff086c7",
   "metadata": {},
   "source": [
    " "
   ]
  },
  {
   "cell_type": "markdown",
   "id": "b10aa7f1",
   "metadata": {},
   "source": [
    "<B>4.14:  <U>Demo:  match on any character</U>. </B>"
   ]
  },
  {
   "cell_type": "markdown",
   "id": "19382fd1",
   "metadata": {},
   "source": [
    "Use the wildcard (., a period) to see which strings match it.\n"
   ]
  },
  {
   "cell_type": "code",
   "execution_count": null,
   "id": "8e71a904",
   "metadata": {},
   "outputs": [],
   "source": [
    "import re\n",
    "\n",
    "match_strings = [\n",
    "    'hello world 00',\n",
    "    'goodbye world    ',\n",
    "    ' 23 bonjour',\n",
    "    'wilkommen23  ',\n",
    "    'aloha',\n",
    "    '99',\n",
    "    '00',\n",
    "    '88557799',\n",
    "    'Que 3 Tal!',\n",
    "    'myfile.jpg',\n",
    "    'yourfile.JPG'\n",
    "]\n",
    "\n",
    "count = 0\n",
    "for string in match_strings:\n",
    "    if re.search(r'', string):\n",
    "        print(string)\n",
    "        count += 1\n",
    "print(f'count:  {count}')\n"
   ]
  },
  {
   "cell_type": "markdown",
   "id": "368ac253",
   "metadata": {},
   "source": [
    " "
   ]
  },
  {
   "cell_type": "markdown",
   "id": "d9ffcb7e",
   "metadata": {},
   "source": [
    "LAB 1"
   ]
  },
  {
   "cell_type": "markdown",
   "id": "9fdc7a77",
   "metadata": {},
   "source": [
    "<div style=\"background-color: #ccffcc; padding: 10px; border: 2px solid green\"><B>4.15:  Match on each string that starts with a digit.   </B></div>"
   ]
  },
  {
   "cell_type": "code",
   "execution_count": null,
   "id": "2661cec3",
   "metadata": {},
   "outputs": [],
   "source": [
    "import re\n",
    "\n",
    "match_strings = [\n",
    "    'hello world 00',\n",
    "    'goodbye world    ',\n",
    "    ' 23 bonjour',\n",
    "    'wilkommen23  ',\n",
    "    'aloha',\n",
    "    '99',\n",
    "    '00',\n",
    "    '88557799',\n",
    "    'Que 3 Tal!',\n",
    "    'myfile.jpg',\n",
    "    'yourfile.JPG'\n",
    "]\n",
    "\n",
    "count = 0\n",
    "for string in match_strings:\n",
    "    if re.search(r'', string):\n",
    "        print(string)\n",
    "        count += 1\n",
    "print(f'count:  {count}')"
   ]
  },
  {
   "cell_type": "markdown",
   "id": "e3c76994",
   "metadata": {},
   "source": [
    "<U>Expected Output</U>:"
   ]
  },
  {
   "cell_type": "markdown",
   "id": "e7b9f132",
   "metadata": {},
   "source": [
    "<pre style=\"margin: 0; padding=0\"><DIV style=\"font-family: Courier; border: 1px solid #dbdbdb; padding: 7px\">99\n",
    "00\n",
    "88557799\n",
    "count: 3</DIV></pre>"
   ]
  },
  {
   "cell_type": "markdown",
   "id": "2660882c",
   "metadata": {},
   "source": [
    " "
   ]
  },
  {
   "cell_type": "markdown",
   "id": "0d7df312",
   "metadata": {},
   "source": [
    "<div style=\"background-color: #ccffcc; padding: 10px; border: 2px solid green\"><B>4.16:  Match on each string that starts with a space.  </B></div>"
   ]
  },
  {
   "cell_type": "code",
   "execution_count": null,
   "id": "1d039e5f",
   "metadata": {},
   "outputs": [],
   "source": [
    "import re\n",
    "\n",
    "lines = [  'this is the first line,',\n",
    "           ' and this is the second line and',\n",
    "           ' this is the third line.  '     ]\n",
    "\n",
    "for line in lines:\n",
    "    if re.search(r'', line):\n",
    "        print(line)"
   ]
  },
  {
   "cell_type": "markdown",
   "id": "e90ecdb7",
   "metadata": {},
   "source": [
    "<U>Expected Output</U>:"
   ]
  },
  {
   "cell_type": "markdown",
   "id": "35222597",
   "metadata": {},
   "source": [
    "<pre style=\"margin: 0; padding=0\"><DIV style=\"font-family: Courier; border: 1px solid #dbdbdb; padding: 7px\"> and this is the second line and',\n",
    " this is the third line.  '     ]</DIV></pre>"
   ]
  },
  {
   "cell_type": "markdown",
   "id": "ff4af56b",
   "metadata": {},
   "source": [
    " "
   ]
  },
  {
   "cell_type": "markdown",
   "id": "30d4038a",
   "metadata": {},
   "source": [
    "<div style=\"background-color: #ccffcc; padding: 10px; border: 2px solid green\"><B>4.17:  Loop through and print only lines with some text (not including spaces).  </B></div>"
   ]
  },
  {
   "cell_type": "code",
   "execution_count": null,
   "id": "661469e6",
   "metadata": {},
   "outputs": [],
   "source": [
    "import re\n",
    "\n",
    "text = \"\"\"line 1\n",
    "line 2,\n",
    "\n",
    "line 3...\n",
    "\n",
    "line4!\"\"\"\n",
    "\n",
    "lines = text.splitlines()\n",
    "\n",
    "for line in lines:\n",
    "    if re.search(r'', line):\n",
    "        print(line)"
   ]
  },
  {
   "cell_type": "markdown",
   "id": "bcea22d7",
   "metadata": {},
   "source": [
    "<U>Expected Output</U>:"
   ]
  },
  {
   "cell_type": "markdown",
   "id": "e95afbc5",
   "metadata": {},
   "source": [
    "<pre style=\"margin: 0; padding=0\"><DIV style=\"font-family: Courier; border: 1px solid #dbdbdb; padding: 7px\">line 1\n",
    "line 2,\n",
    "line 3...\n",
    "line4!</DIV></pre>"
   ]
  },
  {
   "cell_type": "markdown",
   "id": "1be484a1",
   "metadata": {},
   "source": [
    " "
   ]
  },
  {
   "cell_type": "markdown",
   "id": "dfc06b4c",
   "metadata": {},
   "source": [
    "<div style=\"background-color: #ccffcc; padding: 10px; border: 2px solid green\"><B>4.18:  Match on each string that ends with a digit.</B></div>"
   ]
  },
  {
   "cell_type": "code",
   "execution_count": null,
   "id": "de2ff275",
   "metadata": {},
   "outputs": [],
   "source": [
    "import re\n",
    "\n",
    "match_strings = [\n",
    "    'hello world 00',\n",
    "    'goodbye world    ',\n",
    "    ' 23 bonjour',\n",
    "    'wilkommen23  ',\n",
    "    'aloha',\n",
    "    '99',\n",
    "    '00',\n",
    "    '88557799',\n",
    "    'Que 3 Tal!',\n",
    "    'myfile.jpg',\n",
    "    'yourfile.JPG'\n",
    "]\n",
    "\n",
    "count = 0\n",
    "for string in match_strings:\n",
    "    if re.search(r'', string):\n",
    "        print(string)\n",
    "        count += 1\n",
    "print(f'count:  {count}')"
   ]
  },
  {
   "cell_type": "markdown",
   "id": "67bdc982",
   "metadata": {},
   "source": [
    "<U>Expected Output</U>:"
   ]
  },
  {
   "cell_type": "markdown",
   "id": "55506117",
   "metadata": {},
   "source": [
    "<pre style=\"margin: 0; padding=0\"><DIV style=\"font-family: Courier; border: 1px solid #dbdbdb; padding: 7px\">hello world 00\n",
    "99\n",
    "00\n",
    "88557799\n",
    "count: 4</DIV></pre>"
   ]
  },
  {
   "cell_type": "markdown",
   "id": "e7d55923",
   "metadata": {},
   "source": [
    " "
   ]
  },
  {
   "cell_type": "markdown",
   "id": "262f56c1",
   "metadata": {},
   "source": [
    "<div style=\"background-color: #ccffcc; padding: 10px; border: 2px solid green\"><B>4.19:  Match on each line that ends with a space.</B></div>"
   ]
  },
  {
   "cell_type": "code",
   "execution_count": null,
   "id": "58d9642e",
   "metadata": {},
   "outputs": [],
   "source": [
    "import re\n",
    "\n",
    "lines = [  'this is the first line, ',\n",
    "           'this is the second line and',\n",
    "           'this is the third line.  '     ]\n",
    "\n",
    "for line in lines:\n",
    "    if re.search(r'', line):\n",
    "        print(line)"
   ]
  },
  {
   "cell_type": "markdown",
   "id": "810273df",
   "metadata": {},
   "source": [
    "<U>Expected Output</U>:"
   ]
  },
  {
   "cell_type": "markdown",
   "id": "e4cf2164",
   "metadata": {},
   "source": [
    "<pre style=\"margin: 0; padding=0\"><DIV style=\"font-family: Courier; border: 1px solid #dbdbdb; padding: 7px\">this is the first line,\n",
    "this is the third line.</DIV></pre>"
   ]
  },
  {
   "cell_type": "markdown",
   "id": "356c61f8",
   "metadata": {},
   "source": [
    " "
   ]
  },
  {
   "cell_type": "markdown",
   "id": "14ee3f61",
   "metadata": {},
   "source": [
    "<div style=\"background-color: #ccffcc; padding: 10px; border: 2px solid green\"><B>4.20:  Match on each string that consists only of a 2-digit number.</B></div>"
   ]
  },
  {
   "cell_type": "code",
   "execution_count": null,
   "id": "a68593bf",
   "metadata": {},
   "outputs": [],
   "source": [
    "import re\n",
    "\n",
    "match_strings = [\n",
    "    'hello world 00',\n",
    "    'goodbye world    ',\n",
    "    ' 23 bonjour',\n",
    "    'wilkommen23  ',\n",
    "    'aloha',\n",
    "    '99',\n",
    "    '00',\n",
    "    '88557799',\n",
    "    'Que 3 Tal!',\n",
    "    'myfile.jpg',\n",
    "    'yourfile.JPG'\n",
    "]\n",
    "\n",
    "count = 0\n",
    "for string in match_strings:\n",
    "    if re.search(r'', string):\n",
    "        print(string)\n",
    "        count += 1\n",
    "print(f'count:  {count}')"
   ]
  },
  {
   "cell_type": "markdown",
   "id": "60153272",
   "metadata": {},
   "source": [
    "<U>Expected Output</U>:"
   ]
  },
  {
   "cell_type": "markdown",
   "id": "74381a5b",
   "metadata": {},
   "source": [
    "<pre style=\"margin: 0; padding=0\"><DIV style=\"font-family: Courier; border: 1px solid #dbdbdb; padding: 7px\">99\n",
    "00\n",
    "count: 2</DIV></pre>"
   ]
  },
  {
   "cell_type": "markdown",
   "id": "bd1211f9",
   "metadata": {},
   "source": [
    " "
   ]
  },
  {
   "cell_type": "markdown",
   "id": "957f3176",
   "metadata": {},
   "source": [
    "<div style=\"background-color: #ccffcc; padding: 10px; border: 2px solid green\"><B>4.21:  Match on a capital letter followed by a lowercase letter.  </B></div>"
   ]
  },
  {
   "cell_type": "code",
   "execution_count": null,
   "id": "db45cd6d",
   "metadata": {},
   "outputs": [],
   "source": [
    "import re\n",
    "\n",
    "match_strings = [\n",
    "    'hello world 00',\n",
    "    'goodbye world    ',\n",
    "    ' 23 bonjour',\n",
    "    'wilkommen23  ',\n",
    "    'aloha',\n",
    "    '99',\n",
    "    '00',\n",
    "    '88557799',\n",
    "    'Que 3 Tal!',\n",
    "    'myfile.jpg',\n",
    "    'yourfile.JPG'\n",
    "]\n",
    "\n",
    "count = 0\n",
    "for string in match_strings:\n",
    "    if re.search(r'', string):\n",
    "        print(string)\n",
    "        count += 1\n",
    "print(f'count:  {count}')"
   ]
  },
  {
   "cell_type": "markdown",
   "id": "305a887f",
   "metadata": {},
   "source": [
    "<U>Expected Output</U>:"
   ]
  },
  {
   "cell_type": "markdown",
   "id": "630e8d4c",
   "metadata": {},
   "source": [
    "<pre style=\"margin: 0; padding=0\"><DIV style=\"font-family: Courier; border: 1px solid #dbdbdb; padding: 7px\">Que 3 Tal!</DIV></pre>"
   ]
  },
  {
   "cell_type": "markdown",
   "id": "c66aa55e",
   "metadata": {},
   "source": [
    " "
   ]
  },
  {
   "cell_type": "markdown",
   "id": "778d202f",
   "metadata": {},
   "source": [
    "<div style=\"background-color: #ccffcc; padding: 10px; border: 2px solid green\"><B>4.22:  Match on files with date format YYYY-MM-DD followed by '.txt'.  </B></div>"
   ]
  },
  {
   "cell_type": "code",
   "execution_count": null,
   "id": "60594c00",
   "metadata": {},
   "outputs": [],
   "source": [
    "import re\n",
    "\n",
    "dirlist = ('.', '..', '2010-12-15.txt', '2010-12-16.txt',\n",
    "           'testfile.txt', '20101-11-03.txt')\n",
    "\n",
    "for item in dirlist:\n",
    "    if re.search(r'', item):\n",
    "        print(item)"
   ]
  },
  {
   "cell_type": "markdown",
   "id": "27f6a888",
   "metadata": {},
   "source": [
    "<U>Expected Output</U>:"
   ]
  },
  {
   "cell_type": "markdown",
   "id": "7b6d8aa5",
   "metadata": {},
   "source": [
    "<pre style=\"margin: 0; padding=0\"><DIV style=\"font-family: Courier; border: 1px solid #dbdbdb; padding: 7px\">2010-12-15.txt\n",
    "2010-12-16.txt</DIV></pre>"
   ]
  },
  {
   "cell_type": "markdown",
   "id": "a45ab6ac",
   "metadata": {},
   "source": [
    " "
   ]
  },
  {
   "cell_type": "markdown",
   "id": "0e989192",
   "metadata": {},
   "source": [
    "<div style=\"background-color: #ccffcc; padding: 10px; border: 2px solid green\"><B>4.23:  Match on date format MM/DD/YY (and not 4-digit year).  </B></div>"
   ]
  },
  {
   "cell_type": "code",
   "execution_count": null,
   "id": "08165f3e",
   "metadata": {},
   "outputs": [],
   "source": [
    "import re\n",
    "\n",
    "dates = ['Jan. 3, 2018', '23-Mar-17', '12/02/98', '12/03/1998', '23.17.2018']\n",
    "for date in dates:\n",
    "    if re.search(r'', date):\n",
    "        print(date)"
   ]
  },
  {
   "cell_type": "markdown",
   "id": "8010c256",
   "metadata": {},
   "source": [
    "<U>Expected Output</U>:"
   ]
  },
  {
   "cell_type": "markdown",
   "id": "b85f1bfc",
   "metadata": {},
   "source": [
    "<pre style=\"margin: 0; padding=0\"><DIV style=\"font-family: Courier; border: 1px solid #dbdbdb; padding: 7px\">12/02/98</DIV></pre>"
   ]
  },
  {
   "cell_type": "markdown",
   "id": "1daf67e6",
   "metadata": {},
   "source": [
    " "
   ]
  },
  {
   "cell_type": "markdown",
   "id": "d7ec7315",
   "metadata": {},
   "source": [
    "<div style=\"background-color: #ccffcc; padding: 10px; border: 2px solid green\"><B>4.24:  Determine whether selected word begins with a vowel.  If so, prepend an 'an' rather an an 'a'.  </B></div>"
   ]
  },
  {
   "cell_type": "code",
   "execution_count": null,
   "id": "02c9142a",
   "metadata": {},
   "outputs": [],
   "source": [
    "import re\n",
    "\n",
    "words = ['apple', 'pear', 'orange', 'kiwi', 'elderberry', 'carrot', 'ugli fruit']\n",
    "for word in words:\n",
    "    if re.search(r'', word):\n",
    "        prepend = 'an'\n",
    "    else:\n",
    "        prepend = 'a'\n",
    "    print(f\"{prepend} {word}\")"
   ]
  },
  {
   "cell_type": "markdown",
   "id": "a27d3328",
   "metadata": {},
   "source": [
    "<U>Expected Output</U>:"
   ]
  },
  {
   "cell_type": "markdown",
   "id": "a5d50d53",
   "metadata": {},
   "source": [
    "<pre style=\"margin: 0; padding=0\"><DIV style=\"font-family: Courier; border: 1px solid #dbdbdb; padding: 7px\">an apple\n",
    "a pear\n",
    "an orange\n",
    "a kiwi\n",
    "an elderberry\n",
    "a carrot\n",
    "an ugli fruit</DIV></pre>"
   ]
  },
  {
   "cell_type": "markdown",
   "id": "3d98b190",
   "metadata": {},
   "source": [
    " "
   ]
  },
  {
   "cell_type": "markdown",
   "id": "65ed4c7c",
   "metadata": {},
   "source": [
    "BUILT-IN QUANTIFIERS"
   ]
  },
  {
   "cell_type": "markdown",
   "id": "c0c8d0dc",
   "metadata": {},
   "source": [
    "<B>4.25:  <U>\"One or more\" quantifier</U>.  Match on each string that has one or more letters in it.</B>"
   ]
  },
  {
   "cell_type": "code",
   "execution_count": null,
   "id": "bb331ac8",
   "metadata": {},
   "outputs": [],
   "source": [
    "import re\n",
    "\n",
    "match_strings = [\n",
    "    'hello world 00',\n",
    "    'goodbye world    ',\n",
    "    ' 23 bonjour',\n",
    "    'wilkommen23  ',\n",
    "    'aloha',\n",
    "    '99',\n",
    "    '00',\n",
    "    '88557799',\n",
    "    'Que 3 Tal!',\n",
    "    'myfile.jpg',\n",
    "    'yourfile.JPG'\n",
    "]\n",
    "\n",
    "count = 0\n",
    "for string in match_strings:\n",
    "    if re.search(r'', string):\n",
    "        print(string)\n",
    "        count += 1\n",
    "print(f'count:  {count}')"
   ]
  },
  {
   "cell_type": "markdown",
   "id": "e08222ae",
   "metadata": {},
   "source": [
    "<U>Expected Output</U>:"
   ]
  },
  {
   "cell_type": "markdown",
   "id": "7f3e7e56",
   "metadata": {},
   "source": [
    "<pre style=\"margin: 0; padding=0\"><DIV style=\"font-family: Courier; border: 1px solid #dbdbdb; padding: 7px\">hello world 00\n",
    "goodbye world\n",
    " 23 bonjour\n",
    "wilkommen23\n",
    "aloha\n",
    "Que 3 Tal!\n",
    "myfile.jpg\n",
    "yourfile.JPG\n",
    "count: 8</DIV></pre>"
   ]
  },
  {
   "cell_type": "markdown",
   "id": "2dfc99d8",
   "metadata": {},
   "source": [
    " "
   ]
  },
  {
   "cell_type": "markdown",
   "id": "e665f1a4",
   "metadata": {},
   "source": [
    "<B>4.26:  <U>\"Zero or one\" quantifier</U>.  </B>"
   ]
  },
  {
   "cell_type": "markdown",
   "id": "e9a35a69",
   "metadata": {},
   "source": [
    "Without using a character class (or grouped alternates), use a single regex that matches on each string that has 'a' or 'an' followed by a space.\n"
   ]
  },
  {
   "cell_type": "code",
   "execution_count": null,
   "id": "be9c70cd",
   "metadata": {},
   "outputs": [],
   "source": [
    "import re\n",
    "\n",
    "lines = [\n",
    "    'This is a wonderful thing. ',\n",
    "    \"I haven't seen anything like it. \",\n",
    "    \"Isn't it an exceptional experience? \"]\n",
    "\n",
    "for line in lines:\n",
    "    if re.search(r'', line):\n",
    "        print(line)"
   ]
  },
  {
   "cell_type": "markdown",
   "id": "65e1b991",
   "metadata": {},
   "source": [
    "<U>Expected Output</U>:"
   ]
  },
  {
   "cell_type": "markdown",
   "id": "5303248b",
   "metadata": {},
   "source": [
    "<pre style=\"margin: 0; padding=0\"><DIV style=\"font-family: Courier; border: 1px solid #dbdbdb; padding: 7px\">This is a wonderful thing.\n",
    "Isn't it an exceptional experience?</DIV></pre>"
   ]
  },
  {
   "cell_type": "markdown",
   "id": "08f80216",
   "metadata": {},
   "source": [
    " "
   ]
  },
  {
   "cell_type": "markdown",
   "id": "c9498709",
   "metadata": {},
   "source": [
    "<B>4.27:  <U>\"Zero or more\" quantifier, quantifiers with anchor</U>.  </B>"
   ]
  },
  {
   "cell_type": "markdown",
   "id": "19ab8917",
   "metadata": {},
   "source": [
    "Match on all strings that consist only of a 1 followed by zero or more digits.\n"
   ]
  },
  {
   "cell_type": "code",
   "execution_count": null,
   "id": "b08d2da8",
   "metadata": {},
   "outputs": [],
   "source": [
    "import re\n",
    "\n",
    "numbers = [\n",
    "  '100',\n",
    "  '135',\n",
    "  '31',\n",
    "  '1',\n",
    "  '1 think',\n",
    "]\n",
    "\n",
    "for val in numbers:\n",
    "    if re.search(r'', val):\n",
    "        print(val)"
   ]
  },
  {
   "cell_type": "markdown",
   "id": "b49ec80c",
   "metadata": {},
   "source": [
    "<U>Expected Output</U>:"
   ]
  },
  {
   "cell_type": "markdown",
   "id": "06190366",
   "metadata": {},
   "source": [
    "<pre style=\"margin: 0; padding=0\"><DIV style=\"font-family: Courier; border: 1px solid #dbdbdb; padding: 7px\">100\n",
    "135\n",
    "1\n",
    "1 think</DIV></pre>"
   ]
  },
  {
   "cell_type": "markdown",
   "id": "cceebae5",
   "metadata": {},
   "source": [
    " "
   ]
  },
  {
   "cell_type": "markdown",
   "id": "9e99c8d6",
   "metadata": {},
   "source": [
    "<B>4.28:  <U>Quantifiers with Anchor</U>.  Match on each string that consists only of one or more digit characters.</B>"
   ]
  },
  {
   "cell_type": "code",
   "execution_count": null,
   "id": "c4dfa3a9",
   "metadata": {},
   "outputs": [],
   "source": [
    "import re\n",
    "\n",
    "match_strings = [\n",
    "    'hello world 00',\n",
    "    'goodbye world    ',\n",
    "    ' 23 bonjour',\n",
    "    'wilkommen23  ',\n",
    "    'aloha',\n",
    "    '99',\n",
    "    '00',\n",
    "    '88557799',\n",
    "    'Que 3 Tal!',\n",
    "    'myfile.jpg',\n",
    "    'yourfile.JPG'\n",
    "]\n",
    "\n",
    "count = 0\n",
    "for string in match_strings:\n",
    "    if re.search(r'', string):\n",
    "        print(string)\n",
    "        count += 1\n",
    "print(f'count:  {count}')"
   ]
  },
  {
   "cell_type": "markdown",
   "id": "8593449d",
   "metadata": {},
   "source": [
    "<U>Expected Output</U>:"
   ]
  },
  {
   "cell_type": "markdown",
   "id": "c048d92a",
   "metadata": {},
   "source": [
    "<pre style=\"margin: 0; padding=0\"><DIV style=\"font-family: Courier; border: 1px solid #dbdbdb; padding: 7px\">99\n",
    "00\n",
    "88557799\n",
    "count: 3</DIV></pre>"
   ]
  },
  {
   "cell_type": "markdown",
   "id": "b76db38d",
   "metadata": {},
   "source": [
    " "
   ]
  },
  {
   "cell_type": "markdown",
   "id": "94a2a4a0",
   "metadata": {},
   "source": [
    "<B>4.29:  <U>Quantifiers with Anchor (3)</U>.  Match on each string that consists only of letters.</B>"
   ]
  },
  {
   "cell_type": "code",
   "execution_count": null,
   "id": "4a3f6ca1",
   "metadata": {},
   "outputs": [],
   "source": [
    "import re\n",
    "\n",
    "match_strings = [\n",
    "    'hello world 00',\n",
    "    'goodbye world    ',\n",
    "    ' 23 bonjour',\n",
    "    'wilkommen23  ',\n",
    "    'aloha',\n",
    "    '99',\n",
    "    '00',\n",
    "    '88557799',\n",
    "    'Que 3 Tal!',\n",
    "    'myfile.jpg',\n",
    "    'yourfile.JPG'\n",
    "]\n",
    "\n",
    "count = 0\n",
    "for string in match_strings:\n",
    "    if re.search(r'', string):\n",
    "        print(string)\n",
    "        count += 1\n",
    "print(f'count:  {count}')"
   ]
  },
  {
   "cell_type": "markdown",
   "id": "879fcacc",
   "metadata": {},
   "source": [
    "<U>Expected Output</U>:"
   ]
  },
  {
   "cell_type": "markdown",
   "id": "a4ab839f",
   "metadata": {},
   "source": [
    "<pre style=\"margin: 0; padding=0\"><DIV style=\"font-family: Courier; border: 1px solid #dbdbdb; padding: 7px\">aloha\n",
    "count: 1</DIV></pre>"
   ]
  },
  {
   "cell_type": "markdown",
   "id": "298aebce",
   "metadata": {},
   "source": [
    " "
   ]
  },
  {
   "cell_type": "markdown",
   "id": "01ea7184",
   "metadata": {},
   "source": [
    "<B>4.30:  <U>Quantifiers with custom character class</U>.  </B>"
   ]
  },
  {
   "cell_type": "markdown",
   "id": "553bfeed",
   "metadata": {},
   "source": [
    "Match each string that has a capital letter followed by one or more lowercase letters.\n"
   ]
  },
  {
   "cell_type": "code",
   "execution_count": null,
   "id": "5cc0f1cd",
   "metadata": {},
   "outputs": [],
   "source": [
    "import re\n",
    "\n",
    "match_strings = [\n",
    "    'hello World 00',\n",
    "    'goodbye C world    ',\n",
    "    ' 23 bonjour',\n",
    "    'wilkommen23  ',\n",
    "    'Aloha',\n",
    "    '99',\n",
    "    '00',\n",
    "    '88557799',\n",
    "    'Que 3 Tal!',\n",
    "    'myfile.jpg',\n",
    "    'yourfile.JPG'\n",
    "]\n",
    "\n",
    "count = 0\n",
    "for string in match_strings:\n",
    "    if re.search(r'', string):\n",
    "        print(string)\n",
    "        count += 1\n",
    "print(f'count:  {count}')"
   ]
  },
  {
   "cell_type": "markdown",
   "id": "7b845d71",
   "metadata": {},
   "source": [
    "<U>Expected Output</U>:"
   ]
  },
  {
   "cell_type": "markdown",
   "id": "cd86f00a",
   "metadata": {},
   "source": [
    "<pre style=\"margin: 0; padding=0\"><DIV style=\"font-family: Courier; border: 1px solid #dbdbdb; padding: 7px\">hello World 00\n",
    "Aloha\n",
    "Que 3 Tal!\n",
    "count: 3</DIV></pre>"
   ]
  },
  {
   "cell_type": "markdown",
   "id": "04e34416",
   "metadata": {},
   "source": [
    " "
   ]
  },
  {
   "cell_type": "markdown",
   "id": "1fff497e",
   "metadata": {},
   "source": [
    "<B>4.31:  <U>Quantifiers with anchors</U>.  Match on each string that consists only of letters, numbers or the underscore.</B>"
   ]
  },
  {
   "cell_type": "code",
   "execution_count": null,
   "id": "ad7e9486",
   "metadata": {},
   "outputs": [],
   "source": [
    "import re\n",
    "\n",
    "match_strings = [\n",
    "    'hello world 00',\n",
    "    'goodbye world    ',\n",
    "    ' 23 bonjour',\n",
    "    'wilkommen23  ',\n",
    "    'aloha',\n",
    "    '99',\n",
    "    '00',\n",
    "    '88557799',\n",
    "    'Que 3 Tal!',\n",
    "    'myfile.jpg',\n",
    "    'yourfile.JPG'\n",
    "]\n",
    "\n",
    "count = 0\n",
    "for string in match_strings:\n",
    "    if re.search(r'', string):\n",
    "        print(string)\n",
    "        count += 1\n",
    "print(f'count:  {count}')"
   ]
  },
  {
   "cell_type": "markdown",
   "id": "5a394dac",
   "metadata": {},
   "source": [
    "<U>Expected Output</U>:"
   ]
  },
  {
   "cell_type": "markdown",
   "id": "4fc052a6",
   "metadata": {},
   "source": [
    "<pre style=\"margin: 0; padding=0\"><DIV style=\"font-family: Courier; border: 1px solid #dbdbdb; padding: 7px\">aloha\n",
    "99\n",
    "00\n",
    "88557799\n",
    "count: 4</DIV></pre>"
   ]
  },
  {
   "cell_type": "markdown",
   "id": "a5a3a035",
   "metadata": {},
   "source": [
    " "
   ]
  },
  {
   "cell_type": "markdown",
   "id": "93d44c9f",
   "metadata": {},
   "source": [
    "<B>4.32:  <U>Quantifiers with anchors (2)</U>.  Match on each string that consists only of non-digits.</B>"
   ]
  },
  {
   "cell_type": "code",
   "execution_count": null,
   "id": "492b5e86",
   "metadata": {},
   "outputs": [],
   "source": [
    "import re\n",
    "\n",
    "match_strings = [\n",
    "    'hello world 00',\n",
    "    'goodbye world    ',\n",
    "    ' 23 bonjour',\n",
    "    'wilkommen23  ',\n",
    "    'aloha',\n",
    "    '99',\n",
    "    '00',\n",
    "    '88557799',\n",
    "    'Que 3 Tal!',\n",
    "    'myfile.jpg',\n",
    "    'yourfile.JPG'\n",
    "]\n",
    "\n",
    "count = 0\n",
    "for string in match_strings:\n",
    "    if re.search(r'', string):\n",
    "        print(string)\n",
    "        count += 1\n",
    "print(f'count:  {count}')"
   ]
  },
  {
   "cell_type": "markdown",
   "id": "794d48ba",
   "metadata": {},
   "source": [
    "<U>Expected Output</U>:"
   ]
  },
  {
   "cell_type": "markdown",
   "id": "b78ed123",
   "metadata": {},
   "source": [
    "<pre style=\"margin: 0; padding=0\"><DIV style=\"font-family: Courier; border: 1px solid #dbdbdb; padding: 7px\">goodbye world\n",
    "aloha\n",
    "myfile.jpg\n",
    "yourfile.JPG\n",
    "count: 4</DIV></pre>"
   ]
  },
  {
   "cell_type": "markdown",
   "id": "38199783",
   "metadata": {},
   "source": [
    " "
   ]
  },
  {
   "cell_type": "markdown",
   "id": "bf7629cc",
   "metadata": {},
   "source": [
    "<B>4.33:  <U>Quantifiers with anchors (3)</U>.  Match on each string that consists only of non-spaces.</B>"
   ]
  },
  {
   "cell_type": "code",
   "execution_count": null,
   "id": "cb3a4e4a",
   "metadata": {},
   "outputs": [],
   "source": [
    "import re\n",
    "\n",
    "match_strings = [\n",
    "    'hello world 00',\n",
    "    'goodbye world    ',\n",
    "    ' 23 bonjour',\n",
    "    'wilkommen23  ',\n",
    "    'aloha',\n",
    "    '99',\n",
    "    '00',\n",
    "    '88557799',\n",
    "    'Que 3 Tal!',\n",
    "    'myfile.jpg',\n",
    "    'yourfile.JPG'\n",
    "]\n",
    "\n",
    "count = 0\n",
    "for string in match_strings:\n",
    "    if re.search(r'', string):\n",
    "        print(string)\n",
    "        count += 1\n",
    "print(f'count:  {count}')"
   ]
  },
  {
   "cell_type": "markdown",
   "id": "9f942291",
   "metadata": {},
   "source": [
    "<U>Expected Output</U>:"
   ]
  },
  {
   "cell_type": "markdown",
   "id": "5389380f",
   "metadata": {},
   "source": [
    "<pre style=\"margin: 0; padding=0\"><DIV style=\"font-family: Courier; border: 1px solid #dbdbdb; padding: 7px\">aloha\n",
    "99\n",
    "00\n",
    "88557799\n",
    "myfile.jpg\n",
    "yourfile.JPG\n",
    "count: 6</DIV></pre>"
   ]
  },
  {
   "cell_type": "markdown",
   "id": "e0df4134",
   "metadata": {},
   "source": [
    " "
   ]
  },
  {
   "cell_type": "markdown",
   "id": "4b3b9c8f",
   "metadata": {},
   "source": [
    "CUSTOM QUANTIFIERS"
   ]
  },
  {
   "cell_type": "markdown",
   "id": "195fa431",
   "metadata": {},
   "source": [
    "<B>4.34:  <U>Custom quantifier</U>.  </B>"
   ]
  },
  {
   "cell_type": "markdown",
   "id": "8d1ed819",
   "metadata": {},
   "source": [
    "Match on each string that has two or more spaces at the end.\n"
   ]
  },
  {
   "cell_type": "code",
   "execution_count": null,
   "id": "138100de",
   "metadata": {},
   "outputs": [],
   "source": [
    "import re\n",
    "\n",
    "match_strings = [\n",
    "    'hello world 00',\n",
    "    'goodbye world    ',\n",
    "    ' 23 bonjour',\n",
    "    'wilkommen23  ',\n",
    "    'aloha',\n",
    "    '99',\n",
    "    '00',\n",
    "    '88557799',\n",
    "    'Que 3 Tal!',\n",
    "    'myfile.jpg',\n",
    "    'yourfile.JPG'\n",
    "]\n",
    "\n",
    "count = 0\n",
    "for string in match_strings:\n",
    "    if re.search(r'', string):\n",
    "        print(string)\n",
    "        count += 1\n",
    "print(f'count:  {count}')"
   ]
  },
  {
   "cell_type": "markdown",
   "id": "73065d18",
   "metadata": {},
   "source": [
    "<U>Expected Output</U>:"
   ]
  },
  {
   "cell_type": "markdown",
   "id": "9d1af62d",
   "metadata": {},
   "source": [
    "<pre style=\"margin: 0; padding=0\"><DIV style=\"font-family: Courier; border: 1px solid #dbdbdb; padding: 7px\">goodbye world\n",
    "wilkommen23\n",
    "count: 2</DIV></pre>"
   ]
  },
  {
   "cell_type": "markdown",
   "id": "3be3d08d",
   "metadata": {},
   "source": [
    " "
   ]
  },
  {
   "cell_type": "markdown",
   "id": "3008fe54",
   "metadata": {},
   "source": [
    "<B>4.35:  <U>Custom quantifier</U>.  </B>"
   ]
  },
  {
   "cell_type": "markdown",
   "id": "c6278312",
   "metadata": {},
   "source": [
    "Match on strings that have a capital letter followed by two or more lowercase letters.\n"
   ]
  },
  {
   "cell_type": "code",
   "execution_count": null,
   "id": "92149cbb",
   "metadata": {},
   "outputs": [],
   "source": [
    "import re\n",
    "\n",
    "match_strings = [\n",
    "    'hello World 00',\n",
    "    'goodbye As world    ',\n",
    "    'To 23 bonjour',\n",
    "    'wilkommen23  ',\n",
    "    'Aloha',\n",
    "    '99',\n",
    "    '00',\n",
    "    '88557799',\n",
    "    'Que 3 Tal!',\n",
    "    'myfile.jpg',\n",
    "    'yourfile.JPG'\n",
    "]\n",
    "\n",
    "count = 0\n",
    "for string in match_strings:\n",
    "    if re.search(r'', string):\n",
    "        print(string)\n",
    "        count += 1\n",
    "print(f'count:  {count}')"
   ]
  },
  {
   "cell_type": "markdown",
   "id": "332763d6",
   "metadata": {},
   "source": [
    "<U>Expected Output</U>:"
   ]
  },
  {
   "cell_type": "markdown",
   "id": "57e7bb5d",
   "metadata": {},
   "source": [
    "<pre style=\"margin: 0; padding=0\"><DIV style=\"font-family: Courier; border: 1px solid #dbdbdb; padding: 7px\">hello World 00\n",
    "Aloha\n",
    "Que 3 Tal!\n",
    "count: 3</DIV></pre>"
   ]
  },
  {
   "cell_type": "markdown",
   "id": "d59959a4",
   "metadata": {},
   "source": [
    " "
   ]
  },
  {
   "cell_type": "markdown",
   "id": "effb4239",
   "metadata": {},
   "source": [
    "<B>4.36:  <U>Custom quantifier</U>.  </B>"
   ]
  },
  {
   "cell_type": "markdown",
   "id": "9f95b3af",
   "metadata": {},
   "source": [
    "Print those numbers that are in the millions (i.e., 7 or more digits)."
   ]
  },
  {
   "cell_type": "code",
   "execution_count": null,
   "id": "8e9e8134",
   "metadata": {},
   "outputs": [],
   "source": [
    "import re\n",
    "\n",
    "nums = [\n",
    "  '1',\n",
    "  '10',\n",
    "  '100',\n",
    "  '1000',\n",
    "  '10000',\n",
    "  '100000',\n",
    "  '1000000',\n",
    "  '10000000'\n",
    "]\n",
    "\n",
    "for num in nums:\n",
    "    if re.search(r'', num):\n",
    "        print(num)"
   ]
  },
  {
   "cell_type": "markdown",
   "id": "bd7d4a78",
   "metadata": {},
   "source": [
    "<U>Expected Output</U>:"
   ]
  },
  {
   "cell_type": "markdown",
   "id": "a6543277",
   "metadata": {},
   "source": [
    "<pre style=\"margin: 0; padding=0\"><DIV style=\"font-family: Courier; border: 1px solid #dbdbdb; padding: 7px\">1000000\n",
    "10000000</DIV></pre>"
   ]
  },
  {
   "cell_type": "markdown",
   "id": "50ebb708",
   "metadata": {},
   "source": [
    " "
   ]
  },
  {
   "cell_type": "markdown",
   "id": "d974dc44",
   "metadata": {},
   "source": [
    "<B>4.37:  <U>Custom quantifier</U>.  Having split the text into words, show those words that are greater than 7 characters in size.  </B>"
   ]
  },
  {
   "cell_type": "code",
   "execution_count": null,
   "id": "0dba9d08",
   "metadata": {},
   "outputs": [],
   "source": [
    "import re\n",
    "\n",
    "text = \"\"\"This is the 1000th story, regarding a duck\n",
    "named Quack.  It was unlikely that Quack could have been\n",
    "given a name like that by his mother, so we can only conclude\n",
    "that he was named by the author, who has a cuteness problem.\"\"\"\n",
    "\n",
    "\n",
    "words = text.split()\n",
    "stripped = [ word.rstrip('.,') for word in words ]\n",
    "\n",
    "for word in stripped:\n",
    "    if re.search(r'', word):\n",
    "        print(word)"
   ]
  },
  {
   "cell_type": "markdown",
   "id": "bfc8f056",
   "metadata": {},
   "source": [
    "<U>Expected Output</U>:"
   ]
  },
  {
   "cell_type": "markdown",
   "id": "af2a4ad1",
   "metadata": {},
   "source": [
    "<pre style=\"margin: 0; padding=0\"><DIV style=\"font-family: Courier; border: 1px solid #dbdbdb; padding: 7px\">regarding\n",
    "unlikely\n",
    "conclude\n",
    "cuteness\n",
    "problem</DIV></pre>"
   ]
  },
  {
   "cell_type": "markdown",
   "id": "3844d26a",
   "metadata": {},
   "source": [
    " "
   ]
  },
  {
   "cell_type": "markdown",
   "id": "a6a58e48",
   "metadata": {},
   "source": [
    "<B>4.38:  <U>Custom Quantifier</U>.  </B>"
   ]
  },
  {
   "cell_type": "markdown",
   "id": "26753906",
   "metadata": {},
   "source": [
    "A password must be 3-8 characters in length (letters, numbers and underscores are permitted).  Validate the below password attempts.\n"
   ]
  },
  {
   "cell_type": "code",
   "execution_count": null,
   "id": "e029f9ce",
   "metadata": {},
   "outputs": [],
   "source": [
    "import re\n",
    "\n",
    "attempts = [\n",
    "    '1234',\n",
    "    'hello_there',\n",
    "    'password',\n",
    "    'ok',\n",
    "    'what?',\n",
    "    'supercalifrag']\n",
    "\n",
    "for password in attempts:\n",
    "    if re.search(r'', password):\n",
    "        print(f'{password}:  validated')"
   ]
  },
  {
   "cell_type": "markdown",
   "id": "bc9dc93a",
   "metadata": {},
   "source": [
    "<U>Expected Output</U>:"
   ]
  },
  {
   "cell_type": "markdown",
   "id": "2f2f1f1d",
   "metadata": {},
   "source": [
    "<pre style=\"margin: 0; padding=0\"><DIV style=\"font-family: Courier; border: 1px solid #dbdbdb; padding: 7px\">1234:  validated\n",
    "password:  validated</DIV></pre>"
   ]
  },
  {
   "cell_type": "markdown",
   "id": "bb6c6b90",
   "metadata": {},
   "source": [
    " "
   ]
  },
  {
   "cell_type": "markdown",
   "id": "b8918a67",
   "metadata": {},
   "source": [
    "ESCAPING SPECIAL CHARACTERS"
   ]
  },
  {
   "cell_type": "markdown",
   "id": "83176aa1",
   "metadata": {},
   "source": [
    "<B>4.39:  <U>Escape wildcard (aka period)</U>.  Match on each string that has a letter, number or underscore followed by a period.</B>"
   ]
  },
  {
   "cell_type": "code",
   "execution_count": null,
   "id": "db2c8867",
   "metadata": {},
   "outputs": [],
   "source": [
    "import re\n",
    "\n",
    "match_strings = [\n",
    "    'hello world 00',\n",
    "    'goodbye world    ',\n",
    "    ' 23 bonjour',\n",
    "    'wilkommen23  ',\n",
    "    'aloha',\n",
    "    '99',\n",
    "    '00',\n",
    "    '88557799',\n",
    "    'Que 3 Tal!',\n",
    "    'myfile.jpg',\n",
    "    'yourfile.JPG'\n",
    "]\n",
    "\n",
    "count = 0\n",
    "for string in match_strings:\n",
    "    if re.search(r'', string):\n",
    "        print(string)\n",
    "        count += 1\n",
    "print(f'count:  {count}')"
   ]
  },
  {
   "cell_type": "markdown",
   "id": "3c8f2033",
   "metadata": {},
   "source": [
    "<U>Expected Output</U>:"
   ]
  },
  {
   "cell_type": "markdown",
   "id": "bfc7575a",
   "metadata": {},
   "source": [
    "<pre style=\"margin: 0; padding=0\"><DIV style=\"font-family: Courier; border: 1px solid #dbdbdb; padding: 7px\">myfile.jpg\n",
    "yourfile.JPG\n",
    "count: 2</DIV></pre>"
   ]
  },
  {
   "cell_type": "markdown",
   "id": "7d666c5e",
   "metadata": {},
   "source": [
    "Note:  why would this work without escaping the period?  Because"
   ]
  },
  {
   "cell_type": "markdown",
   "id": "e9667cfb",
   "metadata": {},
   "source": [
    " "
   ]
  },
  {
   "cell_type": "markdown",
   "id": "2808007f",
   "metadata": {},
   "source": [
    "<B>4.40:  <U>Escape end anchor (aka dollar sign)</U>.  </B>"
   ]
  },
  {
   "cell_type": "markdown",
   "id": "f0c6a0cc",
   "metadata": {},
   "source": [
    "Match on strings that have a dollar amount, including two decimal places ($23.53).\n"
   ]
  },
  {
   "cell_type": "code",
   "execution_count": null,
   "id": "505a3fc6",
   "metadata": {},
   "outputs": [],
   "source": [
    "import re\n",
    "\n",
    "lines = [\n",
    "    'The coat cost $239.50.',\n",
    "    'The candy cost $1.93',\n",
    "    \"I didn't buy anything today.\",\n",
    "    '$1 sale',\n",
    "    'I dream of $$$'\n",
    "]\n",
    "\n",
    "for line in lines:\n",
    "    if re.search(r'', line):\n",
    "        print(line)\n"
   ]
  },
  {
   "cell_type": "markdown",
   "id": "38eaef2c",
   "metadata": {},
   "source": [
    "<U>Expected Output</U>:"
   ]
  },
  {
   "cell_type": "markdown",
   "id": "6d0267dd",
   "metadata": {},
   "source": [
    "<pre style=\"margin: 0; padding=0\"><DIV style=\"font-family: Courier; border: 1px solid #dbdbdb; padding: 7px\">The coat cost $239.50.\n",
    "The candy cost $1.93</DIV></pre>"
   ]
  },
  {
   "cell_type": "markdown",
   "id": "8986ab8a",
   "metadata": {},
   "source": [
    " "
   ]
  },
  {
   "cell_type": "markdown",
   "id": "7b27dcb0",
   "metadata": {},
   "source": [
    "<B>4.41:  <U>Escape quantifier character +</U>.  </B>"
   ]
  },
  {
   "cell_type": "markdown",
   "id": "a390e537",
   "metadata": {},
   "source": [
    "Match on all lines with positive numbers.\n"
   ]
  },
  {
   "cell_type": "code",
   "execution_count": null,
   "id": "5c0ef6d5",
   "metadata": {},
   "outputs": [],
   "source": [
    "import re\n",
    "\n",
    "numbers = [\n",
    "    'Amount:  -23.9',\n",
    "    'Amount:  +43.8',\n",
    "    'Amount:  -9.03',\n",
    "    'Amount:  +99.9',\n",
    "    'Amount:  +22.0'\n",
    "]\n",
    "for num in numbers:\n",
    "    if re.search(r'', num):\n",
    "        print(num)"
   ]
  },
  {
   "cell_type": "markdown",
   "id": "bd2556a9",
   "metadata": {},
   "source": [
    "<U>Expected Output</U>:"
   ]
  },
  {
   "cell_type": "markdown",
   "id": "f476e0f2",
   "metadata": {},
   "source": [
    "<pre style=\"margin: 0; padding=0\"><DIV style=\"font-family: Courier; border: 1px solid #dbdbdb; padding: 7px\">Amount:  +43.8\n",
    "Amount:  +99.9\n",
    "Amount:  +22.0</DIV></pre>"
   ]
  },
  {
   "cell_type": "markdown",
   "id": "535b8d88",
   "metadata": {},
   "source": [
    " "
   ]
  },
  {
   "cell_type": "markdown",
   "id": "aa684b08",
   "metadata": {},
   "source": [
    "<B>4.42:  <U>Escape quantifier character *</U>.  </B>"
   ]
  },
  {
   "cell_type": "markdown",
   "id": "27e3e29a",
   "metadata": {},
   "source": [
    "Match on all lines with asterisked footnotes.\n"
   ]
  },
  {
   "cell_type": "code",
   "execution_count": null,
   "id": "b0182ce0",
   "metadata": {},
   "outputs": [],
   "source": [
    "import re\n",
    "\n",
    "numbers = [\n",
    "    'As Ibid* said,',\n",
    "    'there should be no greater good ',\n",
    "    'than compassion*, love, ',\n",
    "    'mutual benefit*',\n",
    "    'and the profit-making motive.',\n",
    "]\n",
    "for num in numbers:\n",
    "    if re.search(r'', num):\n",
    "        print(num)"
   ]
  },
  {
   "cell_type": "markdown",
   "id": "6d0c6247",
   "metadata": {},
   "source": [
    "<U>Expected Output</U>:"
   ]
  },
  {
   "cell_type": "markdown",
   "id": "79071ad4",
   "metadata": {},
   "source": [
    "<pre style=\"margin: 0; padding=0\"><DIV style=\"font-family: Courier; border: 1px solid #dbdbdb; padding: 7px\">As Ibid* said,\n",
    "than compasssion*, love,\n",
    "mutual benefit*</DIV></pre>"
   ]
  },
  {
   "cell_type": "markdown",
   "id": "81af3767",
   "metadata": {},
   "source": [
    " "
   ]
  },
  {
   "cell_type": "markdown",
   "id": "6f2c2a65",
   "metadata": {},
   "source": [
    "LAB 2"
   ]
  },
  {
   "cell_type": "markdown",
   "id": "ca459fbf",
   "metadata": {},
   "source": [
    "<div style=\"background-color: #ccffcc; padding: 10px; border: 2px solid green\"><B>4.43:  Match on each string that has one or more \"word\" characters, followed by one or more spaces, followed by one or more \"word\" characters.</B></div>"
   ]
  },
  {
   "cell_type": "code",
   "execution_count": null,
   "id": "2614826d",
   "metadata": {},
   "outputs": [],
   "source": [
    "import re\n",
    "\n",
    "match_strings = [\n",
    "    'hello world 00',\n",
    "    'goodbye world    ',\n",
    "    ' 23 bonjour',\n",
    "    'wilkommen23  ',\n",
    "    'aloha',\n",
    "    '99',\n",
    "    '00',\n",
    "    '88557799',\n",
    "    'Que 3 Tal!',\n",
    "    'myfile.jpg',\n",
    "    'yourfile.JPG'\n",
    "]\n",
    "\n",
    "count = 0\n",
    "for string in match_strings:\n",
    "    if re.search(r'', string):\n",
    "        print(string)\n",
    "        count += 1\n",
    "print(f'count:  {count}')"
   ]
  },
  {
   "cell_type": "markdown",
   "id": "0934dd9c",
   "metadata": {},
   "source": [
    "<U>Expected Output</U>:"
   ]
  },
  {
   "cell_type": "markdown",
   "id": "c1a3fb82",
   "metadata": {},
   "source": [
    "<pre style=\"margin: 0; padding=0\"><DIV style=\"font-family: Courier; border: 1px solid #dbdbdb; padding: 7px\">hello world 00\n",
    "goodbye world\n",
    " 23 bonjour\n",
    "Que 3 Tal!\n",
    "count: 4</DIV></pre>"
   ]
  },
  {
   "cell_type": "markdown",
   "id": "ba7ea0d4",
   "metadata": {},
   "source": [
    " "
   ]
  },
  {
   "cell_type": "markdown",
   "id": "433b5667",
   "metadata": {},
   "source": [
    "<div style=\"background-color: #ccffcc; padding: 10px; border: 2px solid green\"><B>4.44:  Ignore comment lines:  print only those lines that don't start with a comment (the first non-space character is a hash mark).  </B></div>"
   ]
  },
  {
   "cell_type": "code",
   "execution_count": null,
   "id": "cf1ed333",
   "metadata": {},
   "outputs": [],
   "source": [
    "import re\n",
    "\n",
    "text = \"\"\"\n",
    "# this is a program to do stuff\n",
    "a = 5\n",
    "b = 10              # an int\n",
    "if True:\n",
    "    # multiply them\n",
    "    c = a * b\n",
    "\"\"\"\n",
    "\n",
    "for line in text.splitlines():\n",
    "    if not re.search(r'', line):\n",
    "        print(line)\n"
   ]
  },
  {
   "cell_type": "markdown",
   "id": "467580f2",
   "metadata": {},
   "source": [
    "<U>Expected Output</U>:"
   ]
  },
  {
   "cell_type": "markdown",
   "id": "8cee8e48",
   "metadata": {},
   "source": [
    "<pre style=\"margin: 0; padding=0\"><DIV style=\"font-family: Courier; border: 1px solid #dbdbdb; padding: 7px\">a = 5\n",
    "b = 10              # an int\n",
    "if True:\n",
    "    c = a * b</DIV></pre>"
   ]
  },
  {
   "cell_type": "markdown",
   "id": "1e8d29ce",
   "metadata": {},
   "source": [
    " "
   ]
  },
  {
   "cell_type": "markdown",
   "id": "50b111d0",
   "metadata": {},
   "source": [
    "<div style=\"background-color: #ccffcc; padding: 10px; border: 2px solid green\"><B>4.45:  Match those lines that contain a 7-digit hex number (a-fA-F0-9).  </B></div>"
   ]
  },
  {
   "cell_type": "code",
   "execution_count": null,
   "id": "6a10f4af",
   "metadata": {},
   "outputs": [],
   "source": [
    "import re\n",
    "\n",
    "lines = [\n",
    "    'The color code is #ABF2307.',\n",
    "    'Mr. Mxyzptlk is 999 years old today.',\n",
    "    'The memory address is fc9d223.'\n",
    "]\n",
    "\n",
    "for line in lines:\n",
    "    if re.search(r'', line):\n",
    "        print(line)"
   ]
  },
  {
   "cell_type": "markdown",
   "id": "d81dc771",
   "metadata": {},
   "source": [
    "<U>Expected Output</U>:"
   ]
  },
  {
   "cell_type": "markdown",
   "id": "410d34a3",
   "metadata": {},
   "source": [
    "<pre style=\"margin: 0; padding=0\"><DIV style=\"font-family: Courier; border: 1px solid #dbdbdb; padding: 7px\">The color code is #ABF2307.\n",
    "The memory address is fc9d223.</DIV></pre>"
   ]
  },
  {
   "cell_type": "markdown",
   "id": "20fdc7fa",
   "metadata": {},
   "source": [
    " "
   ]
  },
  {
   "cell_type": "markdown",
   "id": "3cb95bdb",
   "metadata": {},
   "source": [
    "<div style=\"background-color: #ccffcc; padding: 10px; border: 2px solid green\"><B>4.46:  Show those lines that contain two capitalized words (as in a name).  </B></div>"
   ]
  },
  {
   "cell_type": "code",
   "execution_count": null,
   "id": "44aa634d",
   "metadata": {},
   "outputs": [],
   "source": [
    "import re\n",
    "\n",
    "lines = [\n",
    "    'The owner is Gwen Harstridge.',\n",
    "    \"There aren't a lot of stores like this one.\",\n",
    "    'Paris is not a lot like Rome.',\n",
    "    'I hail from Los Angeles, California.'\n",
    "]\n",
    "\n",
    "for line in lines:\n",
    "    if re.search(r'', line):\n",
    "        print(line)"
   ]
  },
  {
   "cell_type": "markdown",
   "id": "02d4b8b0",
   "metadata": {},
   "source": [
    "<U>Expected Output</U>:"
   ]
  },
  {
   "cell_type": "markdown",
   "id": "070ae7c8",
   "metadata": {},
   "source": [
    "<pre style=\"margin: 0; padding=0\"><DIV style=\"font-family: Courier; border: 1px solid #dbdbdb; padding: 7px\">    The owner is Gwen Harstridge.\n",
    "    I hail from Los Angeles, California.</DIV></pre>"
   ]
  },
  {
   "cell_type": "markdown",
   "id": "502012a5",
   "metadata": {},
   "source": [
    " "
   ]
  },
  {
   "cell_type": "markdown",
   "id": "71d2df01",
   "metadata": {},
   "source": [
    "re.IGNORECASE"
   ]
  },
  {
   "cell_type": "markdown",
   "id": "9b26e63e",
   "metadata": {},
   "source": [
    " "
   ]
  },
  {
   "cell_type": "markdown",
   "id": "2752f854",
   "metadata": {},
   "source": [
    "<div style=\"background-color: #ccffcc; padding: 10px; border: 2px solid green\"><B>4.47:  Without using a character class, match on each string that ends in .jpg or .JPG (try this another way).</B></div>"
   ]
  },
  {
   "cell_type": "markdown",
   "id": "82945ad4",
   "metadata": {},
   "source": [
    "(hint: use the flag argument (the optional 3rd argument) to re.search())\n"
   ]
  },
  {
   "cell_type": "code",
   "execution_count": null,
   "id": "441a187f",
   "metadata": {},
   "outputs": [],
   "source": [
    "import re\n",
    "\n",
    "match_strings = [\n",
    "    'hello world 00',\n",
    "    'goodbye world    ',\n",
    "    ' 23 bonjour',\n",
    "    'wilkommen23  ',\n",
    "    'aloha',\n",
    "    '99',\n",
    "    '00',\n",
    "    '88557799',\n",
    "    'Que 3 Tal!',\n",
    "    'myfile.jpg',\n",
    "    'yourfile.JPG'\n",
    "]\n",
    "\n",
    "count = 0\n",
    "for string in match_strings:\n",
    "    if re.search(r'', string):\n",
    "        print(string)\n",
    "        count += 1\n",
    "print(f'count:  {count}')"
   ]
  },
  {
   "cell_type": "markdown",
   "id": "6bf3c44a",
   "metadata": {},
   "source": [
    "<U>Expected Output</U>:"
   ]
  },
  {
   "cell_type": "markdown",
   "id": "afd8d456",
   "metadata": {},
   "source": [
    "<pre style=\"margin: 0; padding=0\"><DIV style=\"font-family: Courier; border: 1px solid #dbdbdb; padding: 7px\">myfile.jpg\n",
    "yourfile.JPG\n",
    "count: 2</DIV></pre>"
   ]
  },
  {
   "cell_type": "markdown",
   "id": "48b8b111",
   "metadata": {},
   "source": [
    " "
   ]
  },
  {
   "cell_type": "markdown",
   "id": "d137e69c",
   "metadata": {},
   "source": [
    "<div style=\"background-color: #ccffcc; padding: 10px; border: 2px solid green\"><B>4.48:  Print only those files that start with 'image#' ('image' plus a <I>possible</I> number) and end in any of these image extensions:  '.jpg', '.png', '.gif'</B></div>"
   ]
  },
  {
   "cell_type": "code",
   "execution_count": null,
   "id": "c9a7a0b7",
   "metadata": {},
   "outputs": [],
   "source": [
    "import re\n",
    "\n",
    "filenames = ['image2.jpg', 'image.png', 'file.txt', 'file2.doc',\n",
    "             'file3.pdf', 'image2.gif', 'image3.jpg', 'image4.jpg',\n",
    "             'advert.jpg', 'advert.png']\n",
    "\n",
    "for name in filenames:\n",
    "    if re.search(r'', name):\n",
    "        print(name)"
   ]
  },
  {
   "cell_type": "markdown",
   "id": "db4df77e",
   "metadata": {},
   "source": [
    "<U>Expected Output</U>:"
   ]
  },
  {
   "cell_type": "markdown",
   "id": "de051a8c",
   "metadata": {},
   "source": [
    "<pre style=\"margin: 0; padding=0\"><DIV style=\"font-family: Courier; border: 1px solid #dbdbdb; padding: 7px\">image2.jpg\n",
    "image.png\n",
    "image2.gif\n",
    "image3.jpg\n",
    "image4.jpg</DIV></pre>"
   ]
  },
  {
   "cell_type": "markdown",
   "id": "aab3a1f3",
   "metadata": {},
   "source": [
    " "
   ]
  },
  {
   "cell_type": "markdown",
   "id": "bd62b003",
   "metadata": {},
   "source": [
    "<div style=\"background-color: #ccffcc; padding: 10px; border: 2px solid green\"><B>4.49:  Match on each string that ends in .jpg or .JPG</B></div>"
   ]
  },
  {
   "cell_type": "code",
   "execution_count": null,
   "id": "0db6b3a7",
   "metadata": {},
   "outputs": [],
   "source": [
    "import re\n",
    "\n",
    "match_strings = [\n",
    "    'hello world 00',\n",
    "    'goodbye world    ',\n",
    "    ' 23 bonjour',\n",
    "    'wilkommen23  ',\n",
    "    'aloha',\n",
    "    '99',\n",
    "    '00',\n",
    "    '88557799',\n",
    "    'Que 3 Tal!',\n",
    "    'myfile.jpg',\n",
    "    'yourfile.JPG'\n",
    "]\n",
    "\n",
    "count = 0\n",
    "for string in match_strings:\n",
    "    if re.search(r'', string):\n",
    "        print(string)\n",
    "        count += 1\n",
    "print(f'count:  {count}')"
   ]
  },
  {
   "cell_type": "markdown",
   "id": "29f59a52",
   "metadata": {},
   "source": [
    "<U>Expected Output</U>:"
   ]
  },
  {
   "cell_type": "markdown",
   "id": "4094ca98",
   "metadata": {},
   "source": [
    "<pre style=\"margin: 0; padding=0\"><DIV style=\"font-family: Courier; border: 1px solid #dbdbdb; padding: 7px\">myfile.jpg\n",
    "yourfile.JPG\n",
    "count: 2</DIV></pre>"
   ]
  },
  {
   "cell_type": "markdown",
   "id": "391d0ecb",
   "metadata": {},
   "source": [
    " "
   ]
  },
  {
   "cell_type": "markdown",
   "id": "672c169f",
   "metadata": {},
   "source": [
    "GROUPING FOR QUANTIFYING and ALTERNATES"
   ]
  },
  {
   "cell_type": "markdown",
   "id": "bda8972b",
   "metadata": {},
   "source": [
    " "
   ]
  },
  {
   "cell_type": "markdown",
   "id": "f08e5ebc",
   "metadata": {},
   "source": [
    "<B>4.50:  <U>Quantifying a group</U>.  Match on a number with two decimal places and possible thousandths separator (3.95, 3,200.95, etc.)</B>"
   ]
  },
  {
   "cell_type": "markdown",
   "id": "921d248e",
   "metadata": {},
   "source": [
    "First create a pattern that is 1 or more digits with comma separator (i.e. matching on <B>0,</B>, </B>00,</B> <B>000,</B>) and group the number with parentheses; quantify the group to say that there is zero or more of these, followed by one or more digits, a period and 2 digits.  (Do not use a custom character class for this purpose.)"
   ]
  },
  {
   "cell_type": "code",
   "execution_count": null,
   "id": "57ed9937",
   "metadata": {},
   "outputs": [],
   "source": [
    "import re\n",
    "\n",
    "values = ['23.9', '18.2', '23.95', '2,238,000.00', '15,382.92', 'joe', '6.05']  # list of str\n",
    "for value in values:\n",
    "    matchobj = re.search(r'', value)\n",
    "    if matchobj:\n",
    "        print(value)"
   ]
  },
  {
   "cell_type": "markdown",
   "id": "d9a866cf",
   "metadata": {},
   "source": [
    "<U>Expected Output</U>:"
   ]
  },
  {
   "cell_type": "markdown",
   "id": "6e0037df",
   "metadata": {},
   "source": [
    "<pre style=\"margin: 0; padding=0\"><DIV style=\"font-family: Courier; border: 1px solid #dbdbdb; padding: 7px\">23.95\n",
    "2,238,000.00\n",
    "15,382.92</DIV></pre>"
   ]
  },
  {
   "cell_type": "markdown",
   "id": "ba082350",
   "metadata": {},
   "source": [
    "Note that if you see the message <B>AttributeError: 'NoneType' object has no attribute 'group'</B>, this means that the search did not find a match and returned <B>None</B>, and the code attempted to call <B>.group()</B> on <B>None</B>.  Check the string and pattern to determine why it did not match."
   ]
  },
  {
   "cell_type": "markdown",
   "id": "4a3d2687",
   "metadata": {},
   "source": [
    " "
   ]
  },
  {
   "cell_type": "markdown",
   "id": "4744bdaa",
   "metadata": {},
   "source": [
    "<B>4.51:  <U>Quantifying a Group (2)</U>.  Write a single regex that matches on q, Q, quit, Quit, QUIT.  Do this without a character class and without the alternate vertical bar.  </B>"
   ]
  },
  {
   "cell_type": "code",
   "execution_count": null,
   "id": "b356e14d",
   "metadata": {},
   "outputs": [],
   "source": [
    "import re\n",
    "\n",
    "x = input('Do you want to quit? ')     # str, 'QuIt' (sample input)\n",
    "\n",
    "if re.search(r'', x):\n",
    "    print(\"you're quitting!\")\n",
    "else:\n",
    "    print(\"you failed to quit.\")"
   ]
  },
  {
   "cell_type": "markdown",
   "id": "6fb0340f",
   "metadata": {},
   "source": [
    "<U>Expected Output</U>:"
   ]
  },
  {
   "cell_type": "markdown",
   "id": "5fc8777e",
   "metadata": {},
   "source": [
    "<pre style=\"margin: 0; padding=0\"><DIV style=\"font-family: Courier; border: 1px solid #dbdbdb; padding: 7px\">Do you want to quit? QuIt\n",
    "you're quitting!</DIV></pre>"
   ]
  },
  {
   "cell_type": "markdown",
   "id": "60f57165",
   "metadata": {},
   "source": [
    " "
   ]
  },
  {
   "cell_type": "markdown",
   "id": "8f3dab5a",
   "metadata": {},
   "source": [
    "GROUPING FOR EXTRACTION"
   ]
  },
  {
   "cell_type": "markdown",
   "id": "1d3dfd17",
   "metadata": {},
   "source": [
    "<B>4.52:  <U>Group for extraction</U>.  </B>"
   ]
  },
  {
   "cell_type": "markdown",
   "id": "09fde2cb",
   "metadata": {},
   "source": [
    "Use a parenthetical grouping to extract the number from this text."
   ]
  },
  {
   "cell_type": "code",
   "execution_count": null,
   "id": "70add615",
   "metadata": {},
   "outputs": [],
   "source": [
    "import re\n",
    "\n",
    "line = '34:  this is a line of text'\n",
    "\n",
    "matchobj = re.search(r'', line)\n",
    "print(matchobj.group(1))"
   ]
  },
  {
   "cell_type": "markdown",
   "id": "64553de7",
   "metadata": {},
   "source": [
    "<U>Expected Output</U>:"
   ]
  },
  {
   "cell_type": "markdown",
   "id": "ef372186",
   "metadata": {},
   "source": [
    "<pre style=\"margin: 0; padding=0\"><DIV style=\"font-family: Courier; border: 1px solid #dbdbdb; padding: 7px\">34</DIV></pre>"
   ]
  },
  {
   "cell_type": "markdown",
   "id": "ee1598a2",
   "metadata": {},
   "source": [
    "Note that if you see the message <B>AttributeError: 'NoneType' object has no attribute 'group'</B>, this means that the search did not find a match and returned <B>None</B>, and the code attempted to call <B>.group()</B> on <B>None</B>.  Check the string and pattern to determine why it did not match."
   ]
  },
  {
   "cell_type": "markdown",
   "id": "d2c532fc",
   "metadata": {},
   "source": [
    " "
   ]
  },
  {
   "cell_type": "markdown",
   "id": "2c8f9b7e",
   "metadata": {},
   "source": [
    "<B>4.53:  <U>Group for extraction</U>.  Extract the Catalog ID and Publication Date from the text line.</B>"
   ]
  },
  {
   "cell_type": "code",
   "execution_count": null,
   "id": "f365f1f7",
   "metadata": {},
   "outputs": [],
   "source": [
    "import re\n",
    "\n",
    "rs_row = 'Catalog ID: 2839-587    Pub. Date: 2019-09-03'\n",
    "\n",
    "matchobj = re.search(r'', rs_row)\n",
    "\n",
    "if matchobj:\n",
    "    print(matchobj.group(1))\n",
    "    print(matchobj.group(2))"
   ]
  },
  {
   "cell_type": "markdown",
   "id": "9b3677c4",
   "metadata": {},
   "source": [
    "<U>Expected Output</U>:"
   ]
  },
  {
   "cell_type": "markdown",
   "id": "b4f2bf92",
   "metadata": {},
   "source": [
    "<pre style=\"margin: 0; padding=0\"><DIV style=\"font-family: Courier; border: 1px solid #dbdbdb; padding: 7px\">2839-587\n",
    "2019-09-03</DIV></pre>"
   ]
  },
  {
   "cell_type": "markdown",
   "id": "7a6b1704",
   "metadata": {},
   "source": [
    "Note that if you see the message <B>AttributeError: 'NoneType' object has no attribute 'group'</B>, this means that the search did not find a match and returned <B>None</B>, and the code attempted to call <B>.group()</B> on <B>None</B>.  Check the string and pattern to determine why it did not match."
   ]
  },
  {
   "cell_type": "markdown",
   "id": "08fc9003",
   "metadata": {},
   "source": [
    " "
   ]
  },
  {
   "cell_type": "markdown",
   "id": "d36bd715",
   "metadata": {},
   "source": [
    "<B>4.54:  <U>Group for extraction</U>.  In one regex match, extract the IP address from this log line.</B>"
   ]
  },
  {
   "cell_type": "code",
   "execution_count": null,
   "id": "84a78e47",
   "metadata": {},
   "outputs": [],
   "source": [
    "import re\n",
    "\n",
    "line = '172.26.93.208 - - [28/Jun/2012:21:00:17 -0400] \"GET /~cmk380/pythondata/image2b.txt HTTP/1.1\" 200 30'\n",
    "\n",
    "matchobj = re.search(r'', line)\n",
    "\n",
    "if matchobj:\n",
    "    print(matchobj.group(1))"
   ]
  },
  {
   "cell_type": "markdown",
   "id": "ac12bae0",
   "metadata": {},
   "source": [
    "<U>Expected Output</U>:"
   ]
  },
  {
   "cell_type": "markdown",
   "id": "c9becaf4",
   "metadata": {},
   "source": [
    "<pre style=\"margin: 0; padding=0\"><DIV style=\"font-family: Courier; border: 1px solid #dbdbdb; padding: 7px\">172.26.93.208</DIV></pre>"
   ]
  },
  {
   "cell_type": "markdown",
   "id": "39ae0886",
   "metadata": {},
   "source": [
    "Note that if you see the message <B>AttributeError: 'NoneType' object has no attribute 'group'</B>, this means that the search did not find a match and returned <B>None</B>, and the code attempted to call <B>.group()</B> on <B>None</B>.  Check the string and pattern to determine why it did not match."
   ]
  },
  {
   "cell_type": "markdown",
   "id": "a11af55e",
   "metadata": {},
   "source": [
    " "
   ]
  },
  {
   "cell_type": "markdown",
   "id": "b97e5698",
   "metadata": {},
   "source": [
    "'MINIMAL MATCH' QUANTIFIER"
   ]
  },
  {
   "cell_type": "markdown",
   "id": "b57cac97",
   "metadata": {},
   "source": [
    "<B>4.55:  <U>Demonstration:  \"minimal\" match</U>.  </B>"
   ]
  },
  {
   "cell_type": "markdown",
   "id": "3007a75f",
   "metadata": {},
   "source": [
    "The below regex grabs the word <B>Python</B> from the text.  Run the code once to observe this.\n",
    "\n",
    "Now add a question mark <B>?</B> as the character directly after the \"one or more\" plus sign and run again - you should see that the \"one or more word characters\" pattern is now matching on as few characters as possible."
   ]
  },
  {
   "cell_type": "code",
   "execution_count": null,
   "id": "5ed57093",
   "metadata": {},
   "outputs": [],
   "source": [
    "import re\n",
    "\n",
    "text = 'My language is Python'\n",
    "\n",
    "matchobj = re.search(r'', text)\n",
    "\n",
    "print(matchobj.group(1))"
   ]
  },
  {
   "cell_type": "markdown",
   "id": "ef00250d",
   "metadata": {},
   "source": [
    "<U>Expected Output</U>:"
   ]
  },
  {
   "cell_type": "markdown",
   "id": "a491d384",
   "metadata": {},
   "source": [
    "<pre style=\"margin: 0; padding=0\"><DIV style=\"font-family: Courier; border: 1px solid #dbdbdb; padding: 7px\">P</DIV></pre>"
   ]
  },
  {
   "cell_type": "markdown",
   "id": "0787b9f9",
   "metadata": {},
   "source": [
    "Note that if you see the message <B>AttributeError: 'NoneType' object has no attribute 'group'</B>, this means that the search did not find a match and returned <B>None</B>, and the code attempted to call <B>.group()</B> on <B>None</B>.  Check the string and pattern to determine why it did not match."
   ]
  },
  {
   "cell_type": "markdown",
   "id": "87fe2c37",
   "metadata": {},
   "source": [
    " "
   ]
  },
  {
   "cell_type": "markdown",
   "id": "0a413c04",
   "metadata": {},
   "source": [
    "<B>4.56:  <U>Work with wildcard and minimal match</U>.  </B>"
   ]
  },
  {
   "cell_type": "markdown",
   "id": "02d7ccfc",
   "metadata": {},
   "source": [
    "Use the wildcard to match everything between the first two brackets.  Note carefully what was printed.  (Don't forget that square brackets must be escaped with a backslash, and that extraction requires grouping parentheses.)\n"
   ]
  },
  {
   "cell_type": "code",
   "execution_count": null,
   "id": "d4be5379",
   "metadata": {},
   "outputs": [],
   "source": [
    "import re\n",
    "\n",
    "text = 'Discussion of terms <TO COME> after something <PLEASE REVIEW>.'\n",
    "\n",
    "matchobj = re.search(r'', text)\n",
    "\n",
    "print(matchobj.group(1))"
   ]
  },
  {
   "cell_type": "markdown",
   "id": "b42af1a0",
   "metadata": {},
   "source": [
    "<U>Expected Output</U>:"
   ]
  },
  {
   "cell_type": "markdown",
   "id": "a0f97331",
   "metadata": {},
   "source": [
    "<pre style=\"margin: 0; padding=0\"><DIV style=\"font-family: Courier; border: 1px solid #dbdbdb; padding: 7px\">TO COME</DIV></pre>"
   ]
  },
  {
   "cell_type": "markdown",
   "id": "ff593738",
   "metadata": {},
   "source": [
    "Note that if you see the message <B>AttributeError: 'NoneType' object has no attribute 'group'</B>, this means that the search did not find a match and returned <B>None</B>, and the code attempted to call <B>.group()</B> on <B>None</B>.  Check the string and pattern to determine why it did not match."
   ]
  },
  {
   "cell_type": "markdown",
   "id": "835e1549",
   "metadata": {},
   "source": [
    " "
   ]
  },
  {
   "cell_type": "markdown",
   "id": "da5c1bef",
   "metadata": {},
   "source": [
    "<B>4.57:  <U>Match on non-search character</U>.  </B>"
   ]
  },
  {
   "cell_type": "markdown",
   "id": "45fce84a",
   "metadata": {},
   "source": [
    "Perform the same extraction on the below text by searching for a bracket followed by one or more non-brackets.  Text extracted should be the same.\n"
   ]
  },
  {
   "cell_type": "code",
   "execution_count": null,
   "id": "9e79e383",
   "metadata": {},
   "outputs": [],
   "source": [
    "import re\n",
    "\n",
    "text = 'Discussion of terms <TO COME> after something <PLEASE REVIEW>.'\n",
    "\n",
    "matchobj = re.search(r'', text)\n",
    "\n",
    "print(matchobj.group(1))"
   ]
  },
  {
   "cell_type": "markdown",
   "id": "6c48e89d",
   "metadata": {},
   "source": [
    "<U>Expected Output</U>:"
   ]
  },
  {
   "cell_type": "markdown",
   "id": "6d96546c",
   "metadata": {},
   "source": [
    "<pre style=\"margin: 0; padding=0\"><DIV style=\"font-family: Courier; border: 1px solid #dbdbdb; padding: 7px\">TO COME</DIV></pre>"
   ]
  },
  {
   "cell_type": "markdown",
   "id": "758a99d2",
   "metadata": {},
   "source": [
    "Note that if you see the message <B>AttributeError: 'NoneType' object has no attribute 'group'</B>, this means that the search did not find a match and returned <B>None</B>, and the code attempted to call <B>.group()</B> on <B>None</B>.  Check the string and pattern to determine why it did not match."
   ]
  },
  {
   "cell_type": "markdown",
   "id": "9af8f8ed",
   "metadata": {},
   "source": [
    " "
   ]
  },
  {
   "cell_type": "markdown",
   "id": "8d9cb3ae",
   "metadata": {},
   "source": [
    "GROUPING with .groups()"
   ]
  },
  {
   "cell_type": "markdown",
   "id": "260047a7",
   "metadata": {},
   "source": [
    " "
   ]
  },
  {
   "cell_type": "markdown",
   "id": "6e598475",
   "metadata": {},
   "source": [
    "<B>4.58:  <U>Retrieve a grouping with <B>.groups()</B></U>.  </B>"
   ]
  },
  {
   "cell_type": "markdown",
   "id": "5c9b88f2",
   "metadata": {},
   "source": [
    "In one regex match, extract the status code and bytes downloaded (last 2 integers on the line) from this log line.  Call <B>.groups()</B> the match object to reveal the extracted values.\n"
   ]
  },
  {
   "cell_type": "code",
   "execution_count": null,
   "id": "f0665c7e",
   "metadata": {},
   "outputs": [],
   "source": [
    "import re\n",
    "\n",
    "line = '172.26.93.208 - - [28/Jun/2012:21:00:17 -0400] \"GET /~cmk380/pythondata/image2b.txt HTTP/1.1\" 200 30'\n",
    "\n",
    "matchobj = re.search(r'', line)\n",
    "\n",
    "if matchobj:\n",
    "    print(matchobj.groups())"
   ]
  },
  {
   "cell_type": "markdown",
   "id": "f6a191ac",
   "metadata": {},
   "source": [
    "<U>Expected Output</U>:"
   ]
  },
  {
   "cell_type": "markdown",
   "id": "77d89974",
   "metadata": {},
   "source": [
    "<pre style=\"margin: 0; padding=0\"><DIV style=\"font-family: Courier; border: 1px solid #dbdbdb; padding: 7px\">('200', '30')</DIV></pre>"
   ]
  },
  {
   "cell_type": "markdown",
   "id": "086fcd22",
   "metadata": {},
   "source": [
    "Note that if you see the message <B>AttributeError: 'NoneType' object has no attribute 'group'</B>, this means that the search did not find a match and returned <B>None</B>, and the code attempted to call <B>.group()</B> on <B>None</B>.  Check the string and pattern to determine why it did not match."
   ]
  },
  {
   "cell_type": "markdown",
   "id": "f10b2189",
   "metadata": {},
   "source": [
    " "
   ]
  },
  {
   "cell_type": "markdown",
   "id": "3e069515",
   "metadata": {},
   "source": [
    "<B>4.59:  <U>Retrieve a grouping with <B>.groups()</B></U>.  </B>"
   ]
  },
  {
   "cell_type": "markdown",
   "id": "364fd1de",
   "metadata": {},
   "source": [
    "Extract city, state zip from line."
   ]
  },
  {
   "cell_type": "code",
   "execution_count": null,
   "id": "ce7dcccb",
   "metadata": {},
   "outputs": [],
   "source": [
    "import re\n",
    "\n",
    "line = 'Los Angeles, CA  91604'\n",
    "matchobj = re.search(r'', line)\n",
    "print(matchobj.groups())"
   ]
  },
  {
   "cell_type": "markdown",
   "id": "b67e9a49",
   "metadata": {},
   "source": [
    "<U>Expected Output</U>:"
   ]
  },
  {
   "cell_type": "markdown",
   "id": "7c51fb58",
   "metadata": {},
   "source": [
    "<pre style=\"margin: 0; padding=0\"><DIV style=\"font-family: Courier; border: 1px solid #dbdbdb; padding: 7px\">('Los Angeles', 'CA', '91604')</DIV></pre>"
   ]
  },
  {
   "cell_type": "markdown",
   "id": "65a790dd",
   "metadata": {},
   "source": [
    "Note that if you see the message <B>AttributeError: 'NoneType' object has no attribute 'group'</B>, this means that the search did not find a match and returned <B>None</B>, and the code attempted to call <B>.group()</B> on <B>None</B>.  Check the string and pattern to determine why it did not match."
   ]
  },
  {
   "cell_type": "markdown",
   "id": "34916c36",
   "metadata": {},
   "source": [
    " "
   ]
  },
  {
   "cell_type": "markdown",
   "id": "ceb8cc00",
   "metadata": {},
   "source": [
    "<B>4.60:  <U>Quantify for an optional group</U>.  </B>"
   ]
  },
  {
   "cell_type": "markdown",
   "id": "955c7f47",
   "metadata": {},
   "source": [
    "Pull out all the info about each person (Favorite Color may not be there).\n"
   ]
  },
  {
   "cell_type": "code",
   "execution_count": null,
   "id": "85966e53",
   "metadata": {},
   "outputs": [],
   "source": [
    "import re\n",
    "\n",
    "results = [ 'Name: Joe;  Favorite Color:  Blue;  Employee ID: 2395',\n",
    "            'Name:  Marie;  Employee ID: 2321',\n",
    "            'Name:  Teneski; Favorite Color: Green;  Employee ID:  1913' ]\n",
    "\n",
    "for row in results:\n",
    "    matchobj = re.search(r'', row)\n",
    "    print(matchobj.groups())"
   ]
  },
  {
   "cell_type": "markdown",
   "id": "7b11c049",
   "metadata": {},
   "source": [
    "<U>Expected Output</U>:"
   ]
  },
  {
   "cell_type": "markdown",
   "id": "0001d781",
   "metadata": {},
   "source": [
    "<pre style=\"margin: 0; padding=0\"><DIV style=\"font-family: Courier; border: 1px solid #dbdbdb; padding: 7px\">('Joe', 'Favorite Color:  Blue;  ', 'Blue', '2395')\n",
    "('Marie', None, None, '2321')\n",
    "('Teneski', 'Favorite Color: Green;  ', 'Green', '1913')</DIV></pre>"
   ]
  },
  {
   "cell_type": "markdown",
   "id": "f08bd921",
   "metadata": {},
   "source": [
    "Note that if you see the message <B>AttributeError: 'NoneType' object has no attribute 'group'</B>, this means that the search did not find a match and returned <B>None</B>, and the code attempted to call <B>.group()</B> on <B>None</B>.  Check the string and pattern to determine why it did not match."
   ]
  },
  {
   "cell_type": "markdown",
   "id": "b90f1b18",
   "metadata": {},
   "source": [
    " "
   ]
  },
  {
   "cell_type": "markdown",
   "id": "1561fdc4",
   "metadata": {},
   "source": [
    "findall() FOR MULTIPLE MATCHES"
   ]
  },
  {
   "cell_type": "markdown",
   "id": "82fa5375",
   "metadata": {},
   "source": [
    " "
   ]
  },
  {
   "cell_type": "markdown",
   "id": "b0d9dffa",
   "metadata": {},
   "source": [
    "<B>4.61:  <U>Group and extract with <B>findall()</B></U>.  </B>"
   ]
  },
  {
   "cell_type": "markdown",
   "id": "c46e734b",
   "metadata": {},
   "source": [
    "Extract email addresses only for nyu.edu."
   ]
  },
  {
   "cell_type": "code",
   "execution_count": null,
   "id": "6d8a52d4",
   "metadata": {},
   "outputs": [],
   "source": [
    "import re\n",
    "\n",
    "text = \"\"\"There are many ways to contact us.  Use the\n",
    "general email contact@nyu.edu, or email our public\n",
    "liason at help@nyu.edu.  If you need tech support you\n",
    "can reach us at askits@nyu.edu.\n",
    "Author:  Joe Wilson joe@wilson.com\"\"\"\n",
    "\n",
    "emails = re.findall(r'', text)\n",
    "print(emails)"
   ]
  },
  {
   "cell_type": "markdown",
   "id": "a78d7068",
   "metadata": {},
   "source": [
    "<U>Expected Output</U>:"
   ]
  },
  {
   "cell_type": "markdown",
   "id": "281ddcbc",
   "metadata": {},
   "source": [
    "<pre style=\"margin: 0; padding=0\"><DIV style=\"font-family: Courier; border: 1px solid #dbdbdb; padding: 7px\">['contact@nyu.edu', 'help@nyu.edu', 'askits@nyu.edu']</DIV></pre>"
   ]
  },
  {
   "cell_type": "markdown",
   "id": "e57c9943",
   "metadata": {},
   "source": [
    " "
   ]
  },
  {
   "cell_type": "markdown",
   "id": "290910c9",
   "metadata": {},
   "source": [
    "re.sub() FOR SUBSTITUTIONS"
   ]
  },
  {
   "cell_type": "markdown",
   "id": "75d4b3da",
   "metadata": {},
   "source": [
    " "
   ]
  },
  {
   "cell_type": "markdown",
   "id": "1775b3d9",
   "metadata": {},
   "source": [
    "<B>4.62:  <U>Regex substitution</U>.  Replace space-separated with comma separated</B>"
   ]
  },
  {
   "cell_type": "code",
   "execution_count": null,
   "id": "c7564f7b",
   "metadata": {},
   "outputs": [],
   "source": [
    "import re\n",
    "\n",
    "args = 'this that   other  and  some  other'\n",
    "args2 = re.sub(r'', \",\", args)\n",
    "print(args2)"
   ]
  },
  {
   "cell_type": "markdown",
   "id": "729aac26",
   "metadata": {},
   "source": [
    "<U>Expected Output</U>:"
   ]
  },
  {
   "cell_type": "markdown",
   "id": "074ef6f1",
   "metadata": {},
   "source": [
    "<pre style=\"margin: 0; padding=0\"><DIV style=\"font-family: Courier; border: 1px solid #dbdbdb; padding: 7px\">this,that,other,and,some,other</DIV></pre>"
   ]
  },
  {
   "cell_type": "markdown",
   "id": "c6578804",
   "metadata": {},
   "source": [
    " "
   ]
  },
  {
   "cell_type": "markdown",
   "id": "f0e93fa7",
   "metadata": {},
   "source": [
    "re.split() FOR PATTERN-BASED DELIMITERS"
   ]
  },
  {
   "cell_type": "markdown",
   "id": "7ff55d90",
   "metadata": {},
   "source": [
    " "
   ]
  },
  {
   "cell_type": "markdown",
   "id": "4c9251db",
   "metadata": {},
   "source": [
    "<B>4.63:  <U>Regex split</U>.  Split the user-input comma-separated values string into separate digit values.  </B>"
   ]
  },
  {
   "cell_type": "code",
   "execution_count": null,
   "id": "47e6fbbe",
   "metadata": {},
   "outputs": [],
   "source": [
    "import re\n",
    "\n",
    "ui = '23, 14, 7,3,9'\n",
    "numbers = re.split(r'', ui)\n",
    "print(numbers)"
   ]
  },
  {
   "cell_type": "markdown",
   "id": "3c7baccf",
   "metadata": {},
   "source": [
    "<U>Expected Output</U>:"
   ]
  },
  {
   "cell_type": "markdown",
   "id": "990ad40d",
   "metadata": {},
   "source": [
    "<pre style=\"margin: 0; padding=0\"><DIV style=\"font-family: Courier; border: 1px solid #dbdbdb; padding: 7px\">['23', '14', '7', '3', '9']</DIV></pre>"
   ]
  },
  {
   "cell_type": "markdown",
   "id": "53bebd73",
   "metadata": {},
   "source": [
    " "
   ]
  },
  {
   "cell_type": "markdown",
   "id": "f92ef210",
   "metadata": {},
   "source": [
    "<B>4.64:  <U>DOTALL wildcard match</U>.  </B>"
   ]
  },
  {
   "cell_type": "markdown",
   "id": "feb8aaf0",
   "metadata": {},
   "source": [
    "Extract everything between <B>=code start=</B> and <B>= code end =</B>.  Use the <B>re.DOTALL</B> switch to use the wildcard (<B>.</B>) to match on a newline.\n"
   ]
  },
  {
   "cell_type": "code",
   "execution_count": null,
   "id": "d2b1eab8",
   "metadata": {},
   "outputs": [],
   "source": [
    "import re\n",
    "\n",
    "text = \"\"\"Title of This Text\n",
    "\n",
    "This is some description...\n",
    "\n",
    "=code start=\n",
    "a = 5\n",
    "b = 5.0\n",
    "if a == b:\n",
    "    print('yes')\n",
    "=code end=\n",
    "\n",
    "This is some discussion...\n",
    "\"\"\"\n",
    "\n",
    "matchobj = re.search(r'', text)\n",
    "\n",
    "print(matchobj.group(1))"
   ]
  },
  {
   "cell_type": "markdown",
   "id": "cffc4d4e",
   "metadata": {},
   "source": [
    "<U>Expected Output</U>:"
   ]
  },
  {
   "cell_type": "markdown",
   "id": "f689bca7",
   "metadata": {},
   "source": [
    "<pre style=\"margin: 0; padding=0\"><DIV style=\"font-family: Courier; border: 1px solid #dbdbdb; padding: 7px\">a = 5\n",
    "b = 5.0\n",
    "if a == b:\n",
    "    print('yes')</DIV></pre>"
   ]
  },
  {
   "cell_type": "markdown",
   "id": "6068e244",
   "metadata": {},
   "source": [
    " "
   ]
  },
  {
   "cell_type": "markdown",
   "id": "0712ae61",
   "metadata": {},
   "source": [
    "<B>4.65:  <U>Multiline anchors</U>.  </B>"
   ]
  },
  {
   "cell_type": "markdown",
   "id": "ae31b207",
   "metadata": {},
   "source": [
    "Use <B>findall()</B> to extra numbers from only the start of each line of the text.  Use <B>re.MULTILINE</B> to allow the carrot (<B>^</B>) to match at the start of any line.\n"
   ]
  },
  {
   "cell_type": "code",
   "execution_count": null,
   "id": "ac5ff55e",
   "metadata": {},
   "outputs": [],
   "source": [
    "import re\n",
    "\n",
    "text = \"\"\"Title of This Text\n",
    "\n",
    "23 we want to grab some 99 numbers\n",
    "12 but not others, 17 and then some\n",
    "5  so we just get 1 the ones\n",
    "on the left side\n",
    "\n",
    "93 and me and 23 too\n",
    "\n",
    "\"\"\"\n",
    "\n",
    "matches = re.findall(r'', text)\n",
    "\n",
    "print(matches)"
   ]
  },
  {
   "cell_type": "markdown",
   "id": "edb7ddc0",
   "metadata": {},
   "source": [
    "<U>Expected Output</U>:"
   ]
  },
  {
   "cell_type": "markdown",
   "id": "0df47756",
   "metadata": {},
   "source": [
    "<pre style=\"margin: 0; padding=0\"><DIV style=\"font-family: Courier; border: 1px solid #dbdbdb; padding: 7px\">['23', '12', '5', '93']</DIV></pre>"
   ]
  },
  {
   "cell_type": "markdown",
   "id": "2f8fb800",
   "metadata": {},
   "source": [
    " "
   ]
  }
 ],
 "metadata": {},
 "nbformat": 4,
 "nbformat_minor": 5
}
